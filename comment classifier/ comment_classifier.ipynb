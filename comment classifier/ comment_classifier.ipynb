{
 "cells": [
  {
   "cell_type": "markdown",
   "metadata": {},
   "source": [
    "# Классификатор комментариев"
   ]
  },
  {
   "cell_type": "markdown",
   "metadata": {},
   "source": [
    "Интернет-магазин «###» запускает новый сервис. Теперь пользователи могут редактировать и дополнять описания товаров, как в вики-сообществах. То есть клиенты предлагают свои правки и комментируют изменения других. Магазину нужен инструмент, который будет искать токсичные комментарии и отправлять их на модерацию. \n",
    "\n",
    "Обучим модель классифицировать комментарии на позитивные и негативные. В внашем распоряжении набор данных с разметкой о токсичности правок.\n",
    "\n",
    "Построим модель со значением метрики качества *F1* не меньше 0.75. \n",
    "\n",
    "**Этапы выполнения проекта**\n",
    "\n",
    "1. Загрузка и подготовка данных.\n",
    "2. Обучение разных моделей. \n",
    "3. Формулировка выводов.\n",
    "\n",
    "\n",
    "**Описание данных**\n",
    "\n",
    "Данные находятся в файле `###.csv`. Столбец `text` в нём содержит текст комментария, а `toxic` — целевой признак."
   ]
  },
  {
   "cell_type": "markdown",
   "metadata": {
    "toc": true
   },
   "source": [
    "<h1>Содержание<span class=\"tocSkip\"></span></h1>\n",
    "<div class=\"toc\"><ul class=\"toc-item\"><li><span><a href=\"#Подготовка\" data-toc-modified-id=\"Подготовка-0\">Подготовка</a></span><ul class=\"toc-item\"><li><span><a href=\"#Вывод\" data-toc-modified-id=\"Вывод-0.1\">Вывод</a></span></li></ul></li><li><span><a href=\"#Обучение\" data-toc-modified-id=\"Обучение-1\">Обучение</a></span><ul class=\"toc-item\"><li><span><a href=\"#Вывод\" data-toc-modified-id=\"Вывод-1.1\">Вывод</a></span></li></ul></li><li><span><a href=\"#Выводы\" data-toc-modified-id=\"Выводы-2\">Выводы</a></span></li><li><span><a href=\"#Чек-лист-проверки\" data-toc-modified-id=\"Чек-лист-проверки-3\">Чек-лист проверки</a></span></li></ul></div>"
   ]
  },
  {
   "cell_type": "markdown",
   "metadata": {},
   "source": [
    "## Подготовка"
   ]
  },
  {
   "cell_type": "code",
   "execution_count": 1,
   "metadata": {},
   "outputs": [],
   "source": [
    "import pandas as pd\n",
    "import matplotlib.pyplot as plt\n",
    "import nltk\n",
    "import re\n",
    "from nltk.corpus import stopwords\n",
    "from nltk.stem.wordnet import WordNetLemmatizer\n",
    "from tqdm.notebook import tqdm\n",
    "import spacy\n",
    "\n",
    "from sklearn.feature_extraction.text import TfidfVectorizer\n",
    "from sklearn.model_selection import train_test_split\n",
    "from sklearn.pipeline import Pipeline\n",
    "from sklearn.linear_model import LogisticRegression\n",
    "from sklearn.tree import DecisionTreeClassifier\n",
    "from sklearn.svm import LinearSVC\n",
    "from sklearn.model_selection import GridSearchCV\n",
    "from sklearn.metrics import f1_score\n",
    "\n",
    "pd.set_option('display.max_columns', None)\n",
    "pd.set_option('display.max_colwidth', 1000)"
   ]
  },
  {
   "cell_type": "code",
   "execution_count": 2,
   "metadata": {},
   "outputs": [],
   "source": [
    "try:\n",
    "    df = pd.read_csv('/datasets/###.csv')\n",
    "except:\n",
    "    df = pd.read_csv('https://code.s3.yandex.net/datasets/###.csv')"
   ]
  },
  {
   "cell_type": "code",
   "execution_count": 3,
   "metadata": {},
   "outputs": [],
   "source": [
    "def check(data):\n",
    "    data.info()\n",
    "    display(data.head())\n",
    "    display(data.describe())\n",
    "    print(f'Количество пропусков: {data.isna().sum()}')\n",
    "    print(f'Количество дубликатов: {data.duplicated().sum()}')\n",
    "    print(\"\\nРаспределение классов:\\n\", data['toxic'].value_counts())"
   ]
  },
  {
   "cell_type": "code",
   "execution_count": 4,
   "metadata": {},
   "outputs": [
    {
     "name": "stdout",
     "output_type": "stream",
     "text": [
      "<class 'pandas.core.frame.DataFrame'>\n",
      "RangeIndex: 159292 entries, 0 to 159291\n",
      "Data columns (total 3 columns):\n",
      " #   Column      Non-Null Count   Dtype \n",
      "---  ------      --------------   ----- \n",
      " 0   Unnamed: 0  159292 non-null  int64 \n",
      " 1   text        159292 non-null  object\n",
      " 2   toxic       159292 non-null  int64 \n",
      "dtypes: int64(2), object(1)\n",
      "memory usage: 3.6+ MB\n"
     ]
    },
    {
     "data": {
      "text/html": [
       "<div>\n",
       "<style scoped>\n",
       "    .dataframe tbody tr th:only-of-type {\n",
       "        vertical-align: middle;\n",
       "    }\n",
       "\n",
       "    .dataframe tbody tr th {\n",
       "        vertical-align: top;\n",
       "    }\n",
       "\n",
       "    .dataframe thead th {\n",
       "        text-align: right;\n",
       "    }\n",
       "</style>\n",
       "<table border=\"1\" class=\"dataframe\">\n",
       "  <thead>\n",
       "    <tr style=\"text-align: right;\">\n",
       "      <th></th>\n",
       "      <th>Unnamed: 0</th>\n",
       "      <th>text</th>\n",
       "      <th>toxic</th>\n",
       "    </tr>\n",
       "  </thead>\n",
       "  <tbody>\n",
       "    <tr>\n",
       "      <th>0</th>\n",
       "      <td>0</td>\n",
       "      <td>Explanation\\nWhy the edits made under my username Hardcore Metallica Fan were reverted? They weren't vandalisms, just closure on some GAs after I voted at New York Dolls FAC. And please don't remove the template from the talk page since I'm retired now.89.205.38.27</td>\n",
       "      <td>0</td>\n",
       "    </tr>\n",
       "    <tr>\n",
       "      <th>1</th>\n",
       "      <td>1</td>\n",
       "      <td>D'aww! He matches this background colour I'm seemingly stuck with. Thanks.  (talk) 21:51, January 11, 2016 (UTC)</td>\n",
       "      <td>0</td>\n",
       "    </tr>\n",
       "    <tr>\n",
       "      <th>2</th>\n",
       "      <td>2</td>\n",
       "      <td>Hey man, I'm really not trying to edit war. It's just that this guy is constantly removing relevant information and talking to me through edits instead of my talk page. He seems to care more about the formatting than the actual info.</td>\n",
       "      <td>0</td>\n",
       "    </tr>\n",
       "    <tr>\n",
       "      <th>3</th>\n",
       "      <td>3</td>\n",
       "      <td>\"\\nMore\\nI can't make any real suggestions on improvement - I wondered if the section statistics should be later on, or a subsection of \"\"types of accidents\"\"  -I think the references may need tidying so that they are all in the exact same format ie date format etc. I can do that later on, if no-one else does first - if you have any preferences for formatting style on references or want to do it yourself please let me know.\\n\\nThere appears to be a backlog on articles for review so I guess there may be a delay until a reviewer turns up. It's listed in the relevant form eg Wikipedia:Good_article_nominations#Transport  \"</td>\n",
       "      <td>0</td>\n",
       "    </tr>\n",
       "    <tr>\n",
       "      <th>4</th>\n",
       "      <td>4</td>\n",
       "      <td>You, sir, are my hero. Any chance you remember what page that's on?</td>\n",
       "      <td>0</td>\n",
       "    </tr>\n",
       "  </tbody>\n",
       "</table>\n",
       "</div>"
      ],
      "text/plain": [
       "   Unnamed: 0  \\\n",
       "0           0   \n",
       "1           1   \n",
       "2           2   \n",
       "3           3   \n",
       "4           4   \n",
       "\n",
       "                                                                                                                                                                                                                                                                                                                                                                                                                                                                                                                                                                                                                                                 text  \\\n",
       "0                                                                                                                                                                                                                                                                                                                                                                           Explanation\\nWhy the edits made under my username Hardcore Metallica Fan were reverted? They weren't vandalisms, just closure on some GAs after I voted at New York Dolls FAC. And please don't remove the template from the talk page since I'm retired now.89.205.38.27   \n",
       "1                                                                                                                                                                                                                                                                                                                                                                                                                                                                                                                                    D'aww! He matches this background colour I'm seemingly stuck with. Thanks.  (talk) 21:51, January 11, 2016 (UTC)   \n",
       "2                                                                                                                                                                                                                                                                                                                                                                                                           Hey man, I'm really not trying to edit war. It's just that this guy is constantly removing relevant information and talking to me through edits instead of my talk page. He seems to care more about the formatting than the actual info.   \n",
       "3  \"\\nMore\\nI can't make any real suggestions on improvement - I wondered if the section statistics should be later on, or a subsection of \"\"types of accidents\"\"  -I think the references may need tidying so that they are all in the exact same format ie date format etc. I can do that later on, if no-one else does first - if you have any preferences for formatting style on references or want to do it yourself please let me know.\\n\\nThere appears to be a backlog on articles for review so I guess there may be a delay until a reviewer turns up. It's listed in the relevant form eg Wikipedia:Good_article_nominations#Transport  \"   \n",
       "4                                                                                                                                                                                                                                                                                                                                                                                                                                                                                                                                                                                 You, sir, are my hero. Any chance you remember what page that's on?   \n",
       "\n",
       "   toxic  \n",
       "0      0  \n",
       "1      0  \n",
       "2      0  \n",
       "3      0  \n",
       "4      0  "
      ]
     },
     "metadata": {},
     "output_type": "display_data"
    },
    {
     "data": {
      "text/html": [
       "<div>\n",
       "<style scoped>\n",
       "    .dataframe tbody tr th:only-of-type {\n",
       "        vertical-align: middle;\n",
       "    }\n",
       "\n",
       "    .dataframe tbody tr th {\n",
       "        vertical-align: top;\n",
       "    }\n",
       "\n",
       "    .dataframe thead th {\n",
       "        text-align: right;\n",
       "    }\n",
       "</style>\n",
       "<table border=\"1\" class=\"dataframe\">\n",
       "  <thead>\n",
       "    <tr style=\"text-align: right;\">\n",
       "      <th></th>\n",
       "      <th>Unnamed: 0</th>\n",
       "      <th>toxic</th>\n",
       "    </tr>\n",
       "  </thead>\n",
       "  <tbody>\n",
       "    <tr>\n",
       "      <th>count</th>\n",
       "      <td>159292.000000</td>\n",
       "      <td>159292.000000</td>\n",
       "    </tr>\n",
       "    <tr>\n",
       "      <th>mean</th>\n",
       "      <td>79725.697242</td>\n",
       "      <td>0.101612</td>\n",
       "    </tr>\n",
       "    <tr>\n",
       "      <th>std</th>\n",
       "      <td>46028.837471</td>\n",
       "      <td>0.302139</td>\n",
       "    </tr>\n",
       "    <tr>\n",
       "      <th>min</th>\n",
       "      <td>0.000000</td>\n",
       "      <td>0.000000</td>\n",
       "    </tr>\n",
       "    <tr>\n",
       "      <th>25%</th>\n",
       "      <td>39872.750000</td>\n",
       "      <td>0.000000</td>\n",
       "    </tr>\n",
       "    <tr>\n",
       "      <th>50%</th>\n",
       "      <td>79721.500000</td>\n",
       "      <td>0.000000</td>\n",
       "    </tr>\n",
       "    <tr>\n",
       "      <th>75%</th>\n",
       "      <td>119573.250000</td>\n",
       "      <td>0.000000</td>\n",
       "    </tr>\n",
       "    <tr>\n",
       "      <th>max</th>\n",
       "      <td>159450.000000</td>\n",
       "      <td>1.000000</td>\n",
       "    </tr>\n",
       "  </tbody>\n",
       "</table>\n",
       "</div>"
      ],
      "text/plain": [
       "          Unnamed: 0          toxic\n",
       "count  159292.000000  159292.000000\n",
       "mean    79725.697242       0.101612\n",
       "std     46028.837471       0.302139\n",
       "min         0.000000       0.000000\n",
       "25%     39872.750000       0.000000\n",
       "50%     79721.500000       0.000000\n",
       "75%    119573.250000       0.000000\n",
       "max    159450.000000       1.000000"
      ]
     },
     "metadata": {},
     "output_type": "display_data"
    },
    {
     "name": "stdout",
     "output_type": "stream",
     "text": [
      "Количество пропусков: Unnamed: 0    0\n",
      "text          0\n",
      "toxic         0\n",
      "dtype: int64\n",
      "Количество дубликатов: 0\n",
      "\n",
      "Распределение классов:\n",
      " 0    143106\n",
      "1     16186\n",
      "Name: toxic, dtype: int64\n"
     ]
    }
   ],
   "source": [
    "check(df)"
   ]
  },
  {
   "cell_type": "markdown",
   "metadata": {},
   "source": [
    "- **Количество записей:** 159,292, что является достаточно большим объемом данных для обучения модели машинного обучения.\n",
    "- **Структура данных:** В DataFrame три столбца:\n",
    "  - **Unnamed: 0:** Это, скорее всего, индекс, созданный при сохранении данных из CSV. Этот столбец не несет полезной информации для модели.\n",
    "  - **text:** Это тексты комментариев, в них присутствуют спец.символы и числы. Очистим их с помощью регулярных выражений и лемматизируем.\n",
    "  - **toxic:** Это целевая переменная (0 или 1), где 0 — не токсичный комментарий, а 1 — токсичный.\n",
    "- Все столбцы содержат данные без пропусков\n",
    "- Не найдено дубликатов\n",
    "- Среднее значение для столбца `toxic` составляет около 0.10, что указывает на то, что примерно 10% комментариев являются токсичными. Это говорит о наличии классового дисбаланса, где не токсичные комментарии значительно преобладают."
   ]
  },
  {
   "cell_type": "markdown",
   "metadata": {},
   "source": [
    "Визуализируем распределение целевого признака."
   ]
  },
  {
   "cell_type": "code",
   "execution_count": 5,
   "metadata": {},
   "outputs": [
    {
     "data": {
      "text/plain": [
       "(-1.25, 1.25, -1.25, 1.25)"
      ]
     },
     "execution_count": 5,
     "metadata": {},
     "output_type": "execute_result"
    },
    {
     "data": {
      "image/png": "[encoded data removed]",
      "text/plain": [
       "<Figure size 720x576 with 1 Axes>"
      ]
     },
     "metadata": {},
     "output_type": "display_data"
    }
   ],
   "source": [
    "df.toxic.value_counts().plot(kind='pie', autopct='%1.1f%%', figsize=(10,8))\n",
    "plt.legend(['Не токсичный','Токсичный'])\n",
    "plt.title('Распределение комментариев в выборке')\n",
    "plt.tight_layout()\n",
    "plt.axis('off')"
   ]
  },
  {
   "cell_type": "markdown",
   "metadata": {},
   "source": [
    "Проведем предобработку текста - удалим из текстов символы и числа, и приведем к нижнему регистру, удалим из текстов стоп-слова (слова, не несущие значения), лемматизируем тексты (приведем словоформы к первоначальной форме - лемме)."
   ]
  },
  {
   "cell_type": "code",
   "execution_count": 6,
   "metadata": {},
   "outputs": [],
   "source": [
    "# Удаление лишнего столбца-индекса\n",
    "df = df.drop('Unnamed: 0', axis=1)"
   ]
  },
  {
   "cell_type": "raw",
   "metadata": {},
   "source": [
    "# Предобработка текста\n",
    "nltk.download('stopwords')\n",
    "nltk.download('wordnet')\n",
    "stop_words = set(stopwords.words('english'))\n",
    "lemmatizer = WordNetLemmatizer()"
   ]
  },
  {
   "cell_type": "raw",
   "metadata": {},
   "source": [
    "def clean_text(text):\n",
    "    # Приведение к нижнему регистру\n",
    "    text = text.lower()\n",
    "    # Удаление спецсимволов и цифр\n",
    "    text = re.sub(r'[^a-zA-Z']', ' ', text)\n",
    "    # Удаление лишних пробелов\n",
    "    text = re.sub(r'\\s+', ' ', text).strip()\n",
    "    # Лемматизация и удаление стоп-слов\n",
    "    words = text.split()\n",
    "    words = [word for word in words if word not in stop_words]\n",
    "    words = [lemmatizer.lemmatize(word) for word in words]\n",
    "    return ' '.join(words)"
   ]
  },
  {
   "cell_type": "code",
   "execution_count": 8,
   "metadata": {},
   "outputs": [],
   "source": [
    "nlp = spacy.load(\"en_core_web_sm\", disable=[\"parser\", \"ner\"])\n",
    "\n",
    "def clean_text(text):\n",
    "    # Приведение к нижнему регистру\n",
    "    text = text.lower()\n",
    "    # Удаление спецсимволов и цифр\n",
    "    text = re.sub(r\"[^a-zA-Z']\", \" \", text)\n",
    "    # Удаление лишних пробелов\n",
    "    text = re.sub(r\"\\s+\", \" \", text).strip()\n",
    "    \n",
    "    # Обработка текста с помощью spaCy\n",
    "    doc = nlp(text)\n",
    "    # Лемматизация и удаление стоп-слов\n",
    "    words = [token.lemma_ for token in doc if not token.is_stop]\n",
    "    return \" \".join(words)"
   ]
  },
  {
   "cell_type": "code",
   "execution_count": 9,
   "metadata": {},
   "outputs": [
    {
     "data": {
      "application/vnd.jupyter.widget-view+json": {
       "model_id": "0060c1b15b1e43f6bbcfa495d770396b",
       "version_major": 2,
       "version_minor": 0
      },
      "text/plain": [
       "  0%|          | 0/159292 [00:00<?, ?it/s]"
      ]
     },
     "metadata": {},
     "output_type": "display_data"
    }
   ],
   "source": [
    "tqdm.pandas()\n",
    "df['cleaned_text'] = df['text'].progress_apply(clean_text)"
   ]
  },
  {
   "cell_type": "markdown",
   "metadata": {},
   "source": [
    "Посмотрим получившийся результат."
   ]
  },
  {
   "cell_type": "code",
   "execution_count": 10,
   "metadata": {},
   "outputs": [
    {
     "data": {
      "text/html": [
       "<div>\n",
       "<style scoped>\n",
       "    .dataframe tbody tr th:only-of-type {\n",
       "        vertical-align: middle;\n",
       "    }\n",
       "\n",
       "    .dataframe tbody tr th {\n",
       "        vertical-align: top;\n",
       "    }\n",
       "\n",
       "    .dataframe thead th {\n",
       "        text-align: right;\n",
       "    }\n",
       "</style>\n",
       "<table border=\"1\" class=\"dataframe\">\n",
       "  <thead>\n",
       "    <tr style=\"text-align: right;\">\n",
       "      <th></th>\n",
       "      <th>text</th>\n",
       "      <th>toxic</th>\n",
       "      <th>cleaned_text</th>\n",
       "    </tr>\n",
       "  </thead>\n",
       "  <tbody>\n",
       "    <tr>\n",
       "      <th>0</th>\n",
       "      <td>Explanation\\nWhy the edits made under my username Hardcore Metallica Fan were reverted? They weren't vandalisms, just closure on some GAs after I voted at New York Dolls FAC. And please don't remove the template from the talk page since I'm retired now.89.205.38.27</td>\n",
       "      <td>0</td>\n",
       "      <td>explanation edit username hardcore metallica fan revert vandalism closure gas vote new york doll fac remove template talk page retire</td>\n",
       "    </tr>\n",
       "    <tr>\n",
       "      <th>1</th>\n",
       "      <td>D'aww! He matches this background colour I'm seemingly stuck with. Thanks.  (talk) 21:51, January 11, 2016 (UTC)</td>\n",
       "      <td>0</td>\n",
       "      <td>d'aww match background colour seemingly stuck thank talk january utc</td>\n",
       "    </tr>\n",
       "    <tr>\n",
       "      <th>2</th>\n",
       "      <td>Hey man, I'm really not trying to edit war. It's just that this guy is constantly removing relevant information and talking to me through edits instead of my talk page. He seems to care more about the formatting than the actual info.</td>\n",
       "      <td>0</td>\n",
       "      <td>hey man try edit war guy constantly remove relevant information talk edit instead talk page care formatting actual info</td>\n",
       "    </tr>\n",
       "    <tr>\n",
       "      <th>3</th>\n",
       "      <td>\"\\nMore\\nI can't make any real suggestions on improvement - I wondered if the section statistics should be later on, or a subsection of \"\"types of accidents\"\"  -I think the references may need tidying so that they are all in the exact same format ie date format etc. I can do that later on, if no-one else does first - if you have any preferences for formatting style on references or want to do it yourself please let me know.\\n\\nThere appears to be a backlog on articles for review so I guess there may be a delay until a reviewer turns up. It's listed in the relevant form eg Wikipedia:Good_article_nominations#Transport  \"</td>\n",
       "      <td>0</td>\n",
       "      <td>real suggestion improvement wonder section statistic later subsection type accident think reference need tidy exact format ie date format etc later preference format style reference want let know appear backlog article review guess delay reviewer turn list relevant form eg wikipedia good article nomination transport</td>\n",
       "    </tr>\n",
       "    <tr>\n",
       "      <th>4</th>\n",
       "      <td>You, sir, are my hero. Any chance you remember what page that's on?</td>\n",
       "      <td>0</td>\n",
       "      <td>sir hero chance remember page</td>\n",
       "    </tr>\n",
       "    <tr>\n",
       "      <th>5</th>\n",
       "      <td>\"\\n\\nCongratulations from me as well, use the tools well.  · talk \"</td>\n",
       "      <td>0</td>\n",
       "      <td>congratulation use tool talk</td>\n",
       "    </tr>\n",
       "    <tr>\n",
       "      <th>6</th>\n",
       "      <td>COCKSUCKER BEFORE YOU PISS AROUND ON MY WORK</td>\n",
       "      <td>1</td>\n",
       "      <td>cocksucker piss work</td>\n",
       "    </tr>\n",
       "    <tr>\n",
       "      <th>7</th>\n",
       "      <td>Your vandalism to the Matt Shirvington article has been reverted.  Please don't do it again, or you will be banned.</td>\n",
       "      <td>0</td>\n",
       "      <td>vandalism matt shirvington article revert ban</td>\n",
       "    </tr>\n",
       "    <tr>\n",
       "      <th>8</th>\n",
       "      <td>Sorry if the word 'nonsense' was offensive to you. Anyway, I'm not intending to write anything in the article(wow they would jump on me for vandalism), I'm merely requesting that it be more encyclopedic so one can use it for school as a reference. I have been to the selective breeding page but it's almost a stub. It points to 'animal breeding' which is a short messy article that gives you no info. There must be someone around with expertise in eugenics? 93.161.107.169</td>\n",
       "      <td>0</td>\n",
       "      <td>sorry word ' nonsense ' offensive intend write article wow jump vandalism merely request encyclopedic use school reference selective breeding page stub point ' animal breeding ' short messy article give info expertise eugenic</td>\n",
       "    </tr>\n",
       "    <tr>\n",
       "      <th>9</th>\n",
       "      <td>alignment on this subject and which are contrary to those of DuLithgow</td>\n",
       "      <td>0</td>\n",
       "      <td>alignment subject contrary dulithgow</td>\n",
       "    </tr>\n",
       "  </tbody>\n",
       "</table>\n",
       "</div>"
      ],
      "text/plain": [
       "                                                                                                                                                                                                                                                                                                                                                                                                                                                                                                                                                                                                                                                 text  \\\n",
       "0                                                                                                                                                                                                                                                                                                                                                                           Explanation\\nWhy the edits made under my username Hardcore Metallica Fan were reverted? They weren't vandalisms, just closure on some GAs after I voted at New York Dolls FAC. And please don't remove the template from the talk page since I'm retired now.89.205.38.27   \n",
       "1                                                                                                                                                                                                                                                                                                                                                                                                                                                                                                                                    D'aww! He matches this background colour I'm seemingly stuck with. Thanks.  (talk) 21:51, January 11, 2016 (UTC)   \n",
       "2                                                                                                                                                                                                                                                                                                                                                                                                           Hey man, I'm really not trying to edit war. It's just that this guy is constantly removing relevant information and talking to me through edits instead of my talk page. He seems to care more about the formatting than the actual info.   \n",
       "3  \"\\nMore\\nI can't make any real suggestions on improvement - I wondered if the section statistics should be later on, or a subsection of \"\"types of accidents\"\"  -I think the references may need tidying so that they are all in the exact same format ie date format etc. I can do that later on, if no-one else does first - if you have any preferences for formatting style on references or want to do it yourself please let me know.\\n\\nThere appears to be a backlog on articles for review so I guess there may be a delay until a reviewer turns up. It's listed in the relevant form eg Wikipedia:Good_article_nominations#Transport  \"   \n",
       "4                                                                                                                                                                                                                                                                                                                                                                                                                                                                                                                                                                                 You, sir, are my hero. Any chance you remember what page that's on?   \n",
       "5                                                                                                                                                                                                                                                                                                                                                                                                                                                                                                                                                                                 \"\\n\\nCongratulations from me as well, use the tools well.  · talk \"   \n",
       "6                                                                                                                                                                                                                                                                                                                                                                                                                                                                                                                                                                                                        COCKSUCKER BEFORE YOU PISS AROUND ON MY WORK   \n",
       "7                                                                                                                                                                                                                                                                                                                                                                                                                                                                                                                                 Your vandalism to the Matt Shirvington article has been reverted.  Please don't do it again, or you will be banned.   \n",
       "8                                                                                                                                                            Sorry if the word 'nonsense' was offensive to you. Anyway, I'm not intending to write anything in the article(wow they would jump on me for vandalism), I'm merely requesting that it be more encyclopedic so one can use it for school as a reference. I have been to the selective breeding page but it's almost a stub. It points to 'animal breeding' which is a short messy article that gives you no info. There must be someone around with expertise in eugenics? 93.161.107.169   \n",
       "9                                                                                                                                                                                                                                                                                                                                                                                                                                                                                                                                                                              alignment on this subject and which are contrary to those of DuLithgow   \n",
       "\n",
       "   toxic  \\\n",
       "0      0   \n",
       "1      0   \n",
       "2      0   \n",
       "3      0   \n",
       "4      0   \n",
       "5      0   \n",
       "6      1   \n",
       "7      0   \n",
       "8      0   \n",
       "9      0   \n",
       "\n",
       "                                                                                                                                                                                                                                                                                                                    cleaned_text  \n",
       "0                                                                                                                                                                                          explanation edit username hardcore metallica fan revert vandalism closure gas vote new york doll fac remove template talk page retire  \n",
       "1                                                                                                                                                                                                                                                           d'aww match background colour seemingly stuck thank talk january utc  \n",
       "2                                                                                                                                                                                                        hey man try edit war guy constantly remove relevant information talk edit instead talk page care formatting actual info  \n",
       "3  real suggestion improvement wonder section statistic later subsection type accident think reference need tidy exact format ie date format etc later preference format style reference want let know appear backlog article review guess delay reviewer turn list relevant form eg wikipedia good article nomination transport  \n",
       "4                                                                                                                                                                                                                                                                                                  sir hero chance remember page  \n",
       "5                                                                                                                                                                                                                                                                                                   congratulation use tool talk  \n",
       "6                                                                                                                                                                                                                                                                                                           cocksucker piss work  \n",
       "7                                                                                                                                                                                                                                                                                  vandalism matt shirvington article revert ban  \n",
       "8                                                                                              sorry word ' nonsense ' offensive intend write article wow jump vandalism merely request encyclopedic use school reference selective breeding page stub point ' animal breeding ' short messy article give info expertise eugenic  \n",
       "9                                                                                                                                                                                                                                                                                           alignment subject contrary dulithgow  "
      ]
     },
     "execution_count": 10,
     "metadata": {},
     "output_type": "execute_result"
    }
   ],
   "source": [
    "df.head(10)"
   ]
  },
  {
   "cell_type": "markdown",
   "metadata": {},
   "source": [
    "### Вывод"
   ]
  },
  {
   "cell_type": "markdown",
   "metadata": {},
   "source": [
    "В ходе подготовки данных были выполнены следующие этапы:\n",
    "\n",
    "1. Загруженны необходимые библиотеки и сами данные:\n",
    "    - **Количество записей:** 159,292, что является достаточно большим объемом данных для обучения модели машинного обучения.\n",
    "    - **Структура данных:** В DataFrame три столбца:\n",
    "      - **Unnamed: 0:** Это, скорее всего, индекс, созданный при сохранении данных из CSV. Этот столбец не несет полезной информации для модели.\n",
    "      - **text:** Это тексты комментариев, в них присутствуют спец.символы и числы. Очистим их с помощью регулярных выражений и лемматизируем.\n",
    "      - **toxic:** Это целевая переменная (0 или 1), где 0 — не токсичный комментарий, а 1 — токсичный.\n",
    "    - Все столбцы содержат данные без пропусков\n",
    "    - Не найдено дубликатов\n",
    "    - Среднее значение для столбца `toxic` составляет около 0.10, что указывает на то, что примерно 10% комментариев являются токсичными. Это говорит о наличии классового дисбаланса, где не токсичные комментарии значительно преобладают.\n",
    "2. Удален столбец-индекс `Unnamed: 0`;\n",
    "3. Текст очищен от символов и чисел;\n",
    "4. Исследован баланс классов;\n",
    "5. Текст лемматизирован и очищен от стоп-слов."
   ]
  },
  {
   "cell_type": "markdown",
   "metadata": {},
   "source": [
    "## Обучение"
   ]
  },
  {
   "cell_type": "markdown",
   "metadata": {},
   "source": [
    "Разделим данные на тренировочную и тестовую выборки."
   ]
  },
  {
   "cell_type": "code",
   "execution_count": 11,
   "metadata": {},
   "outputs": [],
   "source": [
    "X_train, X_test, y_train, y_test = train_test_split(df['cleaned_text'], df['toxic'],\n",
    "                                                    test_size=0.1, random_state=42, stratify=df['toxic'])"
   ]
  },
  {
   "cell_type": "code",
   "execution_count": 12,
   "metadata": {},
   "outputs": [
    {
     "name": "stdout",
     "output_type": "stream",
     "text": [
      "Размер обучающего набора: (143362,) (143362,)\n",
      "Размер тестового набора: (15930,) (15930,)\n"
     ]
    }
   ],
   "source": [
    "print('Размер обучающего набора:', X_train.shape, y_train.shape)\n",
    "print('Размер тестового набора:', X_test.shape, y_test.shape)"
   ]
  },
  {
   "cell_type": "markdown",
   "metadata": {},
   "source": [
    "Обучим модели с подбором гиперпараметров и векторизацией."
   ]
  },
  {
   "cell_type": "raw",
   "metadata": {},
   "source": [
    "tfidf = TfidfVectorizer()\n",
    "X_train = tfidf.fit_transform(X_train)\n",
    "X_test = tfidf.transform(X_test)"
   ]
  },
  {
   "cell_type": "raw",
   "metadata": {},
   "source": [
    "def training(model, params):\n",
    "    pipeline = Pipeline([('model', model)])\n",
    "    grid = GridSearchCV(pipeline, cv=5, n_jobs=-1, param_grid=params ,scoring='f1', verbose=False)\n",
    "    grid.fit(X_train, y_train)\n",
    "    print(f'Лучший F1 для {model.__class__.__name__}:', grid.best_score_)\n",
    "    print('Лучшие параметры:', grid.best_params_)\n",
    "    return {\n",
    "        'model': model.__class__.__name__,\n",
    "        'F1': grid.best_score_,\n",
    "        'best_params': grid.best_params_,\n",
    "        'grid': grid\n",
    "    }"
   ]
  },
  {
   "cell_type": "code",
   "execution_count": 17,
   "metadata": {},
   "outputs": [],
   "source": [
    "def training(model, params):\n",
    "    pipeline = Pipeline([\n",
    "        ('tfidf', TfidfVectorizer()),  \n",
    "        ('model', model)\n",
    "    ])\n",
    "    grid = GridSearchCV(pipeline, param_grid=params, scoring='f1', cv=5, n_jobs=-1, verbose=False)\n",
    "    grid.fit(X_train, y_train)  \n",
    "\n",
    "    print(f\"Лучший F1 для {model.__class__.__name__}: {grid.best_score_:.4f}\")\n",
    "    print('Лучшие параметры:', grid.best_params_)\n",
    "    return {\n",
    "        'model': model.__class__.__name__,\n",
    "        'F1': grid.best_score_,\n",
    "        'best_params': grid.best_params_,\n",
    "        'grid': grid\n",
    "    }"
   ]
  },
  {
   "cell_type": "code",
   "execution_count": 18,
   "metadata": {
    "scrolled": true
   },
   "outputs": [
    {
     "name": "stdout",
     "output_type": "stream",
     "text": [
      "Лучший F1 для LogisticRegression: 0.7761\n",
      "Лучшие параметры: {'model__C': 10.0, 'model__solver': 'saga'}\n"
     ]
    }
   ],
   "source": [
    "lr = training(LogisticRegression(), {\"model__C\":[0.1, 1.0, 10.0], \"model__solver\": [\"saga\"]})"
   ]
  },
  {
   "cell_type": "code",
   "execution_count": 19,
   "metadata": {},
   "outputs": [
    {
     "name": "stdout",
     "output_type": "stream",
     "text": [
      "Лучший F1 для DecisionTreeClassifier: 0.7049\n",
      "Лучшие параметры: {'model__criterion': 'entropy', 'model__max_depth': 100}\n"
     ]
    }
   ],
   "source": [
    "dtc = training(DecisionTreeClassifier(), {'model__criterion':['entropy'],\n",
    "                                          'model__max_depth':[2, 100]})"
   ]
  },
  {
   "cell_type": "code",
   "execution_count": 20,
   "metadata": {
    "scrolled": true
   },
   "outputs": [
    {
     "name": "stdout",
     "output_type": "stream",
     "text": [
      "Лучший F1 для LinearSVC: 0.7804\n",
      "Лучшие параметры: {'model__C': 1.0, 'model__dual': False}\n"
     ]
    }
   ],
   "source": [
    "scv = training(LinearSVC(max_iter=1000), {\"model__C\": [0.1, 1.0, 10.0], \"model__dual\": [False]})"
   ]
  },
  {
   "cell_type": "code",
   "execution_count": 21,
   "metadata": {},
   "outputs": [],
   "source": [
    "result = []\n",
    "result.append(lr)\n",
    "result.append(dtc)\n",
    "result.append(scv)"
   ]
  },
  {
   "cell_type": "code",
   "execution_count": 22,
   "metadata": {},
   "outputs": [
    {
     "data": {
      "text/html": [
       "<div>\n",
       "<style scoped>\n",
       "    .dataframe tbody tr th:only-of-type {\n",
       "        vertical-align: middle;\n",
       "    }\n",
       "\n",
       "    .dataframe tbody tr th {\n",
       "        vertical-align: top;\n",
       "    }\n",
       "\n",
       "    .dataframe thead th {\n",
       "        text-align: right;\n",
       "    }\n",
       "</style>\n",
       "<table border=\"1\" class=\"dataframe\">\n",
       "  <thead>\n",
       "    <tr style=\"text-align: right;\">\n",
       "      <th></th>\n",
       "      <th>model</th>\n",
       "      <th>F1</th>\n",
       "      <th>best_params</th>\n",
       "    </tr>\n",
       "  </thead>\n",
       "  <tbody>\n",
       "    <tr>\n",
       "      <th>0</th>\n",
       "      <td>LogisticRegression</td>\n",
       "      <td>0.776082</td>\n",
       "      <td>{'model__C': 10.0, 'model__solver': 'saga'}</td>\n",
       "    </tr>\n",
       "    <tr>\n",
       "      <th>1</th>\n",
       "      <td>DecisionTreeClassifier</td>\n",
       "      <td>0.704889</td>\n",
       "      <td>{'model__criterion': 'entropy', 'model__max_depth': 100}</td>\n",
       "    </tr>\n",
       "    <tr>\n",
       "      <th>2</th>\n",
       "      <td>LinearSVC</td>\n",
       "      <td>0.780427</td>\n",
       "      <td>{'model__C': 1.0, 'model__dual': False}</td>\n",
       "    </tr>\n",
       "  </tbody>\n",
       "</table>\n",
       "</div>"
      ],
      "text/plain": [
       "                    model        F1  \\\n",
       "0      LogisticRegression  0.776082   \n",
       "1  DecisionTreeClassifier  0.704889   \n",
       "2               LinearSVC  0.780427   \n",
       "\n",
       "                                                best_params  \n",
       "0               {'model__C': 10.0, 'model__solver': 'saga'}  \n",
       "1  {'model__criterion': 'entropy', 'model__max_depth': 100}  \n",
       "2                   {'model__C': 1.0, 'model__dual': False}  "
      ]
     },
     "execution_count": 22,
     "metadata": {},
     "output_type": "execute_result"
    }
   ],
   "source": [
    "mod_result = pd.DataFrame(result)[['model', 'F1', 'best_params']]\n",
    "\n",
    "mod_result"
   ]
  },
  {
   "cell_type": "code",
   "execution_count": 24,
   "metadata": {},
   "outputs": [
    {
     "name": "stdout",
     "output_type": "stream",
     "text": [
      "Тестовый F1 для LinearSVC: 0.7887\n"
     ]
    }
   ],
   "source": [
    "print(f\"Тестовый F1 для LinearSVC: {f1_score(y_test, scv['grid'].predict(X_test)):.4f}\")"
   ]
  },
  {
   "cell_type": "markdown",
   "metadata": {},
   "source": [
    "### Вывод"
   ]
  },
  {
   "cell_type": "markdown",
   "metadata": {},
   "source": [
    "В ходе обучения данных были выполнены следующие этапы:\n",
    "1. Формирование обучающей и тестовой выборок.\n",
    "2. Векторизация обучающей и тестовой выборок.\n",
    "3. Обучение моделей и выбор лучшей из них на кросс-валидации.\n",
    "4. Модель `LinearSVC` с гиперпараметрами `{'model__C': 1.0, 'model__dual': False}` показала лучший целевой показатель `F1` равный `0.780427` и удовлетворяющий требованию проекта.\n",
    "5. Тестовый `F1` для `LinearSVC` составил `0.7887`."
   ]
  },
  {
   "cell_type": "markdown",
   "metadata": {},
   "source": [
    "## Выводы"
   ]
  },
  {
   "cell_type": "markdown",
   "metadata": {},
   "source": [
    "В ходе подготовки данных были выполнены следующие этапы:\n",
    "\n",
    "1. Загруженны необходимые библиотеки и сами данные:\n",
    "    - **Количество записей:** 159,292, что является достаточно большим объемом данных для обучения модели машинного обучения.\n",
    "    - **Структура данных:** В DataFrame три столбца:\n",
    "      - **Unnamed: 0:** Это, скорее всего, индекс, созданный при сохранении данных из CSV. Этот столбец не несет полезной информации для модели.\n",
    "      - **text:** Это тексты комментариев, в них присутствуют спец.символы и числы. Очистим их с помощью регулярных выражений и лемматизируем.\n",
    "      - **toxic:** Это целевая переменная (0 или 1), где 0 — не токсичный комментарий, а 1 — токсичный.\n",
    "    - Все столбцы содержат данные без пропусков\n",
    "    - Не найдено дубликатов\n",
    "    - Среднее значение для столбца `toxic` составляет около 0.10, что указывает на то, что примерно 10% комментариев являются токсичными. Это говорит о наличии классового дисбаланса, где не токсичные комментарии значительно преобладают.\n",
    "2. Удален столбец-индекс `Unnamed: 0`;\n",
    "3. Текст очищен от символов и чисел;\n",
    "4. Исследован баланс классов;\n",
    "5. Текст лемматизирован и очищен от стоп-слов."
   ]
  },
  {
   "cell_type": "markdown",
   "metadata": {},
   "source": [
    "В ходе обучения данных были выполнены следующие этапы:\n",
    "1. Формирование обучающей и тестовой выборок.\n",
    "2. Векторизация обучающей и тестовой выборок.\n",
    "3. Обучение моделей и выбор лучшей из них на кросс-валидации.\n",
    "4. Модель `LinearSVC` с гиперпараметрами `{'model__C': 1.0, 'model__dual': False}` показала лучший целевой показатель `F1` равный `0.774425598334677` и удовлетворяющий требованию проекта.\n",
    "5. Тестовый `F1` для `LinearSVC` составил `0.78259874069834`."
   ]
  }
 ],
 "metadata": {
  "ExecuteTimeLog": [
   {
    "duration": 460,
    "start_time": "2025-06-16T09:05:57.516Z"
   },
   {
    "duration": 6,
    "start_time": "2025-06-16T09:09:41.565Z"
   },
   {
    "duration": 1201,
    "start_time": "2025-06-16T09:09:42.010Z"
   },
   {
    "duration": 1117,
    "start_time": "2025-06-16T09:11:51.429Z"
   },
   {
    "duration": 3,
    "start_time": "2025-06-16T09:11:53.376Z"
   },
   {
    "duration": 1404,
    "start_time": "2025-06-16T09:12:00.426Z"
   },
   {
    "duration": 3,
    "start_time": "2025-06-16T09:14:11.687Z"
   },
   {
    "duration": 325,
    "start_time": "2025-06-16T09:14:12.588Z"
   },
   {
    "duration": 383,
    "start_time": "2025-06-21T17:42:57.228Z"
   },
   {
    "duration": 910,
    "start_time": "2025-06-21T17:42:57.701Z"
   },
   {
    "duration": 4,
    "start_time": "2025-06-21T17:42:58.613Z"
   },
   {
    "duration": 338,
    "start_time": "2025-06-21T17:42:58.621Z"
   },
   {
    "duration": 5,
    "start_time": "2025-06-21T18:15:16.103Z"
   },
   {
    "duration": 292,
    "start_time": "2025-06-21T18:15:19.867Z"
   },
   {
    "duration": 550,
    "start_time": "2025-06-21T19:36:57.148Z"
   },
   {
    "duration": 3,
    "start_time": "2025-06-21T19:37:24.964Z"
   },
   {
    "duration": 387,
    "start_time": "2025-06-21T19:37:27.548Z"
   },
   {
    "duration": 3,
    "start_time": "2025-06-21T19:49:12.689Z"
   },
   {
    "duration": 3,
    "start_time": "2025-06-21T19:49:19.360Z"
   },
   {
    "duration": 311,
    "start_time": "2025-06-21T19:49:20.394Z"
   },
   {
    "duration": 13,
    "start_time": "2025-06-21T19:54:49.894Z"
   },
   {
    "duration": 17,
    "start_time": "2025-06-21T20:19:04.825Z"
   },
   {
    "duration": 665,
    "start_time": "2025-06-21T20:19:14.503Z"
   },
   {
    "duration": 927,
    "start_time": "2025-06-21T20:19:15.360Z"
   },
   {
    "duration": 10,
    "start_time": "2025-06-21T20:19:16.289Z"
   },
   {
    "duration": 298,
    "start_time": "2025-06-21T20:19:17.128Z"
   },
   {
    "duration": 304,
    "start_time": "2025-06-21T20:19:19.574Z"
   },
   {
    "duration": 13,
    "start_time": "2025-06-21T20:19:21.543Z"
   },
   {
    "duration": 68,
    "start_time": "2025-06-21T20:19:22.543Z"
   },
   {
    "duration": 944,
    "start_time": "2025-06-21T20:20:00.554Z"
   },
   {
    "duration": 310,
    "start_time": "2025-06-21T20:20:05.875Z"
   },
   {
    "duration": 3,
    "start_time": "2025-06-21T20:20:29.155Z"
   },
   {
    "duration": 13,
    "start_time": "2025-06-21T20:20:30.290Z"
   },
   {
    "duration": 2,
    "start_time": "2025-06-21T20:20:51.932Z"
   },
   {
    "duration": 4,
    "start_time": "2025-06-21T20:20:52.610Z"
   },
   {
    "duration": 4,
    "start_time": "2025-06-21T20:24:44.541Z"
   },
   {
    "duration": 221,
    "start_time": "2025-06-21T20:24:46.684Z"
   },
   {
    "duration": 3,
    "start_time": "2025-06-21T20:25:11.342Z"
   },
   {
    "duration": 24256,
    "start_time": "2025-06-21T20:25:14.973Z"
   },
   {
    "duration": 11,
    "start_time": "2025-06-21T20:25:39.231Z"
   },
   {
    "duration": 7,
    "start_time": "2025-06-21T20:26:18.659Z"
   },
   {
    "duration": 10,
    "start_time": "2025-06-21T20:26:25.451Z"
   },
   {
    "duration": 1502,
    "start_time": "2025-06-21T20:36:41.396Z"
   },
   {
    "duration": 901,
    "start_time": "2025-06-21T20:36:42.903Z"
   },
   {
    "duration": 3,
    "start_time": "2025-06-21T20:36:43.806Z"
   },
   {
    "duration": 314,
    "start_time": "2025-06-21T20:36:43.811Z"
   },
   {
    "duration": 307,
    "start_time": "2025-06-21T20:36:44.127Z"
   },
   {
    "duration": 13,
    "start_time": "2025-06-21T20:36:44.436Z"
   },
   {
    "duration": 7,
    "start_time": "2025-06-21T20:36:44.451Z"
   },
   {
    "duration": 308,
    "start_time": "2025-06-21T20:36:44.459Z"
   },
   {
    "duration": 6,
    "start_time": "2025-06-21T20:36:44.769Z"
   },
   {
    "duration": 25955,
    "start_time": "2025-06-21T20:36:44.777Z"
   },
   {
    "duration": 9,
    "start_time": "2025-06-21T20:37:10.733Z"
   },
   {
    "duration": 1527,
    "start_time": "2025-06-21T20:39:12.332Z"
   },
   {
    "duration": 961,
    "start_time": "2025-06-21T20:39:13.866Z"
   },
   {
    "duration": 3,
    "start_time": "2025-06-21T20:39:14.830Z"
   },
   {
    "duration": 329,
    "start_time": "2025-06-21T20:39:14.835Z"
   },
   {
    "duration": 308,
    "start_time": "2025-06-21T20:39:15.166Z"
   },
   {
    "duration": 23,
    "start_time": "2025-06-21T20:39:15.476Z"
   },
   {
    "duration": 31,
    "start_time": "2025-06-21T20:39:15.500Z"
   },
   {
    "duration": 261,
    "start_time": "2025-06-21T20:39:15.532Z"
   },
   {
    "duration": 3,
    "start_time": "2025-06-21T20:39:15.798Z"
   },
   {
    "duration": 352,
    "start_time": "2025-06-21T20:39:15.803Z"
   },
   {
    "duration": 7,
    "start_time": "2025-06-21T20:39:16.272Z"
   },
   {
    "duration": 3,
    "start_time": "2025-06-21T20:39:29.527Z"
   },
   {
    "duration": 23681,
    "start_time": "2025-06-21T20:39:29.904Z"
   },
   {
    "duration": 13,
    "start_time": "2025-06-21T20:39:53.587Z"
   },
   {
    "duration": 1499,
    "start_time": "2025-06-21T20:49:36.840Z"
   },
   {
    "duration": 983,
    "start_time": "2025-06-21T20:49:38.341Z"
   },
   {
    "duration": 3,
    "start_time": "2025-06-21T20:49:39.326Z"
   },
   {
    "duration": 395,
    "start_time": "2025-06-21T20:49:39.331Z"
   },
   {
    "duration": 323,
    "start_time": "2025-06-21T20:49:39.728Z"
   },
   {
    "duration": 14,
    "start_time": "2025-06-21T20:49:40.053Z"
   },
   {
    "duration": 20,
    "start_time": "2025-06-21T20:49:40.069Z"
   },
   {
    "duration": 302,
    "start_time": "2025-06-21T20:49:40.092Z"
   },
   {
    "duration": 4,
    "start_time": "2025-06-21T20:49:40.396Z"
   },
   {
    "duration": 24735,
    "start_time": "2025-06-21T20:49:40.402Z"
   },
   {
    "duration": 9,
    "start_time": "2025-06-21T20:50:05.139Z"
   },
   {
    "duration": 1504,
    "start_time": "2025-06-21T20:50:49.684Z"
   },
   {
    "duration": 964,
    "start_time": "2025-06-21T20:50:51.193Z"
   },
   {
    "duration": 3,
    "start_time": "2025-06-21T20:50:52.159Z"
   },
   {
    "duration": 424,
    "start_time": "2025-06-21T20:50:52.164Z"
   },
   {
    "duration": 321,
    "start_time": "2025-06-21T20:50:52.590Z"
   },
   {
    "duration": 13,
    "start_time": "2025-06-21T20:50:52.913Z"
   },
   {
    "duration": 18,
    "start_time": "2025-06-21T20:50:52.928Z"
   },
   {
    "duration": 303,
    "start_time": "2025-06-21T20:50:52.948Z"
   },
   {
    "duration": 4,
    "start_time": "2025-06-21T20:50:53.253Z"
   },
   {
    "duration": 25947,
    "start_time": "2025-06-21T20:50:53.259Z"
   },
   {
    "duration": 9,
    "start_time": "2025-06-21T20:51:19.208Z"
   },
   {
    "duration": 121,
    "start_time": "2025-06-21T21:02:59.922Z"
   },
   {
    "duration": 2,
    "start_time": "2025-06-21T21:03:32.635Z"
   },
   {
    "duration": 32,
    "start_time": "2025-06-21T21:03:33.024Z"
   },
   {
    "duration": 10,
    "start_time": "2025-06-21T21:08:02.668Z"
   },
   {
    "duration": 5,
    "start_time": "2025-06-21T21:08:21.054Z"
   },
   {
    "duration": 9,
    "start_time": "2025-06-21T21:20:08.640Z"
   },
   {
    "duration": 2,
    "start_time": "2025-06-21T21:20:36.424Z"
   },
   {
    "duration": 4500,
    "start_time": "2025-06-21T21:20:36.912Z"
   },
   {
    "duration": 4829,
    "start_time": "2025-06-21T21:29:51.777Z"
   },
   {
    "duration": 4,
    "start_time": "2025-06-21T21:32:10.791Z"
   },
   {
    "duration": 10,
    "start_time": "2025-06-21T21:32:16.342Z"
   },
   {
    "duration": 2,
    "start_time": "2025-06-21T21:32:48.682Z"
   },
   {
    "duration": 3,
    "start_time": "2025-06-21T21:32:51.255Z"
   },
   {
    "duration": 14,
    "start_time": "2025-06-21T21:32:51.751Z"
   },
   {
    "duration": 3,
    "start_time": "2025-06-21T21:33:07.864Z"
   },
   {
    "duration": 4,
    "start_time": "2025-06-21T21:33:08.312Z"
   },
   {
    "duration": 26,
    "start_time": "2025-06-21T21:33:08.703Z"
   },
   {
    "duration": 4,
    "start_time": "2025-06-21T21:35:19.519Z"
   },
   {
    "duration": 17,
    "start_time": "2025-06-21T21:35:20.922Z"
   },
   {
    "duration": 3,
    "start_time": "2025-06-21T21:35:37.919Z"
   },
   {
    "duration": 4,
    "start_time": "2025-06-21T21:35:38.421Z"
   },
   {
    "duration": 17,
    "start_time": "2025-06-21T21:35:38.855Z"
   },
   {
    "duration": 3,
    "start_time": "2025-06-21T21:37:28.179Z"
   },
   {
    "duration": 1592,
    "start_time": "2025-06-21T21:46:31.481Z"
   },
   {
    "duration": 978,
    "start_time": "2025-06-21T21:46:33.075Z"
   },
   {
    "duration": 4,
    "start_time": "2025-06-21T21:46:34.054Z"
   },
   {
    "duration": 344,
    "start_time": "2025-06-21T21:46:34.060Z"
   },
   {
    "duration": 321,
    "start_time": "2025-06-21T21:46:34.405Z"
   },
   {
    "duration": 23,
    "start_time": "2025-06-21T21:46:34.729Z"
   },
   {
    "duration": 30,
    "start_time": "2025-06-21T21:46:34.755Z"
   },
   {
    "duration": 317,
    "start_time": "2025-06-21T21:46:34.788Z"
   },
   {
    "duration": 4,
    "start_time": "2025-06-21T21:46:35.107Z"
   },
   {
    "duration": 25861,
    "start_time": "2025-06-21T21:46:35.113Z"
   },
   {
    "duration": 9,
    "start_time": "2025-06-21T21:47:00.976Z"
   },
   {
    "duration": 18,
    "start_time": "2025-06-21T21:47:00.999Z"
   },
   {
    "duration": 66,
    "start_time": "2025-06-21T21:47:01.020Z"
   },
   {
    "duration": 7,
    "start_time": "2025-06-21T21:47:01.087Z"
   },
   {
    "duration": 8,
    "start_time": "2025-06-21T21:47:01.095Z"
   },
   {
    "duration": 4960,
    "start_time": "2025-06-21T21:47:01.104Z"
   },
   {
    "duration": 121,
    "start_time": "2025-06-21T21:47:14.904Z"
   },
   {
    "duration": 10,
    "start_time": "2025-06-21T21:47:43.771Z"
   },
   {
    "duration": 10,
    "start_time": "2025-06-21T21:47:44.493Z"
   },
   {
    "duration": 7464,
    "start_time": "2025-06-21T21:52:35.904Z"
   },
   {
    "duration": 24,
    "start_time": "2025-06-21T21:52:48.926Z"
   },
   {
    "duration": 2328,
    "start_time": "2025-06-21T21:53:01.137Z"
   },
   {
    "duration": 21,
    "start_time": "2025-06-21T21:53:05.417Z"
   },
   {
    "duration": 10,
    "start_time": "2025-06-21T21:54:21.484Z"
   },
   {
    "duration": 1353,
    "start_time": "2025-06-21T21:55:01.589Z"
   },
   {
    "duration": 5907,
    "start_time": "2025-06-21T21:55:11.013Z"
   },
   {
    "duration": 4,
    "start_time": "2025-06-21T21:55:16.922Z"
   },
   {
    "duration": 29,
    "start_time": "2025-06-21T21:55:22.685Z"
   },
   {
    "duration": 2384,
    "start_time": "2025-06-21T21:55:57.674Z"
   },
   {
    "duration": 1334,
    "start_time": "2025-06-21T21:56:06.271Z"
   },
   {
    "duration": 970,
    "start_time": "2025-06-21T21:56:07.611Z"
   },
   {
    "duration": 3,
    "start_time": "2025-06-21T21:56:08.583Z"
   },
   {
    "duration": 379,
    "start_time": "2025-06-21T21:56:08.588Z"
   },
   {
    "duration": 342,
    "start_time": "2025-06-21T21:56:08.969Z"
   },
   {
    "duration": 14,
    "start_time": "2025-06-21T21:56:09.313Z"
   },
   {
    "duration": 3,
    "start_time": "2025-06-21T21:56:09.367Z"
   },
   {
    "duration": 147,
    "start_time": "2025-06-21T21:56:09.578Z"
   },
   {
    "duration": 3,
    "start_time": "2025-06-21T21:56:09.751Z"
   },
   {
    "duration": 26561,
    "start_time": "2025-06-21T21:56:10.029Z"
   },
   {
    "duration": 18,
    "start_time": "2025-06-21T21:56:36.592Z"
   },
   {
    "duration": 6,
    "start_time": "2025-06-21T21:56:36.612Z"
   },
   {
    "duration": 54,
    "start_time": "2025-06-21T21:56:36.620Z"
   },
   {
    "duration": 4,
    "start_time": "2025-06-21T21:56:36.676Z"
   },
   {
    "duration": 20,
    "start_time": "2025-06-21T21:56:36.682Z"
   },
   {
    "duration": 5066,
    "start_time": "2025-06-21T21:56:36.704Z"
   },
   {
    "duration": 74,
    "start_time": "2025-06-21T21:56:41.771Z"
   },
   {
    "duration": 76321,
    "start_time": "2025-06-21T21:56:49.399Z"
   },
   {
    "duration": 3,
    "start_time": "2025-06-21T21:58:05.722Z"
   },
   {
    "duration": 27,
    "start_time": "2025-06-21T21:58:05.727Z"
   },
   {
    "duration": 302423,
    "start_time": "2025-06-21T21:58:29.949Z"
   },
   {
    "duration": 6769,
    "start_time": "2025-06-22T04:57:03.230Z"
   },
   {
    "duration": 1520,
    "start_time": "2025-06-22T04:57:10.002Z"
   },
   {
    "duration": 1002,
    "start_time": "2025-06-22T04:57:11.524Z"
   },
   {
    "duration": 4,
    "start_time": "2025-06-22T04:57:12.527Z"
   },
   {
    "duration": 329,
    "start_time": "2025-06-22T04:57:12.533Z"
   },
   {
    "duration": 331,
    "start_time": "2025-06-22T04:57:12.863Z"
   },
   {
    "duration": 12,
    "start_time": "2025-06-22T04:57:13.196Z"
   },
   {
    "duration": 4,
    "start_time": "2025-06-22T04:57:13.210Z"
   },
   {
    "duration": 341,
    "start_time": "2025-06-22T04:57:13.215Z"
   },
   {
    "duration": 3,
    "start_time": "2025-06-22T04:57:13.559Z"
   },
   {
    "duration": 24639,
    "start_time": "2025-06-22T04:57:13.564Z"
   },
   {
    "duration": 8,
    "start_time": "2025-06-22T04:57:38.205Z"
   },
   {
    "duration": 6,
    "start_time": "2025-06-22T04:57:38.215Z"
   },
   {
    "duration": 45,
    "start_time": "2025-06-22T04:57:38.223Z"
   },
   {
    "duration": 5,
    "start_time": "2025-06-22T04:57:38.269Z"
   },
   {
    "duration": 7,
    "start_time": "2025-06-22T04:57:38.275Z"
   },
   {
    "duration": 4545,
    "start_time": "2025-06-22T04:57:38.284Z"
   },
   {
    "duration": 74,
    "start_time": "2025-06-22T04:57:42.831Z"
   },
   {
    "duration": 72666,
    "start_time": "2025-06-22T04:57:42.908Z"
   },
   {
    "duration": 3,
    "start_time": "2025-06-22T04:58:55.576Z"
   },
   {
    "duration": 4,
    "start_time": "2025-06-22T04:58:55.581Z"
   },
   {
    "duration": 170511,
    "start_time": "2025-06-22T04:58:55.586Z"
   },
   {
    "duration": 51,
    "start_time": "2025-06-22T05:02:03.183Z"
   },
   {
    "duration": 15,
    "start_time": "2025-06-22T05:02:09.972Z"
   },
   {
    "duration": 40904,
    "start_time": "2025-06-22T05:02:25.559Z"
   },
   {
    "duration": 3,
    "start_time": "2025-06-22T05:03:26.026Z"
   },
   {
    "duration": 2379,
    "start_time": "2025-06-22T05:19:09.967Z"
   },
   {
    "duration": 1292,
    "start_time": "2025-06-22T05:19:12.348Z"
   },
   {
    "duration": 923,
    "start_time": "2025-06-22T05:19:13.642Z"
   },
   {
    "duration": 4,
    "start_time": "2025-06-22T05:19:14.567Z"
   },
   {
    "duration": 326,
    "start_time": "2025-06-22T05:19:14.572Z"
   },
   {
    "duration": 354,
    "start_time": "2025-06-22T05:19:14.899Z"
   },
   {
    "duration": 14,
    "start_time": "2025-06-22T05:19:15.258Z"
   },
   {
    "duration": 34,
    "start_time": "2025-06-22T05:19:15.274Z"
   },
   {
    "duration": 152,
    "start_time": "2025-06-22T05:19:15.310Z"
   },
   {
    "duration": 4,
    "start_time": "2025-06-22T05:19:15.465Z"
   },
   {
    "duration": 24712,
    "start_time": "2025-06-22T05:19:15.470Z"
   },
   {
    "duration": 8,
    "start_time": "2025-06-22T05:19:40.184Z"
   },
   {
    "duration": 3,
    "start_time": "2025-06-22T05:19:40.194Z"
   },
   {
    "duration": 85,
    "start_time": "2025-06-22T05:19:40.199Z"
   },
   {
    "duration": 4,
    "start_time": "2025-06-22T05:19:40.285Z"
   },
   {
    "duration": 4,
    "start_time": "2025-06-22T05:19:40.291Z"
   },
   {
    "duration": 4580,
    "start_time": "2025-06-22T05:19:40.297Z"
   },
   {
    "duration": 59,
    "start_time": "2025-06-22T05:19:44.878Z"
   },
   {
    "duration": 71150,
    "start_time": "2025-06-22T05:19:44.938Z"
   },
   {
    "duration": 400,
    "start_time": "2025-06-22T05:20:56.090Z"
   },
   {
    "duration": 51,
    "start_time": "2025-06-22T05:21:09.789Z"
   },
   {
    "duration": 5,
    "start_time": "2025-06-22T05:28:45.357Z"
   },
   {
    "duration": 496938,
    "start_time": "2025-06-22T05:28:48.470Z"
   },
   {
    "duration": 403982,
    "start_time": "2025-06-22T05:37:15.002Z"
   },
   {
    "duration": 504,
    "start_time": "2025-06-22T05:52:17.802Z"
   },
   {
    "duration": 58742,
    "start_time": "2025-06-22T05:53:35.978Z"
   },
   {
    "duration": 3,
    "start_time": "2025-06-22T05:56:15.992Z"
   },
   {
    "duration": 414172,
    "start_time": "2025-06-22T05:56:27.419Z"
   },
   {
    "duration": 1016290,
    "start_time": "2025-06-22T06:05:22.670Z"
   },
   {
    "duration": 0,
    "start_time": "2025-06-22T06:25:12.084Z"
   },
   {
    "duration": 763804,
    "start_time": "2025-06-22T06:25:42.718Z"
   },
   {
    "duration": 1101364,
    "start_time": "2025-06-22T06:39:26.480Z"
   },
   {
    "duration": 2735,
    "start_time": "2025-06-22T06:58:02.095Z"
   },
   {
    "duration": 1457,
    "start_time": "2025-06-22T06:58:04.832Z"
   },
   {
    "duration": 1123,
    "start_time": "2025-06-22T06:58:06.291Z"
   },
   {
    "duration": 4,
    "start_time": "2025-06-22T06:58:07.415Z"
   },
   {
    "duration": 387,
    "start_time": "2025-06-22T06:58:07.421Z"
   },
   {
    "duration": 355,
    "start_time": "2025-06-22T06:58:07.813Z"
   },
   {
    "duration": 23,
    "start_time": "2025-06-22T06:58:08.169Z"
   },
   {
    "duration": 4,
    "start_time": "2025-06-22T06:58:08.193Z"
   },
   {
    "duration": 148,
    "start_time": "2025-06-22T06:58:08.198Z"
   },
   {
    "duration": 4,
    "start_time": "2025-06-22T06:58:08.348Z"
   },
   {
    "duration": 30072,
    "start_time": "2025-06-22T06:58:08.353Z"
   },
   {
    "duration": 9,
    "start_time": "2025-06-22T06:58:38.429Z"
   },
   {
    "duration": 29,
    "start_time": "2025-06-22T06:58:38.440Z"
   },
   {
    "duration": 66,
    "start_time": "2025-06-22T06:58:38.483Z"
   },
   {
    "duration": 4,
    "start_time": "2025-06-22T06:58:38.551Z"
   },
   {
    "duration": 137,
    "start_time": "2025-06-22T06:58:38.557Z"
   },
   {
    "duration": 5457,
    "start_time": "2025-06-22T06:58:38.696Z"
   },
   {
    "duration": 71,
    "start_time": "2025-06-22T06:58:44.162Z"
   },
   {
    "duration": 80191,
    "start_time": "2025-06-22T06:58:44.235Z"
   },
   {
    "duration": 436,
    "start_time": "2025-06-22T07:00:04.428Z"
   },
   {
    "duration": 68,
    "start_time": "2025-06-22T07:00:04.867Z"
   },
   {
    "duration": 4,
    "start_time": "2025-06-22T07:00:04.936Z"
   },
   {
    "duration": 60256,
    "start_time": "2025-06-22T07:00:04.942Z"
   },
   {
    "duration": 3,
    "start_time": "2025-06-22T07:01:27.722Z"
   },
   {
    "duration": 5,
    "start_time": "2025-06-22T07:01:35.244Z"
   },
   {
    "duration": 439311,
    "start_time": "2025-06-22T07:01:46.339Z"
   },
   {
    "duration": 1232193,
    "start_time": "2025-06-22T07:13:17.030Z"
   },
   {
    "duration": 0,
    "start_time": "2025-06-22T07:33:49.225Z"
   },
   {
    "duration": 0,
    "start_time": "2025-06-22T07:33:49.227Z"
   },
   {
    "duration": 0,
    "start_time": "2025-06-22T07:33:49.228Z"
   },
   {
    "duration": 4,
    "start_time": "2025-06-22T07:34:27.708Z"
   },
   {
    "duration": 4,
    "start_time": "2025-06-22T07:34:39.860Z"
   },
   {
    "duration": 4,
    "start_time": "2025-06-22T07:35:14.444Z"
   },
   {
    "duration": 88601,
    "start_time": "2025-06-22T07:35:15.292Z"
   },
   {
    "duration": 2456,
    "start_time": "2025-06-22T07:39:28.005Z"
   },
   {
    "duration": 1433,
    "start_time": "2025-06-22T07:39:30.463Z"
   },
   {
    "duration": 990,
    "start_time": "2025-06-22T07:39:31.897Z"
   },
   {
    "duration": 4,
    "start_time": "2025-06-22T07:39:32.888Z"
   },
   {
    "duration": 345,
    "start_time": "2025-06-22T07:39:32.893Z"
   },
   {
    "duration": 330,
    "start_time": "2025-06-22T07:39:33.240Z"
   },
   {
    "duration": 19,
    "start_time": "2025-06-22T07:39:33.571Z"
   },
   {
    "duration": 53,
    "start_time": "2025-06-22T07:39:33.592Z"
   },
   {
    "duration": 229,
    "start_time": "2025-06-22T07:39:33.647Z"
   },
   {
    "duration": 4,
    "start_time": "2025-06-22T07:39:33.879Z"
   },
   {
    "duration": 25032,
    "start_time": "2025-06-22T07:39:33.884Z"
   },
   {
    "duration": 7,
    "start_time": "2025-06-22T07:39:58.918Z"
   },
   {
    "duration": 13,
    "start_time": "2025-06-22T07:39:58.927Z"
   },
   {
    "duration": 73,
    "start_time": "2025-06-22T07:39:58.942Z"
   },
   {
    "duration": 3,
    "start_time": "2025-06-22T07:39:59.017Z"
   },
   {
    "duration": 7,
    "start_time": "2025-06-22T07:39:59.022Z"
   },
   {
    "duration": 4697,
    "start_time": "2025-06-22T07:39:59.030Z"
   },
   {
    "duration": 78,
    "start_time": "2025-06-22T07:40:03.729Z"
   },
   {
    "duration": 4,
    "start_time": "2025-06-22T07:40:03.809Z"
   },
   {
    "duration": 50549,
    "start_time": "2025-06-22T07:40:03.816Z"
   },
   {
    "duration": 396799,
    "start_time": "2025-06-22T07:41:12.129Z"
   },
   {
    "duration": 252180,
    "start_time": "2025-06-22T07:48:08.475Z"
   },
   {
    "duration": 109106,
    "start_time": "2025-06-22T07:52:23.941Z"
   },
   {
    "duration": 67202,
    "start_time": "2025-06-22T07:54:18.788Z"
   },
   {
    "duration": 770773,
    "start_time": "2025-06-22T07:55:27.340Z"
   },
   {
    "duration": 692003,
    "start_time": "2025-06-22T08:13:15.214Z"
   },
   {
    "duration": 0,
    "start_time": "2025-06-22T08:24:47.218Z"
   },
   {
    "duration": 54587,
    "start_time": "2025-06-22T08:24:52.929Z"
   },
   {
    "duration": 67,
    "start_time": "2025-06-22T08:25:51.486Z"
   },
   {
    "duration": 311476,
    "start_time": "2025-06-22T08:25:52.906Z"
   },
   {
    "duration": 52693,
    "start_time": "2025-06-22T08:31:11.376Z"
   },
   {
    "duration": 64893,
    "start_time": "2025-06-22T08:32:04.971Z"
   },
   {
    "duration": 0,
    "start_time": "2025-06-22T08:33:30.197Z"
   },
   {
    "duration": 382489,
    "start_time": "2025-06-22T09:47:01.428Z"
   },
   {
    "duration": 57,
    "start_time": "2025-06-22T09:55:00.358Z"
   },
   {
    "duration": 1946,
    "start_time": "2025-06-22T09:55:53.631Z"
   },
   {
    "duration": 1083,
    "start_time": "2025-06-22T09:55:55.579Z"
   },
   {
    "duration": 5,
    "start_time": "2025-06-22T09:55:56.665Z"
   },
   {
    "duration": 352,
    "start_time": "2025-06-22T09:55:56.672Z"
   },
   {
    "duration": 322,
    "start_time": "2025-06-22T09:55:57.025Z"
   },
   {
    "duration": 27,
    "start_time": "2025-06-22T09:55:57.349Z"
   },
   {
    "duration": 90,
    "start_time": "2025-06-22T09:55:57.378Z"
   },
   {
    "duration": 150,
    "start_time": "2025-06-22T09:55:57.471Z"
   },
   {
    "duration": 5,
    "start_time": "2025-06-22T09:55:57.622Z"
   },
   {
    "duration": 27381,
    "start_time": "2025-06-22T09:55:57.629Z"
   },
   {
    "duration": 9,
    "start_time": "2025-06-22T09:56:25.011Z"
   },
   {
    "duration": 3,
    "start_time": "2025-06-22T09:56:25.021Z"
   },
   {
    "duration": 81,
    "start_time": "2025-06-22T09:56:25.026Z"
   },
   {
    "duration": 3,
    "start_time": "2025-06-22T09:56:25.108Z"
   },
   {
    "duration": 3,
    "start_time": "2025-06-22T09:56:25.113Z"
   },
   {
    "duration": 5132,
    "start_time": "2025-06-22T09:56:25.118Z"
   },
   {
    "duration": 257,
    "start_time": "2025-06-22T09:56:30.252Z"
   },
   {
    "duration": 7,
    "start_time": "2025-06-22T09:56:30.511Z"
   },
   {
    "duration": 59572,
    "start_time": "2025-06-22T09:56:30.520Z"
   },
   {
    "duration": 421431,
    "start_time": "2025-06-22T09:57:30.093Z"
   },
   {
    "duration": 1566059,
    "start_time": "2025-06-22T10:04:31.526Z"
   },
   {
    "duration": 0,
    "start_time": "2025-06-22T10:30:37.587Z"
   },
   {
    "duration": 0,
    "start_time": "2025-06-22T10:30:37.588Z"
   },
   {
    "duration": 3,
    "start_time": "2025-06-22T10:30:43.688Z"
   },
   {
    "duration": 295453,
    "start_time": "2025-06-22T10:30:44.527Z"
   },
   {
    "duration": 0,
    "start_time": "2025-06-22T10:51:14.565Z"
   },
   {
    "duration": 0,
    "start_time": "2025-06-22T10:53:48.589Z"
   },
   {
    "duration": 1254,
    "start_time": "2025-06-22T10:54:10.208Z"
   },
   {
    "duration": 982,
    "start_time": "2025-06-22T10:54:11.464Z"
   },
   {
    "duration": 4,
    "start_time": "2025-06-22T10:54:12.447Z"
   },
   {
    "duration": 356,
    "start_time": "2025-06-22T10:54:12.452Z"
   },
   {
    "duration": 315,
    "start_time": "2025-06-22T10:54:14.144Z"
   },
   {
    "duration": 19,
    "start_time": "2025-06-22T10:54:15.183Z"
   },
   {
    "duration": 2,
    "start_time": "2025-06-22T10:54:15.463Z"
   },
   {
    "duration": 147,
    "start_time": "2025-06-22T10:54:15.756Z"
   },
   {
    "duration": 4,
    "start_time": "2025-06-22T10:54:16.070Z"
   },
   {
    "duration": 25723,
    "start_time": "2025-06-22T10:54:16.262Z"
   },
   {
    "duration": 9,
    "start_time": "2025-06-22T10:54:41.987Z"
   },
   {
    "duration": 6,
    "start_time": "2025-06-22T10:54:41.997Z"
   },
   {
    "duration": 85,
    "start_time": "2025-06-22T10:54:42.005Z"
   },
   {
    "duration": 4,
    "start_time": "2025-06-22T10:54:42.091Z"
   },
   {
    "duration": 9,
    "start_time": "2025-06-22T10:54:42.097Z"
   },
   {
    "duration": 4688,
    "start_time": "2025-06-22T10:54:42.108Z"
   },
   {
    "duration": 76,
    "start_time": "2025-06-22T10:54:46.797Z"
   },
   {
    "duration": 4,
    "start_time": "2025-06-22T10:54:46.875Z"
   },
   {
    "duration": 51372,
    "start_time": "2025-06-22T10:54:46.881Z"
   },
   {
    "duration": 107795,
    "start_time": "2025-06-22T10:55:38.258Z"
   },
   {
    "duration": 107135,
    "start_time": "2025-06-22T10:58:23.930Z"
   },
   {
    "duration": 173085,
    "start_time": "2025-06-22T11:01:34.896Z"
   },
   {
    "duration": 384317,
    "start_time": "2025-06-22T11:05:20.698Z"
   },
   {
    "duration": 466657,
    "start_time": "2025-06-22T11:12:41.555Z"
   },
   {
    "duration": 750769,
    "start_time": "2025-06-22T11:20:48.982Z"
   },
   {
    "duration": 1406141,
    "start_time": "2025-06-22T11:34:25.879Z"
   },
   {
    "duration": 10,
    "start_time": "2025-06-22T11:58:08.276Z"
   },
   {
    "duration": 2,
    "start_time": "2025-06-22T11:58:28.596Z"
   },
   {
    "duration": 299482,
    "start_time": "2025-06-22T11:58:29.484Z"
   },
   {
    "duration": 2,
    "start_time": "2025-06-22T12:05:56.646Z"
   },
   {
    "duration": 9,
    "start_time": "2025-06-22T12:05:57.549Z"
   },
   {
    "duration": 74,
    "start_time": "2025-06-22T12:26:51.311Z"
   },
   {
    "duration": 9,
    "start_time": "2025-06-22T12:30:09.674Z"
   },
   {
    "duration": 10,
    "start_time": "2025-06-22T12:34:19.922Z"
   },
   {
    "duration": 4,
    "start_time": "2025-06-22T12:36:05.328Z"
   },
   {
    "duration": 1392,
    "start_time": "2025-06-22T12:38:09.559Z"
   },
   {
    "duration": 992,
    "start_time": "2025-06-22T12:38:10.958Z"
   },
   {
    "duration": 6,
    "start_time": "2025-06-22T12:38:11.952Z"
   },
   {
    "duration": 343,
    "start_time": "2025-06-22T12:38:11.960Z"
   },
   {
    "duration": 330,
    "start_time": "2025-06-22T12:38:12.305Z"
   },
   {
    "duration": 24,
    "start_time": "2025-06-22T12:38:12.636Z"
   },
   {
    "duration": 220,
    "start_time": "2025-06-22T12:38:12.662Z"
   },
   {
    "duration": 4,
    "start_time": "2025-06-22T12:38:12.884Z"
   },
   {
    "duration": 25193,
    "start_time": "2025-06-22T12:38:12.889Z"
   },
   {
    "duration": 8,
    "start_time": "2025-06-22T12:38:38.084Z"
   },
   {
    "duration": 84,
    "start_time": "2025-06-22T12:38:38.094Z"
   },
   {
    "duration": 4,
    "start_time": "2025-06-22T12:38:38.180Z"
   },
   {
    "duration": 4551,
    "start_time": "2025-06-22T12:38:38.185Z"
   },
   {
    "duration": 5,
    "start_time": "2025-06-22T12:38:42.738Z"
   },
   {
    "duration": 43072,
    "start_time": "2025-06-22T12:38:42.744Z"
   },
   {
    "duration": 374631,
    "start_time": "2025-06-22T12:39:25.817Z"
   },
   {
    "duration": 278512,
    "start_time": "2025-06-22T12:45:40.449Z"
   },
   {
    "duration": 3,
    "start_time": "2025-06-22T12:50:18.962Z"
   },
   {
    "duration": 92,
    "start_time": "2025-06-22T12:50:18.967Z"
   },
   {
    "duration": 23,
    "start_time": "2025-06-22T12:50:19.062Z"
   },
   {
    "duration": 3,
    "start_time": "2025-06-22T12:52:29.113Z"
   },
   {
    "duration": 131,
    "start_time": "2025-06-22T12:53:17.799Z"
   },
   {
    "duration": 3,
    "start_time": "2025-06-22T12:53:38.575Z"
   },
   {
    "duration": 15,
    "start_time": "2025-06-22T12:53:39.688Z"
   },
   {
    "duration": 3,
    "start_time": "2025-06-22T12:53:51.943Z"
   },
   {
    "duration": 14,
    "start_time": "2025-06-22T12:53:52.438Z"
   },
   {
    "duration": 6,
    "start_time": "2025-06-22T12:55:18.309Z"
   },
   {
    "duration": 7,
    "start_time": "2025-06-22T12:59:15.069Z"
   },
   {
    "duration": 15,
    "start_time": "2025-06-22T12:59:21.036Z"
   },
   {
    "duration": 10,
    "start_time": "2025-06-22T12:59:27.517Z"
   },
   {
    "duration": 22,
    "start_time": "2025-06-22T13:01:13.394Z"
   },
   {
    "duration": 23,
    "start_time": "2025-06-22T13:05:36.396Z"
   },
   {
    "duration": 1301,
    "start_time": "2025-06-22T13:07:42.260Z"
   },
   {
    "duration": 955,
    "start_time": "2025-06-22T13:07:43.563Z"
   },
   {
    "duration": 3,
    "start_time": "2025-06-22T13:07:44.520Z"
   },
   {
    "duration": 333,
    "start_time": "2025-06-22T13:07:44.526Z"
   },
   {
    "duration": 331,
    "start_time": "2025-06-22T13:07:44.861Z"
   },
   {
    "duration": 20,
    "start_time": "2025-06-22T13:07:45.194Z"
   },
   {
    "duration": 204,
    "start_time": "2025-06-22T13:07:45.215Z"
   },
   {
    "duration": 3,
    "start_time": "2025-06-22T13:07:45.421Z"
   },
   {
    "duration": 24691,
    "start_time": "2025-06-22T13:07:45.426Z"
   },
   {
    "duration": 7,
    "start_time": "2025-06-22T13:08:10.120Z"
   },
   {
    "duration": 82,
    "start_time": "2025-06-22T13:08:10.128Z"
   },
   {
    "duration": 5,
    "start_time": "2025-06-22T13:08:10.211Z"
   },
   {
    "duration": 4568,
    "start_time": "2025-06-22T13:08:10.217Z"
   },
   {
    "duration": 4,
    "start_time": "2025-06-22T13:08:14.787Z"
   },
   {
    "duration": 44516,
    "start_time": "2025-06-22T13:08:14.792Z"
   },
   {
    "duration": 370205,
    "start_time": "2025-06-22T13:08:59.309Z"
   },
   {
    "duration": 277551,
    "start_time": "2025-06-22T13:15:09.516Z"
   },
   {
    "duration": 2,
    "start_time": "2025-06-22T13:19:47.069Z"
   },
   {
    "duration": 225,
    "start_time": "2025-06-22T13:19:47.073Z"
   },
   {
    "duration": 0,
    "start_time": "2025-06-22T13:19:47.300Z"
   },
   {
    "duration": 11,
    "start_time": "2025-06-22T13:21:04.088Z"
   },
   {
    "duration": 23,
    "start_time": "2025-06-22T13:21:06.407Z"
   },
   {
    "duration": 3954,
    "start_time": "2025-06-22T21:11:59.695Z"
   },
   {
    "duration": 980,
    "start_time": "2025-06-22T21:12:03.651Z"
   },
   {
    "duration": 4,
    "start_time": "2025-06-22T21:12:04.632Z"
   },
   {
    "duration": 328,
    "start_time": "2025-06-22T21:12:04.637Z"
   },
   {
    "duration": 476,
    "start_time": "2025-06-22T21:12:04.967Z"
   },
   {
    "duration": 13,
    "start_time": "2025-06-22T21:12:05.445Z"
   },
   {
    "duration": 315,
    "start_time": "2025-06-22T21:12:05.460Z"
   },
   {
    "duration": 4,
    "start_time": "2025-06-22T21:12:05.777Z"
   },
   {
    "duration": 24821,
    "start_time": "2025-06-22T21:12:05.782Z"
   },
   {
    "duration": 9,
    "start_time": "2025-06-22T21:12:30.604Z"
   },
   {
    "duration": 108,
    "start_time": "2025-06-22T21:12:30.615Z"
   },
   {
    "duration": 47,
    "start_time": "2025-06-22T21:12:30.725Z"
   },
   {
    "duration": 4534,
    "start_time": "2025-06-22T21:12:30.774Z"
   },
   {
    "duration": 4,
    "start_time": "2025-06-22T21:12:35.311Z"
   },
   {
    "duration": 40059,
    "start_time": "2025-06-22T21:12:35.317Z"
   },
   {
    "duration": 349219,
    "start_time": "2025-06-22T21:13:15.377Z"
   },
   {
    "duration": 268655,
    "start_time": "2025-06-22T21:19:04.598Z"
   },
   {
    "duration": 3,
    "start_time": "2025-06-22T21:23:33.254Z"
   },
   {
    "duration": 16,
    "start_time": "2025-06-22T21:23:33.258Z"
   },
   {
    "duration": 23,
    "start_time": "2025-06-22T21:23:33.275Z"
   },
   {
    "duration": 1697,
    "start_time": "2025-06-23T05:45:23.905Z"
   },
   {
    "duration": 917,
    "start_time": "2025-06-23T05:45:26.006Z"
   },
   {
    "duration": 3,
    "start_time": "2025-06-23T05:45:27.015Z"
   },
   {
    "duration": 325,
    "start_time": "2025-06-23T05:45:32.489Z"
   },
   {
    "duration": 470,
    "start_time": "2025-06-23T05:45:35.743Z"
   },
   {
    "duration": 13,
    "start_time": "2025-06-23T05:45:39.928Z"
   },
   {
    "duration": 269,
    "start_time": "2025-06-23T05:45:45.335Z"
   },
   {
    "duration": 3061,
    "start_time": "2025-06-23T05:50:09.604Z"
   },
   {
    "duration": 346,
    "start_time": "2025-06-23T05:50:15.874Z"
   },
   {
    "duration": 459,
    "start_time": "2025-06-23T05:50:51.477Z"
   },
   {
    "duration": 1034847,
    "start_time": "2025-06-23T05:50:54.773Z"
   },
   {
    "duration": 10,
    "start_time": "2025-06-23T06:16:35.923Z"
   },
   {
    "duration": 63,
    "start_time": "2025-06-23T06:18:30.406Z"
   },
   {
    "duration": 4,
    "start_time": "2025-06-23T06:18:36.766Z"
   },
   {
    "duration": 4189,
    "start_time": "2025-06-23T06:32:51.336Z"
   },
   {
    "duration": 880,
    "start_time": "2025-06-23T06:32:55.526Z"
   },
   {
    "duration": 3,
    "start_time": "2025-06-23T06:32:56.408Z"
   },
   {
    "duration": 340,
    "start_time": "2025-06-23T06:32:56.413Z"
   },
   {
    "duration": 314,
    "start_time": "2025-06-23T06:32:57.575Z"
   },
   {
    "duration": 13,
    "start_time": "2025-06-23T06:32:58.863Z"
   },
   {
    "duration": 515,
    "start_time": "2025-06-23T06:33:03.511Z"
   },
   {
    "duration": 481,
    "start_time": "2025-06-23T06:33:37.130Z"
   },
   {
    "duration": 1067698,
    "start_time": "2025-06-23T06:33:39.579Z"
   },
   {
    "duration": 8,
    "start_time": "2025-06-23T06:51:43.280Z"
   },
   {
    "duration": 75,
    "start_time": "2025-06-23T06:51:49.595Z"
   },
   {
    "duration": 4,
    "start_time": "2025-06-23T06:51:54.236Z"
   },
   {
    "duration": 5,
    "start_time": "2025-06-23T06:51:58.829Z"
   },
   {
    "duration": 79587,
    "start_time": "2025-06-23T06:52:04.077Z"
   },
   {
    "duration": 4,
    "start_time": "2025-06-23T06:53:26.873Z"
   },
   {
    "duration": 23783,
    "start_time": "2025-06-23T06:53:28.755Z"
   },
   {
    "duration": 5,
    "start_time": "2025-06-23T06:54:11.236Z"
   },
   {
    "duration": 127572,
    "start_time": "2025-06-23T06:54:12.427Z"
   },
   {
    "duration": 410619,
    "start_time": "2025-06-23T06:56:20.001Z"
   },
   {
    "duration": 414572,
    "start_time": "2025-06-23T07:03:10.622Z"
   },
   {
    "duration": 3,
    "start_time": "2025-06-23T07:10:05.196Z"
   },
   {
    "duration": 23,
    "start_time": "2025-06-23T07:10:05.201Z"
   },
   {
    "duration": 487,
    "start_time": "2025-06-23T07:10:05.226Z"
   },
   {
    "duration": 458,
    "start_time": "2025-06-23T07:10:14.751Z"
   }
  ],
  "kernelspec": {
   "display_name": "Python 3 (ipykernel)",
   "language": "python",
   "name": "python3"
  },
  "language_info": {
   "codemirror_mode": {
    "name": "ipython",
    "version": 3
   },
   "file_extension": ".py",
   "mimetype": "text/x-python",
   "name": "python",
   "nbconvert_exporter": "python",
   "pygments_lexer": "ipython3",
   "version": "3.9.5"
  },
  "toc": {
   "base_numbering": "",
   "nav_menu": {},
   "number_sections": false,
   "sideBar": true,
   "skip_h1_title": true,
   "title_cell": "Содержание",
   "title_sidebar": "Содержание",
   "toc_cell": true,
   "toc_position": {
    "height": "calc(100% - 180px)",
    "left": "10px",
    "top": "150px",
    "width": "302.383px"
   },
   "toc_section_display": true,
   "toc_window_display": true
  }
 },
 "nbformat": 4,
 "nbformat_minor": 2
}
