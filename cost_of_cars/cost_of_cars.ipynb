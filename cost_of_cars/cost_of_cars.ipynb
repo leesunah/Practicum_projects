{
 "cells": [
  {
   "cell_type": "markdown",
   "metadata": {},
   "source": [
    "# Определение стоимости автомобилей"
   ]
  },
  {
   "cell_type": "markdown",
   "metadata": {},
   "source": [
    "Сервис по продаже автомобилей с пробегом «###» разрабатывает приложение для привлечения новых клиентов. В нём можно быстро узнать рыночную стоимость своего автомобиля. В нашем распоряжении исторические данные: технические характеристики, комплектации и цены автомобилей. Нужно построить модель для определения стоимости. \n",
    "\n",
    "Заказчику важны:\n",
    "\n",
    "- качество предсказания;\n",
    "- скорость предсказания;\n",
    "- время обучения."
   ]
  },
  {
   "cell_type": "markdown",
   "metadata": {},
   "source": [
    "**Основные шаги:**\n",
    "1. Загрузка данных.\n",
    "2. Изучение данных. \n",
    "3. Подготовка выборки для обучения моделей.\n",
    "4. Обучение разных моделей, одна из которых — LightGBM, как минимум одна — не бустинг.\n",
    "5. Анализ времени обучения, времени предсказания и качества моделей.\n",
    "6. Опираясь на критерии заказчика, выбор лучшей модели, проверка её качества на тестовой выборке."
   ]
  },
  {
   "cell_type": "markdown",
   "metadata": {},
   "source": [
    "**Описание данных**\n",
    "\n",
    "Данные находятся в файле `###.csv`.\n",
    "\n",
    "Признаки:\n",
    "- `DateCrawled` — дата скачивания анкеты из базы\n",
    "- `VehicleType` — тип автомобильного кузова\n",
    "- `RegistrationYear` — год регистрации автомобиля\n",
    "- `Gearbox` — тип коробки передач\n",
    "- `Power` — мощность (л. с.)\n",
    "- `Model` — модель автомобиля\n",
    "- `Kilometer` — пробег (км)\n",
    "- `RegistrationMonth` — месяц регистрации автомобиля\n",
    "- `FuelType` — тип топлива\n",
    "- `Brand` — марка автомобиля\n",
    "- `Repaired` — была машина в ремонте или нет\n",
    "- `DateCreated` — дата создания анкеты\n",
    "- `NumberOfPictures` — количество фотографий автомобиля\n",
    "- `PostalCode` — почтовый индекс владельца анкеты (пользователя)\n",
    "- `LastSeen` — дата последней активности пользователя\n",
    "\n",
    "Целевой признак\n",
    "- `Price` — цена (евро)"
   ]
  },
  {
   "cell_type": "markdown",
   "metadata": {
    "toc": true
   },
   "source": [
    "<h1>Содержание<span class=\"tocSkip\"></span></h1>\n",
    "<div class=\"toc\"><ul class=\"toc-item\"><li><span><a href=\"#Обзор-данных\" data-toc-modified-id=\"Обзор-данных-1\">Обзор данных</a></span><ul class=\"toc-item\"><li><span><a href=\"#Вывод\" data-toc-modified-id=\"Вывод-1.1\">Вывод</a></span></li></ul></li><li><span><a href=\"#Подготовка-данных\" data-toc-modified-id=\"Подготовка-данных-2\">Подготовка данных</a></span><ul class=\"toc-item\"><li><span><a href=\"#Вывод\" data-toc-modified-id=\"Вывод-2.1\">Вывод</a></span></li></ul></li><li><span><a href=\"#Корреляция-данных\" data-toc-modified-id=\"Корреляция-данных-3\">Корреляция данных</a></span><ul class=\"toc-item\"><li><span><a href=\"#Вывод\" data-toc-modified-id=\"Вывод-3.1\">Вывод</a></span></li></ul></li><li><span><a href=\"#Обучение-моделей\" data-toc-modified-id=\"Обучение-моделей-4\">Обучение моделей</a></span><ul class=\"toc-item\"><li><span><a href=\"#Вывод\" data-toc-modified-id=\"Вывод-4.1\">Вывод</a></span></li></ul></li><li><span><a href=\"#Анализ-моделей\" data-toc-modified-id=\"Анализ-моделей-5\">Анализ моделей</a></span><ul class=\"toc-item\"><li><span><a href=\"#Вывод\" data-toc-modified-id=\"Вывод-5.1\">Вывод</a></span></li></ul></li><li><span><a href=\"#Общий-вывод\" data-toc-modified-id=\"Общий-вывод-6\">Общий вывод</a></span></li><li><span><a href=\"#Чек-лист-проверки\" data-toc-modified-id=\"Чек-лист-проверки-7\">Чек-лист проверки</a></span></li></ul></div>"
   ]
  },
  {
   "cell_type": "markdown",
   "metadata": {},
   "source": [
    "## Обзор данных"
   ]
  },
  {
   "cell_type": "code",
   "execution_count": 1,
   "metadata": {},
   "outputs": [
    {
     "name": "stdout",
     "output_type": "stream",
     "text": [
      "Requirement already satisfied: phik in /opt/conda/lib/python3.9/site-packages (0.12.4)\n",
      "Requirement already satisfied: pandas>=0.25.1 in /opt/conda/lib/python3.9/site-packages (from phik) (1.2.4)\n",
      "Requirement already satisfied: joblib>=0.14.1 in /opt/conda/lib/python3.9/site-packages (from phik) (1.1.0)\n",
      "Requirement already satisfied: numpy>=1.18.0 in /opt/conda/lib/python3.9/site-packages (from phik) (1.21.1)\n",
      "Requirement already satisfied: matplotlib>=2.2.3 in /opt/conda/lib/python3.9/site-packages (from phik) (3.3.4)\n",
      "Requirement already satisfied: scipy>=1.5.2 in /opt/conda/lib/python3.9/site-packages (from phik) (1.9.1)\n",
      "Requirement already satisfied: pillow>=6.2.0 in /opt/conda/lib/python3.9/site-packages (from matplotlib>=2.2.3->phik) (8.4.0)\n",
      "Requirement already satisfied: cycler>=0.10 in /opt/conda/lib/python3.9/site-packages (from matplotlib>=2.2.3->phik) (0.11.0)\n",
      "Requirement already satisfied: kiwisolver>=1.0.1 in /opt/conda/lib/python3.9/site-packages (from matplotlib>=2.2.3->phik) (1.4.4)\n",
      "Requirement already satisfied: pyparsing!=2.0.4,!=2.1.2,!=2.1.6,>=2.0.3 in /opt/conda/lib/python3.9/site-packages (from matplotlib>=2.2.3->phik) (2.4.7)\n",
      "Requirement already satisfied: python-dateutil>=2.1 in /opt/conda/lib/python3.9/site-packages (from matplotlib>=2.2.3->phik) (2.8.1)\n",
      "Requirement already satisfied: pytz>=2017.3 in /opt/conda/lib/python3.9/site-packages (from pandas>=0.25.1->phik) (2021.1)\n",
      "Requirement already satisfied: six>=1.5 in /opt/conda/lib/python3.9/site-packages (from python-dateutil>=2.1->matplotlib>=2.2.3->phik) (1.16.0)\n",
      "Requirement already satisfied: lightgbm in /opt/conda/lib/python3.9/site-packages (3.3.1)\n",
      "Requirement already satisfied: scipy in /opt/conda/lib/python3.9/site-packages (from lightgbm) (1.9.1)\n",
      "Requirement already satisfied: wheel in /opt/conda/lib/python3.9/site-packages (from lightgbm) (0.36.2)\n",
      "Requirement already satisfied: numpy in /opt/conda/lib/python3.9/site-packages (from lightgbm) (1.21.1)\n",
      "Requirement already satisfied: scikit-learn!=0.22.0 in /opt/conda/lib/python3.9/site-packages (from lightgbm) (0.24.1)\n",
      "Requirement already satisfied: joblib>=0.11 in /opt/conda/lib/python3.9/site-packages (from scikit-learn!=0.22.0->lightgbm) (1.1.0)\n",
      "Requirement already satisfied: threadpoolctl>=2.0.0 in /opt/conda/lib/python3.9/site-packages (from scikit-learn!=0.22.0->lightgbm) (3.1.0)\n"
     ]
    }
   ],
   "source": [
    "!pip install phik\n",
    "!pip install lightgbm"
   ]
  },
  {
   "cell_type": "code",
   "execution_count": 2,
   "metadata": {},
   "outputs": [],
   "source": [
    "import pandas as pd\n",
    "import re\n",
    "import matplotlib.pyplot as plt\n",
    "import numpy as np\n",
    "import seaborn as sns\n",
    "import phik\n",
    "from phik.report import plot_correlation_matrix\n",
    "import time\n",
    "from sklearn.model_selection import train_test_split\n",
    "from sklearn.preprocessing import StandardScaler, OneHotEncoder, OrdinalEncoder\n",
    "from sklearn.compose import ColumnTransformer\n",
    "from sklearn.pipeline import Pipeline\n",
    "from sklearn.metrics import mean_squared_error\n",
    "from sklearn.linear_model import LinearRegression\n",
    "from sklearn.ensemble import RandomForestRegressor\n",
    "import lightgbm as lgb\n",
    "from sklearn.tree import DecisionTreeRegressor\n",
    "from sklearn.model_selection import GridSearchCV"
   ]
  },
  {
   "cell_type": "code",
   "execution_count": 3,
   "metadata": {},
   "outputs": [],
   "source": [
    "RANDOM_STATE = 42\n",
    "TEST_SIZE = 0.2"
   ]
  },
  {
   "cell_type": "code",
   "execution_count": 4,
   "metadata": {},
   "outputs": [],
   "source": [
    "try:\n",
    "    data = pd.read_csv('###.csv') \n",
    "except:\n",
    "    data = pd.read_csv('https:###.csv')"
   ]
  },
  {
   "cell_type": "code",
   "execution_count": 5,
   "metadata": {},
   "outputs": [],
   "source": [
    "# Функция для получения общей информации о датасете\n",
    "def get_info(data):\n",
    "    display(data.head())\n",
    "    print('')\n",
    "    display(data.info())\n",
    "    print('')\n",
    "    display(data.describe().T)\n",
    "    print('')\n",
    "    print('Количество явных дубликатов:', data.duplicated().sum())\n",
    "    print('Количество пропусков:\\n', data.isna().sum())"
   ]
  },
  {
   "cell_type": "code",
   "execution_count": 6,
   "metadata": {},
   "outputs": [
    {
     "data": {
      "text/html": [
       "<div>\n",
       "<style scoped>\n",
       "    .dataframe tbody tr th:only-of-type {\n",
       "        vertical-align: middle;\n",
       "    }\n",
       "\n",
       "    .dataframe tbody tr th {\n",
       "        vertical-align: top;\n",
       "    }\n",
       "\n",
       "    .dataframe thead th {\n",
       "        text-align: right;\n",
       "    }\n",
       "</style>\n",
       "<table border=\"1\" class=\"dataframe\">\n",
       "  <thead>\n",
       "    <tr style=\"text-align: right;\">\n",
       "      <th></th>\n",
       "      <th>DateCrawled</th>\n",
       "      <th>Price</th>\n",
       "      <th>VehicleType</th>\n",
       "      <th>RegistrationYear</th>\n",
       "      <th>Gearbox</th>\n",
       "      <th>Power</th>\n",
       "      <th>Model</th>\n",
       "      <th>Kilometer</th>\n",
       "      <th>RegistrationMonth</th>\n",
       "      <th>FuelType</th>\n",
       "      <th>Brand</th>\n",
       "      <th>Repaired</th>\n",
       "      <th>DateCreated</th>\n",
       "      <th>NumberOfPictures</th>\n",
       "      <th>PostalCode</th>\n",
       "      <th>LastSeen</th>\n",
       "    </tr>\n",
       "  </thead>\n",
       "  <tbody>\n",
       "    <tr>\n",
       "      <th>0</th>\n",
       "      <td>2016-03-24 11:52:17</td>\n",
       "      <td>480</td>\n",
       "      <td>NaN</td>\n",
       "      <td>1993</td>\n",
       "      <td>manual</td>\n",
       "      <td>0</td>\n",
       "      <td>golf</td>\n",
       "      <td>150000</td>\n",
       "      <td>0</td>\n",
       "      <td>petrol</td>\n",
       "      <td>volkswagen</td>\n",
       "      <td>NaN</td>\n",
       "      <td>2016-03-24 00:00:00</td>\n",
       "      <td>0</td>\n",
       "      <td>70435</td>\n",
       "      <td>2016-04-07 03:16:57</td>\n",
       "    </tr>\n",
       "    <tr>\n",
       "      <th>1</th>\n",
       "      <td>2016-03-24 10:58:45</td>\n",
       "      <td>18300</td>\n",
       "      <td>coupe</td>\n",
       "      <td>2011</td>\n",
       "      <td>manual</td>\n",
       "      <td>190</td>\n",
       "      <td>NaN</td>\n",
       "      <td>125000</td>\n",
       "      <td>5</td>\n",
       "      <td>gasoline</td>\n",
       "      <td>audi</td>\n",
       "      <td>yes</td>\n",
       "      <td>2016-03-24 00:00:00</td>\n",
       "      <td>0</td>\n",
       "      <td>66954</td>\n",
       "      <td>2016-04-07 01:46:50</td>\n",
       "    </tr>\n",
       "    <tr>\n",
       "      <th>2</th>\n",
       "      <td>2016-03-14 12:52:21</td>\n",
       "      <td>9800</td>\n",
       "      <td>suv</td>\n",
       "      <td>2004</td>\n",
       "      <td>auto</td>\n",
       "      <td>163</td>\n",
       "      <td>grand</td>\n",
       "      <td>125000</td>\n",
       "      <td>8</td>\n",
       "      <td>gasoline</td>\n",
       "      <td>jeep</td>\n",
       "      <td>NaN</td>\n",
       "      <td>2016-03-14 00:00:00</td>\n",
       "      <td>0</td>\n",
       "      <td>90480</td>\n",
       "      <td>2016-04-05 12:47:46</td>\n",
       "    </tr>\n",
       "    <tr>\n",
       "      <th>3</th>\n",
       "      <td>2016-03-17 16:54:04</td>\n",
       "      <td>1500</td>\n",
       "      <td>small</td>\n",
       "      <td>2001</td>\n",
       "      <td>manual</td>\n",
       "      <td>75</td>\n",
       "      <td>golf</td>\n",
       "      <td>150000</td>\n",
       "      <td>6</td>\n",
       "      <td>petrol</td>\n",
       "      <td>volkswagen</td>\n",
       "      <td>no</td>\n",
       "      <td>2016-03-17 00:00:00</td>\n",
       "      <td>0</td>\n",
       "      <td>91074</td>\n",
       "      <td>2016-03-17 17:40:17</td>\n",
       "    </tr>\n",
       "    <tr>\n",
       "      <th>4</th>\n",
       "      <td>2016-03-31 17:25:20</td>\n",
       "      <td>3600</td>\n",
       "      <td>small</td>\n",
       "      <td>2008</td>\n",
       "      <td>manual</td>\n",
       "      <td>69</td>\n",
       "      <td>fabia</td>\n",
       "      <td>90000</td>\n",
       "      <td>7</td>\n",
       "      <td>gasoline</td>\n",
       "      <td>skoda</td>\n",
       "      <td>no</td>\n",
       "      <td>2016-03-31 00:00:00</td>\n",
       "      <td>0</td>\n",
       "      <td>60437</td>\n",
       "      <td>2016-04-06 10:17:21</td>\n",
       "    </tr>\n",
       "  </tbody>\n",
       "</table>\n",
       "</div>"
      ],
      "text/plain": [
       "           DateCrawled  Price VehicleType  RegistrationYear Gearbox  Power  \\\n",
       "0  2016-03-24 11:52:17    480         NaN              1993  manual      0   \n",
       "1  2016-03-24 10:58:45  18300       coupe              2011  manual    190   \n",
       "2  2016-03-14 12:52:21   9800         suv              2004    auto    163   \n",
       "3  2016-03-17 16:54:04   1500       small              2001  manual     75   \n",
       "4  2016-03-31 17:25:20   3600       small              2008  manual     69   \n",
       "\n",
       "   Model  Kilometer  RegistrationMonth  FuelType       Brand Repaired  \\\n",
       "0   golf     150000                  0    petrol  volkswagen      NaN   \n",
       "1    NaN     125000                  5  gasoline        audi      yes   \n",
       "2  grand     125000                  8  gasoline        jeep      NaN   \n",
       "3   golf     150000                  6    petrol  volkswagen       no   \n",
       "4  fabia      90000                  7  gasoline       skoda       no   \n",
       "\n",
       "           DateCreated  NumberOfPictures  PostalCode             LastSeen  \n",
       "0  2016-03-24 00:00:00                 0       70435  2016-04-07 03:16:57  \n",
       "1  2016-03-24 00:00:00                 0       66954  2016-04-07 01:46:50  \n",
       "2  2016-03-14 00:00:00                 0       90480  2016-04-05 12:47:46  \n",
       "3  2016-03-17 00:00:00                 0       91074  2016-03-17 17:40:17  \n",
       "4  2016-03-31 00:00:00                 0       60437  2016-04-06 10:17:21  "
      ]
     },
     "metadata": {},
     "output_type": "display_data"
    },
    {
     "name": "stdout",
     "output_type": "stream",
     "text": [
      "\n",
      "<class 'pandas.core.frame.DataFrame'>\n",
      "RangeIndex: 354369 entries, 0 to 354368\n",
      "Data columns (total 16 columns):\n",
      " #   Column             Non-Null Count   Dtype \n",
      "---  ------             --------------   ----- \n",
      " 0   DateCrawled        354369 non-null  object\n",
      " 1   Price              354369 non-null  int64 \n",
      " 2   VehicleType        316879 non-null  object\n",
      " 3   RegistrationYear   354369 non-null  int64 \n",
      " 4   Gearbox            334536 non-null  object\n",
      " 5   Power              354369 non-null  int64 \n",
      " 6   Model              334664 non-null  object\n",
      " 7   Kilometer          354369 non-null  int64 \n",
      " 8   RegistrationMonth  354369 non-null  int64 \n",
      " 9   FuelType           321474 non-null  object\n",
      " 10  Brand              354369 non-null  object\n",
      " 11  Repaired           283215 non-null  object\n",
      " 12  DateCreated        354369 non-null  object\n",
      " 13  NumberOfPictures   354369 non-null  int64 \n",
      " 14  PostalCode         354369 non-null  int64 \n",
      " 15  LastSeen           354369 non-null  object\n",
      "dtypes: int64(7), object(9)\n",
      "memory usage: 43.3+ MB\n"
     ]
    },
    {
     "data": {
      "text/plain": [
       "None"
      ]
     },
     "metadata": {},
     "output_type": "display_data"
    },
    {
     "name": "stdout",
     "output_type": "stream",
     "text": [
      "\n"
     ]
    },
    {
     "data": {
      "text/html": [
       "<div>\n",
       "<style scoped>\n",
       "    .dataframe tbody tr th:only-of-type {\n",
       "        vertical-align: middle;\n",
       "    }\n",
       "\n",
       "    .dataframe tbody tr th {\n",
       "        vertical-align: top;\n",
       "    }\n",
       "\n",
       "    .dataframe thead th {\n",
       "        text-align: right;\n",
       "    }\n",
       "</style>\n",
       "<table border=\"1\" class=\"dataframe\">\n",
       "  <thead>\n",
       "    <tr style=\"text-align: right;\">\n",
       "      <th></th>\n",
       "      <th>count</th>\n",
       "      <th>mean</th>\n",
       "      <th>std</th>\n",
       "      <th>min</th>\n",
       "      <th>25%</th>\n",
       "      <th>50%</th>\n",
       "      <th>75%</th>\n",
       "      <th>max</th>\n",
       "    </tr>\n",
       "  </thead>\n",
       "  <tbody>\n",
       "    <tr>\n",
       "      <th>Price</th>\n",
       "      <td>354369.0</td>\n",
       "      <td>4416.656776</td>\n",
       "      <td>4514.158514</td>\n",
       "      <td>0.0</td>\n",
       "      <td>1050.0</td>\n",
       "      <td>2700.0</td>\n",
       "      <td>6400.0</td>\n",
       "      <td>20000.0</td>\n",
       "    </tr>\n",
       "    <tr>\n",
       "      <th>RegistrationYear</th>\n",
       "      <td>354369.0</td>\n",
       "      <td>2004.234448</td>\n",
       "      <td>90.227958</td>\n",
       "      <td>1000.0</td>\n",
       "      <td>1999.0</td>\n",
       "      <td>2003.0</td>\n",
       "      <td>2008.0</td>\n",
       "      <td>9999.0</td>\n",
       "    </tr>\n",
       "    <tr>\n",
       "      <th>Power</th>\n",
       "      <td>354369.0</td>\n",
       "      <td>110.094337</td>\n",
       "      <td>189.850405</td>\n",
       "      <td>0.0</td>\n",
       "      <td>69.0</td>\n",
       "      <td>105.0</td>\n",
       "      <td>143.0</td>\n",
       "      <td>20000.0</td>\n",
       "    </tr>\n",
       "    <tr>\n",
       "      <th>Kilometer</th>\n",
       "      <td>354369.0</td>\n",
       "      <td>128211.172535</td>\n",
       "      <td>37905.341530</td>\n",
       "      <td>5000.0</td>\n",
       "      <td>125000.0</td>\n",
       "      <td>150000.0</td>\n",
       "      <td>150000.0</td>\n",
       "      <td>150000.0</td>\n",
       "    </tr>\n",
       "    <tr>\n",
       "      <th>RegistrationMonth</th>\n",
       "      <td>354369.0</td>\n",
       "      <td>5.714645</td>\n",
       "      <td>3.726421</td>\n",
       "      <td>0.0</td>\n",
       "      <td>3.0</td>\n",
       "      <td>6.0</td>\n",
       "      <td>9.0</td>\n",
       "      <td>12.0</td>\n",
       "    </tr>\n",
       "    <tr>\n",
       "      <th>NumberOfPictures</th>\n",
       "      <td>354369.0</td>\n",
       "      <td>0.000000</td>\n",
       "      <td>0.000000</td>\n",
       "      <td>0.0</td>\n",
       "      <td>0.0</td>\n",
       "      <td>0.0</td>\n",
       "      <td>0.0</td>\n",
       "      <td>0.0</td>\n",
       "    </tr>\n",
       "    <tr>\n",
       "      <th>PostalCode</th>\n",
       "      <td>354369.0</td>\n",
       "      <td>50508.689087</td>\n",
       "      <td>25783.096248</td>\n",
       "      <td>1067.0</td>\n",
       "      <td>30165.0</td>\n",
       "      <td>49413.0</td>\n",
       "      <td>71083.0</td>\n",
       "      <td>99998.0</td>\n",
       "    </tr>\n",
       "  </tbody>\n",
       "</table>\n",
       "</div>"
      ],
      "text/plain": [
       "                      count           mean           std     min       25%  \\\n",
       "Price              354369.0    4416.656776   4514.158514     0.0    1050.0   \n",
       "RegistrationYear   354369.0    2004.234448     90.227958  1000.0    1999.0   \n",
       "Power              354369.0     110.094337    189.850405     0.0      69.0   \n",
       "Kilometer          354369.0  128211.172535  37905.341530  5000.0  125000.0   \n",
       "RegistrationMonth  354369.0       5.714645      3.726421     0.0       3.0   \n",
       "NumberOfPictures   354369.0       0.000000      0.000000     0.0       0.0   \n",
       "PostalCode         354369.0   50508.689087  25783.096248  1067.0   30165.0   \n",
       "\n",
       "                        50%       75%       max  \n",
       "Price                2700.0    6400.0   20000.0  \n",
       "RegistrationYear     2003.0    2008.0    9999.0  \n",
       "Power                 105.0     143.0   20000.0  \n",
       "Kilometer          150000.0  150000.0  150000.0  \n",
       "RegistrationMonth       6.0       9.0      12.0  \n",
       "NumberOfPictures        0.0       0.0       0.0  \n",
       "PostalCode          49413.0   71083.0   99998.0  "
      ]
     },
     "metadata": {},
     "output_type": "display_data"
    },
    {
     "name": "stdout",
     "output_type": "stream",
     "text": [
      "\n",
      "Количество явных дубликатов: 4\n",
      "Количество пропусков:\n",
      " DateCrawled              0\n",
      "Price                    0\n",
      "VehicleType          37490\n",
      "RegistrationYear         0\n",
      "Gearbox              19833\n",
      "Power                    0\n",
      "Model                19705\n",
      "Kilometer                0\n",
      "RegistrationMonth        0\n",
      "FuelType             32895\n",
      "Brand                    0\n",
      "Repaired             71154\n",
      "DateCreated              0\n",
      "NumberOfPictures         0\n",
      "PostalCode               0\n",
      "LastSeen                 0\n",
      "dtype: int64\n"
     ]
    }
   ],
   "source": [
    "get_info(data)"
   ]
  },
  {
   "cell_type": "markdown",
   "metadata": {},
   "source": [
    "###  Вывод"
   ]
  },
  {
   "cell_type": "markdown",
   "metadata": {},
   "source": [
    "1. **Объем данных**:\n",
    "   - В датасете содержится 354,369 объявлений о продаже автомобилей.\n",
    "   - Данные содержат 16 признаков, включая информацию о цене, характеристиках автомобиля, датах и местоположении.\n",
    "\n",
    "2. **Пропуски данных**:\n",
    "     - `VehicleType` (37,490 пропусков)\n",
    "     - `Repaired` (71,154 пропусков)\n",
    "     - `FuelType` (32,895 пропусков)\n",
    "     - `Gearbox` (19,833 пропусков)\n",
    "     - `Model` (19,705 пропусков)\n",
    "\n",
    "3. **Дубликаты**:\n",
    "   - Обнаружено всего 4 явных дубликата.\n",
    "\n",
    "4. **Анализ числовых признаков**:\n",
    "   - **Price (цена)**:\n",
    "     - Средняя цена составляет около 4,416, но есть значительный разброс (std=4,514).\n",
    "     - Минимальная цена равна 0, что может указывать на ошибки или нестандартные предложения (например, дарение).\n",
    "     - 75% объявлений имеют цену до 6,400, но максимальная цена достигает 20,000.\n",
    "   - **RegistrationYear (год регистрации)**:\n",
    "     - Средний год регистрации - 2004, но есть аномалии (min=1000, max=9999), которые требуют очистки.\n",
    "   - **Power (мощность двигателя в л.с.)**:\n",
    "     - Средняя мощность - 110 л.с., но есть экстремальные значения (max=20,000), которые явно ошибочны.\n",
    "   - **Kilometer (пробег)**:\n",
    "     - Средний пробег - 128,211 км, при этом 75% автомобилей имеют пробег 150,000 км или меньше.\n",
    "   - **NumberOfPictures**:\n",
    "     - Все значения равны 0, что делает этот признак бесполезным для анализа.\n",
    "\n",
    "5. **Типы данных**\n",
    "   - Временные данные следует преобразовать из строкового формата в `datetime`.  "
   ]
  },
  {
   "cell_type": "markdown",
   "metadata": {},
   "source": [
    "## Подготовка данных"
   ]
  },
  {
   "cell_type": "code",
   "execution_count": 7,
   "metadata": {},
   "outputs": [],
   "source": [
    "# перевод названий столбцов в змеиный регистр\n",
    "data.columns = [re.sub(r'(?<!^)(?=[A-Z])', '_', col).lower() for col in data.columns]"
   ]
  },
  {
   "cell_type": "code",
   "execution_count": 8,
   "metadata": {},
   "outputs": [
    {
     "name": "stdout",
     "output_type": "stream",
     "text": [
      "<class 'pandas.core.frame.DataFrame'>\n",
      "RangeIndex: 354369 entries, 0 to 354368\n",
      "Data columns (total 16 columns):\n",
      " #   Column              Non-Null Count   Dtype \n",
      "---  ------              --------------   ----- \n",
      " 0   date_crawled        354369 non-null  object\n",
      " 1   price               354369 non-null  int64 \n",
      " 2   vehicle_type        316879 non-null  object\n",
      " 3   registration_year   354369 non-null  int64 \n",
      " 4   gearbox             334536 non-null  object\n",
      " 5   power               354369 non-null  int64 \n",
      " 6   model               334664 non-null  object\n",
      " 7   kilometer           354369 non-null  int64 \n",
      " 8   registration_month  354369 non-null  int64 \n",
      " 9   fuel_type           321474 non-null  object\n",
      " 10  brand               354369 non-null  object\n",
      " 11  repaired            283215 non-null  object\n",
      " 12  date_created        354369 non-null  object\n",
      " 13  number_of_pictures  354369 non-null  int64 \n",
      " 14  postal_code         354369 non-null  int64 \n",
      " 15  last_seen           354369 non-null  object\n",
      "dtypes: int64(7), object(9)\n",
      "memory usage: 43.3+ MB\n"
     ]
    }
   ],
   "source": [
    "data.info()"
   ]
  },
  {
   "cell_type": "code",
   "execution_count": 9,
   "metadata": {},
   "outputs": [],
   "source": [
    "data.drop_duplicates(inplace=True)"
   ]
  },
  {
   "cell_type": "markdown",
   "metadata": {},
   "source": [
    "Признаки, которые не помогут в определении стоимости:\n",
    "- `date_crawled` - Дата скачивания анкеты не может влиять на стоимость автомобиля. Отметим, что анкеты выгружались в 2016 году.\n",
    "- `registration_month` - порядковый номер месяца регистрации автомобиля.\n",
    "- `date_created` - Точная дата публикации.\n",
    "- `number_of_pictures` - Столбец не заполнен, во всех строках стоят нули.\n",
    "- `last_seen` - Дата последней активности пользователя не может влиять на стоимость автомобиля.\n",
    "- `postal_code` - Почтовый индекс владельца анкеты. Судя по индексам, владельцы авто из Германии."
   ]
  },
  {
   "cell_type": "code",
   "execution_count": 10,
   "metadata": {},
   "outputs": [],
   "source": [
    "#удаление столбцы, которые нам не понадобятся\n",
    "data = data.drop(['number_of_pictures', 'postal_code', \n",
    "                  'date_created', 'last_seen', \n",
    "                  'registration_month', 'date_crawled'], axis=1)"
   ]
  },
  {
   "cell_type": "code",
   "execution_count": 11,
   "metadata": {},
   "outputs": [
    {
     "name": "stdout",
     "output_type": "stream",
     "text": [
      "<class 'pandas.core.frame.DataFrame'>\n",
      "Int64Index: 354365 entries, 0 to 354368\n",
      "Data columns (total 10 columns):\n",
      " #   Column             Non-Null Count   Dtype \n",
      "---  ------             --------------   ----- \n",
      " 0   price              354365 non-null  int64 \n",
      " 1   vehicle_type       316875 non-null  object\n",
      " 2   registration_year  354365 non-null  int64 \n",
      " 3   gearbox            334532 non-null  object\n",
      " 4   power              354365 non-null  int64 \n",
      " 5   model              334660 non-null  object\n",
      " 6   kilometer          354365 non-null  int64 \n",
      " 7   fuel_type          321470 non-null  object\n",
      " 8   brand              354365 non-null  object\n",
      " 9   repaired           283211 non-null  object\n",
      "dtypes: int64(4), object(6)\n",
      "memory usage: 29.7+ MB\n"
     ]
    }
   ],
   "source": [
    "data.info()"
   ]
  },
  {
   "cell_type": "code",
   "execution_count": 12,
   "metadata": {},
   "outputs": [
    {
     "name": "stdout",
     "output_type": "stream",
     "text": [
      "Количество строк с пропусками во всех 5 выбранных столбцах: 2237\n"
     ]
    }
   ],
   "source": [
    "selected_columns = ['vehicle_type', 'gearbox', 'model', 'fuel_type', 'repaired']  # Замените на ваши столбцы\n",
    "\n",
    "# Проверяем, что во всех 5 столбцах строки имеют пропуски\n",
    "rows_with_all_missing = data[selected_columns].isna().all(axis=1).sum()\n",
    "\n",
    "print(f\"Количество строк с пропусками во всех 5 выбранных столбцах: {rows_with_all_missing}\")\n"
   ]
  },
  {
   "cell_type": "raw",
   "metadata": {},
   "source": [
    "# Удаляем строки, где все выбранные столбцы содержат пропуски\n",
    "data = data[~data[selected_columns].isna().all(axis=1)]\n",
    "\n",
    "# Проверяем количество строк после удаления\n",
    "print(f\"Количество строк после удаления: {len(data)}\")"
   ]
  },
  {
   "cell_type": "code",
   "execution_count": 13,
   "metadata": {},
   "outputs": [],
   "source": [
    "# Заполним пропуски заглушкой 'unknown'\n",
    "data[selected_columns] = data[selected_columns].fillna('unknown')"
   ]
  },
  {
   "cell_type": "code",
   "execution_count": 14,
   "metadata": {},
   "outputs": [],
   "source": [
    "#колонки, содержащие категориальные переменные\n",
    "cat_col = ['vehicle_type', 'gearbox', 'model', 'fuel_type', 'brand', 'repaired']"
   ]
  },
  {
   "cell_type": "code",
   "execution_count": 15,
   "metadata": {},
   "outputs": [
    {
     "name": "stdout",
     "output_type": "stream",
     "text": [
      "\n",
      "Уникальные значения в столбце 'vehicle_type':\n",
      "['unknown' 'coupe' 'suv' 'small' 'sedan' 'convertible' 'bus' 'wagon'\n",
      " 'other']\n",
      "\n",
      "Уникальные значения в столбце 'gearbox':\n",
      "['manual' 'auto' 'unknown']\n",
      "\n",
      "Уникальные значения в столбце 'model':\n",
      "['golf' 'unknown' 'grand' 'fabia' '3er' '2_reihe' 'other' 'c_max'\n",
      " '3_reihe' 'passat' 'navara' 'ka' 'polo' 'twingo' 'a_klasse' 'scirocco'\n",
      " '5er' 'meriva' 'arosa' 'c4' 'civic' 'transporter' 'punto' 'e_klasse'\n",
      " 'clio' 'kadett' 'kangoo' 'corsa' 'one' 'fortwo' '1er' 'b_klasse' 'signum'\n",
      " 'astra' 'a8' 'jetta' 'fiesta' 'c_klasse' 'micra' 'vito' 'sprinter' '156'\n",
      " 'escort' 'forester' 'xc_reihe' 'scenic' 'a4' 'a1' 'insignia' 'combo'\n",
      " 'focus' 'tt' 'a6' 'jazz' 'omega' 'slk' '7er' '80' '147' '100' 'z_reihe'\n",
      " 'sportage' 'sorento' 'v40' 'ibiza' 'mustang' 'eos' 'touran' 'getz' 'a3'\n",
      " 'almera' 'megane' 'lupo' 'r19' 'zafira' 'caddy' 'mondeo' 'cordoba' 'colt'\n",
      " 'impreza' 'vectra' 'berlingo' 'tiguan' 'i_reihe' 'espace' 'sharan'\n",
      " '6_reihe' 'panda' 'up' 'seicento' 'ceed' '5_reihe' 'yeti' 'octavia' 'mii'\n",
      " 'rx_reihe' '6er' 'modus' 'fox' 'matiz' 'beetle' 'c1' 'rio' 'touareg'\n",
      " 'logan' 'spider' 'cuore' 's_max' 'a2' 'galaxy' 'c3' 'viano' 's_klasse'\n",
      " '1_reihe' 'avensis' 'roomster' 'sl' 'kaefer' 'santa' 'cooper' 'leon'\n",
      " '4_reihe' 'a5' '500' 'laguna' 'ptcruiser' 'clk' 'primera' 'x_reihe'\n",
      " 'exeo' '159' 'transit' 'juke' 'qashqai' 'carisma' 'accord' 'corolla'\n",
      " 'lanos' 'phaeton' 'verso' 'swift' 'rav' 'picanto' 'boxster' 'kalos'\n",
      " 'superb' 'stilo' 'alhambra' 'mx_reihe' 'roadster' 'ypsilon' 'cayenne'\n",
      " 'galant' 'justy' '90' 'sirion' 'crossfire' 'agila' 'duster' 'cr_reihe'\n",
      " 'v50' 'c_reihe' 'v_klasse' 'm_klasse' 'yaris' 'c5' 'aygo' 'cc' 'carnival'\n",
      " 'fusion' '911' 'bora' 'forfour' 'm_reihe' 'cl' 'tigra' '300c' 'spark'\n",
      " 'v70' 'kuga' 'x_type' 'ducato' 's_type' 'x_trail' 'toledo' 'altea'\n",
      " 'voyager' 'calibra' 'bravo' 'antara' 'tucson' 'citigo' 'jimny' 'wrangler'\n",
      " 'lybra' 'q7' 'lancer' 'captiva' 'c2' 'discovery' 'freelander' 'sandero'\n",
      " 'note' '900' 'cherokee' 'clubman' 'samara' 'defender' '601' 'cx_reihe'\n",
      " 'legacy' 'pajero' 'auris' 'niva' 's60' 'nubira' 'vivaro' 'g_klasse'\n",
      " 'lodgy' '850' 'range_rover' 'q3' 'serie_2' 'glk' 'charade' 'croma'\n",
      " 'outlander' 'doblo' 'musa' 'move' '9000' 'v60' '145' 'aveo' '200' 'b_max'\n",
      " 'range_rover_sport' 'terios' 'rangerover' 'q5' 'range_rover_evoque'\n",
      " 'materia' 'delta' 'gl' 'kalina' 'amarok' 'elefantino' 'i3' 'kappa'\n",
      " 'serie_3' 'serie_1']\n",
      "\n",
      "Уникальные значения в столбце 'fuel_type':\n",
      "['petrol' 'gasoline' 'unknown' 'lpg' 'other' 'hybrid' 'cng' 'electric']\n",
      "\n",
      "Уникальные значения в столбце 'brand':\n",
      "['volkswagen' 'audi' 'jeep' 'skoda' 'bmw' 'peugeot' 'ford' 'mazda'\n",
      " 'nissan' 'renault' 'mercedes_benz' 'opel' 'seat' 'citroen' 'honda' 'fiat'\n",
      " 'mini' 'smart' 'hyundai' 'sonstige_autos' 'alfa_romeo' 'subaru' 'volvo'\n",
      " 'mitsubishi' 'kia' 'suzuki' 'lancia' 'toyota' 'chevrolet' 'dacia'\n",
      " 'daihatsu' 'trabant' 'saab' 'chrysler' 'jaguar' 'daewoo' 'porsche'\n",
      " 'rover' 'land_rover' 'lada']\n",
      "\n",
      "Уникальные значения в столбце 'repaired':\n",
      "['unknown' 'yes' 'no']\n"
     ]
    }
   ],
   "source": [
    "for column in cat_col:\n",
    "    print(f\"\\nУникальные значения в столбце '{column}':\")\n",
    "    print(data[column].unique())"
   ]
  },
  {
   "cell_type": "code",
   "execution_count": 16,
   "metadata": {},
   "outputs": [],
   "source": [
    "# переименуем gasoline в petrol, поскольку оба означают \"бензин\"\n",
    "data['fuel_type'] = data['fuel_type'].replace(['gasoline'],'petrol')"
   ]
  },
  {
   "cell_type": "markdown",
   "metadata": {},
   "source": [
    "**Обработка выбросов**"
   ]
  },
  {
   "cell_type": "code",
   "execution_count": 17,
   "metadata": {},
   "outputs": [],
   "source": [
    "def hist_box(df, column):\n",
    "    plt.figure(figsize=(15, 5))\n",
    "    \n",
    "    # Количество интервалов (bins) будет рассчитано как квадратный корень из числа наблюдений\n",
    "    num_bins = int(np.sqrt(len(df[column])))\n",
    "    \n",
    "    # Гистограмма\n",
    "    plt.subplot(1, 2, 1)\n",
    "    plt.xlabel(f'Значения столбца \"{column}\"')\n",
    "    plt.ylabel('Частота')\n",
    "    plt.title(f'Гистограмма для \"{column}\"')\n",
    "    sns.histplot(df[column], bins=num_bins)  # Используем количество интервалов num_bins\n",
    "\n",
    "    # Диаграмма размаха\n",
    "    plt.subplot(1, 2, 2)\n",
    "    plt.xlabel(f'Значения столбца \"{column}\"')\n",
    "    plt.title(f'Диаграмма размаха для \"{column}\"')\n",
    "    sns.boxplot(x=df[column])\n",
    "    \n",
    "    plt.tight_layout()\n",
    "    plt.show()"
   ]
  },
  {
   "cell_type": "code",
   "execution_count": 18,
   "metadata": {},
   "outputs": [],
   "source": [
    "def subplot(df, column):\n",
    "    plt.figure(figsize=(30, 5))\n",
    "    plt.subplot(1, 2, 2)\n",
    "    plt.title(f'Столбчатая диаграмма для {column}')\n",
    "    sns.countplot(data=df, x=column)\n",
    "    plt.xlabel(f'{column}')\n",
    "    plt.ylabel('Частота')\n",
    "    plt.tight_layout()\n",
    "    plt.show()"
   ]
  },
  {
   "cell_type": "code",
   "execution_count": 19,
   "metadata": {},
   "outputs": [],
   "source": [
    "#cat_col = ['vehicle_type', 'gearbox', 'model', 'fuel_type', 'brand', 'repaired']\n",
    "discret_col = ['registration_year', 'kilometer']\n",
    "num_col = ['price', 'power'] "
   ]
  },
  {
   "cell_type": "code",
   "execution_count": 20,
   "metadata": {},
   "outputs": [
    {
     "data": {
      "image/png": "[encoded data removed]",
      "text/plain": [
       "<Figure size 1080x360 with 2 Axes>"
      ]
     },
     "metadata": {
      "needs_background": "light"
     },
     "output_type": "display_data"
    },
    {
     "data": {
      "image/png": "[encoded data removed]",
      "text/plain": [
       "<Figure size 1080x360 with 2 Axes>"
      ]
     },
     "metadata": {
      "needs_background": "light"
     },
     "output_type": "display_data"
    }
   ],
   "source": [
    "for name in num_col:\n",
    "    hist_box(data, name)"
   ]
  },
  {
   "cell_type": "markdown",
   "metadata": {},
   "source": [
    "Цена автомобилей распределена от 0 до 20000, судя по почтовым индексам, авто продаются в Германии, следовательно в евро. В \"Авито\" минимальная цена битых автомобилей примерно 10000 рублей - 100 евро. Удалим наблюдения дешевле 100 евро. Выбросы от 15000 до 20000 оставим, вероятно это цена автомобилей сегмента люкс."
   ]
  },
  {
   "cell_type": "code",
   "execution_count": 21,
   "metadata": {},
   "outputs": [
    {
     "name": "stdout",
     "output_type": "stream",
     "text": [
      "Количество строк с price < 100: 13314\n"
     ]
    }
   ],
   "source": [
    "# Подсчёт строк с price < 100\n",
    "count = data[data['price'] < 100].shape[0]\n",
    "\n",
    "# Вывод результата\n",
    "print(f\"Количество строк с price < 100: {count}\")"
   ]
  },
  {
   "cell_type": "code",
   "execution_count": 22,
   "metadata": {},
   "outputs": [],
   "source": [
    "data = data.query('price >= 100')"
   ]
  },
  {
   "cell_type": "markdown",
   "metadata": {},
   "source": [
    "Мощность автомобилей также распределена от 0 до 20000. Из информации интернета, самые мощные автомобили достагают мощности примерно 2000 л.с, самые слабые - 10 л.с. Удалим наблюдения, выходящие за эти границы."
   ]
  },
  {
   "cell_type": "code",
   "execution_count": 23,
   "metadata": {},
   "outputs": [],
   "source": [
    "data = data.query('10 <= power <= 2000')"
   ]
  },
  {
   "cell_type": "code",
   "execution_count": 24,
   "metadata": {},
   "outputs": [
    {
     "data": {
      "image/png": "[encoded data removed]",
      "text/plain": [
       "<Figure size 1080x360 with 2 Axes>"
      ]
     },
     "metadata": {
      "needs_background": "light"
     },
     "output_type": "display_data"
    },
    {
     "data": {
      "image/png": "[encoded data removed]",
      "text/plain": [
       "<Figure size 1080x360 with 2 Axes>"
      ]
     },
     "metadata": {
      "needs_background": "light"
     },
     "output_type": "display_data"
    }
   ],
   "source": [
    "for name in num_col:\n",
    "    hist_box(data, name)"
   ]
  },
  {
   "cell_type": "code",
   "execution_count": 25,
   "metadata": {},
   "outputs": [
    {
     "data": {
      "image/png": "[encoded data removed]",
      "text/plain": [
       "<Figure size 2160x360 with 1 Axes>"
      ]
     },
     "metadata": {
      "needs_background": "light"
     },
     "output_type": "display_data"
    },
    {
     "data": {
      "image/png": "[encoded data removed]",
      "text/plain": [
       "<Figure size 2160x360 with 1 Axes>"
      ]
     },
     "metadata": {
      "needs_background": "light"
     },
     "output_type": "display_data"
    }
   ],
   "source": [
    "#построение распределений дискретных признаков датасета \n",
    "for name in discret_col:\n",
    "    subplot(data, name)"
   ]
  },
  {
   "cell_type": "markdown",
   "metadata": {},
   "source": [
    "В признаке `registration_year` встречаются неправдаподобные выбросы от 1000 до 9999 года. Судя по параметру `date_crawled` анкеты выгружались в 2016 году, поэтому отбросим 1 процент наименьших значений и значения, позже 2016 года."
   ]
  },
  {
   "cell_type": "code",
   "execution_count": 26,
   "metadata": {},
   "outputs": [
    {
     "data": {
      "text/html": [
       "<div>\n",
       "<style scoped>\n",
       "    .dataframe tbody tr th:only-of-type {\n",
       "        vertical-align: middle;\n",
       "    }\n",
       "\n",
       "    .dataframe tbody tr th {\n",
       "        vertical-align: top;\n",
       "    }\n",
       "\n",
       "    .dataframe thead th {\n",
       "        text-align: right;\n",
       "    }\n",
       "</style>\n",
       "<table border=\"1\" class=\"dataframe\">\n",
       "  <thead>\n",
       "    <tr style=\"text-align: right;\">\n",
       "      <th></th>\n",
       "      <th>registration_year</th>\n",
       "    </tr>\n",
       "  </thead>\n",
       "  <tbody>\n",
       "    <tr>\n",
       "      <th>count</th>\n",
       "      <td>305675.000000</td>\n",
       "    </tr>\n",
       "    <tr>\n",
       "      <th>mean</th>\n",
       "      <td>2003.494211</td>\n",
       "    </tr>\n",
       "    <tr>\n",
       "      <th>std</th>\n",
       "      <td>29.751948</td>\n",
       "    </tr>\n",
       "    <tr>\n",
       "      <th>min</th>\n",
       "      <td>1000.000000</td>\n",
       "    </tr>\n",
       "    <tr>\n",
       "      <th>25%</th>\n",
       "      <td>1999.000000</td>\n",
       "    </tr>\n",
       "    <tr>\n",
       "      <th>50%</th>\n",
       "      <td>2003.000000</td>\n",
       "    </tr>\n",
       "    <tr>\n",
       "      <th>75%</th>\n",
       "      <td>2008.000000</td>\n",
       "    </tr>\n",
       "    <tr>\n",
       "      <th>max</th>\n",
       "      <td>9999.000000</td>\n",
       "    </tr>\n",
       "  </tbody>\n",
       "</table>\n",
       "</div>"
      ],
      "text/plain": [
       "       registration_year\n",
       "count      305675.000000\n",
       "mean         2003.494211\n",
       "std            29.751948\n",
       "min          1000.000000\n",
       "25%          1999.000000\n",
       "50%          2003.000000\n",
       "75%          2008.000000\n",
       "max          9999.000000"
      ]
     },
     "execution_count": 26,
     "metadata": {},
     "output_type": "execute_result"
    }
   ],
   "source": [
    "data.registration_year.describe().to_frame()"
   ]
  },
  {
   "cell_type": "code",
   "execution_count": 27,
   "metadata": {},
   "outputs": [],
   "source": [
    "low_year = data['registration_year'].quantile(0.01)"
   ]
  },
  {
   "cell_type": "code",
   "execution_count": 28,
   "metadata": {},
   "outputs": [],
   "source": [
    "data = data[(data['registration_year'] >= low_year) & (data['registration_year'] < 2017)]"
   ]
  },
  {
   "cell_type": "code",
   "execution_count": 29,
   "metadata": {},
   "outputs": [
    {
     "data": {
      "text/html": [
       "<div>\n",
       "<style scoped>\n",
       "    .dataframe tbody tr th:only-of-type {\n",
       "        vertical-align: middle;\n",
       "    }\n",
       "\n",
       "    .dataframe tbody tr th {\n",
       "        vertical-align: top;\n",
       "    }\n",
       "\n",
       "    .dataframe thead th {\n",
       "        text-align: right;\n",
       "    }\n",
       "</style>\n",
       "<table border=\"1\" class=\"dataframe\">\n",
       "  <thead>\n",
       "    <tr style=\"text-align: right;\">\n",
       "      <th></th>\n",
       "      <th>registration_year</th>\n",
       "    </tr>\n",
       "  </thead>\n",
       "  <tbody>\n",
       "    <tr>\n",
       "      <th>count</th>\n",
       "      <td>292478.000000</td>\n",
       "    </tr>\n",
       "    <tr>\n",
       "      <th>mean</th>\n",
       "      <td>2003.125196</td>\n",
       "    </tr>\n",
       "    <tr>\n",
       "      <th>std</th>\n",
       "      <td>5.809461</td>\n",
       "    </tr>\n",
       "    <tr>\n",
       "      <th>min</th>\n",
       "      <td>1983.000000</td>\n",
       "    </tr>\n",
       "    <tr>\n",
       "      <th>25%</th>\n",
       "      <td>1999.000000</td>\n",
       "    </tr>\n",
       "    <tr>\n",
       "      <th>50%</th>\n",
       "      <td>2003.000000</td>\n",
       "    </tr>\n",
       "    <tr>\n",
       "      <th>75%</th>\n",
       "      <td>2007.000000</td>\n",
       "    </tr>\n",
       "    <tr>\n",
       "      <th>max</th>\n",
       "      <td>2016.000000</td>\n",
       "    </tr>\n",
       "  </tbody>\n",
       "</table>\n",
       "</div>"
      ],
      "text/plain": [
       "       registration_year\n",
       "count      292478.000000\n",
       "mean         2003.125196\n",
       "std             5.809461\n",
       "min          1983.000000\n",
       "25%          1999.000000\n",
       "50%          2003.000000\n",
       "75%          2007.000000\n",
       "max          2016.000000"
      ]
     },
     "execution_count": 29,
     "metadata": {},
     "output_type": "execute_result"
    }
   ],
   "source": [
    "data.registration_year.describe().to_frame()"
   ]
  },
  {
   "cell_type": "code",
   "execution_count": 30,
   "metadata": {},
   "outputs": [
    {
     "data": {
      "image/png": "[encoded data removed]",
      "text/plain": [
       "<Figure size 2160x360 with 1 Axes>"
      ]
     },
     "metadata": {
      "needs_background": "light"
     },
     "output_type": "display_data"
    },
    {
     "data": {
      "image/png": "[encoded data removed]",
      "text/plain": [
       "<Figure size 2160x360 with 1 Axes>"
      ]
     },
     "metadata": {
      "needs_background": "light"
     },
     "output_type": "display_data"
    }
   ],
   "source": [
    "#построение распределений дискретных признаков датасета \n",
    "for name in discret_col:\n",
    "    subplot(data, name)"
   ]
  },
  {
   "cell_type": "code",
   "execution_count": 31,
   "metadata": {},
   "outputs": [
    {
     "data": {
      "image/png": "[encoded data removed]",
      "text/plain": [
       "<Figure size 720x432 with 1 Axes>"
      ]
     },
     "metadata": {
      "needs_background": "light"
     },
     "output_type": "display_data"
    },
    {
     "data": {
      "image/png": "[encoded data removed]",
      "text/plain": [
       "<Figure size 720x432 with 1 Axes>"
      ]
     },
     "metadata": {
      "needs_background": "light"
     },
     "output_type": "display_data"
    },
    {
     "data": {
      "image/png": "[encoded data removed]",
      "text/plain": [
       "<Figure size 720x432 with 1 Axes>"
      ]
     },
     "metadata": {
      "needs_background": "light"
     },
     "output_type": "display_data"
    },
    {
     "data": {
      "image/png": "[encoded data removed]",
      "text/plain": [
       "<Figure size 720x432 with 1 Axes>"
      ]
     },
     "metadata": {
      "needs_background": "light"
     },
     "output_type": "display_data"
    },
    {
     "data": {
      "image/png": "[encoded data removed]",
      "text/plain": [
       "<Figure size 720x432 with 1 Axes>"
      ]
     },
     "metadata": {
      "needs_background": "light"
     },
     "output_type": "display_data"
    },
    {
     "data": {
      "image/png": "[encoded data removed]",
      "text/plain": [
       "<Figure size 720x432 with 1 Axes>"
      ]
     },
     "metadata": {
      "needs_background": "light"
     },
     "output_type": "display_data"
    }
   ],
   "source": [
    "for col in cat_col:\n",
    "    # Получаем топ-20 самых частых значений\n",
    "    if data[col].nunique() > 20:\n",
    "        top_20 = data[col].value_counts().nlargest(20).index\n",
    "        filtered_data = data[data[col].isin(top_20)]\n",
    "    else:\n",
    "        filtered_data = data\n",
    "    \n",
    "    plt.figure(figsize=(10, 6))\n",
    "    ax = sns.countplot(\n",
    "        y=filtered_data[col],\n",
    "        order=filtered_data[col].value_counts().index  # Сортируем по частоте\n",
    "    )\n",
    "    plt.title(f'Распределение {col}' + (' (Топ-20)' if data[col].nunique() > 20 else ''))\n",
    "    \n",
    "    # Добавляем подписи к каждому столбцу вручную\n",
    "    for p in ax.patches:\n",
    "        width = p.get_width()  # Получаем ширину столбца (количество наблюдений)\n",
    "        ax.text(\n",
    "            width + 0.1,  # x-координата текста (немного правее столбца)\n",
    "            p.get_y() + p.get_height() / 2,  # y-координата текста (по центру столбца)\n",
    "            f'{int(width)}',  # Текст (количество наблюдений)\n",
    "            va='center'  # Выравнивание по вертикали\n",
    "        )\n",
    "    \n",
    "    plt.show()"
   ]
  },
  {
   "cell_type": "markdown",
   "metadata": {},
   "source": [
    "###  Вывод"
   ]
  },
  {
   "cell_type": "markdown",
   "metadata": {},
   "source": [
    "- Перевели названия столбцов в змеиный регистр\n",
    "- Удалили 4 явных дубликата\n",
    "- Удалили признаки, которые не помогут в определении стоимости автомобиля\n",
    "- Заполнили пропуски заглушкой `unknown`\n",
    "- В признаке `fuel_type` переименовали `gasoline` в `petrol`, поскольку оба означают \"бензин\" \n",
    "- Удалили выбросы в численных параметрах"
   ]
  },
  {
   "cell_type": "markdown",
   "metadata": {},
   "source": [
    "## Корреляция данных"
   ]
  },
  {
   "cell_type": "raw",
   "metadata": {},
   "source": [
    "num_col = ['price', 'power']"
   ]
  },
  {
   "cell_type": "code",
   "execution_count": 32,
   "metadata": {},
   "outputs": [],
   "source": [
    "phik_data = data.phik_matrix(interval_cols=num_col)"
   ]
  },
  {
   "cell_type": "code",
   "execution_count": 33,
   "metadata": {},
   "outputs": [
    {
     "data": {
      "image/png": "[encoded data removed]",
      "text/plain": [
       "<Figure size 1080x720 with 2 Axes>"
      ]
     },
     "metadata": {
      "needs_background": "light"
     },
     "output_type": "display_data"
    }
   ],
   "source": [
    "plot_correlation_matrix(phik_data.values, \n",
    "                        x_labels=phik_data.columns, \n",
    "                        y_labels=phik_data.index,\n",
    "                        vmin=0, vmax=1, color_map=\"Greens\", \n",
    "                        title=r\"correlation $\\phi_K$\", \n",
    "                        fontsize_factor=1, \n",
    "                        figsize=(15, 10))"
   ]
  },
  {
   "cell_type": "markdown",
   "metadata": {},
   "source": [
    "Параметры `brand` и `model` мультиколлинеарны, объединим их в один параметр `brand_model`."
   ]
  },
  {
   "cell_type": "code",
   "execution_count": 34,
   "metadata": {},
   "outputs": [],
   "source": [
    "data['brand_model'] = data['brand'] + '_' + data['model']\n",
    "data = data.drop(columns=['brand', 'model'])"
   ]
  },
  {
   "cell_type": "code",
   "execution_count": 35,
   "metadata": {},
   "outputs": [],
   "source": [
    "data=data.reset_index(drop=True)"
   ]
  },
  {
   "cell_type": "code",
   "execution_count": 36,
   "metadata": {},
   "outputs": [
    {
     "data": {
      "text/html": [
       "<div>\n",
       "<style scoped>\n",
       "    .dataframe tbody tr th:only-of-type {\n",
       "        vertical-align: middle;\n",
       "    }\n",
       "\n",
       "    .dataframe tbody tr th {\n",
       "        vertical-align: top;\n",
       "    }\n",
       "\n",
       "    .dataframe thead th {\n",
       "        text-align: right;\n",
       "    }\n",
       "</style>\n",
       "<table border=\"1\" class=\"dataframe\">\n",
       "  <thead>\n",
       "    <tr style=\"text-align: right;\">\n",
       "      <th></th>\n",
       "      <th>price</th>\n",
       "      <th>vehicle_type</th>\n",
       "      <th>registration_year</th>\n",
       "      <th>gearbox</th>\n",
       "      <th>power</th>\n",
       "      <th>kilometer</th>\n",
       "      <th>fuel_type</th>\n",
       "      <th>repaired</th>\n",
       "      <th>brand_model</th>\n",
       "    </tr>\n",
       "  </thead>\n",
       "  <tbody>\n",
       "    <tr>\n",
       "      <th>0</th>\n",
       "      <td>18300</td>\n",
       "      <td>coupe</td>\n",
       "      <td>2011</td>\n",
       "      <td>manual</td>\n",
       "      <td>190</td>\n",
       "      <td>125000</td>\n",
       "      <td>petrol</td>\n",
       "      <td>yes</td>\n",
       "      <td>audi_unknown</td>\n",
       "    </tr>\n",
       "    <tr>\n",
       "      <th>1</th>\n",
       "      <td>9800</td>\n",
       "      <td>suv</td>\n",
       "      <td>2004</td>\n",
       "      <td>auto</td>\n",
       "      <td>163</td>\n",
       "      <td>125000</td>\n",
       "      <td>petrol</td>\n",
       "      <td>unknown</td>\n",
       "      <td>jeep_grand</td>\n",
       "    </tr>\n",
       "    <tr>\n",
       "      <th>2</th>\n",
       "      <td>1500</td>\n",
       "      <td>small</td>\n",
       "      <td>2001</td>\n",
       "      <td>manual</td>\n",
       "      <td>75</td>\n",
       "      <td>150000</td>\n",
       "      <td>petrol</td>\n",
       "      <td>no</td>\n",
       "      <td>volkswagen_golf</td>\n",
       "    </tr>\n",
       "    <tr>\n",
       "      <th>3</th>\n",
       "      <td>3600</td>\n",
       "      <td>small</td>\n",
       "      <td>2008</td>\n",
       "      <td>manual</td>\n",
       "      <td>69</td>\n",
       "      <td>90000</td>\n",
       "      <td>petrol</td>\n",
       "      <td>no</td>\n",
       "      <td>skoda_fabia</td>\n",
       "    </tr>\n",
       "    <tr>\n",
       "      <th>4</th>\n",
       "      <td>650</td>\n",
       "      <td>sedan</td>\n",
       "      <td>1995</td>\n",
       "      <td>manual</td>\n",
       "      <td>102</td>\n",
       "      <td>150000</td>\n",
       "      <td>petrol</td>\n",
       "      <td>yes</td>\n",
       "      <td>bmw_3er</td>\n",
       "    </tr>\n",
       "    <tr>\n",
       "      <th>...</th>\n",
       "      <td>...</td>\n",
       "      <td>...</td>\n",
       "      <td>...</td>\n",
       "      <td>...</td>\n",
       "      <td>...</td>\n",
       "      <td>...</td>\n",
       "      <td>...</td>\n",
       "      <td>...</td>\n",
       "      <td>...</td>\n",
       "    </tr>\n",
       "    <tr>\n",
       "      <th>292473</th>\n",
       "      <td>5250</td>\n",
       "      <td>unknown</td>\n",
       "      <td>2016</td>\n",
       "      <td>auto</td>\n",
       "      <td>150</td>\n",
       "      <td>150000</td>\n",
       "      <td>unknown</td>\n",
       "      <td>no</td>\n",
       "      <td>alfa_romeo_159</td>\n",
       "    </tr>\n",
       "    <tr>\n",
       "      <th>292474</th>\n",
       "      <td>3200</td>\n",
       "      <td>sedan</td>\n",
       "      <td>2004</td>\n",
       "      <td>manual</td>\n",
       "      <td>225</td>\n",
       "      <td>150000</td>\n",
       "      <td>petrol</td>\n",
       "      <td>yes</td>\n",
       "      <td>seat_leon</td>\n",
       "    </tr>\n",
       "    <tr>\n",
       "      <th>292475</th>\n",
       "      <td>1199</td>\n",
       "      <td>convertible</td>\n",
       "      <td>2000</td>\n",
       "      <td>auto</td>\n",
       "      <td>101</td>\n",
       "      <td>125000</td>\n",
       "      <td>petrol</td>\n",
       "      <td>no</td>\n",
       "      <td>smart_fortwo</td>\n",
       "    </tr>\n",
       "    <tr>\n",
       "      <th>292476</th>\n",
       "      <td>9200</td>\n",
       "      <td>bus</td>\n",
       "      <td>1996</td>\n",
       "      <td>manual</td>\n",
       "      <td>102</td>\n",
       "      <td>150000</td>\n",
       "      <td>petrol</td>\n",
       "      <td>no</td>\n",
       "      <td>volkswagen_transporter</td>\n",
       "    </tr>\n",
       "    <tr>\n",
       "      <th>292477</th>\n",
       "      <td>3400</td>\n",
       "      <td>wagon</td>\n",
       "      <td>2002</td>\n",
       "      <td>manual</td>\n",
       "      <td>100</td>\n",
       "      <td>150000</td>\n",
       "      <td>petrol</td>\n",
       "      <td>unknown</td>\n",
       "      <td>volkswagen_golf</td>\n",
       "    </tr>\n",
       "  </tbody>\n",
       "</table>\n",
       "<p>292478 rows × 9 columns</p>\n",
       "</div>"
      ],
      "text/plain": [
       "        price vehicle_type  registration_year gearbox  power  kilometer  \\\n",
       "0       18300        coupe               2011  manual    190     125000   \n",
       "1        9800          suv               2004    auto    163     125000   \n",
       "2        1500        small               2001  manual     75     150000   \n",
       "3        3600        small               2008  manual     69      90000   \n",
       "4         650        sedan               1995  manual    102     150000   \n",
       "...       ...          ...                ...     ...    ...        ...   \n",
       "292473   5250      unknown               2016    auto    150     150000   \n",
       "292474   3200        sedan               2004  manual    225     150000   \n",
       "292475   1199  convertible               2000    auto    101     125000   \n",
       "292476   9200          bus               1996  manual    102     150000   \n",
       "292477   3400        wagon               2002  manual    100     150000   \n",
       "\n",
       "       fuel_type repaired             brand_model  \n",
       "0         petrol      yes            audi_unknown  \n",
       "1         petrol  unknown              jeep_grand  \n",
       "2         petrol       no         volkswagen_golf  \n",
       "3         petrol       no             skoda_fabia  \n",
       "4         petrol      yes                 bmw_3er  \n",
       "...          ...      ...                     ...  \n",
       "292473   unknown       no          alfa_romeo_159  \n",
       "292474    petrol      yes               seat_leon  \n",
       "292475    petrol       no            smart_fortwo  \n",
       "292476    petrol       no  volkswagen_transporter  \n",
       "292477    petrol  unknown         volkswagen_golf  \n",
       "\n",
       "[292478 rows x 9 columns]"
      ]
     },
     "execution_count": 36,
     "metadata": {},
     "output_type": "execute_result"
    }
   ],
   "source": [
    "data"
   ]
  },
  {
   "cell_type": "code",
   "execution_count": 37,
   "metadata": {},
   "outputs": [],
   "source": [
    "phik_data = data.phik_matrix(interval_cols=num_col)"
   ]
  },
  {
   "cell_type": "code",
   "execution_count": 38,
   "metadata": {},
   "outputs": [
    {
     "data": {
      "image/png": "[encoded data removed]",
      "text/plain": [
       "<Figure size 1080x720 with 2 Axes>"
      ]
     },
     "metadata": {
      "needs_background": "light"
     },
     "output_type": "display_data"
    }
   ],
   "source": [
    "plot_correlation_matrix(phik_data.values, \n",
    "                        x_labels=phik_data.columns, \n",
    "                        y_labels=phik_data.index,\n",
    "                        vmin=0, vmax=1, color_map=\"Greens\", \n",
    "                        title=r\"correlation $\\phi_K$\", \n",
    "                        fontsize_factor=1, \n",
    "                        figsize=(15, 10))"
   ]
  },
  {
   "cell_type": "markdown",
   "metadata": {},
   "source": [
    "###  Вывод"
   ]
  },
  {
   "cell_type": "markdown",
   "metadata": {},
   "source": [
    "**1. Наиболее значимые факторы для цены (`price`):**  \n",
    "- **`registration_year` (0.66)** – самая сильная корреляция. Чем новее автомобиль, тем выше его цена.  \n",
    "- **`brand_model` (0.59)** – модель автомобиля важна, так как премиальные и популярные бренды стоят дороже.  \n",
    "\n",
    "**2. Умеренное влияние:**  \n",
    "- **`power` (0.34)** – мощность двигателя влияет на стоимость: более мощные автомобили дороже.  \n",
    "- **`kilometer` (0.33)** – пробег влияет на цену, но слабее, чем год выпуска. Чем больше пробег, тем ниже стоимость.  \n",
    "- **`repaired` (0.34)** – наличие ремонта немного снижает цену (логично, так как это может указывать на проблемы с авто).  \n",
    "\n",
    "**3. Слабые или незначимые факторы:**  \n",
    "- **`fuel_type` (0.11)** – тип топлива (бензин/дизель/электричество) почти не влияет на цену.  \n",
    "- **`gearbox` (0.29)** – коробка передач (автомат/механика) имеет небольшое влияние.  \n",
    "- **`vehicle_type` (0.27)** – тип кузова (седан, внедорожник и т. д.) слабо коррелирует с ценой.  "
   ]
  },
  {
   "cell_type": "markdown",
   "metadata": {},
   "source": [
    "## Обучение моделей"
   ]
  },
  {
   "cell_type": "markdown",
   "metadata": {},
   "source": [
    "Выберем следующие модели:\n",
    "- `LinearRegression`\n",
    "- `RandomForestRegressor`\n",
    "- `DecisionTreeRegressor`\n",
    "- `LGBMRegressor`"
   ]
  },
  {
   "cell_type": "code",
   "execution_count": 39,
   "metadata": {},
   "outputs": [],
   "source": [
    "# Разделение на признаки и целевую переменную\n",
    "X = data.drop('price', axis=1)\n",
    "y = data['price']\n",
    "\n",
    "X_train, X_test, y_train, y_test = train_test_split(X, y, test_size=TEST_SIZE, random_state=RANDOM_STATE)\n",
    "\n",
    "X_train, X_val, y_train, y_val = train_test_split(X_train, y_train, test_size=0.25, random_state=RANDOM_STATE)\n",
    "\n",
    "# Определение типов признаков\n",
    "categorical_features = ['vehicle_type', 'gearbox', 'fuel_type', 'repaired', 'brand_model']\n",
    "ordinal_features = ['registration_year', 'kilometer']\n",
    "numeric_features = ['power']"
   ]
  },
  {
   "cell_type": "code",
   "execution_count": 40,
   "metadata": {},
   "outputs": [
    {
     "name": "stdout",
     "output_type": "stream",
     "text": [
      "LinearRegression - RMSE: 2736.35\n",
      "Время обучения: 0.9020 сек\n",
      "Время предсказания: 0.3106 сек\n"
     ]
    }
   ],
   "source": [
    "# Создаем преобразователь для OHE категориальных признаков\n",
    "preprocessor_ohe = ColumnTransformer(\n",
    "    transformers=[\n",
    "        ('num', 'passthrough', numeric_features + ordinal_features),\n",
    "        ('cat', OneHotEncoder(handle_unknown='ignore'), categorical_features)\n",
    "    ])\n",
    "\n",
    "# Создаем пайплайн для LinearRegression\n",
    "lr_pipeline = Pipeline([\n",
    "    ('preprocessor', preprocessor_ohe),\n",
    "    ('regressor', LinearRegression())\n",
    "])\n",
    "\n",
    "# Обучение модели\n",
    "start_train = time.time()\n",
    "lr_pipeline.fit(X_train, y_train)\n",
    "lr_train_time = time.time() - start_train\n",
    "\n",
    "# Предсказание на валидации\n",
    "start_pred = time.time()\n",
    "y_val_pred = lr_pipeline.predict(X_val)\n",
    "lr_pred_time = time.time() - start_pred\n",
    "\n",
    "# Оценка качества\n",
    "lr_rmse = mean_squared_error(y_val, y_val_pred, squared=False)\n",
    "print(f\"LinearRegression - RMSE: {lr_rmse:.2f}\")\n",
    "print(f\"Время обучения: {lr_train_time:.4f} сек\")\n",
    "print(f\"Время предсказания: {lr_pred_time:.4f} сек\")"
   ]
  },
  {
   "cell_type": "code",
   "execution_count": 41,
   "metadata": {},
   "outputs": [],
   "source": [
    "def train_and_evaluate(X_train, y_train, X_val, y_val, grid_search):\n",
    "    \"\"\"\n",
    "    Обучает модель с подбором гиперпараметров и оценивает его производительность\n",
    "    \n",
    "    \"\"\"\n",
    "    print(\"Начинаем подбор гиперпараметров...\")\n",
    "    grid_search.fit(X_train, y_train)\n",
    "    \n",
    "    # Замер времени обучения\n",
    "    start_train = time.time()\n",
    "    grid_search.best_estimator_.fit(X_train, y_train)\n",
    "    train_time = time.time() - start_train\n",
    "    \n",
    "    # Лучшие параметры\n",
    "    print(\"\\nЛучшие параметры:\")\n",
    "    print(grid_search.best_params_)\n",
    "    \n",
    "    # Замер времени предсказания\n",
    "    start_pred = time.time()\n",
    "    y_val_pred = grid_search.best_estimator_.predict(X_val)\n",
    "    pred_time = time.time() - start_pred\n",
    "    \n",
    "    # Оценка качества\n",
    "    rmse = mean_squared_error(y_val, y_val_pred, squared=False)\n",
    "    print(f\"\\nRandomForestRegressor - RMSE: {rmse:.2f}\")\n",
    "    print(f\"Время обучения: {train_time:.4f} сек\")\n",
    "    print(f\"Время предсказания: {pred_time:.4f} сек\")\n",
    "    \n",
    "    return {\n",
    "        'best_params': grid_search.best_params_,\n",
    "        'rmse': rmse,\n",
    "        'train_time': train_time,\n",
    "        'prediction_time': pred_time,\n",
    "        'model': grid_search.best_estimator_\n",
    "    }"
   ]
  },
  {
   "cell_type": "code",
   "execution_count": 42,
   "metadata": {},
   "outputs": [],
   "source": [
    "# Препроцессор для числовых и категориальных признаков\n",
    "preprocessor_oe = ColumnTransformer(\n",
    "    transformers=[\n",
    "        ('num', 'passthrough', numeric_features + ordinal_features),\n",
    "        ('cat', OrdinalEncoder(handle_unknown='use_encoded_value', unknown_value=-1), categorical_features)\n",
    "    ])\n",
    "\n",
    "# Пайплайн с препроцессором и моделью\n",
    "rf_pipeline = Pipeline([\n",
    "    ('preprocessor', preprocessor_oe),\n",
    "    ('regressor', RandomForestRegressor(random_state=RANDOM_STATE))\n",
    "])\n",
    "\n",
    "# Сетка гиперпараметров \n",
    "param_grid = {\n",
    "    'regressor__n_estimators': [50],\n",
    "    'regressor__max_depth': [None, 10],\n",
    "    'regressor__min_samples_split': [2, 5],\n",
    "    'regressor__min_samples_leaf': [1]\n",
    "}\n",
    "\n",
    "# Настройка GridSearchCV\n",
    "grid_search_rf = GridSearchCV(\n",
    "    estimator=rf_pipeline,\n",
    "    param_grid=param_grid,\n",
    "    cv=3,  \n",
    "    scoring='neg_mean_squared_error',\n",
    "    n_jobs=-1,  \n",
    "    verbose=1 \n",
    ")"
   ]
  },
  {
   "cell_type": "code",
   "execution_count": 43,
   "metadata": {},
   "outputs": [
    {
     "name": "stdout",
     "output_type": "stream",
     "text": [
      "Начинаем подбор гиперпараметров...\n",
      "Fitting 3 folds for each of 4 candidates, totalling 12 fits\n",
      "\n",
      "Лучшие параметры:\n",
      "{'regressor__max_depth': None, 'regressor__min_samples_leaf': 1, 'regressor__min_samples_split': 5, 'regressor__n_estimators': 50}\n",
      "\n",
      "RandomForestRegressor - RMSE: 1538.11\n",
      "Время обучения: 15.4759 сек\n",
      "Время предсказания: 1.0214 сек\n"
     ]
    }
   ],
   "source": [
    "rf_results = train_and_evaluate(X_train, y_train, X_val, y_val, grid_search_rf)"
   ]
  },
  {
   "cell_type": "code",
   "execution_count": 44,
   "metadata": {},
   "outputs": [],
   "source": [
    "# Пайплайн с препроцессором и моделью\n",
    "dt_pipeline = Pipeline([\n",
    "    ('preprocessor', preprocessor_ohe),\n",
    "    ('regressor', DecisionTreeRegressor(random_state=RANDOM_STATE))\n",
    "])\n",
    "\n",
    "param_grid = {\n",
    "    'regressor__max_depth': [None, 10],\n",
    "    'regressor__min_samples_split': [2, 10],\n",
    "    'regressor__min_samples_leaf': [1]\n",
    "}\n",
    "\n",
    "grid_search_dt = GridSearchCV(\n",
    "    estimator=dt_pipeline,\n",
    "    param_grid=param_grid,\n",
    "    cv=2,  \n",
    "    scoring='neg_mean_squared_error',\n",
    "    n_jobs=-1,\n",
    "    verbose=1,\n",
    "    pre_dispatch='2*n_jobs',\n",
    "    error_score='raise',\n",
    "    refit=True  \n",
    ")"
   ]
  },
  {
   "cell_type": "code",
   "execution_count": 45,
   "metadata": {},
   "outputs": [
    {
     "name": "stdout",
     "output_type": "stream",
     "text": [
      "Начинаем подбор гиперпараметров...\n",
      "Fitting 2 folds for each of 4 candidates, totalling 8 fits\n",
      "\n",
      "Лучшие параметры:\n",
      "{'regressor__max_depth': None, 'regressor__min_samples_leaf': 1, 'regressor__min_samples_split': 10}\n",
      "\n",
      "RandomForestRegressor - RMSE: 1738.14\n",
      "Время обучения: 16.5120 сек\n",
      "Время предсказания: 0.1399 сек\n"
     ]
    }
   ],
   "source": [
    "dt_results = train_and_evaluate(X_train, y_train, X_val, y_val, grid_search_dt)"
   ]
  },
  {
   "cell_type": "code",
   "execution_count": 46,
   "metadata": {},
   "outputs": [],
   "source": [
    "# Преобразуем категориальные признаки в тип 'category'\n",
    "for col in categorical_features:\n",
    "    X_train[col] = X_train[col].astype('category')\n",
    "    X_val[col] = X_val[col].astype('category')\n",
    "\n",
    "# Создаем базовую модель LGBMRegressor\n",
    "lgb_model = lgb.LGBMRegressor(random_state=RANDOM_STATE, verbose=-1)\n",
    "\n",
    "# Определяем сетку параметров для поиска\n",
    "param_grid = {\n",
    "    'num_leaves': [31, 63], \n",
    "    'learning_rate': [0.01, 0.05]\n",
    "}\n",
    "\n",
    "# Создаем GridSearchCV\n",
    "grid_search_lgb = GridSearchCV(\n",
    "    estimator=lgb_model,\n",
    "    param_grid=param_grid,\n",
    "    scoring='neg_mean_squared_error',\n",
    "    cv=3,\n",
    "    n_jobs=-1,\n",
    "    verbose=1\n",
    ")"
   ]
  },
  {
   "cell_type": "code",
   "execution_count": 47,
   "metadata": {},
   "outputs": [
    {
     "name": "stdout",
     "output_type": "stream",
     "text": [
      "Начинаем подбор гиперпараметров...\n",
      "Fitting 3 folds for each of 4 candidates, totalling 12 fits\n",
      "\n",
      "Лучшие параметры:\n",
      "{'learning_rate': 0.05, 'num_leaves': 63}\n",
      "\n",
      "RandomForestRegressor - RMSE: 1567.48\n",
      "Время обучения: 6.0016 сек\n",
      "Время предсказания: 0.8015 сек\n"
     ]
    }
   ],
   "source": [
    "lgb_results = train_and_evaluate(X_train, y_train, X_val, y_val, grid_search_lgb)"
   ]
  },
  {
   "cell_type": "markdown",
   "metadata": {},
   "source": [
    "###  Вывод"
   ]
  },
  {
   "cell_type": "markdown",
   "metadata": {},
   "source": [
    "Обучили модели:\n",
    "- `LinearRegression`\n",
    "- `RandomForestRegressor`\n",
    "- `DecisionTreeRegressor`\n",
    "- `LGBMRegressor`\n",
    "\n",
    "По каждой модели полцчило характеристики:\n",
    "- метрика `RMSE`\n",
    "- время обучения\n",
    "- время предсказания"
   ]
  },
  {
   "cell_type": "markdown",
   "metadata": {},
   "source": [
    "## Анализ моделей"
   ]
  },
  {
   "cell_type": "code",
   "execution_count": 48,
   "metadata": {},
   "outputs": [],
   "source": [
    "def compare_models_results(lr_rmse, lr_train_time, lr_pred_time, *results_list):\n",
    "    # Формируем таблицу результатов\n",
    "    table_results = [\n",
    "        [\"LinearRegression\", f\"{lr_rmse:.2f}\", f\"{lr_train_time:.4f}\", f\"{lr_pred_time:.4f}\"]\n",
    "    ]\n",
    "    \n",
    "    for model_name, results in results_list:\n",
    "        table_results.append([\n",
    "            model_name,\n",
    "            f\"{results['rmse']:.2f}\",\n",
    "            f\"{results['train_time']:.4f}\",\n",
    "            f\"{results['prediction_time']:.4f}\"\n",
    "        ])\n",
    "    \n",
    "    # Вывод таблицы сравнения\n",
    "    print(\"\\nСравнение моделей:\")\n",
    "    print(\"-\" * 65)\n",
    "    print(f\"{'Модель':<25} {'RMSE':<10} {'Время обучения':<20} {'Время предсказания'}\")\n",
    "    print(\"-\" * 65)\n",
    "    for row in table_results:\n",
    "        print(f\"{row[0]:<25} {row[1]:<10} {row[2] + ' сек':<20} {row[3] + ' сек'}\")"
   ]
  },
  {
   "cell_type": "code",
   "execution_count": 49,
   "metadata": {},
   "outputs": [
    {
     "name": "stdout",
     "output_type": "stream",
     "text": [
      "\n",
      "Сравнение моделей:\n",
      "-----------------------------------------------------------------\n",
      "Модель                    RMSE       Время обучения       Время предсказания\n",
      "-----------------------------------------------------------------\n",
      "LinearRegression          2736.35    0.9020 сек           0.3106 сек\n",
      "DecisionTree              1738.14    16.5120 сек          0.1399 сек\n",
      "RandomForest              1538.11    15.4759 сек          1.0214 сек\n",
      "LightGBM                  1567.48    6.0016 сек           0.8015 сек\n"
     ]
    }
   ],
   "source": [
    "# Сравниваем модели\n",
    "compare_models_results(\n",
    "    lr_rmse, lr_train_time, lr_pred_time,\n",
    "    (\"DecisionTree\", dt_results),\n",
    "    (\"RandomForest\", rf_results),\n",
    "    (\"LightGBM\", lgb_results)\n",
    ")"
   ]
  },
  {
   "cell_type": "code",
   "execution_count": 83,
   "metadata": {},
   "outputs": [
    {
     "name": "stdout",
     "output_type": "stream",
     "text": [
      "LinearRegression - Тестовый RMSE: 2746.77\n",
      "Время предсказания на тестовой выборке: 0.1195 сек\n"
     ]
    }
   ],
   "source": [
    "# Предсказание на тестовой выборке\n",
    "start_test_pred = time.time()\n",
    "y_test_pred = lr_pipeline.predict(X_test)\n",
    "lr_test_pred_time = time.time() - start_test_pred\n",
    "\n",
    "# Оценка качества на тестовой выборке\n",
    "lr_test_rmse = mean_squared_error(y_test, y_test_pred, squared=False)\n",
    "print(f\"LinearRegression - Тестовый RMSE: {lr_test_rmse:.2f}\")\n",
    "print(f\"Время предсказания на тестовой выборке: {lr_test_pred_time:.4f} сек\")"
   ]
  },
  {
   "cell_type": "markdown",
   "metadata": {},
   "source": [
    "###  Вывод"
   ]
  },
  {
   "cell_type": "markdown",
   "metadata": {},
   "source": [
    "Исходя из требований заказчика по скорости обучения, придсказания и качества модели, рекомендуем модель `LinearRegression`, поскольку она имеет самые высокие характеристики: `RMSE` - 2736.35, Время обучения - 0.9020 сек, Время предсказания - 0.3106 сек. Тестовый `RMSE`: 2746.77, Время предсказания на тестовой выборке: 0.1195 сек."
   ]
  },
  {
   "cell_type": "markdown",
   "metadata": {},
   "source": [
    "##  Общий вывод"
   ]
  },
  {
   "cell_type": "markdown",
   "metadata": {},
   "source": [
    "В данном проекте мы построили модель для определения рыночной стоимости автомобиля. \n",
    "\n",
    "**Основные шаги:**\n",
    "\n",
    "**1) Загрузка данных.**\n",
    "\n",
    "**2) Изучение данных.**\n",
    "1. **Объем данных**:\n",
    "   - В датасете содержится 354,369 объявлений о продаже автомобилей.\n",
    "   - Данные содержат 16 признаков, включая информацию о цене, характеристиках автомобиля, датах и местоположении.\n",
    "\n",
    "2. **Пропуски данных**:\n",
    "     - `VehicleType` (37,490 пропусков)\n",
    "     - `Repaired` (71,154 пропусков)\n",
    "     - `FuelType` (32,895 пропусков)\n",
    "     - `Gearbox` (19,833 пропусков)\n",
    "     - `Model` (19,705 пропусков)\n",
    "\n",
    "3. **Дубликаты**:\n",
    "   - Обнаружено всего 4 явных дубликата.\n",
    "\n",
    "4. **Анализ числовых признаков**:\n",
    "   - **Price (цена)**:\n",
    "     - Средняя цена составляет около 4,416, но есть значительный разброс (std=4,514).\n",
    "     - Минимальная цена равна 0, что может указывать на ошибки или нестандартные предложения (например, дарение).\n",
    "     - 75% объявлений имеют цену до 6,400, но максимальная цена достигает 20,000.\n",
    "   - **RegistrationYear (год регистрации)**:\n",
    "     - Средний год регистрации - 2004, но есть аномалии (min=1000, max=9999), которые требуют очистки.\n",
    "   - **Power (мощность двигателя в л.с.)**:\n",
    "     - Средняя мощность - 110 л.с., но есть экстремальные значения (max=20,000), которые явно ошибочны.\n",
    "   - **Kilometer (пробег)**:\n",
    "     - Средний пробег - 128,211 км, при этом 75% автомобилей имеют пробег 150,000 км или меньше.\n",
    "   - **NumberOfPictures**:\n",
    "     - Все значения равны 0, что делает этот признак бесполезным для анализа.\n",
    "\n",
    "5. **Типы данных**\n",
    "   - Временные данные следует преобразовать из строкового формата в `datetime`.  \n",
    "\n",
    "**3) Подготовка выборки для обучения моделей.**\n",
    "- Перевели названия столбцов в змеиный регистр\n",
    "- Удалили 4 явных дубликата\n",
    "- Удалили признаки, которые не помогут в определении стоимости автомобиля\n",
    "- Заполнили пропуски заглушкой `unknown`\n",
    "- В признаке `fuel_type` переименовали `gasoline` в `petrol`, поскольку оба означают \"бензин\" \n",
    "- Удалили выбросы в численных параметрах\n",
    "- Корреляционный анализ:\n",
    "1. Наиболее значимые факторы для цены (`price`):\n",
    "- **`registration_year` (0.66)** – самая сильная корреляция. Чем новее автомобиль, тем выше его цена.  \n",
    "- **`brand_model` (0.58)** – модель автомобиля важна, так как премиальные и популярные бренды стоят дороже.  \n",
    "\n",
    "2. Умеренное влияние:\n",
    "- **`power` (0.34)** – мощность двигателя влияет на стоимость: более мощные автомобили дороже.  \n",
    "- **`kilometer` (0.33)** – пробег влияет на цену, но слабее, чем год выпуска. Чем больше пробег, тем ниже стоимость.  \n",
    "- **`repaired` (0.34)** – наличие ремонта немного снижает цену (логично, так как это может указывать на проблемы с авто).  \n",
    "\n",
    "3. Слабые или незначимые факторы: \n",
    "- **`fuel_type` (0.11)** – тип топлива (бензин/дизель/электричество) почти не влияет на цену.  \n",
    "- **`gearbox` (0.29)** – коробка передач (автомат/механика) имеет небольшое влияние.  \n",
    "- **`vehicle_type` (0.27)** – тип кузова (седан, внедорожник и т. д.) слабо коррелирует с ценой.   \n",
    "\n",
    "\n",
    "**4) Обучение разных моделей, одна из которых — LightGBM, как минимум одна — не бустинг.**\n",
    "Обучили модели:\n",
    "- `LinearRegression`\n",
    "- `RandomForestRegressor`\n",
    "- `DecisionTreeRegressor`\n",
    "- `LGBMRegressor`\n",
    "\n",
    "По каждой модели полцчило характеристики:\n",
    "- метрика `RMSE`\n",
    "- время обучения\n",
    "- время предсказания\n",
    "\n",
    "**5) Анализ времени обучения, времени предсказания и качества моделей.**\n",
    "\n",
    "**6) Опираясь на критерии заказчика, выбор лучшей модели, проверка её качества на тестовой выборке.**\n",
    "\n",
    "Исходя из требований заказчика по скорости обучения, придсказания и качества модели, рекомендуем модель `LinearRegression`, поскольку она имеет самые высокие характеристики: `RMSE` - 2736.35, Время обучения - 0.9020 сек, Время предсказания - 0.3106 сек. Тестовый `RMSE`: 2746.77, Время предсказания на тестовой выборке: 0.1195 сек."
   ]
  }
 ],
 "metadata": {
  "ExecuteTimeLog": [
   {
    "duration": 373,
    "start_time": "2025-04-05T11:44:56.610Z"
   },
   {
    "duration": 4,
    "start_time": "2025-04-05T11:45:31.488Z"
   },
   {
    "duration": 1044,
    "start_time": "2025-04-05T11:47:36.881Z"
   },
   {
    "duration": 845,
    "start_time": "2025-04-05T11:47:59.720Z"
   },
   {
    "duration": 391,
    "start_time": "2025-04-06T07:50:52.780Z"
   },
   {
    "duration": 952,
    "start_time": "2025-04-06T07:50:53.258Z"
   },
   {
    "duration": 3,
    "start_time": "2025-04-06T07:50:54.363Z"
   },
   {
    "duration": 976,
    "start_time": "2025-04-06T07:50:56.060Z"
   },
   {
    "duration": 5,
    "start_time": "2025-04-06T07:51:55.616Z"
   },
   {
    "duration": 4,
    "start_time": "2025-04-06T07:52:01.928Z"
   },
   {
    "duration": 4,
    "start_time": "2025-04-06T08:15:31.506Z"
   },
   {
    "duration": 22,
    "start_time": "2025-04-06T08:15:40.576Z"
   },
   {
    "duration": 67,
    "start_time": "2025-04-06T08:25:12.073Z"
   },
   {
    "duration": 4,
    "start_time": "2025-04-06T08:25:16.560Z"
   },
   {
    "duration": 15,
    "start_time": "2025-04-06T08:25:17.231Z"
   },
   {
    "duration": 1030,
    "start_time": "2025-04-06T08:25:27.267Z"
   },
   {
    "duration": 448,
    "start_time": "2025-04-06T08:25:45.208Z"
   },
   {
    "duration": 911,
    "start_time": "2025-04-06T08:25:45.658Z"
   },
   {
    "duration": 4,
    "start_time": "2025-04-06T08:25:46.571Z"
   },
   {
    "duration": 967,
    "start_time": "2025-04-06T08:25:46.576Z"
   },
   {
    "duration": 5,
    "start_time": "2025-04-06T08:25:49.905Z"
   },
   {
    "duration": 21,
    "start_time": "2025-04-06T08:25:51.106Z"
   },
   {
    "duration": 67,
    "start_time": "2025-04-06T08:25:52.242Z"
   },
   {
    "duration": 548,
    "start_time": "2025-04-06T08:26:00.379Z"
   },
   {
    "duration": 30,
    "start_time": "2025-04-06T08:26:07.129Z"
   },
   {
    "duration": 8,
    "start_time": "2025-04-06T08:26:10.147Z"
   },
   {
    "duration": 944,
    "start_time": "2025-04-06T08:26:33.972Z"
   },
   {
    "duration": 3,
    "start_time": "2025-04-06T08:27:41.206Z"
   },
   {
    "duration": 110,
    "start_time": "2025-04-06T08:27:41.750Z"
   },
   {
    "duration": 7,
    "start_time": "2025-04-06T08:27:51.224Z"
   },
   {
    "duration": 3,
    "start_time": "2025-04-06T08:28:54.472Z"
   },
   {
    "duration": 8,
    "start_time": "2025-04-06T08:29:07.673Z"
   },
   {
    "duration": 126,
    "start_time": "2025-04-06T08:29:23.643Z"
   },
   {
    "duration": 42,
    "start_time": "2025-04-06T08:30:53.319Z"
   },
   {
    "duration": 2,
    "start_time": "2025-04-06T08:33:48.849Z"
   },
   {
    "duration": 3,
    "start_time": "2025-04-06T09:18:43.633Z"
   },
   {
    "duration": 957,
    "start_time": "2025-04-06T09:18:44.129Z"
   },
   {
    "duration": 4,
    "start_time": "2025-04-06T09:18:45.088Z"
   },
   {
    "duration": 880,
    "start_time": "2025-04-06T09:18:46.289Z"
   },
   {
    "duration": 5,
    "start_time": "2025-04-06T09:20:13.573Z"
   },
   {
    "duration": 4,
    "start_time": "2025-04-06T09:21:34.825Z"
   },
   {
    "duration": 1331,
    "start_time": "2025-04-06T17:28:11.818Z"
   },
   {
    "duration": 2998,
    "start_time": "2025-04-06T17:28:48.482Z"
   },
   {
    "duration": 4,
    "start_time": "2025-04-06T17:28:51.481Z"
   },
   {
    "duration": 853,
    "start_time": "2025-04-06T17:28:51.733Z"
   },
   {
    "duration": 5,
    "start_time": "2025-04-06T17:29:07.261Z"
   },
   {
    "duration": 20,
    "start_time": "2025-04-06T17:29:17.140Z"
   },
   {
    "duration": 3,
    "start_time": "2025-04-06T17:32:10.923Z"
   },
   {
    "duration": 1105,
    "start_time": "2025-04-06T17:32:16.826Z"
   },
   {
    "duration": 784,
    "start_time": "2025-04-06T17:32:17.933Z"
   },
   {
    "duration": 4,
    "start_time": "2025-04-06T17:32:18.718Z"
   },
   {
    "duration": 846,
    "start_time": "2025-04-06T17:32:18.724Z"
   },
   {
    "duration": 3,
    "start_time": "2025-04-06T17:32:19.572Z"
   },
   {
    "duration": 20,
    "start_time": "2025-04-06T17:32:21.216Z"
   },
   {
    "duration": 442,
    "start_time": "2025-04-06T17:32:25.201Z"
   },
   {
    "duration": 22,
    "start_time": "2025-04-06T17:40:28.084Z"
   },
   {
    "duration": 100,
    "start_time": "2025-04-06T17:42:09.912Z"
   },
   {
    "duration": 12,
    "start_time": "2025-04-06T17:42:12.562Z"
   },
   {
    "duration": 87,
    "start_time": "2025-04-06T17:43:55.778Z"
   },
   {
    "duration": 17,
    "start_time": "2025-04-06T17:44:44.678Z"
   },
   {
    "duration": 125,
    "start_time": "2025-04-06T17:48:38.635Z"
   },
   {
    "duration": 2,
    "start_time": "2025-04-06T17:50:04.343Z"
   },
   {
    "duration": 222,
    "start_time": "2025-04-06T17:50:04.347Z"
   },
   {
    "duration": 30,
    "start_time": "2025-04-06T17:50:18.731Z"
   },
   {
    "duration": 93,
    "start_time": "2025-04-06T17:52:28.690Z"
   },
   {
    "duration": 909,
    "start_time": "2025-04-06T17:55:01.595Z"
   },
   {
    "duration": 0,
    "start_time": "2025-04-06T17:55:02.505Z"
   },
   {
    "duration": 936,
    "start_time": "2025-04-06T17:56:37.496Z"
   },
   {
    "duration": 93,
    "start_time": "2025-04-06T17:56:38.743Z"
   },
   {
    "duration": 1173,
    "start_time": "2025-04-06T17:56:55.114Z"
   },
   {
    "duration": 5,
    "start_time": "2025-04-06T17:59:18.202Z"
   },
   {
    "duration": 3,
    "start_time": "2025-04-06T17:59:25.744Z"
   },
   {
    "duration": 2,
    "start_time": "2025-04-06T18:00:00.792Z"
   },
   {
    "duration": 3181,
    "start_time": "2025-04-06T18:00:08.142Z"
   },
   {
    "duration": 12,
    "start_time": "2025-04-06T18:00:32.931Z"
   },
   {
    "duration": 11,
    "start_time": "2025-04-06T18:00:55.293Z"
   },
   {
    "duration": 25,
    "start_time": "2025-04-06T18:01:11.761Z"
   },
   {
    "duration": 19,
    "start_time": "2025-04-06T18:01:38.131Z"
   },
   {
    "duration": 7,
    "start_time": "2025-04-06T18:01:58.831Z"
   },
   {
    "duration": 31,
    "start_time": "2025-04-06T18:02:11.221Z"
   },
   {
    "duration": 16,
    "start_time": "2025-04-06T18:02:19.730Z"
   },
   {
    "duration": 12,
    "start_time": "2025-04-06T18:02:48.850Z"
   },
   {
    "duration": 21,
    "start_time": "2025-04-06T18:02:55.500Z"
   },
   {
    "duration": 3060,
    "start_time": "2025-04-06T18:03:01.798Z"
   },
   {
    "duration": 1023,
    "start_time": "2025-04-06T18:03:14.999Z"
   },
   {
    "duration": 13,
    "start_time": "2025-04-06T18:03:54.507Z"
   },
   {
    "duration": 8,
    "start_time": "2025-04-06T18:04:17.560Z"
   },
   {
    "duration": 2,
    "start_time": "2025-04-06T18:04:21.349Z"
   },
   {
    "duration": 88,
    "start_time": "2025-04-06T18:04:21.773Z"
   },
   {
    "duration": 2152,
    "start_time": "2025-04-06T18:04:29.027Z"
   },
   {
    "duration": 1140,
    "start_time": "2025-04-06T18:05:20.592Z"
   },
   {
    "duration": 804,
    "start_time": "2025-04-06T18:05:21.733Z"
   },
   {
    "duration": 4,
    "start_time": "2025-04-06T18:05:22.538Z"
   },
   {
    "duration": 823,
    "start_time": "2025-04-06T18:05:22.544Z"
   },
   {
    "duration": 3,
    "start_time": "2025-04-06T18:05:23.369Z"
   },
   {
    "duration": 20,
    "start_time": "2025-04-06T18:05:23.524Z"
   },
   {
    "duration": 454,
    "start_time": "2025-04-06T18:05:23.692Z"
   },
   {
    "duration": 20,
    "start_time": "2025-04-06T18:05:24.148Z"
   },
   {
    "duration": 15,
    "start_time": "2025-04-06T18:05:24.234Z"
   },
   {
    "duration": 91,
    "start_time": "2025-04-06T18:05:25.302Z"
   },
   {
    "duration": 118,
    "start_time": "2025-04-06T18:05:26.392Z"
   },
   {
    "duration": 2,
    "start_time": "2025-04-06T18:05:26.762Z"
   },
   {
    "duration": 117,
    "start_time": "2025-04-06T18:05:27.361Z"
   },
   {
    "duration": 34,
    "start_time": "2025-04-06T18:05:28.040Z"
   },
   {
    "duration": 93,
    "start_time": "2025-04-06T18:05:28.362Z"
   },
   {
    "duration": 4,
    "start_time": "2025-04-06T18:05:29.564Z"
   },
   {
    "duration": 3,
    "start_time": "2025-04-06T18:05:29.903Z"
   },
   {
    "duration": 4,
    "start_time": "2025-04-06T18:05:30.272Z"
   },
   {
    "duration": 3264,
    "start_time": "2025-04-06T18:05:30.642Z"
   },
   {
    "duration": 3204,
    "start_time": "2025-04-06T18:05:33.908Z"
   },
   {
    "duration": 13,
    "start_time": "2025-04-06T18:06:13.842Z"
   },
   {
    "duration": 26,
    "start_time": "2025-04-06T18:06:14.174Z"
   },
   {
    "duration": 18,
    "start_time": "2025-04-06T18:06:14.793Z"
   },
   {
    "duration": 6,
    "start_time": "2025-04-06T18:06:16.261Z"
   },
   {
    "duration": 29,
    "start_time": "2025-04-06T18:06:16.431Z"
   },
   {
    "duration": 16,
    "start_time": "2025-04-06T18:06:16.774Z"
   },
   {
    "duration": 11,
    "start_time": "2025-04-06T18:06:17.111Z"
   },
   {
    "duration": 19,
    "start_time": "2025-04-06T18:06:17.302Z"
   },
   {
    "duration": 2984,
    "start_time": "2025-04-06T18:06:17.512Z"
   },
   {
    "duration": 874,
    "start_time": "2025-04-06T18:06:20.497Z"
   },
   {
    "duration": 2259,
    "start_time": "2025-04-06T18:06:21.372Z"
   },
   {
    "duration": 1050,
    "start_time": "2025-04-06T18:15:54.286Z"
   },
   {
    "duration": 2927,
    "start_time": "2025-04-06T18:15:55.338Z"
   },
   {
    "duration": 4,
    "start_time": "2025-04-06T18:15:58.266Z"
   },
   {
    "duration": 858,
    "start_time": "2025-04-06T18:15:58.271Z"
   },
   {
    "duration": 3,
    "start_time": "2025-04-06T18:15:59.136Z"
   },
   {
    "duration": 21,
    "start_time": "2025-04-06T18:15:59.140Z"
   },
   {
    "duration": 466,
    "start_time": "2025-04-06T18:15:59.162Z"
   },
   {
    "duration": 25,
    "start_time": "2025-04-06T18:15:59.629Z"
   },
   {
    "duration": 17,
    "start_time": "2025-04-06T18:15:59.656Z"
   },
   {
    "duration": 99,
    "start_time": "2025-04-06T18:15:59.675Z"
   },
   {
    "duration": 145,
    "start_time": "2025-04-06T18:15:59.776Z"
   },
   {
    "duration": 3,
    "start_time": "2025-04-06T18:15:59.923Z"
   },
   {
    "duration": 126,
    "start_time": "2025-04-06T18:15:59.927Z"
   },
   {
    "duration": 35,
    "start_time": "2025-04-06T18:16:00.055Z"
   },
   {
    "duration": 124,
    "start_time": "2025-04-06T18:16:00.092Z"
   },
   {
    "duration": 52,
    "start_time": "2025-04-06T18:16:00.218Z"
   },
   {
    "duration": 33,
    "start_time": "2025-04-06T18:16:00.271Z"
   },
   {
    "duration": 22,
    "start_time": "2025-04-06T18:16:00.306Z"
   },
   {
    "duration": 3238,
    "start_time": "2025-04-06T18:16:00.330Z"
   },
   {
    "duration": 3247,
    "start_time": "2025-04-06T18:16:03.569Z"
   },
   {
    "duration": 20,
    "start_time": "2025-04-06T18:16:06.818Z"
   },
   {
    "duration": 25,
    "start_time": "2025-04-06T18:16:06.839Z"
   },
   {
    "duration": 17,
    "start_time": "2025-04-06T18:16:06.866Z"
   },
   {
    "duration": 6,
    "start_time": "2025-04-06T18:16:06.884Z"
   },
   {
    "duration": 84,
    "start_time": "2025-04-06T18:16:06.891Z"
   },
   {
    "duration": 45,
    "start_time": "2025-04-06T18:16:06.977Z"
   },
   {
    "duration": 10,
    "start_time": "2025-04-06T18:16:07.023Z"
   },
   {
    "duration": 27,
    "start_time": "2025-04-06T18:16:07.035Z"
   },
   {
    "duration": 2988,
    "start_time": "2025-04-06T18:16:07.063Z"
   },
   {
    "duration": 871,
    "start_time": "2025-04-06T18:16:10.053Z"
   },
   {
    "duration": 2270,
    "start_time": "2025-04-06T18:16:10.926Z"
   },
   {
    "duration": 176,
    "start_time": "2025-04-06T18:16:20.126Z"
   },
   {
    "duration": 16,
    "start_time": "2025-04-06T18:16:46.021Z"
   },
   {
    "duration": 1126,
    "start_time": "2025-04-06T18:16:46.703Z"
   },
   {
    "duration": 58,
    "start_time": "2025-04-06T18:22:37.687Z"
   },
   {
    "duration": 895,
    "start_time": "2025-04-06T18:23:02.220Z"
   },
   {
    "duration": 836,
    "start_time": "2025-04-06T18:26:08.111Z"
   },
   {
    "duration": 824,
    "start_time": "2025-04-06T18:26:34.013Z"
   },
   {
    "duration": 813,
    "start_time": "2025-04-06T18:27:16.701Z"
   },
   {
    "duration": 863,
    "start_time": "2025-04-06T18:27:39.880Z"
   },
   {
    "duration": 17,
    "start_time": "2025-04-06T18:32:19.956Z"
   },
   {
    "duration": 13,
    "start_time": "2025-04-06T18:37:11.770Z"
   },
   {
    "duration": 11,
    "start_time": "2025-04-06T18:37:23.719Z"
   },
   {
    "duration": 10,
    "start_time": "2025-04-06T18:38:04.823Z"
   },
   {
    "duration": 3451,
    "start_time": "2025-04-06T18:38:12.201Z"
   },
   {
    "duration": 238,
    "start_time": "2025-04-06T18:38:15.654Z"
   },
   {
    "duration": 4214,
    "start_time": "2025-04-06T18:38:20.381Z"
   },
   {
    "duration": 3,
    "start_time": "2025-04-06T18:39:34.031Z"
   },
   {
    "duration": 4103,
    "start_time": "2025-04-06T18:39:35.721Z"
   },
   {
    "duration": 16,
    "start_time": "2025-04-06T18:39:59.982Z"
   },
   {
    "duration": 7,
    "start_time": "2025-04-06T18:41:27.591Z"
   },
   {
    "duration": 1171,
    "start_time": "2025-04-06T18:41:29.951Z"
   },
   {
    "duration": 116,
    "start_time": "2025-04-06T19:13:21.973Z"
   },
   {
    "duration": 15,
    "start_time": "2025-04-06T19:13:24.107Z"
   },
   {
    "duration": 3438,
    "start_time": "2025-04-06T19:13:38.502Z"
   },
   {
    "duration": 930,
    "start_time": "2025-04-06T19:13:45.406Z"
   },
   {
    "duration": 3,
    "start_time": "2025-04-06T19:41:41.067Z"
   },
   {
    "duration": 2304,
    "start_time": "2025-04-06T19:42:13.625Z"
   },
   {
    "duration": 1157,
    "start_time": "2025-04-06T19:42:15.932Z"
   },
   {
    "duration": 2,
    "start_time": "2025-04-06T19:42:17.091Z"
   },
   {
    "duration": 814,
    "start_time": "2025-04-06T19:42:17.095Z"
   },
   {
    "duration": 4,
    "start_time": "2025-04-06T19:42:17.911Z"
   },
   {
    "duration": 821,
    "start_time": "2025-04-06T19:42:17.916Z"
   },
   {
    "duration": 4,
    "start_time": "2025-04-06T19:42:18.986Z"
   },
   {
    "duration": 21,
    "start_time": "2025-04-06T19:42:19.506Z"
   },
   {
    "duration": 471,
    "start_time": "2025-04-06T19:42:19.765Z"
   },
   {
    "duration": 21,
    "start_time": "2025-04-06T19:42:20.238Z"
   },
   {
    "duration": 17,
    "start_time": "2025-04-06T19:42:20.261Z"
   },
   {
    "duration": 88,
    "start_time": "2025-04-06T19:42:20.404Z"
   },
   {
    "duration": 121,
    "start_time": "2025-04-06T19:42:20.715Z"
   },
   {
    "duration": 2,
    "start_time": "2025-04-06T19:42:20.847Z"
   },
   {
    "duration": 110,
    "start_time": "2025-04-06T19:42:21.015Z"
   },
   {
    "duration": 33,
    "start_time": "2025-04-06T19:42:21.187Z"
   },
   {
    "duration": 95,
    "start_time": "2025-04-06T19:42:21.306Z"
   },
   {
    "duration": 5,
    "start_time": "2025-04-06T19:42:22.187Z"
   },
   {
    "duration": 4,
    "start_time": "2025-04-06T19:42:22.355Z"
   },
   {
    "duration": 2,
    "start_time": "2025-04-06T19:42:22.526Z"
   },
   {
    "duration": 3280,
    "start_time": "2025-04-06T19:42:22.696Z"
   },
   {
    "duration": 3335,
    "start_time": "2025-04-06T19:42:25.978Z"
   },
   {
    "duration": 26,
    "start_time": "2025-04-06T19:42:29.315Z"
   },
   {
    "duration": 28,
    "start_time": "2025-04-06T19:42:29.343Z"
   },
   {
    "duration": 19,
    "start_time": "2025-04-06T19:42:29.373Z"
   },
   {
    "duration": 7,
    "start_time": "2025-04-06T19:42:29.394Z"
   },
   {
    "duration": 53,
    "start_time": "2025-04-06T19:42:29.403Z"
   },
   {
    "duration": 18,
    "start_time": "2025-04-06T19:42:29.458Z"
   },
   {
    "duration": 12,
    "start_time": "2025-04-06T19:42:29.477Z"
   },
   {
    "duration": 45,
    "start_time": "2025-04-06T19:42:29.492Z"
   },
   {
    "duration": 2988,
    "start_time": "2025-04-06T19:42:29.539Z"
   },
   {
    "duration": 895,
    "start_time": "2025-04-06T19:42:32.536Z"
   },
   {
    "duration": 2400,
    "start_time": "2025-04-06T19:42:33.436Z"
   },
   {
    "duration": 15,
    "start_time": "2025-04-06T19:42:35.838Z"
   },
   {
    "duration": 16,
    "start_time": "2025-04-06T19:42:35.855Z"
   },
   {
    "duration": 4213,
    "start_time": "2025-04-06T19:42:35.873Z"
   },
   {
    "duration": 1111,
    "start_time": "2025-04-06T19:42:40.088Z"
   },
   {
    "duration": 135,
    "start_time": "2025-04-06T19:42:41.201Z"
   },
   {
    "duration": 15,
    "start_time": "2025-04-06T19:42:41.337Z"
   },
   {
    "duration": 3390,
    "start_time": "2025-04-06T19:42:41.353Z"
   },
   {
    "duration": 909,
    "start_time": "2025-04-06T19:42:44.745Z"
   },
   {
    "duration": 17,
    "start_time": "2025-04-06T19:55:01.139Z"
   },
   {
    "duration": 67,
    "start_time": "2025-04-06T19:55:09.867Z"
   },
   {
    "duration": 26,
    "start_time": "2025-04-06T19:55:27.213Z"
   },
   {
    "duration": 65,
    "start_time": "2025-04-06T19:55:34.637Z"
   },
   {
    "duration": 2330,
    "start_time": "2025-04-06T19:56:43.047Z"
   },
   {
    "duration": 1097,
    "start_time": "2025-04-06T19:56:45.380Z"
   },
   {
    "duration": 3,
    "start_time": "2025-04-06T19:56:46.478Z"
   },
   {
    "duration": 852,
    "start_time": "2025-04-06T19:56:48.918Z"
   },
   {
    "duration": 4,
    "start_time": "2025-04-06T19:56:49.771Z"
   },
   {
    "duration": 806,
    "start_time": "2025-04-06T19:56:50.830Z"
   },
   {
    "duration": 3,
    "start_time": "2025-04-06T19:56:54.687Z"
   },
   {
    "duration": 23,
    "start_time": "2025-04-06T19:59:02.397Z"
   },
   {
    "duration": 469,
    "start_time": "2025-04-06T19:59:02.806Z"
   },
   {
    "duration": 23,
    "start_time": "2025-04-06T19:59:03.768Z"
   },
   {
    "duration": 17,
    "start_time": "2025-04-06T19:59:05.097Z"
   },
   {
    "duration": 88,
    "start_time": "2025-04-06T19:59:07.267Z"
   },
   {
    "duration": 118,
    "start_time": "2025-04-06T19:59:11.179Z"
   },
   {
    "duration": 2,
    "start_time": "2025-04-06T19:59:11.566Z"
   },
   {
    "duration": 115,
    "start_time": "2025-04-06T19:59:12.226Z"
   },
   {
    "duration": 31,
    "start_time": "2025-04-06T19:59:13.066Z"
   },
   {
    "duration": 91,
    "start_time": "2025-04-06T19:59:14.635Z"
   },
   {
    "duration": 4,
    "start_time": "2025-04-06T19:59:18.078Z"
   },
   {
    "duration": 3,
    "start_time": "2025-04-06T19:59:18.808Z"
   },
   {
    "duration": 3,
    "start_time": "2025-04-06T19:59:19.560Z"
   },
   {
    "duration": 3221,
    "start_time": "2025-04-06T19:59:21.417Z"
   },
   {
    "duration": 3303,
    "start_time": "2025-04-06T19:59:24.641Z"
   },
   {
    "duration": 12,
    "start_time": "2025-04-06T19:59:27.946Z"
   },
   {
    "duration": 31,
    "start_time": "2025-04-06T19:59:27.959Z"
   },
   {
    "duration": 16,
    "start_time": "2025-04-06T19:59:33.466Z"
   },
   {
    "duration": 1151,
    "start_time": "2025-04-06T20:01:51.148Z"
   },
   {
    "duration": 2,
    "start_time": "2025-04-06T20:01:52.301Z"
   },
   {
    "duration": 849,
    "start_time": "2025-04-06T20:01:52.305Z"
   },
   {
    "duration": 3,
    "start_time": "2025-04-06T20:01:53.156Z"
   },
   {
    "duration": 812,
    "start_time": "2025-04-06T20:01:53.161Z"
   },
   {
    "duration": 3,
    "start_time": "2025-04-06T20:01:55.106Z"
   },
   {
    "duration": 21,
    "start_time": "2025-04-06T20:01:55.298Z"
   },
   {
    "duration": 455,
    "start_time": "2025-04-06T20:01:55.734Z"
   },
   {
    "duration": 24,
    "start_time": "2025-04-06T20:01:57.798Z"
   },
   {
    "duration": 17,
    "start_time": "2025-04-06T20:01:58.078Z"
   },
   {
    "duration": 88,
    "start_time": "2025-04-06T20:01:58.238Z"
   },
   {
    "duration": 117,
    "start_time": "2025-04-06T20:01:58.638Z"
   },
   {
    "duration": 3,
    "start_time": "2025-04-06T20:01:58.856Z"
   },
   {
    "duration": 112,
    "start_time": "2025-04-06T20:01:59.076Z"
   },
   {
    "duration": 32,
    "start_time": "2025-04-06T20:01:59.228Z"
   },
   {
    "duration": 93,
    "start_time": "2025-04-06T20:01:59.398Z"
   },
   {
    "duration": 4,
    "start_time": "2025-04-06T20:02:00.417Z"
   },
   {
    "duration": 3,
    "start_time": "2025-04-06T20:02:00.858Z"
   },
   {
    "duration": 2,
    "start_time": "2025-04-06T20:02:01.135Z"
   },
   {
    "duration": 3292,
    "start_time": "2025-04-06T20:02:01.608Z"
   },
   {
    "duration": 3361,
    "start_time": "2025-04-06T20:02:04.903Z"
   },
   {
    "duration": 12,
    "start_time": "2025-04-06T20:02:08.266Z"
   },
   {
    "duration": 64,
    "start_time": "2025-04-06T20:02:08.279Z"
   },
   {
    "duration": 17,
    "start_time": "2025-04-06T20:02:08.344Z"
   },
   {
    "duration": 20,
    "start_time": "2025-04-06T20:02:25.958Z"
   },
   {
    "duration": 7,
    "start_time": "2025-04-06T20:02:26.388Z"
   },
   {
    "duration": 18,
    "start_time": "2025-04-06T20:02:26.868Z"
   },
   {
    "duration": 18,
    "start_time": "2025-04-06T20:02:27.278Z"
   },
   {
    "duration": 12,
    "start_time": "2025-04-06T20:02:28.078Z"
   },
   {
    "duration": 29,
    "start_time": "2025-04-06T20:02:28.540Z"
   },
   {
    "duration": 3016,
    "start_time": "2025-04-06T20:02:28.810Z"
   },
   {
    "duration": 891,
    "start_time": "2025-04-06T20:02:31.836Z"
   },
   {
    "duration": 2317,
    "start_time": "2025-04-06T20:02:32.736Z"
   },
   {
    "duration": 15,
    "start_time": "2025-04-06T20:02:35.055Z"
   },
   {
    "duration": 16,
    "start_time": "2025-04-06T20:02:35.072Z"
   },
   {
    "duration": 4104,
    "start_time": "2025-04-06T20:02:35.381Z"
   },
   {
    "duration": 1114,
    "start_time": "2025-04-06T20:02:39.487Z"
   },
   {
    "duration": 145,
    "start_time": "2025-04-06T20:02:40.603Z"
   },
   {
    "duration": 15,
    "start_time": "2025-04-06T20:02:40.749Z"
   },
   {
    "duration": 3278,
    "start_time": "2025-04-06T20:02:40.766Z"
   },
   {
    "duration": 898,
    "start_time": "2025-04-06T20:02:44.046Z"
   },
   {
    "duration": 23,
    "start_time": "2025-04-06T20:02:44.946Z"
   },
   {
    "duration": 115,
    "start_time": "2025-04-06T20:02:44.970Z"
   },
   {
    "duration": 133,
    "start_time": "2025-04-06T20:04:09.135Z"
   },
   {
    "duration": 120,
    "start_time": "2025-04-06T20:04:50.716Z"
   },
   {
    "duration": 125,
    "start_time": "2025-04-06T20:05:04.714Z"
   },
   {
    "duration": 1832,
    "start_time": "2025-04-06T20:50:39.129Z"
   },
   {
    "duration": 1125,
    "start_time": "2025-04-06T21:00:27.363Z"
   },
   {
    "duration": 258,
    "start_time": "2025-04-06T21:00:28.489Z"
   },
   {
    "duration": 3,
    "start_time": "2025-04-06T21:00:28.748Z"
   },
   {
    "duration": 851,
    "start_time": "2025-04-06T21:00:28.753Z"
   },
   {
    "duration": 3,
    "start_time": "2025-04-06T21:00:29.606Z"
   },
   {
    "duration": 835,
    "start_time": "2025-04-06T21:00:29.611Z"
   },
   {
    "duration": 4,
    "start_time": "2025-04-06T21:00:30.448Z"
   },
   {
    "duration": 22,
    "start_time": "2025-04-06T21:00:30.454Z"
   },
   {
    "duration": 487,
    "start_time": "2025-04-06T21:00:30.478Z"
   },
   {
    "duration": 24,
    "start_time": "2025-04-06T21:00:30.966Z"
   },
   {
    "duration": 66,
    "start_time": "2025-04-06T21:00:30.992Z"
   },
   {
    "duration": 88,
    "start_time": "2025-04-06T21:00:31.061Z"
   },
   {
    "duration": 119,
    "start_time": "2025-04-06T21:00:31.206Z"
   },
   {
    "duration": 4,
    "start_time": "2025-04-06T21:00:31.596Z"
   },
   {
    "duration": 114,
    "start_time": "2025-04-06T21:00:31.837Z"
   },
   {
    "duration": 30,
    "start_time": "2025-04-06T21:00:31.998Z"
   },
   {
    "duration": 91,
    "start_time": "2025-04-06T21:00:32.205Z"
   },
   {
    "duration": 5,
    "start_time": "2025-04-06T21:00:32.784Z"
   },
   {
    "duration": 4,
    "start_time": "2025-04-06T21:00:32.926Z"
   },
   {
    "duration": 3,
    "start_time": "2025-04-06T21:00:33.116Z"
   },
   {
    "duration": 3417,
    "start_time": "2025-04-06T21:00:33.305Z"
   },
   {
    "duration": 3206,
    "start_time": "2025-04-06T21:00:36.724Z"
   },
   {
    "duration": 13,
    "start_time": "2025-04-06T21:00:39.936Z"
   },
   {
    "duration": 27,
    "start_time": "2025-04-06T21:00:39.950Z"
   },
   {
    "duration": 16,
    "start_time": "2025-04-06T21:00:39.978Z"
   },
   {
    "duration": 41,
    "start_time": "2025-04-06T21:00:39.996Z"
   },
   {
    "duration": 6,
    "start_time": "2025-04-06T21:00:40.039Z"
   },
   {
    "duration": 36,
    "start_time": "2025-04-06T21:00:40.046Z"
   },
   {
    "duration": 22,
    "start_time": "2025-04-06T21:00:40.084Z"
   },
   {
    "duration": 31,
    "start_time": "2025-04-06T21:00:40.109Z"
   },
   {
    "duration": 29,
    "start_time": "2025-04-06T21:00:40.142Z"
   },
   {
    "duration": 3072,
    "start_time": "2025-04-06T21:00:40.173Z"
   },
   {
    "duration": 881,
    "start_time": "2025-04-06T21:00:43.247Z"
   },
   {
    "duration": 2221,
    "start_time": "2025-04-06T21:00:44.129Z"
   },
   {
    "duration": 15,
    "start_time": "2025-04-06T21:00:46.351Z"
   },
   {
    "duration": 15,
    "start_time": "2025-04-06T21:00:46.369Z"
   },
   {
    "duration": 4118,
    "start_time": "2025-04-06T21:00:46.385Z"
   },
   {
    "duration": 1088,
    "start_time": "2025-04-06T21:00:50.504Z"
   },
   {
    "duration": 143,
    "start_time": "2025-04-06T21:00:51.593Z"
   },
   {
    "duration": 14,
    "start_time": "2025-04-06T21:00:51.738Z"
   },
   {
    "duration": 3327,
    "start_time": "2025-04-06T21:00:51.754Z"
   },
   {
    "duration": 957,
    "start_time": "2025-04-06T21:00:55.083Z"
   },
   {
    "duration": 11,
    "start_time": "2025-04-06T21:00:56.042Z"
   },
   {
    "duration": 85,
    "start_time": "2025-04-06T21:00:56.054Z"
   },
   {
    "duration": 5,
    "start_time": "2025-04-06T21:03:14.836Z"
   },
   {
    "duration": 4,
    "start_time": "2025-04-06T21:03:26.422Z"
   },
   {
    "duration": 3,
    "start_time": "2025-04-06T21:03:29.023Z"
   },
   {
    "duration": 78,
    "start_time": "2025-04-06T21:03:31.535Z"
   },
   {
    "duration": 4,
    "start_time": "2025-04-06T21:03:33.716Z"
   },
   {
    "duration": 3,
    "start_time": "2025-04-06T21:03:36.116Z"
   },
   {
    "duration": 15,
    "start_time": "2025-04-06T21:03:40.695Z"
   },
   {
    "duration": 1183,
    "start_time": "2025-04-06T21:39:10.300Z"
   },
   {
    "duration": 262,
    "start_time": "2025-04-06T21:39:11.485Z"
   },
   {
    "duration": 3,
    "start_time": "2025-04-06T21:39:11.748Z"
   },
   {
    "duration": 829,
    "start_time": "2025-04-06T21:39:11.753Z"
   },
   {
    "duration": 4,
    "start_time": "2025-04-06T21:39:12.583Z"
   },
   {
    "duration": 915,
    "start_time": "2025-04-06T21:39:12.588Z"
   },
   {
    "duration": 4,
    "start_time": "2025-04-06T21:39:13.505Z"
   },
   {
    "duration": 31,
    "start_time": "2025-04-06T21:39:13.510Z"
   },
   {
    "duration": 507,
    "start_time": "2025-04-06T21:39:13.543Z"
   },
   {
    "duration": 21,
    "start_time": "2025-04-06T21:39:15.118Z"
   },
   {
    "duration": 17,
    "start_time": "2025-04-06T21:39:15.544Z"
   },
   {
    "duration": 90,
    "start_time": "2025-04-06T21:39:15.720Z"
   },
   {
    "duration": 121,
    "start_time": "2025-04-06T21:39:16.289Z"
   },
   {
    "duration": 3,
    "start_time": "2025-04-06T21:39:16.433Z"
   },
   {
    "duration": 108,
    "start_time": "2025-04-06T21:39:16.619Z"
   },
   {
    "duration": 31,
    "start_time": "2025-04-06T21:39:16.764Z"
   },
   {
    "duration": 92,
    "start_time": "2025-04-06T21:39:16.961Z"
   },
   {
    "duration": 4,
    "start_time": "2025-04-06T21:39:17.753Z"
   },
   {
    "duration": 4,
    "start_time": "2025-04-06T21:39:17.924Z"
   },
   {
    "duration": 3,
    "start_time": "2025-04-06T21:39:18.119Z"
   },
   {
    "duration": 3360,
    "start_time": "2025-04-06T21:39:18.299Z"
   },
   {
    "duration": 3154,
    "start_time": "2025-04-06T21:39:21.661Z"
   },
   {
    "duration": 24,
    "start_time": "2025-04-06T21:39:24.817Z"
   },
   {
    "duration": 29,
    "start_time": "2025-04-06T21:39:24.843Z"
   },
   {
    "duration": 15,
    "start_time": "2025-04-06T21:39:24.874Z"
   },
   {
    "duration": 21,
    "start_time": "2025-04-06T21:39:24.891Z"
   },
   {
    "duration": 23,
    "start_time": "2025-04-06T21:39:24.914Z"
   },
   {
    "duration": 29,
    "start_time": "2025-04-06T21:39:24.938Z"
   },
   {
    "duration": 20,
    "start_time": "2025-04-06T21:39:24.968Z"
   },
   {
    "duration": 11,
    "start_time": "2025-04-06T21:39:24.990Z"
   },
   {
    "duration": 61,
    "start_time": "2025-04-06T21:39:25.002Z"
   },
   {
    "duration": 3072,
    "start_time": "2025-04-06T21:39:25.064Z"
   },
   {
    "duration": 906,
    "start_time": "2025-04-06T21:39:28.138Z"
   },
   {
    "duration": 2244,
    "start_time": "2025-04-06T21:39:29.045Z"
   },
   {
    "duration": 18,
    "start_time": "2025-04-06T21:39:31.290Z"
   },
   {
    "duration": 35,
    "start_time": "2025-04-06T21:39:31.311Z"
   },
   {
    "duration": 4257,
    "start_time": "2025-04-06T21:39:31.348Z"
   },
   {
    "duration": 1112,
    "start_time": "2025-04-06T21:39:35.606Z"
   },
   {
    "duration": 112,
    "start_time": "2025-04-06T21:39:36.720Z"
   },
   {
    "duration": 15,
    "start_time": "2025-04-06T21:39:36.836Z"
   },
   {
    "duration": 3410,
    "start_time": "2025-04-06T21:39:36.852Z"
   },
   {
    "duration": 949,
    "start_time": "2025-04-06T21:39:40.263Z"
   },
   {
    "duration": 40,
    "start_time": "2025-04-06T21:39:41.214Z"
   },
   {
    "duration": 69,
    "start_time": "2025-04-06T21:39:41.256Z"
   },
   {
    "duration": 615,
    "start_time": "2025-04-06T21:39:52.812Z"
   },
   {
    "duration": 6,
    "start_time": "2025-04-06T21:39:55.678Z"
   },
   {
    "duration": 160,
    "start_time": "2025-04-06T21:40:00.080Z"
   },
   {
    "duration": 130665,
    "start_time": "2025-04-06T21:40:08.089Z"
   },
   {
    "duration": 31680,
    "start_time": "2025-04-06T21:42:18.756Z"
   },
   {
    "duration": 9,
    "start_time": "2025-04-06T21:42:59.071Z"
   },
   {
    "duration": 1845,
    "start_time": "2025-04-06T21:43:08.212Z"
   },
   {
    "duration": 111,
    "start_time": "2025-04-06T21:46:45.621Z"
   },
   {
    "duration": 10,
    "start_time": "2025-04-06T21:47:00.302Z"
   },
   {
    "duration": 1141,
    "start_time": "2025-04-06T21:48:51.613Z"
   },
   {
    "duration": 5,
    "start_time": "2025-04-06T21:55:51.805Z"
   },
   {
    "duration": 608,
    "start_time": "2025-04-06T21:56:04.612Z"
   },
   {
    "duration": 94,
    "start_time": "2025-04-06T21:57:15.289Z"
   },
   {
    "duration": 3,
    "start_time": "2025-04-06T21:57:22.639Z"
   },
   {
    "duration": 91,
    "start_time": "2025-04-06T21:57:24.434Z"
   },
   {
    "duration": 600,
    "start_time": "2025-04-06T21:57:37.817Z"
   },
   {
    "duration": 5,
    "start_time": "2025-04-06T21:59:05.729Z"
   },
   {
    "duration": 9,
    "start_time": "2025-04-06T21:59:07.340Z"
   },
   {
    "duration": 368,
    "start_time": "2025-04-06T22:03:08.381Z"
   },
   {
    "duration": 184,
    "start_time": "2025-04-06T22:03:40.254Z"
   },
   {
    "duration": 71363,
    "start_time": "2025-04-06T22:03:42.339Z"
   },
   {
    "duration": 6,
    "start_time": "2025-04-06T22:04:57.752Z"
   },
   {
    "duration": 375,
    "start_time": "2025-04-06T22:05:07.482Z"
   },
   {
    "duration": 26609,
    "start_time": "2025-04-06T22:05:09.442Z"
   },
   {
    "duration": 5,
    "start_time": "2025-04-06T22:07:09.116Z"
   },
   {
    "duration": 10,
    "start_time": "2025-04-06T22:07:11.432Z"
   },
   {
    "duration": 3,
    "start_time": "2025-04-06T22:09:05.682Z"
   },
   {
    "duration": 563,
    "start_time": "2025-04-06T22:09:18.231Z"
   },
   {
    "duration": 648,
    "start_time": "2025-04-06T22:13:50.430Z"
   },
   {
    "duration": 5,
    "start_time": "2025-04-06T22:13:56.029Z"
   },
   {
    "duration": 21632,
    "start_time": "2025-04-06T22:13:56.612Z"
   },
   {
    "duration": 591,
    "start_time": "2025-04-06T22:14:50.639Z"
   },
   {
    "duration": 5,
    "start_time": "2025-04-06T22:14:55.670Z"
   },
   {
    "duration": 727,
    "start_time": "2025-04-06T22:14:57.312Z"
   },
   {
    "duration": 4461,
    "start_time": "2025-04-06T22:32:13.571Z"
   },
   {
    "duration": 1145,
    "start_time": "2025-04-06T22:32:18.034Z"
   },
   {
    "duration": 264,
    "start_time": "2025-04-06T22:32:19.181Z"
   },
   {
    "duration": 3,
    "start_time": "2025-04-06T22:32:19.948Z"
   },
   {
    "duration": 2,
    "start_time": "2025-04-06T22:32:20.568Z"
   },
   {
    "duration": 823,
    "start_time": "2025-04-06T22:32:20.999Z"
   },
   {
    "duration": 4,
    "start_time": "2025-04-06T22:32:21.824Z"
   },
   {
    "duration": 863,
    "start_time": "2025-04-06T22:32:22.478Z"
   },
   {
    "duration": 3,
    "start_time": "2025-04-06T22:32:24.748Z"
   },
   {
    "duration": 22,
    "start_time": "2025-04-06T22:32:25.300Z"
   },
   {
    "duration": 477,
    "start_time": "2025-04-06T22:32:26.407Z"
   },
   {
    "duration": 20,
    "start_time": "2025-04-06T22:32:27.578Z"
   },
   {
    "duration": 17,
    "start_time": "2025-04-06T22:32:28.083Z"
   },
   {
    "duration": 86,
    "start_time": "2025-04-06T22:32:28.638Z"
   },
   {
    "duration": 123,
    "start_time": "2025-04-06T22:32:29.688Z"
   },
   {
    "duration": 3,
    "start_time": "2025-04-06T22:32:30.176Z"
   },
   {
    "duration": 109,
    "start_time": "2025-04-06T22:32:30.651Z"
   },
   {
    "duration": 32,
    "start_time": "2025-04-06T22:32:31.118Z"
   },
   {
    "duration": 96,
    "start_time": "2025-04-06T22:32:31.546Z"
   },
   {
    "duration": 5,
    "start_time": "2025-04-06T22:32:34.196Z"
   },
   {
    "duration": 4,
    "start_time": "2025-04-06T22:32:34.508Z"
   },
   {
    "duration": 3,
    "start_time": "2025-04-06T22:32:34.777Z"
   },
   {
    "duration": 3329,
    "start_time": "2025-04-06T22:32:35.037Z"
   },
   {
    "duration": 3137,
    "start_time": "2025-04-06T22:32:38.368Z"
   },
   {
    "duration": 12,
    "start_time": "2025-04-06T22:32:41.506Z"
   },
   {
    "duration": 40,
    "start_time": "2025-04-06T22:32:41.520Z"
   },
   {
    "duration": 16,
    "start_time": "2025-04-06T22:32:41.561Z"
   },
   {
    "duration": 76,
    "start_time": "2025-04-06T22:32:41.578Z"
   },
   {
    "duration": 6,
    "start_time": "2025-04-06T22:32:41.655Z"
   },
   {
    "duration": 27,
    "start_time": "2025-04-06T22:32:41.662Z"
   },
   {
    "duration": 18,
    "start_time": "2025-04-06T22:32:41.691Z"
   },
   {
    "duration": 31,
    "start_time": "2025-04-06T22:32:41.711Z"
   },
   {
    "duration": 28,
    "start_time": "2025-04-06T22:32:41.743Z"
   },
   {
    "duration": 2476,
    "start_time": "2025-04-06T22:32:41.773Z"
   },
   {
    "duration": 0,
    "start_time": "2025-04-06T22:32:44.251Z"
   },
   {
    "duration": 1,
    "start_time": "2025-04-06T22:32:44.252Z"
   },
   {
    "duration": 16,
    "start_time": "2025-04-06T22:32:46.548Z"
   },
   {
    "duration": 16,
    "start_time": "2025-04-06T22:32:53.598Z"
   },
   {
    "duration": 4068,
    "start_time": "2025-04-06T22:32:55.919Z"
   },
   {
    "duration": 1106,
    "start_time": "2025-04-06T22:32:59.989Z"
   },
   {
    "duration": 114,
    "start_time": "2025-04-06T22:33:01.097Z"
   },
   {
    "duration": 23,
    "start_time": "2025-04-06T22:33:01.213Z"
   },
   {
    "duration": 15,
    "start_time": "2025-04-06T22:33:01.238Z"
   },
   {
    "duration": 3416,
    "start_time": "2025-04-06T22:33:01.254Z"
   },
   {
    "duration": 922,
    "start_time": "2025-04-06T22:33:04.672Z"
   },
   {
    "duration": 95,
    "start_time": "2025-04-06T22:33:37.698Z"
   },
   {
    "duration": 3,
    "start_time": "2025-04-06T22:34:49.748Z"
   },
   {
    "duration": 1141,
    "start_time": "2025-04-06T22:43:57.747Z"
   },
   {
    "duration": 264,
    "start_time": "2025-04-06T22:43:58.890Z"
   },
   {
    "duration": 3,
    "start_time": "2025-04-06T22:43:59.155Z"
   },
   {
    "duration": 4,
    "start_time": "2025-04-06T22:43:59.160Z"
   },
   {
    "duration": 821,
    "start_time": "2025-04-06T22:43:59.166Z"
   },
   {
    "duration": 3,
    "start_time": "2025-04-06T22:43:59.989Z"
   },
   {
    "duration": 893,
    "start_time": "2025-04-06T22:43:59.994Z"
   },
   {
    "duration": 3,
    "start_time": "2025-04-06T22:44:00.889Z"
   },
   {
    "duration": 29,
    "start_time": "2025-04-06T22:44:00.894Z"
   },
   {
    "duration": 506,
    "start_time": "2025-04-06T22:44:00.924Z"
   },
   {
    "duration": 26,
    "start_time": "2025-04-06T22:44:01.432Z"
   },
   {
    "duration": 82,
    "start_time": "2025-04-06T22:44:01.460Z"
   },
   {
    "duration": 119,
    "start_time": "2025-04-06T22:44:01.544Z"
   },
   {
    "duration": 126,
    "start_time": "2025-04-06T22:44:01.665Z"
   },
   {
    "duration": 3,
    "start_time": "2025-04-06T22:44:01.792Z"
   },
   {
    "duration": 129,
    "start_time": "2025-04-06T22:44:01.796Z"
   },
   {
    "duration": 34,
    "start_time": "2025-04-06T22:44:01.927Z"
   },
   {
    "duration": 111,
    "start_time": "2025-04-06T22:44:01.963Z"
   },
   {
    "duration": 4,
    "start_time": "2025-04-06T22:44:02.240Z"
   },
   {
    "duration": 3,
    "start_time": "2025-04-06T22:44:02.399Z"
   },
   {
    "duration": 2,
    "start_time": "2025-04-06T22:44:02.539Z"
   },
   {
    "duration": 3329,
    "start_time": "2025-04-06T22:44:02.835Z"
   },
   {
    "duration": 3062,
    "start_time": "2025-04-06T22:44:06.167Z"
   },
   {
    "duration": 17,
    "start_time": "2025-04-06T22:44:09.231Z"
   },
   {
    "duration": 40,
    "start_time": "2025-04-06T22:44:09.250Z"
   },
   {
    "duration": 16,
    "start_time": "2025-04-06T22:44:09.292Z"
   },
   {
    "duration": 29,
    "start_time": "2025-04-06T22:44:09.310Z"
   },
   {
    "duration": 6,
    "start_time": "2025-04-06T22:44:09.341Z"
   },
   {
    "duration": 46,
    "start_time": "2025-04-06T22:44:09.348Z"
   },
   {
    "duration": 18,
    "start_time": "2025-04-06T22:44:09.396Z"
   },
   {
    "duration": 22,
    "start_time": "2025-04-06T22:44:09.416Z"
   },
   {
    "duration": 56,
    "start_time": "2025-04-06T22:44:09.439Z"
   },
   {
    "duration": 3002,
    "start_time": "2025-04-06T22:44:09.496Z"
   },
   {
    "duration": 879,
    "start_time": "2025-04-06T22:44:12.500Z"
   },
   {
    "duration": 2180,
    "start_time": "2025-04-06T22:44:13.381Z"
   },
   {
    "duration": 15,
    "start_time": "2025-04-06T22:44:15.563Z"
   },
   {
    "duration": 23,
    "start_time": "2025-04-06T22:44:15.579Z"
   },
   {
    "duration": 4140,
    "start_time": "2025-04-06T22:44:15.605Z"
   },
   {
    "duration": 1092,
    "start_time": "2025-04-06T22:44:19.748Z"
   },
   {
    "duration": 128,
    "start_time": "2025-04-06T22:44:20.841Z"
   },
   {
    "duration": 28,
    "start_time": "2025-04-06T22:44:20.971Z"
   },
   {
    "duration": 15,
    "start_time": "2025-04-06T22:44:21.000Z"
   },
   {
    "duration": 3388,
    "start_time": "2025-04-06T22:44:21.016Z"
   },
   {
    "duration": 989,
    "start_time": "2025-04-06T22:44:24.407Z"
   },
   {
    "duration": 755,
    "start_time": "2025-04-06T22:48:52.299Z"
   },
   {
    "duration": 550,
    "start_time": "2025-04-06T22:48:55.288Z"
   },
   {
    "duration": 1379,
    "start_time": "2025-04-06T22:52:45.008Z"
   },
   {
    "duration": 267,
    "start_time": "2025-04-06T22:52:46.389Z"
   },
   {
    "duration": 3,
    "start_time": "2025-04-06T22:52:46.657Z"
   },
   {
    "duration": 3,
    "start_time": "2025-04-06T22:52:46.661Z"
   },
   {
    "duration": 827,
    "start_time": "2025-04-06T22:52:46.665Z"
   },
   {
    "duration": 4,
    "start_time": "2025-04-06T22:52:47.494Z"
   },
   {
    "duration": 828,
    "start_time": "2025-04-06T22:52:47.499Z"
   },
   {
    "duration": 8,
    "start_time": "2025-04-06T22:52:48.329Z"
   },
   {
    "duration": 22,
    "start_time": "2025-04-06T22:52:48.338Z"
   },
   {
    "duration": 476,
    "start_time": "2025-04-06T22:52:48.362Z"
   },
   {
    "duration": 25,
    "start_time": "2025-04-06T22:52:48.840Z"
   },
   {
    "duration": 25,
    "start_time": "2025-04-06T22:52:48.866Z"
   },
   {
    "duration": 109,
    "start_time": "2025-04-06T22:52:48.893Z"
   },
   {
    "duration": 137,
    "start_time": "2025-04-06T22:52:49.004Z"
   },
   {
    "duration": 3,
    "start_time": "2025-04-06T22:52:49.142Z"
   },
   {
    "duration": 124,
    "start_time": "2025-04-06T22:52:49.148Z"
   },
   {
    "duration": 1165,
    "start_time": "2025-04-06T22:52:55.329Z"
   },
   {
    "duration": 268,
    "start_time": "2025-04-06T22:52:56.495Z"
   },
   {
    "duration": 2,
    "start_time": "2025-04-06T22:52:56.765Z"
   },
   {
    "duration": 12,
    "start_time": "2025-04-06T22:52:56.769Z"
   },
   {
    "duration": 833,
    "start_time": "2025-04-06T22:52:57.006Z"
   },
   {
    "duration": 3,
    "start_time": "2025-04-06T22:52:57.841Z"
   },
   {
    "duration": 851,
    "start_time": "2025-04-06T22:52:57.846Z"
   },
   {
    "duration": 3,
    "start_time": "2025-04-06T22:52:58.699Z"
   },
   {
    "duration": 37,
    "start_time": "2025-04-06T22:52:58.703Z"
   },
   {
    "duration": 538,
    "start_time": "2025-04-06T22:52:58.742Z"
   },
   {
    "duration": 25,
    "start_time": "2025-04-06T22:52:59.281Z"
   },
   {
    "duration": 34,
    "start_time": "2025-04-06T22:52:59.309Z"
   },
   {
    "duration": 97,
    "start_time": "2025-04-06T22:52:59.344Z"
   },
   {
    "duration": 129,
    "start_time": "2025-04-06T22:52:59.443Z"
   },
   {
    "duration": 3,
    "start_time": "2025-04-06T22:52:59.574Z"
   },
   {
    "duration": 108,
    "start_time": "2025-04-06T22:52:59.655Z"
   },
   {
    "duration": 30,
    "start_time": "2025-04-06T22:52:59.829Z"
   },
   {
    "duration": 91,
    "start_time": "2025-04-06T22:53:00.336Z"
   },
   {
    "duration": 90,
    "start_time": "2025-04-06T22:53:00.966Z"
   },
   {
    "duration": 7,
    "start_time": "2025-04-06T22:53:01.510Z"
   },
   {
    "duration": 3,
    "start_time": "2025-04-06T22:53:01.708Z"
   },
   {
    "duration": 2,
    "start_time": "2025-04-06T22:53:01.888Z"
   },
   {
    "duration": 3262,
    "start_time": "2025-04-06T22:53:02.049Z"
   },
   {
    "duration": 3112,
    "start_time": "2025-04-06T22:53:05.313Z"
   },
   {
    "duration": 21,
    "start_time": "2025-04-06T22:53:08.426Z"
   },
   {
    "duration": 30,
    "start_time": "2025-04-06T22:53:08.449Z"
   },
   {
    "duration": 15,
    "start_time": "2025-04-06T22:53:08.481Z"
   },
   {
    "duration": 39,
    "start_time": "2025-04-06T22:53:08.498Z"
   },
   {
    "duration": 26,
    "start_time": "2025-04-06T22:53:08.539Z"
   },
   {
    "duration": 50,
    "start_time": "2025-04-06T22:53:08.566Z"
   },
   {
    "duration": 18,
    "start_time": "2025-04-06T22:53:08.617Z"
   },
   {
    "duration": 10,
    "start_time": "2025-04-06T22:53:08.637Z"
   },
   {
    "duration": 28,
    "start_time": "2025-04-06T22:53:08.649Z"
   },
   {
    "duration": 3064,
    "start_time": "2025-04-06T22:53:08.678Z"
   },
   {
    "duration": 901,
    "start_time": "2025-04-06T22:53:11.744Z"
   },
   {
    "duration": 2164,
    "start_time": "2025-04-06T22:53:12.646Z"
   },
   {
    "duration": 15,
    "start_time": "2025-04-06T22:53:14.811Z"
   },
   {
    "duration": 18,
    "start_time": "2025-04-06T22:53:14.835Z"
   },
   {
    "duration": 4090,
    "start_time": "2025-04-06T22:53:14.855Z"
   },
   {
    "duration": 1127,
    "start_time": "2025-04-06T22:53:18.947Z"
   },
   {
    "duration": 134,
    "start_time": "2025-04-06T22:53:20.076Z"
   },
   {
    "duration": 33,
    "start_time": "2025-04-06T22:53:20.211Z"
   },
   {
    "duration": 15,
    "start_time": "2025-04-06T22:53:20.246Z"
   },
   {
    "duration": 3317,
    "start_time": "2025-04-06T22:53:20.263Z"
   },
   {
    "duration": 958,
    "start_time": "2025-04-06T22:53:23.581Z"
   },
   {
    "duration": 241,
    "start_time": "2025-04-06T22:53:27.651Z"
   },
   {
    "duration": 3,
    "start_time": "2025-04-06T22:53:58.220Z"
   },
   {
    "duration": 1095,
    "start_time": "2025-04-06T23:10:09.592Z"
   },
   {
    "duration": 261,
    "start_time": "2025-04-06T23:10:10.689Z"
   },
   {
    "duration": 3,
    "start_time": "2025-04-06T23:10:10.952Z"
   },
   {
    "duration": 9,
    "start_time": "2025-04-06T23:10:10.956Z"
   },
   {
    "duration": 819,
    "start_time": "2025-04-06T23:10:10.967Z"
   },
   {
    "duration": 3,
    "start_time": "2025-04-06T23:10:11.788Z"
   },
   {
    "duration": 899,
    "start_time": "2025-04-06T23:10:11.792Z"
   },
   {
    "duration": 4,
    "start_time": "2025-04-06T23:10:12.693Z"
   },
   {
    "duration": 25,
    "start_time": "2025-04-06T23:10:12.699Z"
   },
   {
    "duration": 431,
    "start_time": "2025-04-06T23:10:12.737Z"
   },
   {
    "duration": 20,
    "start_time": "2025-04-06T23:10:13.170Z"
   },
   {
    "duration": 65,
    "start_time": "2025-04-06T23:10:13.192Z"
   },
   {
    "duration": 102,
    "start_time": "2025-04-06T23:10:13.260Z"
   },
   {
    "duration": 134,
    "start_time": "2025-04-06T23:10:13.364Z"
   },
   {
    "duration": 3,
    "start_time": "2025-04-06T23:10:13.500Z"
   },
   {
    "duration": 108,
    "start_time": "2025-04-06T23:10:13.578Z"
   },
   {
    "duration": 32,
    "start_time": "2025-04-06T23:10:13.758Z"
   },
   {
    "duration": 96,
    "start_time": "2025-04-06T23:10:13.929Z"
   },
   {
    "duration": 4,
    "start_time": "2025-04-06T23:10:14.356Z"
   },
   {
    "duration": 3,
    "start_time": "2025-04-06T23:10:14.484Z"
   },
   {
    "duration": 2,
    "start_time": "2025-04-06T23:10:14.667Z"
   },
   {
    "duration": 3399,
    "start_time": "2025-04-06T23:10:14.829Z"
   },
   {
    "duration": 3189,
    "start_time": "2025-04-06T23:10:18.230Z"
   },
   {
    "duration": 20,
    "start_time": "2025-04-06T23:10:21.421Z"
   },
   {
    "duration": 46,
    "start_time": "2025-04-06T23:10:21.443Z"
   },
   {
    "duration": 16,
    "start_time": "2025-04-06T23:10:21.491Z"
   },
   {
    "duration": 45,
    "start_time": "2025-04-06T23:10:21.508Z"
   },
   {
    "duration": 5,
    "start_time": "2025-04-06T23:10:21.555Z"
   },
   {
    "duration": 29,
    "start_time": "2025-04-06T23:10:21.561Z"
   },
   {
    "duration": 19,
    "start_time": "2025-04-06T23:10:21.591Z"
   },
   {
    "duration": 111,
    "start_time": "2025-04-06T23:10:21.612Z"
   },
   {
    "duration": 28,
    "start_time": "2025-04-06T23:10:21.725Z"
   },
   {
    "duration": 3091,
    "start_time": "2025-04-06T23:10:21.754Z"
   },
   {
    "duration": 875,
    "start_time": "2025-04-06T23:10:24.847Z"
   },
   {
    "duration": 2160,
    "start_time": "2025-04-06T23:10:25.724Z"
   },
   {
    "duration": 18,
    "start_time": "2025-04-06T23:10:27.886Z"
   },
   {
    "duration": 33,
    "start_time": "2025-04-06T23:10:27.905Z"
   },
   {
    "duration": 4142,
    "start_time": "2025-04-06T23:10:27.939Z"
   },
   {
    "duration": 1103,
    "start_time": "2025-04-06T23:10:32.082Z"
   },
   {
    "duration": 151,
    "start_time": "2025-04-06T23:10:33.187Z"
   },
   {
    "duration": 28,
    "start_time": "2025-04-06T23:10:33.339Z"
   },
   {
    "duration": 15,
    "start_time": "2025-04-06T23:10:33.368Z"
   },
   {
    "duration": 3370,
    "start_time": "2025-04-06T23:10:33.386Z"
   },
   {
    "duration": 940,
    "start_time": "2025-04-06T23:10:36.758Z"
   },
   {
    "duration": 3,
    "start_time": "2025-04-06T23:10:37.700Z"
   },
   {
    "duration": 45,
    "start_time": "2025-04-06T23:10:37.704Z"
   },
   {
    "duration": 2,
    "start_time": "2025-04-06T23:10:42.639Z"
   },
   {
    "duration": 721,
    "start_time": "2025-04-06T23:10:42.998Z"
   },
   {
    "duration": 510,
    "start_time": "2025-04-06T23:10:46.733Z"
   },
   {
    "duration": 1113,
    "start_time": "2025-04-06T23:23:46.057Z"
   },
   {
    "duration": 256,
    "start_time": "2025-04-06T23:23:47.171Z"
   },
   {
    "duration": 2,
    "start_time": "2025-04-06T23:23:47.429Z"
   },
   {
    "duration": 3,
    "start_time": "2025-04-06T23:23:47.589Z"
   },
   {
    "duration": 837,
    "start_time": "2025-04-06T23:23:47.719Z"
   },
   {
    "duration": 4,
    "start_time": "2025-04-06T23:23:48.557Z"
   },
   {
    "duration": 874,
    "start_time": "2025-04-06T23:23:48.562Z"
   },
   {
    "duration": 3,
    "start_time": "2025-04-06T23:23:49.438Z"
   },
   {
    "duration": 21,
    "start_time": "2025-04-06T23:23:49.443Z"
   },
   {
    "duration": 452,
    "start_time": "2025-04-06T23:23:49.465Z"
   },
   {
    "duration": 24,
    "start_time": "2025-04-06T23:23:49.919Z"
   },
   {
    "duration": 17,
    "start_time": "2025-04-06T23:23:49.945Z"
   },
   {
    "duration": 105,
    "start_time": "2025-04-06T23:23:49.963Z"
   },
   {
    "duration": 128,
    "start_time": "2025-04-06T23:23:50.070Z"
   },
   {
    "duration": 3,
    "start_time": "2025-04-06T23:23:50.200Z"
   },
   {
    "duration": 107,
    "start_time": "2025-04-06T23:23:50.358Z"
   },
   {
    "duration": 31,
    "start_time": "2025-04-06T23:23:50.555Z"
   },
   {
    "duration": 92,
    "start_time": "2025-04-06T23:23:51.631Z"
   },
   {
    "duration": 5,
    "start_time": "2025-04-06T23:23:52.188Z"
   },
   {
    "duration": 4,
    "start_time": "2025-04-06T23:23:52.319Z"
   },
   {
    "duration": 3,
    "start_time": "2025-04-06T23:23:52.507Z"
   },
   {
    "duration": 3377,
    "start_time": "2025-04-06T23:23:52.676Z"
   },
   {
    "duration": 3083,
    "start_time": "2025-04-06T23:23:56.055Z"
   },
   {
    "duration": 13,
    "start_time": "2025-04-06T23:23:59.139Z"
   },
   {
    "duration": 29,
    "start_time": "2025-04-06T23:23:59.153Z"
   },
   {
    "duration": 17,
    "start_time": "2025-04-06T23:23:59.183Z"
   },
   {
    "duration": 41,
    "start_time": "2025-04-06T23:23:59.201Z"
   },
   {
    "duration": 63,
    "start_time": "2025-04-06T23:23:59.243Z"
   },
   {
    "duration": 29,
    "start_time": "2025-04-06T23:23:59.307Z"
   },
   {
    "duration": 17,
    "start_time": "2025-04-06T23:23:59.338Z"
   },
   {
    "duration": 11,
    "start_time": "2025-04-06T23:23:59.357Z"
   },
   {
    "duration": 46,
    "start_time": "2025-04-06T23:23:59.369Z"
   },
   {
    "duration": 3085,
    "start_time": "2025-04-06T23:23:59.416Z"
   },
   {
    "duration": 910,
    "start_time": "2025-04-06T23:24:02.503Z"
   },
   {
    "duration": 2192,
    "start_time": "2025-04-06T23:24:03.415Z"
   },
   {
    "duration": 16,
    "start_time": "2025-04-06T23:24:05.608Z"
   },
   {
    "duration": 36,
    "start_time": "2025-04-06T23:24:05.625Z"
   },
   {
    "duration": 4145,
    "start_time": "2025-04-06T23:24:05.663Z"
   },
   {
    "duration": 1126,
    "start_time": "2025-04-06T23:24:09.810Z"
   },
   {
    "duration": 127,
    "start_time": "2025-04-06T23:24:10.938Z"
   },
   {
    "duration": 28,
    "start_time": "2025-04-06T23:24:11.067Z"
   },
   {
    "duration": 16,
    "start_time": "2025-04-06T23:24:11.096Z"
   },
   {
    "duration": 3362,
    "start_time": "2025-04-06T23:24:11.114Z"
   },
   {
    "duration": 954,
    "start_time": "2025-04-06T23:24:14.477Z"
   },
   {
    "duration": 728,
    "start_time": "2025-04-06T23:24:24.911Z"
   },
   {
    "duration": 553,
    "start_time": "2025-04-06T23:24:26.985Z"
   },
   {
    "duration": 1172,
    "start_time": "2025-04-06T23:25:48.697Z"
   },
   {
    "duration": 276,
    "start_time": "2025-04-06T23:25:49.871Z"
   },
   {
    "duration": 3,
    "start_time": "2025-04-06T23:25:50.148Z"
   },
   {
    "duration": 4,
    "start_time": "2025-04-06T23:25:50.153Z"
   },
   {
    "duration": 833,
    "start_time": "2025-04-06T23:25:50.159Z"
   },
   {
    "duration": 4,
    "start_time": "2025-04-06T23:25:50.994Z"
   },
   {
    "duration": 813,
    "start_time": "2025-04-06T23:25:51.000Z"
   },
   {
    "duration": 3,
    "start_time": "2025-04-06T23:25:51.815Z"
   },
   {
    "duration": 104,
    "start_time": "2025-04-06T23:25:51.820Z"
   },
   {
    "duration": 481,
    "start_time": "2025-04-06T23:25:51.926Z"
   },
   {
    "duration": 23,
    "start_time": "2025-04-06T23:25:52.409Z"
   },
   {
    "duration": 52,
    "start_time": "2025-04-06T23:25:52.437Z"
   },
   {
    "duration": 108,
    "start_time": "2025-04-06T23:25:52.491Z"
   },
   {
    "duration": 194,
    "start_time": "2025-04-06T23:25:52.601Z"
   },
   {
    "duration": 2,
    "start_time": "2025-04-06T23:25:52.798Z"
   },
   {
    "duration": 119,
    "start_time": "2025-04-06T23:25:52.802Z"
   },
   {
    "duration": 34,
    "start_time": "2025-04-06T23:25:52.923Z"
   },
   {
    "duration": 99,
    "start_time": "2025-04-06T23:25:52.959Z"
   },
   {
    "duration": 5,
    "start_time": "2025-04-06T23:25:53.059Z"
   },
   {
    "duration": 4,
    "start_time": "2025-04-06T23:25:53.157Z"
   },
   {
    "duration": 3,
    "start_time": "2025-04-06T23:25:53.319Z"
   },
   {
    "duration": 3326,
    "start_time": "2025-04-06T23:25:53.519Z"
   },
   {
    "duration": 3092,
    "start_time": "2025-04-06T23:25:56.847Z"
   },
   {
    "duration": 13,
    "start_time": "2025-04-06T23:25:59.941Z"
   },
   {
    "duration": 28,
    "start_time": "2025-04-06T23:25:59.956Z"
   },
   {
    "duration": 18,
    "start_time": "2025-04-06T23:25:59.985Z"
   },
   {
    "duration": 49,
    "start_time": "2025-04-06T23:26:00.004Z"
   },
   {
    "duration": 22,
    "start_time": "2025-04-06T23:26:00.055Z"
   },
   {
    "duration": 135,
    "start_time": "2025-04-06T23:26:00.079Z"
   },
   {
    "duration": 19,
    "start_time": "2025-04-06T23:26:00.216Z"
   },
   {
    "duration": 32,
    "start_time": "2025-04-06T23:26:00.237Z"
   },
   {
    "duration": 92,
    "start_time": "2025-04-06T23:26:00.270Z"
   },
   {
    "duration": 3004,
    "start_time": "2025-04-06T23:26:00.364Z"
   },
   {
    "duration": 857,
    "start_time": "2025-04-06T23:26:03.369Z"
   },
   {
    "duration": 2196,
    "start_time": "2025-04-06T23:26:04.227Z"
   },
   {
    "duration": 23,
    "start_time": "2025-04-06T23:26:06.425Z"
   },
   {
    "duration": 16,
    "start_time": "2025-04-06T23:26:06.450Z"
   },
   {
    "duration": 4162,
    "start_time": "2025-04-06T23:26:06.468Z"
   },
   {
    "duration": 1088,
    "start_time": "2025-04-06T23:26:10.636Z"
   },
   {
    "duration": 123,
    "start_time": "2025-04-06T23:26:11.726Z"
   },
   {
    "duration": 27,
    "start_time": "2025-04-06T23:26:11.851Z"
   },
   {
    "duration": 46,
    "start_time": "2025-04-06T23:26:11.879Z"
   },
   {
    "duration": 3389,
    "start_time": "2025-04-06T23:26:11.926Z"
   },
   {
    "duration": 977,
    "start_time": "2025-04-06T23:26:15.317Z"
   },
   {
    "duration": 705,
    "start_time": "2025-04-06T23:26:19.947Z"
   },
   {
    "duration": 683,
    "start_time": "2025-04-06T23:26:20.654Z"
   },
   {
    "duration": 2148,
    "start_time": "2025-04-06T23:26:22.839Z"
   },
   {
    "duration": 218,
    "start_time": "2025-04-06T23:26:27.580Z"
   },
   {
    "duration": 98920,
    "start_time": "2025-04-06T23:28:43.897Z"
   },
   {
    "duration": 71,
    "start_time": "2025-04-06T23:38:54.096Z"
   },
   {
    "duration": 27,
    "start_time": "2025-04-06T23:41:29.620Z"
   },
   {
    "duration": 26,
    "start_time": "2025-04-06T23:50:57.535Z"
   },
   {
    "duration": 1225,
    "start_time": "2025-04-07T00:05:39.512Z"
   },
   {
    "duration": 2,
    "start_time": "2025-04-07T00:06:27.032Z"
   },
   {
    "duration": 13626,
    "start_time": "2025-04-07T00:06:28.427Z"
   },
   {
    "duration": 5755,
    "start_time": "2025-04-07T00:11:51.391Z"
   },
   {
    "duration": 66,
    "start_time": "2025-04-07T00:34:10.866Z"
   },
   {
    "duration": 6,
    "start_time": "2025-04-07T00:36:03.206Z"
   },
   {
    "duration": 4572,
    "start_time": "2025-04-07T00:37:23.326Z"
   },
   {
    "duration": 5932,
    "start_time": "2025-04-07T00:39:58.207Z"
   },
   {
    "duration": 11,
    "start_time": "2025-04-07T00:40:58.028Z"
   },
   {
    "duration": 8339,
    "start_time": "2025-04-07T00:51:47.411Z"
   },
   {
    "duration": 1389,
    "start_time": "2025-04-07T01:02:10.646Z"
   },
   {
    "duration": 2,
    "start_time": "2025-04-07T01:02:12.037Z"
   },
   {
    "duration": 865,
    "start_time": "2025-04-07T01:02:12.041Z"
   },
   {
    "duration": 4,
    "start_time": "2025-04-07T01:02:12.908Z"
   },
   {
    "duration": 839,
    "start_time": "2025-04-07T01:02:12.913Z"
   },
   {
    "duration": 3,
    "start_time": "2025-04-07T01:02:13.754Z"
   },
   {
    "duration": 22,
    "start_time": "2025-04-07T01:02:13.759Z"
   },
   {
    "duration": 450,
    "start_time": "2025-04-07T01:02:13.783Z"
   },
   {
    "duration": 19,
    "start_time": "2025-04-07T01:02:14.236Z"
   },
   {
    "duration": 51,
    "start_time": "2025-04-07T01:02:14.257Z"
   },
   {
    "duration": 99,
    "start_time": "2025-04-07T01:02:14.309Z"
   },
   {
    "duration": 131,
    "start_time": "2025-04-07T01:02:14.410Z"
   },
   {
    "duration": 5,
    "start_time": "2025-04-07T01:02:14.543Z"
   },
   {
    "duration": 123,
    "start_time": "2025-04-07T01:02:14.550Z"
   },
   {
    "duration": 31,
    "start_time": "2025-04-07T01:02:14.674Z"
   },
   {
    "duration": 103,
    "start_time": "2025-04-07T01:02:14.707Z"
   },
   {
    "duration": 5,
    "start_time": "2025-04-07T01:02:15.125Z"
   },
   {
    "duration": 3,
    "start_time": "2025-04-07T01:02:15.286Z"
   },
   {
    "duration": 2,
    "start_time": "2025-04-07T01:02:15.476Z"
   },
   {
    "duration": 3257,
    "start_time": "2025-04-07T01:02:15.644Z"
   },
   {
    "duration": 3104,
    "start_time": "2025-04-07T01:02:18.903Z"
   },
   {
    "duration": 11,
    "start_time": "2025-04-07T01:02:22.009Z"
   },
   {
    "duration": 30,
    "start_time": "2025-04-07T01:02:22.036Z"
   },
   {
    "duration": 69,
    "start_time": "2025-04-07T01:02:22.067Z"
   },
   {
    "duration": 130,
    "start_time": "2025-04-07T01:02:22.137Z"
   },
   {
    "duration": 79,
    "start_time": "2025-04-07T01:02:22.269Z"
   },
   {
    "duration": 35,
    "start_time": "2025-04-07T01:02:22.350Z"
   },
   {
    "duration": 18,
    "start_time": "2025-04-07T01:02:22.387Z"
   },
   {
    "duration": 11,
    "start_time": "2025-04-07T01:02:22.407Z"
   },
   {
    "duration": 33,
    "start_time": "2025-04-07T01:02:22.419Z"
   },
   {
    "duration": 3012,
    "start_time": "2025-04-07T01:02:22.454Z"
   },
   {
    "duration": 862,
    "start_time": "2025-04-07T01:02:25.468Z"
   },
   {
    "duration": 2134,
    "start_time": "2025-04-07T01:02:26.337Z"
   },
   {
    "duration": 16,
    "start_time": "2025-04-07T01:02:28.473Z"
   },
   {
    "duration": 56,
    "start_time": "2025-04-07T01:02:28.490Z"
   },
   {
    "duration": 4151,
    "start_time": "2025-04-07T01:02:28.548Z"
   },
   {
    "duration": 1076,
    "start_time": "2025-04-07T01:02:32.700Z"
   },
   {
    "duration": 133,
    "start_time": "2025-04-07T01:02:33.778Z"
   },
   {
    "duration": 39,
    "start_time": "2025-04-07T01:02:33.913Z"
   },
   {
    "duration": 16,
    "start_time": "2025-04-07T01:02:33.954Z"
   },
   {
    "duration": 3389,
    "start_time": "2025-04-07T01:02:33.972Z"
   },
   {
    "duration": 940,
    "start_time": "2025-04-07T01:02:37.363Z"
   },
   {
    "duration": 77,
    "start_time": "2025-04-07T01:02:38.306Z"
   },
   {
    "duration": 139,
    "start_time": "2025-04-07T01:32:05.364Z"
   },
   {
    "duration": 988,
    "start_time": "2025-04-07T01:32:15.066Z"
   },
   {
    "duration": 34121,
    "start_time": "2025-04-07T01:32:40.234Z"
   },
   {
    "duration": 27444,
    "start_time": "2025-04-07T01:33:20.367Z"
   },
   {
    "duration": 4210,
    "start_time": "2025-04-07T01:34:10.940Z"
   },
   {
    "duration": 116,
    "start_time": "2025-04-07T01:40:52.215Z"
   },
   {
    "duration": 6346,
    "start_time": "2025-04-07T03:21:38.819Z"
   },
   {
    "duration": 1820,
    "start_time": "2025-04-07T03:21:45.168Z"
   },
   {
    "duration": 3,
    "start_time": "2025-04-07T03:21:46.990Z"
   },
   {
    "duration": 962,
    "start_time": "2025-04-07T03:21:52.538Z"
   },
   {
    "duration": 5,
    "start_time": "2025-04-07T03:21:53.502Z"
   },
   {
    "duration": 927,
    "start_time": "2025-04-07T03:21:53.737Z"
   },
   {
    "duration": 4,
    "start_time": "2025-04-07T03:21:54.666Z"
   },
   {
    "duration": 22,
    "start_time": "2025-04-07T03:21:54.725Z"
   },
   {
    "duration": 483,
    "start_time": "2025-04-07T03:21:54.977Z"
   },
   {
    "duration": 21,
    "start_time": "2025-04-07T03:21:55.462Z"
   },
   {
    "duration": 17,
    "start_time": "2025-04-07T03:21:55.575Z"
   },
   {
    "duration": 92,
    "start_time": "2025-04-07T03:21:55.746Z"
   },
   {
    "duration": 126,
    "start_time": "2025-04-07T03:21:56.073Z"
   },
   {
    "duration": 2,
    "start_time": "2025-04-07T03:21:56.393Z"
   },
   {
    "duration": 125,
    "start_time": "2025-04-07T03:21:56.592Z"
   },
   {
    "duration": 38,
    "start_time": "2025-04-07T03:21:56.769Z"
   },
   {
    "duration": 101,
    "start_time": "2025-04-07T03:21:56.953Z"
   },
   {
    "duration": 5,
    "start_time": "2025-04-07T03:21:57.626Z"
   },
   {
    "duration": 4,
    "start_time": "2025-04-07T03:21:57.922Z"
   },
   {
    "duration": 3,
    "start_time": "2025-04-07T03:21:58.112Z"
   },
   {
    "duration": 3757,
    "start_time": "2025-04-07T03:21:58.273Z"
   },
   {
    "duration": 3478,
    "start_time": "2025-04-07T03:22:02.032Z"
   },
   {
    "duration": 14,
    "start_time": "2025-04-07T03:22:05.511Z"
   },
   {
    "duration": 104,
    "start_time": "2025-04-07T03:22:05.527Z"
   },
   {
    "duration": 56,
    "start_time": "2025-04-07T03:22:05.633Z"
   },
   {
    "duration": 57,
    "start_time": "2025-04-07T03:22:05.691Z"
   },
   {
    "duration": 108,
    "start_time": "2025-04-07T03:22:05.750Z"
   },
   {
    "duration": 48,
    "start_time": "2025-04-07T03:22:05.860Z"
   },
   {
    "duration": 65,
    "start_time": "2025-04-07T03:22:05.910Z"
   },
   {
    "duration": 38,
    "start_time": "2025-04-07T03:22:05.978Z"
   },
   {
    "duration": 86,
    "start_time": "2025-04-07T03:22:06.018Z"
   },
   {
    "duration": 3381,
    "start_time": "2025-04-07T03:22:06.105Z"
   },
   {
    "duration": 984,
    "start_time": "2025-04-07T03:22:09.487Z"
   },
   {
    "duration": 2414,
    "start_time": "2025-04-07T03:22:10.473Z"
   },
   {
    "duration": 19,
    "start_time": "2025-04-07T03:22:12.888Z"
   },
   {
    "duration": 28,
    "start_time": "2025-04-07T03:22:12.910Z"
   },
   {
    "duration": 4663,
    "start_time": "2025-04-07T03:22:12.940Z"
   },
   {
    "duration": 1246,
    "start_time": "2025-04-07T03:22:17.604Z"
   },
   {
    "duration": 130,
    "start_time": "2025-04-07T03:22:18.852Z"
   },
   {
    "duration": 31,
    "start_time": "2025-04-07T03:22:18.983Z"
   },
   {
    "duration": 15,
    "start_time": "2025-04-07T03:22:19.016Z"
   },
   {
    "duration": 3723,
    "start_time": "2025-04-07T03:22:19.033Z"
   },
   {
    "duration": 1059,
    "start_time": "2025-04-07T03:22:22.760Z"
   },
   {
    "duration": 80,
    "start_time": "2025-04-07T03:22:23.823Z"
   },
   {
    "duration": 172,
    "start_time": "2025-04-07T03:22:23.905Z"
   },
   {
    "duration": 382,
    "start_time": "2025-04-07T03:25:37.813Z"
   },
   {
    "duration": 155,
    "start_time": "2025-04-07T03:25:51.823Z"
   },
   {
    "duration": 6,
    "start_time": "2025-04-07T03:25:54.690Z"
   },
   {
    "duration": 1517,
    "start_time": "2025-04-07T03:33:21.208Z"
   },
   {
    "duration": 2,
    "start_time": "2025-04-07T03:33:22.727Z"
   },
   {
    "duration": 956,
    "start_time": "2025-04-07T03:33:22.731Z"
   },
   {
    "duration": 3,
    "start_time": "2025-04-07T03:33:23.690Z"
   },
   {
    "duration": 989,
    "start_time": "2025-04-07T03:33:23.695Z"
   },
   {
    "duration": 3,
    "start_time": "2025-04-07T03:33:24.686Z"
   },
   {
    "duration": 26,
    "start_time": "2025-04-07T03:33:24.690Z"
   },
   {
    "duration": 562,
    "start_time": "2025-04-07T03:33:24.718Z"
   },
   {
    "duration": 22,
    "start_time": "2025-04-07T03:33:25.282Z"
   },
   {
    "duration": 77,
    "start_time": "2025-04-07T03:33:25.306Z"
   },
   {
    "duration": 131,
    "start_time": "2025-04-07T03:33:25.384Z"
   },
   {
    "duration": 145,
    "start_time": "2025-04-07T03:33:25.516Z"
   },
   {
    "duration": 3,
    "start_time": "2025-04-07T03:33:25.664Z"
   },
   {
    "duration": 142,
    "start_time": "2025-04-07T03:33:25.668Z"
   },
   {
    "duration": 36,
    "start_time": "2025-04-07T03:33:25.811Z"
   },
   {
    "duration": 112,
    "start_time": "2025-04-07T03:33:25.849Z"
   },
   {
    "duration": 5,
    "start_time": "2025-04-07T03:33:25.963Z"
   },
   {
    "duration": 22,
    "start_time": "2025-04-07T03:33:25.970Z"
   },
   {
    "duration": 73,
    "start_time": "2025-04-07T03:33:25.994Z"
   },
   {
    "duration": 3798,
    "start_time": "2025-04-07T03:33:26.069Z"
   },
   {
    "duration": 3395,
    "start_time": "2025-04-07T03:33:29.869Z"
   },
   {
    "duration": 13,
    "start_time": "2025-04-07T03:33:33.267Z"
   },
   {
    "duration": 43,
    "start_time": "2025-04-07T03:33:33.282Z"
   },
   {
    "duration": 18,
    "start_time": "2025-04-07T03:33:33.327Z"
   },
   {
    "duration": 18,
    "start_time": "2025-04-07T03:33:33.362Z"
   },
   {
    "duration": 7,
    "start_time": "2025-04-07T03:33:33.382Z"
   },
   {
    "duration": 78,
    "start_time": "2025-04-07T03:33:33.390Z"
   },
   {
    "duration": 28,
    "start_time": "2025-04-07T03:33:33.469Z"
   },
   {
    "duration": 12,
    "start_time": "2025-04-07T03:33:33.500Z"
   },
   {
    "duration": 47,
    "start_time": "2025-04-07T03:33:33.514Z"
   },
   {
    "duration": 3415,
    "start_time": "2025-04-07T03:33:33.563Z"
   },
   {
    "duration": 995,
    "start_time": "2025-04-07T03:33:36.981Z"
   },
   {
    "duration": 2367,
    "start_time": "2025-04-07T03:33:37.979Z"
   },
   {
    "duration": 25,
    "start_time": "2025-04-07T03:33:40.347Z"
   },
   {
    "duration": 17,
    "start_time": "2025-04-07T03:33:40.374Z"
   },
   {
    "duration": 4530,
    "start_time": "2025-04-07T03:33:40.393Z"
   },
   {
    "duration": 1201,
    "start_time": "2025-04-07T03:33:44.925Z"
   },
   {
    "duration": 122,
    "start_time": "2025-04-07T03:33:46.128Z"
   },
   {
    "duration": 35,
    "start_time": "2025-04-07T03:33:46.252Z"
   },
   {
    "duration": 18,
    "start_time": "2025-04-07T03:33:46.288Z"
   },
   {
    "duration": 3810,
    "start_time": "2025-04-07T03:33:46.308Z"
   },
   {
    "duration": 1053,
    "start_time": "2025-04-07T03:33:50.120Z"
   },
   {
    "duration": 85,
    "start_time": "2025-04-07T03:33:51.176Z"
   },
   {
    "duration": 160,
    "start_time": "2025-04-07T03:33:51.265Z"
   },
   {
    "duration": 5,
    "start_time": "2025-04-07T03:33:51.427Z"
   },
   {
    "duration": 1528,
    "start_time": "2025-04-07T03:37:21.514Z"
   },
   {
    "duration": 3,
    "start_time": "2025-04-07T03:37:23.044Z"
   },
   {
    "duration": 1012,
    "start_time": "2025-04-07T03:37:23.049Z"
   },
   {
    "duration": 4,
    "start_time": "2025-04-07T03:37:24.064Z"
   },
   {
    "duration": 990,
    "start_time": "2025-04-07T03:37:24.070Z"
   },
   {
    "duration": 3,
    "start_time": "2025-04-07T03:37:25.062Z"
   },
   {
    "duration": 54,
    "start_time": "2025-04-07T03:37:25.067Z"
   },
   {
    "duration": 608,
    "start_time": "2025-04-07T03:37:25.123Z"
   },
   {
    "duration": 34,
    "start_time": "2025-04-07T03:37:25.733Z"
   },
   {
    "duration": 26,
    "start_time": "2025-04-07T03:37:25.769Z"
   },
   {
    "duration": 96,
    "start_time": "2025-04-07T03:37:25.796Z"
   },
   {
    "duration": 151,
    "start_time": "2025-04-07T03:37:25.893Z"
   },
   {
    "duration": 3,
    "start_time": "2025-04-07T03:37:26.046Z"
   },
   {
    "duration": 141,
    "start_time": "2025-04-07T03:37:26.051Z"
   },
   {
    "duration": 32,
    "start_time": "2025-04-07T03:37:26.194Z"
   },
   {
    "duration": 109,
    "start_time": "2025-04-07T03:37:26.228Z"
   },
   {
    "duration": 5,
    "start_time": "2025-04-07T03:37:26.340Z"
   },
   {
    "duration": 16,
    "start_time": "2025-04-07T03:37:26.346Z"
   },
   {
    "duration": 3,
    "start_time": "2025-04-07T03:37:26.412Z"
   },
   {
    "duration": 3743,
    "start_time": "2025-04-07T03:37:26.561Z"
   },
   {
    "duration": 3355,
    "start_time": "2025-04-07T03:37:30.306Z"
   },
   {
    "duration": 13,
    "start_time": "2025-04-07T03:37:33.663Z"
   },
   {
    "duration": 41,
    "start_time": "2025-04-07T03:37:33.679Z"
   },
   {
    "duration": 18,
    "start_time": "2025-04-07T03:37:33.722Z"
   },
   {
    "duration": 43,
    "start_time": "2025-04-07T03:37:33.742Z"
   },
   {
    "duration": 6,
    "start_time": "2025-04-07T03:37:33.787Z"
   },
   {
    "duration": 31,
    "start_time": "2025-04-07T03:37:33.795Z"
   },
   {
    "duration": 19,
    "start_time": "2025-04-07T03:37:33.828Z"
   },
   {
    "duration": 12,
    "start_time": "2025-04-07T03:37:33.863Z"
   },
   {
    "duration": 38,
    "start_time": "2025-04-07T03:37:33.876Z"
   },
   {
    "duration": 3324,
    "start_time": "2025-04-07T03:37:33.916Z"
   },
   {
    "duration": 935,
    "start_time": "2025-04-07T03:37:37.243Z"
   },
   {
    "duration": 2365,
    "start_time": "2025-04-07T03:37:38.180Z"
   },
   {
    "duration": 21,
    "start_time": "2025-04-07T03:37:40.547Z"
   },
   {
    "duration": 79,
    "start_time": "2025-04-07T03:37:40.570Z"
   },
   {
    "duration": 4543,
    "start_time": "2025-04-07T03:37:40.651Z"
   },
   {
    "duration": 1197,
    "start_time": "2025-04-07T03:37:45.196Z"
   },
   {
    "duration": 128,
    "start_time": "2025-04-07T03:37:46.396Z"
   },
   {
    "duration": 35,
    "start_time": "2025-04-07T03:37:46.526Z"
   },
   {
    "duration": 17,
    "start_time": "2025-04-07T03:37:46.563Z"
   },
   {
    "duration": 3807,
    "start_time": "2025-04-07T03:37:46.582Z"
   },
   {
    "duration": 1036,
    "start_time": "2025-04-07T03:37:50.391Z"
   },
   {
    "duration": 76,
    "start_time": "2025-04-07T03:37:51.428Z"
   },
   {
    "duration": 166,
    "start_time": "2025-04-07T03:37:51.505Z"
   },
   {
    "duration": 4,
    "start_time": "2025-04-07T03:37:51.672Z"
   },
   {
    "duration": 1730,
    "start_time": "2025-04-07T03:56:49.780Z"
   },
   {
    "duration": 2,
    "start_time": "2025-04-07T03:56:51.512Z"
   },
   {
    "duration": 966,
    "start_time": "2025-04-07T03:56:51.516Z"
   },
   {
    "duration": 4,
    "start_time": "2025-04-07T03:56:52.484Z"
   },
   {
    "duration": 964,
    "start_time": "2025-04-07T03:56:52.490Z"
   },
   {
    "duration": 7,
    "start_time": "2025-04-07T03:56:53.456Z"
   },
   {
    "duration": 38,
    "start_time": "2025-04-07T03:56:53.465Z"
   },
   {
    "duration": 494,
    "start_time": "2025-04-07T03:56:53.504Z"
   },
   {
    "duration": 21,
    "start_time": "2025-04-07T03:56:54.000Z"
   },
   {
    "duration": 24,
    "start_time": "2025-04-07T03:56:54.023Z"
   },
   {
    "duration": 112,
    "start_time": "2025-04-07T03:56:54.049Z"
   },
   {
    "duration": 134,
    "start_time": "2025-04-07T03:56:54.163Z"
   },
   {
    "duration": 3,
    "start_time": "2025-04-07T03:56:54.299Z"
   },
   {
    "duration": 132,
    "start_time": "2025-04-07T03:56:54.304Z"
   },
   {
    "duration": 44,
    "start_time": "2025-04-07T03:56:54.438Z"
   },
   {
    "duration": 112,
    "start_time": "2025-04-07T03:56:54.483Z"
   },
   {
    "duration": 5,
    "start_time": "2025-04-07T03:56:54.597Z"
   },
   {
    "duration": 10,
    "start_time": "2025-04-07T03:56:54.605Z"
   },
   {
    "duration": 100,
    "start_time": "2025-04-07T03:56:54.617Z"
   },
   {
    "duration": 3696,
    "start_time": "2025-04-07T03:56:54.719Z"
   },
   {
    "duration": 3514,
    "start_time": "2025-04-07T03:56:58.417Z"
   },
   {
    "duration": 17,
    "start_time": "2025-04-07T03:57:01.934Z"
   },
   {
    "duration": 73,
    "start_time": "2025-04-07T03:57:01.962Z"
   },
   {
    "duration": 55,
    "start_time": "2025-04-07T03:57:02.037Z"
   },
   {
    "duration": 67,
    "start_time": "2025-04-07T03:57:02.094Z"
   },
   {
    "duration": 22,
    "start_time": "2025-04-07T03:57:02.163Z"
   },
   {
    "duration": 73,
    "start_time": "2025-04-07T03:57:02.188Z"
   },
   {
    "duration": 49,
    "start_time": "2025-04-07T03:57:02.263Z"
   },
   {
    "duration": 13,
    "start_time": "2025-04-07T03:57:02.314Z"
   },
   {
    "duration": 57,
    "start_time": "2025-04-07T03:57:02.329Z"
   },
   {
    "duration": 3444,
    "start_time": "2025-04-07T03:57:02.388Z"
   },
   {
    "duration": 965,
    "start_time": "2025-04-07T03:57:05.834Z"
   },
   {
    "duration": 2449,
    "start_time": "2025-04-07T03:57:06.801Z"
   },
   {
    "duration": 23,
    "start_time": "2025-04-07T03:57:09.252Z"
   },
   {
    "duration": 43,
    "start_time": "2025-04-07T03:57:09.278Z"
   },
   {
    "duration": 4687,
    "start_time": "2025-04-07T03:57:09.323Z"
   },
   {
    "duration": 1242,
    "start_time": "2025-04-07T03:57:14.012Z"
   },
   {
    "duration": 130,
    "start_time": "2025-04-07T03:57:15.256Z"
   },
   {
    "duration": 29,
    "start_time": "2025-04-07T03:57:15.388Z"
   },
   {
    "duration": 29,
    "start_time": "2025-04-07T03:57:15.418Z"
   },
   {
    "duration": 3913,
    "start_time": "2025-04-07T03:57:15.449Z"
   },
   {
    "duration": 1088,
    "start_time": "2025-04-07T03:57:19.364Z"
   },
   {
    "duration": 78,
    "start_time": "2025-04-07T03:57:20.454Z"
   },
   {
    "duration": 171,
    "start_time": "2025-04-07T03:57:20.534Z"
   },
   {
    "duration": 4,
    "start_time": "2025-04-07T03:57:20.709Z"
   },
   {
    "duration": 261389,
    "start_time": "2025-04-07T03:57:20.714Z"
   },
   {
    "duration": 0,
    "start_time": "2025-04-07T04:01:42.105Z"
   },
   {
    "duration": 1,
    "start_time": "2025-04-07T04:01:42.106Z"
   },
   {
    "duration": 0,
    "start_time": "2025-04-07T04:01:42.108Z"
   },
   {
    "duration": 0,
    "start_time": "2025-04-07T04:01:42.109Z"
   },
   {
    "duration": 1580,
    "start_time": "2025-04-07T04:03:41.348Z"
   },
   {
    "duration": 2,
    "start_time": "2025-04-07T04:03:42.930Z"
   },
   {
    "duration": 960,
    "start_time": "2025-04-07T04:03:42.977Z"
   },
   {
    "duration": 4,
    "start_time": "2025-04-07T04:03:43.939Z"
   },
   {
    "duration": 954,
    "start_time": "2025-04-07T04:03:43.945Z"
   },
   {
    "duration": 4,
    "start_time": "2025-04-07T04:03:44.901Z"
   },
   {
    "duration": 26,
    "start_time": "2025-04-07T04:03:44.906Z"
   },
   {
    "duration": 607,
    "start_time": "2025-04-07T04:03:44.933Z"
   },
   {
    "duration": 33,
    "start_time": "2025-04-07T04:03:45.542Z"
   },
   {
    "duration": 102,
    "start_time": "2025-04-07T04:03:45.578Z"
   },
   {
    "duration": 106,
    "start_time": "2025-04-07T04:03:45.682Z"
   },
   {
    "duration": 134,
    "start_time": "2025-04-07T04:03:45.791Z"
   },
   {
    "duration": 2,
    "start_time": "2025-04-07T04:03:45.927Z"
   },
   {
    "duration": 131,
    "start_time": "2025-04-07T04:03:45.930Z"
   },
   {
    "duration": 34,
    "start_time": "2025-04-07T04:03:46.063Z"
   },
   {
    "duration": 113,
    "start_time": "2025-04-07T04:03:46.099Z"
   },
   {
    "duration": 5,
    "start_time": "2025-04-07T04:03:46.346Z"
   },
   {
    "duration": 4,
    "start_time": "2025-04-07T04:03:46.497Z"
   },
   {
    "duration": 3,
    "start_time": "2025-04-07T04:03:46.689Z"
   },
   {
    "duration": 3644,
    "start_time": "2025-04-07T04:03:46.874Z"
   },
   {
    "duration": 3326,
    "start_time": "2025-04-07T04:03:50.521Z"
   },
   {
    "duration": 25,
    "start_time": "2025-04-07T04:03:53.848Z"
   },
   {
    "duration": 42,
    "start_time": "2025-04-07T04:03:53.876Z"
   },
   {
    "duration": 19,
    "start_time": "2025-04-07T04:03:53.920Z"
   },
   {
    "duration": 35,
    "start_time": "2025-04-07T04:03:53.941Z"
   },
   {
    "duration": 7,
    "start_time": "2025-04-07T04:03:53.978Z"
   },
   {
    "duration": 35,
    "start_time": "2025-04-07T04:03:53.987Z"
   },
   {
    "duration": 40,
    "start_time": "2025-04-07T04:03:54.024Z"
   },
   {
    "duration": 12,
    "start_time": "2025-04-07T04:03:54.066Z"
   },
   {
    "duration": 30,
    "start_time": "2025-04-07T04:03:54.080Z"
   },
   {
    "duration": 3389,
    "start_time": "2025-04-07T04:03:54.111Z"
   },
   {
    "duration": 974,
    "start_time": "2025-04-07T04:03:57.503Z"
   },
   {
    "duration": 2367,
    "start_time": "2025-04-07T04:03:58.479Z"
   },
   {
    "duration": 28,
    "start_time": "2025-04-07T04:04:00.847Z"
   },
   {
    "duration": 76,
    "start_time": "2025-04-07T04:04:00.878Z"
   },
   {
    "duration": 4659,
    "start_time": "2025-04-07T04:04:00.957Z"
   },
   {
    "duration": 1248,
    "start_time": "2025-04-07T04:04:05.618Z"
   },
   {
    "duration": 135,
    "start_time": "2025-04-07T04:04:06.867Z"
   },
   {
    "duration": 30,
    "start_time": "2025-04-07T04:04:07.004Z"
   },
   {
    "duration": 78,
    "start_time": "2025-04-07T04:04:07.035Z"
   },
   {
    "duration": 3840,
    "start_time": "2025-04-07T04:04:07.115Z"
   },
   {
    "duration": 1030,
    "start_time": "2025-04-07T04:04:10.957Z"
   },
   {
    "duration": 79,
    "start_time": "2025-04-07T04:04:11.989Z"
   },
   {
    "duration": 173,
    "start_time": "2025-04-07T04:04:12.069Z"
   },
   {
    "duration": 4,
    "start_time": "2025-04-07T04:04:12.244Z"
   },
   {
    "duration": 1587,
    "start_time": "2025-04-07T04:15:21.976Z"
   },
   {
    "duration": 3,
    "start_time": "2025-04-07T04:15:23.565Z"
   },
   {
    "duration": 994,
    "start_time": "2025-04-07T04:15:23.569Z"
   },
   {
    "duration": 4,
    "start_time": "2025-04-07T04:15:24.565Z"
   },
   {
    "duration": 961,
    "start_time": "2025-04-07T04:15:24.571Z"
   },
   {
    "duration": 4,
    "start_time": "2025-04-07T04:15:25.533Z"
   },
   {
    "duration": 33,
    "start_time": "2025-04-07T04:15:25.538Z"
   },
   {
    "duration": 515,
    "start_time": "2025-04-07T04:15:25.572Z"
   },
   {
    "duration": 21,
    "start_time": "2025-04-07T04:15:26.089Z"
   },
   {
    "duration": 17,
    "start_time": "2025-04-07T04:15:26.113Z"
   },
   {
    "duration": 117,
    "start_time": "2025-04-07T04:15:26.131Z"
   },
   {
    "duration": 135,
    "start_time": "2025-04-07T04:15:26.920Z"
   },
   {
    "duration": 3,
    "start_time": "2025-04-07T04:15:27.057Z"
   },
   {
    "duration": 121,
    "start_time": "2025-04-07T04:15:27.214Z"
   },
   {
    "duration": 36,
    "start_time": "2025-04-07T04:15:27.402Z"
   },
   {
    "duration": 108,
    "start_time": "2025-04-07T04:15:27.962Z"
   },
   {
    "duration": 5,
    "start_time": "2025-04-07T04:15:28.156Z"
   },
   {
    "duration": 3,
    "start_time": "2025-04-07T04:15:28.325Z"
   },
   {
    "duration": 3,
    "start_time": "2025-04-07T04:15:28.494Z"
   },
   {
    "duration": 3670,
    "start_time": "2025-04-07T04:15:28.637Z"
   },
   {
    "duration": 3432,
    "start_time": "2025-04-07T04:15:32.309Z"
   },
   {
    "duration": 19,
    "start_time": "2025-04-07T04:15:35.742Z"
   },
   {
    "duration": 172,
    "start_time": "2025-04-07T04:15:35.763Z"
   },
   {
    "duration": 19,
    "start_time": "2025-04-07T04:15:35.937Z"
   },
   {
    "duration": 89,
    "start_time": "2025-04-07T04:15:35.958Z"
   },
   {
    "duration": 31,
    "start_time": "2025-04-07T04:15:36.049Z"
   },
   {
    "duration": 42,
    "start_time": "2025-04-07T04:15:36.082Z"
   },
   {
    "duration": 19,
    "start_time": "2025-04-07T04:15:36.126Z"
   },
   {
    "duration": 36,
    "start_time": "2025-04-07T04:15:36.148Z"
   },
   {
    "duration": 35,
    "start_time": "2025-04-07T04:15:36.185Z"
   },
   {
    "duration": 3487,
    "start_time": "2025-04-07T04:15:36.222Z"
   },
   {
    "duration": 968,
    "start_time": "2025-04-07T04:15:39.711Z"
   },
   {
    "duration": 2405,
    "start_time": "2025-04-07T04:15:40.681Z"
   },
   {
    "duration": 18,
    "start_time": "2025-04-07T04:15:43.089Z"
   },
   {
    "duration": 20,
    "start_time": "2025-04-07T04:15:43.109Z"
   },
   {
    "duration": 4746,
    "start_time": "2025-04-07T04:15:43.131Z"
   },
   {
    "duration": 1247,
    "start_time": "2025-04-07T04:15:47.879Z"
   },
   {
    "duration": 133,
    "start_time": "2025-04-07T04:15:49.128Z"
   },
   {
    "duration": 32,
    "start_time": "2025-04-07T04:15:49.262Z"
   },
   {
    "duration": 26,
    "start_time": "2025-04-07T04:15:49.296Z"
   },
   {
    "duration": 3727,
    "start_time": "2025-04-07T04:15:49.324Z"
   },
   {
    "duration": 1036,
    "start_time": "2025-04-07T04:15:53.053Z"
   },
   {
    "duration": 79,
    "start_time": "2025-04-07T04:15:54.090Z"
   },
   {
    "duration": 162,
    "start_time": "2025-04-07T04:15:54.172Z"
   },
   {
    "duration": 5,
    "start_time": "2025-04-07T04:15:54.335Z"
   },
   {
    "duration": 1534,
    "start_time": "2025-04-07T04:34:07.986Z"
   },
   {
    "duration": 3,
    "start_time": "2025-04-07T04:34:09.522Z"
   },
   {
    "duration": 969,
    "start_time": "2025-04-07T04:34:09.527Z"
   },
   {
    "duration": 4,
    "start_time": "2025-04-07T04:34:10.498Z"
   },
   {
    "duration": 1030,
    "start_time": "2025-04-07T04:34:10.503Z"
   },
   {
    "duration": 4,
    "start_time": "2025-04-07T04:34:11.535Z"
   },
   {
    "duration": 36,
    "start_time": "2025-04-07T04:34:11.540Z"
   },
   {
    "duration": 510,
    "start_time": "2025-04-07T04:34:11.578Z"
   },
   {
    "duration": 21,
    "start_time": "2025-04-07T04:34:12.089Z"
   },
   {
    "duration": 17,
    "start_time": "2025-04-07T04:34:12.112Z"
   },
   {
    "duration": 110,
    "start_time": "2025-04-07T04:34:12.131Z"
   },
   {
    "duration": 141,
    "start_time": "2025-04-07T04:34:12.242Z"
   },
   {
    "duration": 3,
    "start_time": "2025-04-07T04:34:12.384Z"
   },
   {
    "duration": 133,
    "start_time": "2025-04-07T04:34:12.389Z"
   },
   {
    "duration": 46,
    "start_time": "2025-04-07T04:34:12.524Z"
   },
   {
    "duration": 108,
    "start_time": "2025-04-07T04:34:12.571Z"
   },
   {
    "duration": 4,
    "start_time": "2025-04-07T04:34:12.681Z"
   },
   {
    "duration": 9,
    "start_time": "2025-04-07T04:34:12.688Z"
   },
   {
    "duration": 6,
    "start_time": "2025-04-07T04:34:12.698Z"
   },
   {
    "duration": 3683,
    "start_time": "2025-04-07T04:34:12.706Z"
   },
   {
    "duration": 3472,
    "start_time": "2025-04-07T04:34:16.392Z"
   },
   {
    "duration": 13,
    "start_time": "2025-04-07T04:34:19.866Z"
   },
   {
    "duration": 31,
    "start_time": "2025-04-07T04:34:19.881Z"
   },
   {
    "duration": 17,
    "start_time": "2025-04-07T04:34:19.914Z"
   },
   {
    "duration": 51,
    "start_time": "2025-04-07T04:34:19.933Z"
   },
   {
    "duration": 7,
    "start_time": "2025-04-07T04:34:19.985Z"
   },
   {
    "duration": 41,
    "start_time": "2025-04-07T04:34:19.995Z"
   },
   {
    "duration": 39,
    "start_time": "2025-04-07T04:34:20.038Z"
   },
   {
    "duration": 13,
    "start_time": "2025-04-07T04:34:20.079Z"
   },
   {
    "duration": 61,
    "start_time": "2025-04-07T04:34:20.094Z"
   },
   {
    "duration": 3355,
    "start_time": "2025-04-07T04:34:20.157Z"
   },
   {
    "duration": 951,
    "start_time": "2025-04-07T04:34:23.514Z"
   },
   {
    "duration": 2416,
    "start_time": "2025-04-07T04:34:24.466Z"
   },
   {
    "duration": 19,
    "start_time": "2025-04-07T04:34:26.883Z"
   },
   {
    "duration": 26,
    "start_time": "2025-04-07T04:34:26.904Z"
   },
   {
    "duration": 4717,
    "start_time": "2025-04-07T04:34:26.933Z"
   },
   {
    "duration": 1213,
    "start_time": "2025-04-07T04:34:31.653Z"
   },
   {
    "duration": 131,
    "start_time": "2025-04-07T04:34:32.868Z"
   },
   {
    "duration": 31,
    "start_time": "2025-04-07T04:34:33.001Z"
   },
   {
    "duration": 33,
    "start_time": "2025-04-07T04:34:33.034Z"
   },
   {
    "duration": 3874,
    "start_time": "2025-04-07T04:34:33.069Z"
   },
   {
    "duration": 1082,
    "start_time": "2025-04-07T04:34:36.945Z"
   },
   {
    "duration": 82,
    "start_time": "2025-04-07T04:34:38.028Z"
   },
   {
    "duration": 220,
    "start_time": "2025-04-07T04:34:38.113Z"
   },
   {
    "duration": 4,
    "start_time": "2025-04-07T04:34:38.335Z"
   },
   {
    "duration": 571061,
    "start_time": "2025-04-07T04:34:38.341Z"
   },
   {
    "duration": 573989,
    "start_time": "2025-04-07T04:49:29.183Z"
   },
   {
    "duration": 0,
    "start_time": "2025-04-07T04:59:03.173Z"
   },
   {
    "duration": 292,
    "start_time": "2025-04-07T05:05:15.283Z"
   },
   {
    "duration": 280,
    "start_time": "2025-04-07T05:07:54.369Z"
   },
   {
    "duration": 5,
    "start_time": "2025-04-07T05:09:00.466Z"
   },
   {
    "duration": 1027900,
    "start_time": "2025-04-07T05:09:01.864Z"
   },
   {
    "duration": 64,
    "start_time": "2025-04-07T05:28:52.281Z"
   },
   {
    "duration": 36,
    "start_time": "2025-04-07T05:29:15.004Z"
   },
   {
    "duration": 46,
    "start_time": "2025-04-07T05:29:15.372Z"
   },
   {
    "duration": 8,
    "start_time": "2025-04-07T05:29:16.748Z"
   },
   {
    "duration": 6,
    "start_time": "2025-04-07T05:29:17.052Z"
   },
   {
    "duration": 5277,
    "start_time": "2025-04-07T05:29:24.769Z"
   },
   {
    "duration": 1606,
    "start_time": "2025-04-07T05:29:30.048Z"
   },
   {
    "duration": 3,
    "start_time": "2025-04-07T05:29:31.660Z"
   },
   {
    "duration": 1016,
    "start_time": "2025-04-07T05:29:31.664Z"
   },
   {
    "duration": 4,
    "start_time": "2025-04-07T05:29:32.872Z"
   },
   {
    "duration": 968,
    "start_time": "2025-04-07T05:29:33.673Z"
   },
   {
    "duration": 5,
    "start_time": "2025-04-07T05:29:35.572Z"
   },
   {
    "duration": 25,
    "start_time": "2025-04-07T05:29:35.752Z"
   },
   {
    "duration": 591,
    "start_time": "2025-04-07T05:29:36.048Z"
   },
   {
    "duration": 33,
    "start_time": "2025-04-07T05:29:36.641Z"
   },
   {
    "duration": 34,
    "start_time": "2025-04-07T05:29:36.676Z"
   },
   {
    "duration": 123,
    "start_time": "2025-04-07T05:29:36.712Z"
   },
   {
    "duration": 135,
    "start_time": "2025-04-07T05:29:37.049Z"
   },
   {
    "duration": 3,
    "start_time": "2025-04-07T05:29:37.186Z"
   },
   {
    "duration": 124,
    "start_time": "2025-04-07T05:29:37.713Z"
   },
   {
    "duration": 34,
    "start_time": "2025-04-07T05:29:37.912Z"
   },
   {
    "duration": 99,
    "start_time": "2025-04-07T05:29:38.208Z"
   },
   {
    "duration": 5,
    "start_time": "2025-04-07T05:29:38.817Z"
   },
   {
    "duration": 4,
    "start_time": "2025-04-07T05:29:38.992Z"
   },
   {
    "duration": 3,
    "start_time": "2025-04-07T05:29:39.232Z"
   },
   {
    "duration": 3633,
    "start_time": "2025-04-07T05:29:39.488Z"
   },
   {
    "duration": 3459,
    "start_time": "2025-04-07T05:29:43.124Z"
   },
   {
    "duration": 15,
    "start_time": "2025-04-07T05:29:46.585Z"
   },
   {
    "duration": 49,
    "start_time": "2025-04-07T05:29:46.602Z"
   },
   {
    "duration": 23,
    "start_time": "2025-04-07T05:29:46.653Z"
   },
   {
    "duration": 22,
    "start_time": "2025-04-07T05:29:46.678Z"
   },
   {
    "duration": 7,
    "start_time": "2025-04-07T05:29:46.703Z"
   },
   {
    "duration": 63,
    "start_time": "2025-04-07T05:29:46.712Z"
   },
   {
    "duration": 25,
    "start_time": "2025-04-07T05:29:46.777Z"
   },
   {
    "duration": 13,
    "start_time": "2025-04-07T05:29:46.806Z"
   },
   {
    "duration": 56,
    "start_time": "2025-04-07T05:29:46.820Z"
   },
   {
    "duration": 3418,
    "start_time": "2025-04-07T05:29:46.878Z"
   },
   {
    "duration": 967,
    "start_time": "2025-04-07T05:29:50.298Z"
   },
   {
    "duration": 2385,
    "start_time": "2025-04-07T05:29:51.267Z"
   },
   {
    "duration": 17,
    "start_time": "2025-04-07T05:29:53.653Z"
   },
   {
    "duration": 104,
    "start_time": "2025-04-07T05:29:53.672Z"
   },
   {
    "duration": 4717,
    "start_time": "2025-04-07T05:29:53.777Z"
   },
   {
    "duration": 1218,
    "start_time": "2025-04-07T05:29:58.496Z"
   },
   {
    "duration": 126,
    "start_time": "2025-04-07T05:29:59.716Z"
   },
   {
    "duration": 33,
    "start_time": "2025-04-07T05:29:59.843Z"
   },
   {
    "duration": 20,
    "start_time": "2025-04-07T05:29:59.879Z"
   },
   {
    "duration": 3870,
    "start_time": "2025-04-07T05:29:59.900Z"
   },
   {
    "duration": 1039,
    "start_time": "2025-04-07T05:30:03.772Z"
   },
   {
    "duration": 79,
    "start_time": "2025-04-07T05:30:04.813Z"
   },
   {
    "duration": 221,
    "start_time": "2025-04-07T05:30:04.894Z"
   },
   {
    "duration": 4,
    "start_time": "2025-04-07T05:30:05.117Z"
   },
   {
    "duration": 2243046,
    "start_time": "2025-04-07T05:30:05.123Z"
   },
   {
    "duration": 5247,
    "start_time": "2025-04-07T06:10:02.293Z"
   },
   {
    "duration": 1605,
    "start_time": "2025-04-07T06:10:07.543Z"
   },
   {
    "duration": 2,
    "start_time": "2025-04-07T06:10:09.150Z"
   },
   {
    "duration": 999,
    "start_time": "2025-04-07T06:10:09.154Z"
   },
   {
    "duration": 6,
    "start_time": "2025-04-07T06:10:10.155Z"
   },
   {
    "duration": 982,
    "start_time": "2025-04-07T06:10:10.162Z"
   },
   {
    "duration": 4,
    "start_time": "2025-04-07T06:10:11.145Z"
   },
   {
    "duration": 39,
    "start_time": "2025-04-07T06:10:11.151Z"
   },
   {
    "duration": 570,
    "start_time": "2025-04-07T06:10:11.191Z"
   },
   {
    "duration": 27,
    "start_time": "2025-04-07T06:10:11.764Z"
   },
   {
    "duration": 132,
    "start_time": "2025-04-07T06:10:11.792Z"
   },
   {
    "duration": 95,
    "start_time": "2025-04-07T06:10:11.926Z"
   },
   {
    "duration": 141,
    "start_time": "2025-04-07T06:10:12.022Z"
   },
   {
    "duration": 3,
    "start_time": "2025-04-07T06:10:12.164Z"
   },
   {
    "duration": 145,
    "start_time": "2025-04-07T06:10:12.169Z"
   },
   {
    "duration": 36,
    "start_time": "2025-04-07T06:10:12.315Z"
   },
   {
    "duration": 111,
    "start_time": "2025-04-07T06:10:12.353Z"
   },
   {
    "duration": 5,
    "start_time": "2025-04-07T06:10:12.466Z"
   },
   {
    "duration": 5,
    "start_time": "2025-04-07T06:10:12.472Z"
   },
   {
    "duration": 5,
    "start_time": "2025-04-07T06:10:12.478Z"
   },
   {
    "duration": 3724,
    "start_time": "2025-04-07T06:10:12.485Z"
   },
   {
    "duration": 3500,
    "start_time": "2025-04-07T06:10:16.212Z"
   },
   {
    "duration": 14,
    "start_time": "2025-04-07T06:10:19.713Z"
   },
   {
    "duration": 44,
    "start_time": "2025-04-07T06:10:19.728Z"
   },
   {
    "duration": 18,
    "start_time": "2025-04-07T06:10:19.773Z"
   },
   {
    "duration": 29,
    "start_time": "2025-04-07T06:10:19.793Z"
   },
   {
    "duration": 7,
    "start_time": "2025-04-07T06:10:19.824Z"
   },
   {
    "duration": 48,
    "start_time": "2025-04-07T06:10:19.833Z"
   },
   {
    "duration": 20,
    "start_time": "2025-04-07T06:10:19.883Z"
   },
   {
    "duration": 12,
    "start_time": "2025-04-07T06:10:19.905Z"
   },
   {
    "duration": 51,
    "start_time": "2025-04-07T06:10:19.919Z"
   },
   {
    "duration": 3438,
    "start_time": "2025-04-07T06:10:19.971Z"
   },
   {
    "duration": 960,
    "start_time": "2025-04-07T06:10:23.411Z"
   },
   {
    "duration": 2449,
    "start_time": "2025-04-07T06:10:24.373Z"
   },
   {
    "duration": 18,
    "start_time": "2025-04-07T06:10:26.825Z"
   },
   {
    "duration": 30,
    "start_time": "2025-04-07T06:10:26.845Z"
   },
   {
    "duration": 4832,
    "start_time": "2025-04-07T06:10:26.877Z"
   },
   {
    "duration": 1224,
    "start_time": "2025-04-07T06:10:31.710Z"
   },
   {
    "duration": 130,
    "start_time": "2025-04-07T06:10:32.936Z"
   },
   {
    "duration": 30,
    "start_time": "2025-04-07T06:10:33.068Z"
   },
   {
    "duration": 19,
    "start_time": "2025-04-07T06:10:33.100Z"
   },
   {
    "duration": 4070,
    "start_time": "2025-04-07T06:10:33.121Z"
   },
   {
    "duration": 1132,
    "start_time": "2025-04-07T06:10:37.193Z"
   },
   {
    "duration": 78,
    "start_time": "2025-04-07T06:10:38.327Z"
   },
   {
    "duration": 169,
    "start_time": "2025-04-07T06:10:38.407Z"
   },
   {
    "duration": 4,
    "start_time": "2025-04-07T06:10:38.578Z"
   },
   {
    "duration": 585322,
    "start_time": "2025-04-07T06:10:38.583Z"
   },
   {
    "duration": 5218,
    "start_time": "2025-04-07T06:32:07.548Z"
   },
   {
    "duration": 1611,
    "start_time": "2025-04-07T06:32:12.769Z"
   },
   {
    "duration": 3,
    "start_time": "2025-04-07T06:32:14.382Z"
   },
   {
    "duration": 1064,
    "start_time": "2025-04-07T06:32:14.388Z"
   },
   {
    "duration": 9,
    "start_time": "2025-04-07T06:32:15.454Z"
   },
   {
    "duration": 1835,
    "start_time": "2025-04-07T06:32:15.465Z"
   },
   {
    "duration": 4,
    "start_time": "2025-04-07T06:32:17.302Z"
   },
   {
    "duration": 26,
    "start_time": "2025-04-07T06:32:17.361Z"
   },
   {
    "duration": 812,
    "start_time": "2025-04-07T06:32:17.390Z"
   },
   {
    "duration": 25,
    "start_time": "2025-04-07T06:32:18.204Z"
   },
   {
    "duration": 27,
    "start_time": "2025-04-07T06:32:18.230Z"
   },
   {
    "duration": 204,
    "start_time": "2025-04-07T06:32:18.258Z"
   },
   {
    "duration": 241,
    "start_time": "2025-04-07T06:32:18.465Z"
   },
   {
    "duration": 3,
    "start_time": "2025-04-07T06:32:18.707Z"
   },
   {
    "duration": 177,
    "start_time": "2025-04-07T06:32:18.712Z"
   },
   {
    "duration": 36,
    "start_time": "2025-04-07T06:32:18.891Z"
   },
   {
    "duration": 148,
    "start_time": "2025-04-07T06:32:18.929Z"
   },
   {
    "duration": 5292,
    "start_time": "2025-04-07T06:32:22.607Z"
   },
   {
    "duration": 1550,
    "start_time": "2025-04-07T06:32:27.901Z"
   },
   {
    "duration": 3,
    "start_time": "2025-04-07T06:32:29.453Z"
   },
   {
    "duration": 1014,
    "start_time": "2025-04-07T06:32:29.461Z"
   },
   {
    "duration": 4,
    "start_time": "2025-04-07T06:32:30.477Z"
   },
   {
    "duration": 1020,
    "start_time": "2025-04-07T06:32:30.482Z"
   },
   {
    "duration": 4,
    "start_time": "2025-04-07T06:32:31.504Z"
   },
   {
    "duration": 94,
    "start_time": "2025-04-07T06:32:31.510Z"
   },
   {
    "duration": 625,
    "start_time": "2025-04-07T06:32:31.606Z"
   },
   {
    "duration": 37,
    "start_time": "2025-04-07T06:32:32.235Z"
   },
   {
    "duration": 33,
    "start_time": "2025-04-07T06:32:32.274Z"
   },
   {
    "duration": 140,
    "start_time": "2025-04-07T06:32:32.308Z"
   },
   {
    "duration": 169,
    "start_time": "2025-04-07T06:32:32.450Z"
   },
   {
    "duration": 3,
    "start_time": "2025-04-07T06:32:32.621Z"
   },
   {
    "duration": 197,
    "start_time": "2025-04-07T06:32:32.626Z"
   },
   {
    "duration": 44,
    "start_time": "2025-04-07T06:32:32.825Z"
   },
   {
    "duration": 108,
    "start_time": "2025-04-07T06:32:32.871Z"
   },
   {
    "duration": 5,
    "start_time": "2025-04-07T06:32:32.982Z"
   },
   {
    "duration": 18,
    "start_time": "2025-04-07T06:32:32.989Z"
   },
   {
    "duration": 145,
    "start_time": "2025-04-07T06:32:33.009Z"
   },
   {
    "duration": 3840,
    "start_time": "2025-04-07T06:32:33.156Z"
   },
   {
    "duration": 3566,
    "start_time": "2025-04-07T06:32:36.999Z"
   },
   {
    "duration": 14,
    "start_time": "2025-04-07T06:32:40.567Z"
   },
   {
    "duration": 39,
    "start_time": "2025-04-07T06:32:40.583Z"
   },
   {
    "duration": 19,
    "start_time": "2025-04-07T06:32:40.623Z"
   },
   {
    "duration": 39,
    "start_time": "2025-04-07T06:32:40.643Z"
   },
   {
    "duration": 7,
    "start_time": "2025-04-07T06:32:40.684Z"
   },
   {
    "duration": 31,
    "start_time": "2025-04-07T06:32:40.695Z"
   },
   {
    "duration": 50,
    "start_time": "2025-04-07T06:32:40.728Z"
   },
   {
    "duration": 13,
    "start_time": "2025-04-07T06:32:40.780Z"
   },
   {
    "duration": 31,
    "start_time": "2025-04-07T06:32:40.795Z"
   },
   {
    "duration": 3515,
    "start_time": "2025-04-07T06:32:40.828Z"
   },
   {
    "duration": 997,
    "start_time": "2025-04-07T06:32:44.346Z"
   },
   {
    "duration": 2539,
    "start_time": "2025-04-07T06:32:45.345Z"
   },
   {
    "duration": 17,
    "start_time": "2025-04-07T06:32:47.886Z"
   },
   {
    "duration": 86,
    "start_time": "2025-04-07T06:32:47.905Z"
   },
   {
    "duration": 4750,
    "start_time": "2025-04-07T06:32:47.993Z"
   },
   {
    "duration": 1272,
    "start_time": "2025-04-07T06:32:52.746Z"
   },
   {
    "duration": 128,
    "start_time": "2025-04-07T06:32:54.021Z"
   },
   {
    "duration": 30,
    "start_time": "2025-04-07T06:32:54.151Z"
   },
   {
    "duration": 17,
    "start_time": "2025-04-07T06:32:54.185Z"
   },
   {
    "duration": 3910,
    "start_time": "2025-04-07T06:32:54.205Z"
   },
   {
    "duration": 1102,
    "start_time": "2025-04-07T06:32:58.118Z"
   },
   {
    "duration": 70,
    "start_time": "2025-04-07T06:32:59.222Z"
   },
   {
    "duration": 171,
    "start_time": "2025-04-07T06:32:59.294Z"
   },
   {
    "duration": 1133,
    "start_time": "2025-04-07T06:32:59.468Z"
   },
   {
    "duration": 188677,
    "start_time": "2025-04-07T06:40:31.150Z"
   },
   {
    "duration": 22569,
    "start_time": "2025-04-07T06:46:40.083Z"
   },
   {
    "duration": 148,
    "start_time": "2025-04-07T06:48:26.209Z"
   },
   {
    "duration": 191053,
    "start_time": "2025-04-07T06:49:50.235Z"
   },
   {
    "duration": 27389,
    "start_time": "2025-04-07T07:07:09.733Z"
   },
   {
    "duration": 65,
    "start_time": "2025-04-07T07:28:20.505Z"
   },
   {
    "duration": 5404,
    "start_time": "2025-04-07T07:33:02.649Z"
   },
   {
    "duration": 1624,
    "start_time": "2025-04-07T07:33:08.055Z"
   },
   {
    "duration": 3,
    "start_time": "2025-04-07T07:33:09.681Z"
   },
   {
    "duration": 1014,
    "start_time": "2025-04-07T07:33:09.686Z"
   },
   {
    "duration": 4,
    "start_time": "2025-04-07T07:33:10.702Z"
   },
   {
    "duration": 1005,
    "start_time": "2025-04-07T07:33:10.708Z"
   },
   {
    "duration": 4,
    "start_time": "2025-04-07T07:33:11.715Z"
   },
   {
    "duration": 24,
    "start_time": "2025-04-07T07:33:11.721Z"
   },
   {
    "duration": 591,
    "start_time": "2025-04-07T07:33:11.762Z"
   },
   {
    "duration": 30,
    "start_time": "2025-04-07T07:33:12.356Z"
   },
   {
    "duration": 33,
    "start_time": "2025-04-07T07:33:12.387Z"
   },
   {
    "duration": 108,
    "start_time": "2025-04-07T07:33:12.422Z"
   },
   {
    "duration": 154,
    "start_time": "2025-04-07T07:33:12.531Z"
   },
   {
    "duration": 3,
    "start_time": "2025-04-07T07:33:12.687Z"
   },
   {
    "duration": 147,
    "start_time": "2025-04-07T07:33:12.691Z"
   },
   {
    "duration": 48,
    "start_time": "2025-04-07T07:33:12.840Z"
   },
   {
    "duration": 121,
    "start_time": "2025-04-07T07:33:12.890Z"
   },
   {
    "duration": 5,
    "start_time": "2025-04-07T07:33:13.013Z"
   },
   {
    "duration": 10,
    "start_time": "2025-04-07T07:33:13.019Z"
   },
   {
    "duration": 14,
    "start_time": "2025-04-07T07:33:13.030Z"
   },
   {
    "duration": 3934,
    "start_time": "2025-04-07T07:33:13.045Z"
   },
   {
    "duration": 3705,
    "start_time": "2025-04-07T07:33:16.981Z"
   },
   {
    "duration": 14,
    "start_time": "2025-04-07T07:33:20.688Z"
   },
   {
    "duration": 41,
    "start_time": "2025-04-07T07:33:20.703Z"
   },
   {
    "duration": 26,
    "start_time": "2025-04-07T07:33:20.746Z"
   },
   {
    "duration": 34,
    "start_time": "2025-04-07T07:33:20.774Z"
   },
   {
    "duration": 8,
    "start_time": "2025-04-07T07:33:20.809Z"
   },
   {
    "duration": 55,
    "start_time": "2025-04-07T07:33:20.821Z"
   },
   {
    "duration": 22,
    "start_time": "2025-04-07T07:33:20.878Z"
   },
   {
    "duration": 13,
    "start_time": "2025-04-07T07:33:20.902Z"
   },
   {
    "duration": 64,
    "start_time": "2025-04-07T07:33:20.917Z"
   },
   {
    "duration": 3518,
    "start_time": "2025-04-07T07:33:20.983Z"
   },
   {
    "duration": 993,
    "start_time": "2025-04-07T07:33:24.502Z"
   },
   {
    "duration": 2636,
    "start_time": "2025-04-07T07:33:25.497Z"
   },
   {
    "duration": 18,
    "start_time": "2025-04-07T07:33:28.134Z"
   },
   {
    "duration": 21,
    "start_time": "2025-04-07T07:33:28.160Z"
   },
   {
    "duration": 5196,
    "start_time": "2025-04-07T07:33:28.183Z"
   },
   {
    "duration": 1349,
    "start_time": "2025-04-07T07:33:33.381Z"
   },
   {
    "duration": 155,
    "start_time": "2025-04-07T07:33:34.731Z"
   },
   {
    "duration": 30,
    "start_time": "2025-04-07T07:33:34.888Z"
   },
   {
    "duration": 18,
    "start_time": "2025-04-07T07:33:34.920Z"
   },
   {
    "duration": 4149,
    "start_time": "2025-04-07T07:33:34.940Z"
   },
   {
    "duration": 1123,
    "start_time": "2025-04-07T07:33:39.091Z"
   },
   {
    "duration": 87,
    "start_time": "2025-04-07T07:33:40.216Z"
   },
   {
    "duration": 244,
    "start_time": "2025-04-07T07:33:40.305Z"
   },
   {
    "duration": 1254,
    "start_time": "2025-04-07T07:33:40.551Z"
   },
   {
    "duration": 5893,
    "start_time": "2025-04-07T11:18:32.562Z"
   },
   {
    "duration": 2361,
    "start_time": "2025-04-07T11:18:38.458Z"
   },
   {
    "duration": 3,
    "start_time": "2025-04-07T11:18:40.821Z"
   },
   {
    "duration": 881,
    "start_time": "2025-04-07T11:18:40.826Z"
   },
   {
    "duration": 4,
    "start_time": "2025-04-07T11:18:41.709Z"
   },
   {
    "duration": 921,
    "start_time": "2025-04-07T11:18:41.714Z"
   },
   {
    "duration": 4,
    "start_time": "2025-04-07T11:18:42.637Z"
   },
   {
    "duration": 28,
    "start_time": "2025-04-07T11:18:42.642Z"
   },
   {
    "duration": 541,
    "start_time": "2025-04-07T11:18:42.671Z"
   },
   {
    "duration": 27,
    "start_time": "2025-04-07T11:18:43.214Z"
   },
   {
    "duration": 22,
    "start_time": "2025-04-07T11:18:43.243Z"
   },
   {
    "duration": 106,
    "start_time": "2025-04-07T11:18:43.267Z"
   },
   {
    "duration": 138,
    "start_time": "2025-04-07T11:18:43.374Z"
   },
   {
    "duration": 3,
    "start_time": "2025-04-07T11:18:43.514Z"
   },
   {
    "duration": 129,
    "start_time": "2025-04-07T11:18:43.519Z"
   },
   {
    "duration": 35,
    "start_time": "2025-04-07T11:18:43.650Z"
   },
   {
    "duration": 119,
    "start_time": "2025-04-07T11:18:43.688Z"
   },
   {
    "duration": 7,
    "start_time": "2025-04-07T11:18:44.359Z"
   },
   {
    "duration": 4,
    "start_time": "2025-04-07T11:18:44.646Z"
   },
   {
    "duration": 3,
    "start_time": "2025-04-07T11:18:44.822Z"
   },
   {
    "duration": 3753,
    "start_time": "2025-04-07T11:18:45.006Z"
   },
   {
    "duration": 3547,
    "start_time": "2025-04-07T11:18:48.762Z"
   },
   {
    "duration": 13,
    "start_time": "2025-04-07T11:18:52.311Z"
   },
   {
    "duration": 31,
    "start_time": "2025-04-07T11:18:52.326Z"
   },
   {
    "duration": 17,
    "start_time": "2025-04-07T11:18:52.359Z"
   },
   {
    "duration": 47,
    "start_time": "2025-04-07T11:18:52.378Z"
   },
   {
    "duration": 8,
    "start_time": "2025-04-07T11:18:52.427Z"
   },
   {
    "duration": 30,
    "start_time": "2025-04-07T11:18:52.437Z"
   },
   {
    "duration": 49,
    "start_time": "2025-04-07T11:18:52.469Z"
   },
   {
    "duration": 64,
    "start_time": "2025-04-07T11:18:52.522Z"
   },
   {
    "duration": 41,
    "start_time": "2025-04-07T11:18:52.588Z"
   },
   {
    "duration": 3344,
    "start_time": "2025-04-07T11:18:52.631Z"
   },
   {
    "duration": 953,
    "start_time": "2025-04-07T11:18:55.976Z"
   },
   {
    "duration": 2505,
    "start_time": "2025-04-07T11:18:56.931Z"
   },
   {
    "duration": 17,
    "start_time": "2025-04-07T11:18:59.438Z"
   },
   {
    "duration": 19,
    "start_time": "2025-04-07T11:18:59.457Z"
   },
   {
    "duration": 4565,
    "start_time": "2025-04-07T11:18:59.478Z"
   },
   {
    "duration": 1262,
    "start_time": "2025-04-07T11:19:04.045Z"
   },
   {
    "duration": 115,
    "start_time": "2025-04-07T11:19:05.309Z"
   },
   {
    "duration": 31,
    "start_time": "2025-04-07T11:19:05.426Z"
   },
   {
    "duration": 16,
    "start_time": "2025-04-07T11:19:05.459Z"
   },
   {
    "duration": 3807,
    "start_time": "2025-04-07T11:19:05.478Z"
   },
   {
    "duration": 1111,
    "start_time": "2025-04-07T11:19:09.287Z"
   },
   {
    "duration": 86,
    "start_time": "2025-04-07T11:19:10.400Z"
   },
   {
    "duration": 223,
    "start_time": "2025-04-07T11:19:10.488Z"
   },
   {
    "duration": 1197,
    "start_time": "2025-04-07T11:25:15.202Z"
   },
   {
    "duration": 5161,
    "start_time": "2025-04-07T11:32:30.000Z"
   },
   {
    "duration": 1557,
    "start_time": "2025-04-07T11:32:35.164Z"
   },
   {
    "duration": 3,
    "start_time": "2025-04-07T11:32:36.723Z"
   },
   {
    "duration": 911,
    "start_time": "2025-04-07T11:32:36.728Z"
   },
   {
    "duration": 4,
    "start_time": "2025-04-07T11:32:37.641Z"
   },
   {
    "duration": 948,
    "start_time": "2025-04-07T11:32:37.647Z"
   },
   {
    "duration": 12,
    "start_time": "2025-04-07T11:32:38.596Z"
   },
   {
    "duration": 37,
    "start_time": "2025-04-07T11:32:38.610Z"
   },
   {
    "duration": 521,
    "start_time": "2025-04-07T11:32:38.649Z"
   },
   {
    "duration": 26,
    "start_time": "2025-04-07T11:32:39.173Z"
   },
   {
    "duration": 20,
    "start_time": "2025-04-07T11:32:39.201Z"
   },
   {
    "duration": 112,
    "start_time": "2025-04-07T11:32:39.223Z"
   },
   {
    "duration": 139,
    "start_time": "2025-04-07T11:32:39.337Z"
   },
   {
    "duration": 4,
    "start_time": "2025-04-07T11:32:39.477Z"
   },
   {
    "duration": 143,
    "start_time": "2025-04-07T11:32:39.482Z"
   },
   {
    "duration": 36,
    "start_time": "2025-04-07T11:32:39.627Z"
   },
   {
    "duration": 116,
    "start_time": "2025-04-07T11:32:39.665Z"
   },
   {
    "duration": 6,
    "start_time": "2025-04-07T11:32:39.783Z"
   },
   {
    "duration": 17,
    "start_time": "2025-04-07T11:32:39.791Z"
   },
   {
    "duration": 4,
    "start_time": "2025-04-07T11:32:39.810Z"
   },
   {
    "duration": 3792,
    "start_time": "2025-04-07T11:32:39.815Z"
   },
   {
    "duration": 3549,
    "start_time": "2025-04-07T11:32:43.610Z"
   },
   {
    "duration": 14,
    "start_time": "2025-04-07T11:32:47.162Z"
   },
   {
    "duration": 47,
    "start_time": "2025-04-07T11:32:47.178Z"
   },
   {
    "duration": 19,
    "start_time": "2025-04-07T11:32:47.227Z"
   },
   {
    "duration": 21,
    "start_time": "2025-04-07T11:32:47.251Z"
   },
   {
    "duration": 7,
    "start_time": "2025-04-07T11:32:47.274Z"
   },
   {
    "duration": 30,
    "start_time": "2025-04-07T11:32:47.308Z"
   },
   {
    "duration": 21,
    "start_time": "2025-04-07T11:32:47.340Z"
   },
   {
    "duration": 12,
    "start_time": "2025-04-07T11:32:47.363Z"
   },
   {
    "duration": 30,
    "start_time": "2025-04-07T11:32:47.408Z"
   },
   {
    "duration": 3471,
    "start_time": "2025-04-07T11:32:47.440Z"
   },
   {
    "duration": 983,
    "start_time": "2025-04-07T11:32:50.913Z"
   },
   {
    "duration": 2517,
    "start_time": "2025-04-07T11:32:51.898Z"
   },
   {
    "duration": 19,
    "start_time": "2025-04-07T11:32:54.417Z"
   },
   {
    "duration": 19,
    "start_time": "2025-04-07T11:32:54.437Z"
   },
   {
    "duration": 4638,
    "start_time": "2025-04-07T11:32:54.458Z"
   },
   {
    "duration": 1263,
    "start_time": "2025-04-07T11:32:59.097Z"
   },
   {
    "duration": 117,
    "start_time": "2025-04-07T11:33:00.362Z"
   },
   {
    "duration": 30,
    "start_time": "2025-04-07T11:33:00.481Z"
   },
   {
    "duration": 18,
    "start_time": "2025-04-07T11:33:00.512Z"
   },
   {
    "duration": 3923,
    "start_time": "2025-04-07T11:33:00.532Z"
   },
   {
    "duration": 1085,
    "start_time": "2025-04-07T11:33:04.457Z"
   },
   {
    "duration": 80,
    "start_time": "2025-04-07T11:33:05.544Z"
   },
   {
    "duration": 153,
    "start_time": "2025-04-07T11:33:05.628Z"
   },
   {
    "duration": 1151,
    "start_time": "2025-04-07T11:33:05.783Z"
   },
   {
    "duration": 5038,
    "start_time": "2025-04-07T11:36:18.778Z"
   },
   {
    "duration": 1859,
    "start_time": "2025-04-07T11:36:23.819Z"
   },
   {
    "duration": 3,
    "start_time": "2025-04-07T11:36:25.680Z"
   },
   {
    "duration": 1207,
    "start_time": "2025-04-07T11:36:25.685Z"
   },
   {
    "duration": 4,
    "start_time": "2025-04-07T11:36:26.895Z"
   },
   {
    "duration": 1020,
    "start_time": "2025-04-07T11:36:26.906Z"
   },
   {
    "duration": 3,
    "start_time": "2025-04-07T11:36:27.928Z"
   },
   {
    "duration": 24,
    "start_time": "2025-04-07T11:36:27.933Z"
   },
   {
    "duration": 582,
    "start_time": "2025-04-07T11:36:27.959Z"
   },
   {
    "duration": 20,
    "start_time": "2025-04-07T11:36:28.543Z"
   },
   {
    "duration": 74,
    "start_time": "2025-04-07T11:36:28.565Z"
   },
   {
    "duration": 100,
    "start_time": "2025-04-07T11:36:28.641Z"
   },
   {
    "duration": 135,
    "start_time": "2025-04-07T11:36:28.743Z"
   },
   {
    "duration": 3,
    "start_time": "2025-04-07T11:36:28.880Z"
   },
   {
    "duration": 137,
    "start_time": "2025-04-07T11:36:28.885Z"
   },
   {
    "duration": 34,
    "start_time": "2025-04-07T11:36:29.024Z"
   },
   {
    "duration": 160,
    "start_time": "2025-04-07T11:36:29.060Z"
   },
   {
    "duration": 5,
    "start_time": "2025-04-07T11:36:29.222Z"
   },
   {
    "duration": 5,
    "start_time": "2025-04-07T11:36:29.229Z"
   },
   {
    "duration": 19,
    "start_time": "2025-04-07T11:36:29.235Z"
   },
   {
    "duration": 3798,
    "start_time": "2025-04-07T11:36:29.255Z"
   },
   {
    "duration": 3563,
    "start_time": "2025-04-07T11:36:33.055Z"
   },
   {
    "duration": 14,
    "start_time": "2025-04-07T11:36:36.619Z"
   },
   {
    "duration": 36,
    "start_time": "2025-04-07T11:36:36.635Z"
   },
   {
    "duration": 37,
    "start_time": "2025-04-07T11:36:36.672Z"
   },
   {
    "duration": 20,
    "start_time": "2025-04-07T11:36:36.711Z"
   },
   {
    "duration": 12,
    "start_time": "2025-04-07T11:36:36.733Z"
   },
   {
    "duration": 37,
    "start_time": "2025-04-07T11:36:36.748Z"
   },
   {
    "duration": 34,
    "start_time": "2025-04-07T11:36:36.787Z"
   },
   {
    "duration": 13,
    "start_time": "2025-04-07T11:36:36.822Z"
   },
   {
    "duration": 42,
    "start_time": "2025-04-07T11:36:36.837Z"
   },
   {
    "duration": 3506,
    "start_time": "2025-04-07T11:36:36.881Z"
   },
   {
    "duration": 935,
    "start_time": "2025-04-07T11:36:40.389Z"
   },
   {
    "duration": 2469,
    "start_time": "2025-04-07T11:36:41.326Z"
   },
   {
    "duration": 25,
    "start_time": "2025-04-07T11:36:43.797Z"
   },
   {
    "duration": 21,
    "start_time": "2025-04-07T11:36:43.823Z"
   },
   {
    "duration": 4731,
    "start_time": "2025-04-07T11:36:43.846Z"
   },
   {
    "duration": 1250,
    "start_time": "2025-04-07T11:36:48.578Z"
   },
   {
    "duration": 124,
    "start_time": "2025-04-07T11:36:49.831Z"
   },
   {
    "duration": 31,
    "start_time": "2025-04-07T11:36:49.957Z"
   },
   {
    "duration": 31,
    "start_time": "2025-04-07T11:36:49.990Z"
   },
   {
    "duration": 3889,
    "start_time": "2025-04-07T11:36:50.024Z"
   },
   {
    "duration": 1076,
    "start_time": "2025-04-07T11:36:53.915Z"
   },
   {
    "duration": 83,
    "start_time": "2025-04-07T11:36:54.993Z"
   },
   {
    "duration": 170,
    "start_time": "2025-04-07T11:36:55.078Z"
   },
   {
    "duration": 1205,
    "start_time": "2025-04-07T11:36:55.250Z"
   },
   {
    "duration": 5154,
    "start_time": "2025-04-07T11:43:13.304Z"
   },
   {
    "duration": 1499,
    "start_time": "2025-04-07T11:43:18.460Z"
   },
   {
    "duration": 2,
    "start_time": "2025-04-07T11:43:19.961Z"
   },
   {
    "duration": 951,
    "start_time": "2025-04-07T11:43:19.965Z"
   },
   {
    "duration": 5,
    "start_time": "2025-04-07T11:43:20.918Z"
   },
   {
    "duration": 1015,
    "start_time": "2025-04-07T11:43:20.925Z"
   },
   {
    "duration": 3,
    "start_time": "2025-04-07T11:43:21.942Z"
   },
   {
    "duration": 24,
    "start_time": "2025-04-07T11:43:21.947Z"
   },
   {
    "duration": 492,
    "start_time": "2025-04-07T11:43:22.935Z"
   },
   {
    "duration": 20,
    "start_time": "2025-04-07T11:43:23.495Z"
   },
   {
    "duration": 17,
    "start_time": "2025-04-07T11:43:23.654Z"
   },
   {
    "duration": 96,
    "start_time": "2025-04-07T11:43:23.798Z"
   },
   {
    "duration": 139,
    "start_time": "2025-04-07T11:43:24.305Z"
   },
   {
    "duration": 3,
    "start_time": "2025-04-07T11:43:24.478Z"
   },
   {
    "duration": 123,
    "start_time": "2025-04-07T11:43:24.627Z"
   },
   {
    "duration": 35,
    "start_time": "2025-04-07T11:43:24.758Z"
   },
   {
    "duration": 102,
    "start_time": "2025-04-07T11:43:24.923Z"
   },
   {
    "duration": 6,
    "start_time": "2025-04-07T11:43:25.407Z"
   },
   {
    "duration": 4,
    "start_time": "2025-04-07T11:43:25.591Z"
   },
   {
    "duration": 3,
    "start_time": "2025-04-07T11:43:25.759Z"
   },
   {
    "duration": 3787,
    "start_time": "2025-04-07T11:43:25.954Z"
   },
   {
    "duration": 3516,
    "start_time": "2025-04-07T11:43:29.743Z"
   },
   {
    "duration": 15,
    "start_time": "2025-04-07T11:43:33.260Z"
   },
   {
    "duration": 48,
    "start_time": "2025-04-07T11:43:33.277Z"
   },
   {
    "duration": 20,
    "start_time": "2025-04-07T11:43:33.327Z"
   },
   {
    "duration": 36,
    "start_time": "2025-04-07T11:43:33.349Z"
   },
   {
    "duration": 8,
    "start_time": "2025-04-07T11:43:33.387Z"
   },
   {
    "duration": 33,
    "start_time": "2025-04-07T11:43:33.407Z"
   },
   {
    "duration": 22,
    "start_time": "2025-04-07T11:43:33.442Z"
   },
   {
    "duration": 41,
    "start_time": "2025-04-07T11:43:33.468Z"
   },
   {
    "duration": 32,
    "start_time": "2025-04-07T11:43:33.511Z"
   },
   {
    "duration": 3518,
    "start_time": "2025-04-07T11:43:33.545Z"
   },
   {
    "duration": 971,
    "start_time": "2025-04-07T11:43:37.065Z"
   },
   {
    "duration": 2420,
    "start_time": "2025-04-07T11:43:38.038Z"
   },
   {
    "duration": 16,
    "start_time": "2025-04-07T11:43:40.460Z"
   },
   {
    "duration": 34,
    "start_time": "2025-04-07T11:43:40.478Z"
   },
   {
    "duration": 4679,
    "start_time": "2025-04-07T11:43:40.514Z"
   },
   {
    "duration": 1284,
    "start_time": "2025-04-07T11:43:45.195Z"
   },
   {
    "duration": 137,
    "start_time": "2025-04-07T11:43:46.481Z"
   },
   {
    "duration": 30,
    "start_time": "2025-04-07T11:43:46.620Z"
   },
   {
    "duration": 18,
    "start_time": "2025-04-07T11:43:46.652Z"
   },
   {
    "duration": 3835,
    "start_time": "2025-04-07T11:43:46.671Z"
   },
   {
    "duration": 1090,
    "start_time": "2025-04-07T11:43:50.508Z"
   },
   {
    "duration": 83,
    "start_time": "2025-04-07T11:43:51.600Z"
   },
   {
    "duration": 172,
    "start_time": "2025-04-07T11:43:51.686Z"
   },
   {
    "duration": 1147,
    "start_time": "2025-04-07T11:44:19.729Z"
   },
   {
    "duration": 131,
    "start_time": "2025-04-07T11:44:26.457Z"
   },
   {
    "duration": 41,
    "start_time": "2025-04-07T11:49:45.729Z"
   },
   {
    "duration": 133168,
    "start_time": "2025-04-07T11:50:36.188Z"
   },
   {
    "duration": 17031,
    "start_time": "2025-04-07T12:04:30.565Z"
   },
   {
    "duration": 5247,
    "start_time": "2025-04-07T12:08:13.388Z"
   },
   {
    "duration": 1569,
    "start_time": "2025-04-07T12:08:18.637Z"
   },
   {
    "duration": 3,
    "start_time": "2025-04-07T12:08:20.207Z"
   },
   {
    "duration": 952,
    "start_time": "2025-04-07T12:08:20.212Z"
   },
   {
    "duration": 4,
    "start_time": "2025-04-07T12:08:21.166Z"
   },
   {
    "duration": 1001,
    "start_time": "2025-04-07T12:08:21.171Z"
   },
   {
    "duration": 3,
    "start_time": "2025-04-07T12:08:22.174Z"
   },
   {
    "duration": 45,
    "start_time": "2025-04-07T12:08:22.179Z"
   },
   {
    "duration": 483,
    "start_time": "2025-04-07T12:08:22.226Z"
   },
   {
    "duration": 20,
    "start_time": "2025-04-07T12:08:22.712Z"
   },
   {
    "duration": 41,
    "start_time": "2025-04-07T12:08:22.734Z"
   },
   {
    "duration": 97,
    "start_time": "2025-04-07T12:08:22.776Z"
   },
   {
    "duration": 143,
    "start_time": "2025-04-07T12:08:22.875Z"
   },
   {
    "duration": 3,
    "start_time": "2025-04-07T12:08:23.020Z"
   },
   {
    "duration": 249,
    "start_time": "2025-04-07T12:08:23.024Z"
   },
   {
    "duration": 40,
    "start_time": "2025-04-07T12:08:23.275Z"
   },
   {
    "duration": 103,
    "start_time": "2025-04-07T12:08:23.317Z"
   },
   {
    "duration": 13,
    "start_time": "2025-04-07T12:08:23.422Z"
   },
   {
    "duration": 12,
    "start_time": "2025-04-07T12:08:23.437Z"
   },
   {
    "duration": 4,
    "start_time": "2025-04-07T12:08:23.451Z"
   },
   {
    "duration": 3891,
    "start_time": "2025-04-07T12:08:23.456Z"
   },
   {
    "duration": 3445,
    "start_time": "2025-04-07T12:08:27.350Z"
   },
   {
    "duration": 22,
    "start_time": "2025-04-07T12:08:30.796Z"
   },
   {
    "duration": 71,
    "start_time": "2025-04-07T12:08:30.821Z"
   },
   {
    "duration": 19,
    "start_time": "2025-04-07T12:08:30.894Z"
   },
   {
    "duration": 28,
    "start_time": "2025-04-07T12:08:30.915Z"
   },
   {
    "duration": 7,
    "start_time": "2025-04-07T12:08:30.945Z"
   },
   {
    "duration": 37,
    "start_time": "2025-04-07T12:08:30.954Z"
   },
   {
    "duration": 24,
    "start_time": "2025-04-07T12:08:30.993Z"
   },
   {
    "duration": 11,
    "start_time": "2025-04-07T12:08:31.019Z"
   },
   {
    "duration": 152,
    "start_time": "2025-04-07T12:08:31.032Z"
   },
   {
    "duration": 3409,
    "start_time": "2025-04-07T12:08:31.186Z"
   },
   {
    "duration": 946,
    "start_time": "2025-04-07T12:08:34.597Z"
   },
   {
    "duration": 2498,
    "start_time": "2025-04-07T12:08:35.545Z"
   },
   {
    "duration": 17,
    "start_time": "2025-04-07T12:08:38.046Z"
   },
   {
    "duration": 20,
    "start_time": "2025-04-07T12:08:38.064Z"
   },
   {
    "duration": 4588,
    "start_time": "2025-04-07T12:08:38.085Z"
   },
   {
    "duration": 1220,
    "start_time": "2025-04-07T12:08:42.675Z"
   },
   {
    "duration": 130,
    "start_time": "2025-04-07T12:08:43.897Z"
   },
   {
    "duration": 29,
    "start_time": "2025-04-07T12:08:44.029Z"
   },
   {
    "duration": 16,
    "start_time": "2025-04-07T12:08:44.059Z"
   },
   {
    "duration": 3741,
    "start_time": "2025-04-07T12:08:44.077Z"
   },
   {
    "duration": 1043,
    "start_time": "2025-04-07T12:08:47.820Z"
   },
   {
    "duration": 77,
    "start_time": "2025-04-07T12:08:48.864Z"
   },
   {
    "duration": 160,
    "start_time": "2025-04-07T12:08:48.943Z"
   },
   {
    "duration": 1024,
    "start_time": "2025-04-07T12:08:49.105Z"
   },
   {
    "duration": 5408,
    "start_time": "2025-04-07T12:12:24.295Z"
   },
   {
    "duration": 1583,
    "start_time": "2025-04-07T12:12:29.706Z"
   },
   {
    "duration": 3,
    "start_time": "2025-04-07T12:12:31.290Z"
   },
   {
    "duration": 965,
    "start_time": "2025-04-07T12:12:31.295Z"
   },
   {
    "duration": 4,
    "start_time": "2025-04-07T12:12:32.262Z"
   },
   {
    "duration": 940,
    "start_time": "2025-04-07T12:12:32.267Z"
   },
   {
    "duration": 4,
    "start_time": "2025-04-07T12:12:33.209Z"
   },
   {
    "duration": 111,
    "start_time": "2025-04-07T12:12:33.214Z"
   },
   {
    "duration": 520,
    "start_time": "2025-04-07T12:12:33.327Z"
   },
   {
    "duration": 21,
    "start_time": "2025-04-07T12:12:33.850Z"
   },
   {
    "duration": 35,
    "start_time": "2025-04-07T12:12:33.873Z"
   },
   {
    "duration": 101,
    "start_time": "2025-04-07T12:12:33.910Z"
   },
   {
    "duration": 143,
    "start_time": "2025-04-07T12:12:34.013Z"
   },
   {
    "duration": 3,
    "start_time": "2025-04-07T12:12:34.157Z"
   },
   {
    "duration": 249,
    "start_time": "2025-04-07T12:12:34.161Z"
   },
   {
    "duration": 35,
    "start_time": "2025-04-07T12:12:34.411Z"
   },
   {
    "duration": 122,
    "start_time": "2025-04-07T12:12:34.448Z"
   },
   {
    "duration": 5,
    "start_time": "2025-04-07T12:12:34.572Z"
   },
   {
    "duration": 6,
    "start_time": "2025-04-07T12:12:34.578Z"
   },
   {
    "duration": 13,
    "start_time": "2025-04-07T12:12:34.586Z"
   },
   {
    "duration": 3778,
    "start_time": "2025-04-07T12:12:34.600Z"
   },
   {
    "duration": 3513,
    "start_time": "2025-04-07T12:12:38.380Z"
   },
   {
    "duration": 23,
    "start_time": "2025-04-07T12:12:41.895Z"
   },
   {
    "duration": 31,
    "start_time": "2025-04-07T12:12:41.920Z"
   },
   {
    "duration": 18,
    "start_time": "2025-04-07T12:12:41.952Z"
   },
   {
    "duration": 46,
    "start_time": "2025-04-07T12:12:41.972Z"
   },
   {
    "duration": 7,
    "start_time": "2025-04-07T12:12:42.019Z"
   },
   {
    "duration": 33,
    "start_time": "2025-04-07T12:12:42.030Z"
   },
   {
    "duration": 20,
    "start_time": "2025-04-07T12:12:42.065Z"
   },
   {
    "duration": 14,
    "start_time": "2025-04-07T12:12:42.107Z"
   },
   {
    "duration": 78,
    "start_time": "2025-04-07T12:12:42.123Z"
   },
   {
    "duration": 3482,
    "start_time": "2025-04-07T12:12:42.202Z"
   },
   {
    "duration": 953,
    "start_time": "2025-04-07T12:12:45.686Z"
   },
   {
    "duration": 2471,
    "start_time": "2025-04-07T12:12:46.641Z"
   },
   {
    "duration": 18,
    "start_time": "2025-04-07T12:12:49.114Z"
   },
   {
    "duration": 38,
    "start_time": "2025-04-07T12:12:49.134Z"
   },
   {
    "duration": 4635,
    "start_time": "2025-04-07T12:12:49.174Z"
   },
   {
    "duration": 1272,
    "start_time": "2025-04-07T12:12:53.811Z"
   },
   {
    "duration": 130,
    "start_time": "2025-04-07T12:12:55.085Z"
   },
   {
    "duration": 30,
    "start_time": "2025-04-07T12:12:55.216Z"
   },
   {
    "duration": 56,
    "start_time": "2025-04-07T12:12:55.249Z"
   },
   {
    "duration": 3758,
    "start_time": "2025-04-07T12:12:55.306Z"
   },
   {
    "duration": 1079,
    "start_time": "2025-04-07T12:12:59.066Z"
   },
   {
    "duration": 80,
    "start_time": "2025-04-07T12:13:00.147Z"
   },
   {
    "duration": 158,
    "start_time": "2025-04-07T12:13:00.229Z"
   },
   {
    "duration": 1135,
    "start_time": "2025-04-07T12:13:00.390Z"
   },
   {
    "duration": 41842,
    "start_time": "2025-04-07T12:13:07.987Z"
   },
   {
    "duration": 59742,
    "start_time": "2025-04-07T12:14:49.008Z"
   },
   {
    "duration": 5089,
    "start_time": "2025-04-07T12:27:48.837Z"
   },
   {
    "duration": 1615,
    "start_time": "2025-04-07T12:27:53.929Z"
   },
   {
    "duration": 3,
    "start_time": "2025-04-07T12:27:55.545Z"
   },
   {
    "duration": 1096,
    "start_time": "2025-04-07T12:27:55.550Z"
   },
   {
    "duration": 4,
    "start_time": "2025-04-07T12:27:56.648Z"
   },
   {
    "duration": 1218,
    "start_time": "2025-04-07T12:27:56.653Z"
   },
   {
    "duration": 6,
    "start_time": "2025-04-07T12:27:57.874Z"
   },
   {
    "duration": 141,
    "start_time": "2025-04-07T12:27:57.882Z"
   },
   {
    "duration": 586,
    "start_time": "2025-04-07T12:27:58.025Z"
   },
   {
    "duration": 21,
    "start_time": "2025-04-07T12:27:58.614Z"
   },
   {
    "duration": 264,
    "start_time": "2025-04-07T12:27:58.637Z"
   },
   {
    "duration": 172,
    "start_time": "2025-04-07T12:27:58.904Z"
   },
   {
    "duration": 356,
    "start_time": "2025-04-07T12:27:59.078Z"
   },
   {
    "duration": 3,
    "start_time": "2025-04-07T12:27:59.435Z"
   },
   {
    "duration": 285,
    "start_time": "2025-04-07T12:27:59.440Z"
   },
   {
    "duration": 36,
    "start_time": "2025-04-07T12:27:59.727Z"
   },
   {
    "duration": 299,
    "start_time": "2025-04-07T12:27:59.765Z"
   },
   {
    "duration": 237,
    "start_time": "2025-04-07T12:28:00.066Z"
   },
   {
    "duration": 601,
    "start_time": "2025-04-07T12:28:00.305Z"
   },
   {
    "duration": 558,
    "start_time": "2025-04-07T12:28:00.908Z"
   },
   {
    "duration": 4319,
    "start_time": "2025-04-07T12:28:01.467Z"
   },
   {
    "duration": 3888,
    "start_time": "2025-04-07T12:28:05.788Z"
   },
   {
    "duration": 38,
    "start_time": "2025-04-07T12:28:09.686Z"
   },
   {
    "duration": 79,
    "start_time": "2025-04-07T12:28:09.725Z"
   },
   {
    "duration": 28,
    "start_time": "2025-04-07T12:28:09.806Z"
   },
   {
    "duration": 20,
    "start_time": "2025-04-07T12:28:09.835Z"
   },
   {
    "duration": 7,
    "start_time": "2025-04-07T12:28:09.857Z"
   },
   {
    "duration": 72,
    "start_time": "2025-04-07T12:28:09.866Z"
   },
   {
    "duration": 19,
    "start_time": "2025-04-07T12:28:09.939Z"
   },
   {
    "duration": 13,
    "start_time": "2025-04-07T12:28:09.959Z"
   },
   {
    "duration": 63,
    "start_time": "2025-04-07T12:28:09.973Z"
   },
   {
    "duration": 3632,
    "start_time": "2025-04-07T12:28:10.038Z"
   },
   {
    "duration": 1074,
    "start_time": "2025-04-07T12:28:13.671Z"
   },
   {
    "duration": 2704,
    "start_time": "2025-04-07T12:28:14.747Z"
   },
   {
    "duration": 15,
    "start_time": "2025-04-07T12:28:17.453Z"
   },
   {
    "duration": 43,
    "start_time": "2025-04-07T12:28:17.470Z"
   },
   {
    "duration": 5153,
    "start_time": "2025-04-07T12:28:17.522Z"
   },
   {
    "duration": 1324,
    "start_time": "2025-04-07T12:28:22.676Z"
   },
   {
    "duration": 939,
    "start_time": "2025-04-07T12:28:24.001Z"
   },
   {
    "duration": 2152,
    "start_time": "2025-04-07T12:28:24.941Z"
   },
   {
    "duration": 1567,
    "start_time": "2025-04-07T12:28:27.095Z"
   },
   {
    "duration": 4696,
    "start_time": "2025-04-07T12:28:28.663Z"
   },
   {
    "duration": 1277,
    "start_time": "2025-04-07T12:28:33.361Z"
   },
   {
    "duration": 1377,
    "start_time": "2025-04-07T12:28:34.640Z"
   },
   {
    "duration": 166,
    "start_time": "2025-04-07T12:28:36.019Z"
   },
   {
    "duration": 1170,
    "start_time": "2025-04-07T12:28:36.186Z"
   },
   {
    "duration": 5379,
    "start_time": "2025-04-07T12:47:22.856Z"
   },
   {
    "duration": 1636,
    "start_time": "2025-04-07T12:47:28.239Z"
   },
   {
    "duration": 4,
    "start_time": "2025-04-07T12:47:29.877Z"
   },
   {
    "duration": 1036,
    "start_time": "2025-04-07T12:47:29.883Z"
   },
   {
    "duration": 5,
    "start_time": "2025-04-07T12:47:30.922Z"
   },
   {
    "duration": 1039,
    "start_time": "2025-04-07T12:47:30.928Z"
   },
   {
    "duration": 4,
    "start_time": "2025-04-07T12:47:31.969Z"
   },
   {
    "duration": 45,
    "start_time": "2025-04-07T12:47:31.976Z"
   },
   {
    "duration": 529,
    "start_time": "2025-04-07T12:47:32.024Z"
   },
   {
    "duration": 22,
    "start_time": "2025-04-07T12:47:32.555Z"
   },
   {
    "duration": 40,
    "start_time": "2025-04-07T12:47:32.579Z"
   },
   {
    "duration": 156,
    "start_time": "2025-04-07T12:47:32.622Z"
   },
   {
    "duration": 147,
    "start_time": "2025-04-07T12:47:32.780Z"
   },
   {
    "duration": 3,
    "start_time": "2025-04-07T12:47:32.932Z"
   },
   {
    "duration": 150,
    "start_time": "2025-04-07T12:47:32.937Z"
   },
   {
    "duration": 55,
    "start_time": "2025-04-07T12:47:33.091Z"
   },
   {
    "duration": 117,
    "start_time": "2025-04-07T12:47:33.148Z"
   },
   {
    "duration": 143,
    "start_time": "2025-04-07T12:47:33.267Z"
   },
   {
    "duration": 21,
    "start_time": "2025-04-07T12:47:33.412Z"
   },
   {
    "duration": 45,
    "start_time": "2025-04-07T12:47:33.436Z"
   },
   {
    "duration": 4046,
    "start_time": "2025-04-07T12:47:33.484Z"
   },
   {
    "duration": 3660,
    "start_time": "2025-04-07T12:47:37.532Z"
   },
   {
    "duration": 26,
    "start_time": "2025-04-07T12:47:41.195Z"
   },
   {
    "duration": 130,
    "start_time": "2025-04-07T12:47:41.224Z"
   },
   {
    "duration": 29,
    "start_time": "2025-04-07T12:47:41.356Z"
   },
   {
    "duration": 53,
    "start_time": "2025-04-07T12:47:41.387Z"
   },
   {
    "duration": 8,
    "start_time": "2025-04-07T12:47:41.442Z"
   },
   {
    "duration": 47,
    "start_time": "2025-04-07T12:47:41.454Z"
   },
   {
    "duration": 19,
    "start_time": "2025-04-07T12:47:41.503Z"
   },
   {
    "duration": 13,
    "start_time": "2025-04-07T12:47:41.524Z"
   },
   {
    "duration": 32,
    "start_time": "2025-04-07T12:47:41.539Z"
   },
   {
    "duration": 3783,
    "start_time": "2025-04-07T12:47:41.572Z"
   },
   {
    "duration": 999,
    "start_time": "2025-04-07T12:47:45.359Z"
   },
   {
    "duration": 2551,
    "start_time": "2025-04-07T12:47:46.361Z"
   },
   {
    "duration": 18,
    "start_time": "2025-04-07T12:47:48.914Z"
   },
   {
    "duration": 19,
    "start_time": "2025-04-07T12:47:48.934Z"
   },
   {
    "duration": 4851,
    "start_time": "2025-04-07T12:47:48.956Z"
   },
   {
    "duration": 1460,
    "start_time": "2025-04-07T12:47:53.808Z"
   },
   {
    "duration": 161,
    "start_time": "2025-04-07T12:47:55.271Z"
   },
   {
    "duration": 31,
    "start_time": "2025-04-07T12:47:55.437Z"
   },
   {
    "duration": 18,
    "start_time": "2025-04-07T12:47:55.470Z"
   },
   {
    "duration": 3953,
    "start_time": "2025-04-07T12:47:55.489Z"
   },
   {
    "duration": 1110,
    "start_time": "2025-04-07T12:47:59.444Z"
   },
   {
    "duration": 85,
    "start_time": "2025-04-07T12:48:00.557Z"
   },
   {
    "duration": 157,
    "start_time": "2025-04-07T12:48:00.645Z"
   },
   {
    "duration": 1250,
    "start_time": "2025-04-07T12:48:00.804Z"
   },
   {
    "duration": 308617,
    "start_time": "2025-04-07T12:48:20.875Z"
   },
   {
    "duration": 5854,
    "start_time": "2025-04-07T12:53:47.919Z"
   },
   {
    "duration": 1845,
    "start_time": "2025-04-07T12:53:53.777Z"
   },
   {
    "duration": 8,
    "start_time": "2025-04-07T12:53:55.629Z"
   },
   {
    "duration": 1146,
    "start_time": "2025-04-07T12:53:55.639Z"
   },
   {
    "duration": 6,
    "start_time": "2025-04-07T12:53:56.787Z"
   },
   {
    "duration": 1081,
    "start_time": "2025-04-07T12:53:56.810Z"
   },
   {
    "duration": 16,
    "start_time": "2025-04-07T12:53:57.895Z"
   },
   {
    "duration": 27,
    "start_time": "2025-04-07T12:53:57.914Z"
   },
   {
    "duration": 643,
    "start_time": "2025-04-07T12:53:57.943Z"
   },
   {
    "duration": 33,
    "start_time": "2025-04-07T12:53:58.589Z"
   },
   {
    "duration": 40,
    "start_time": "2025-04-07T12:53:58.624Z"
   },
   {
    "duration": 123,
    "start_time": "2025-04-07T12:53:58.666Z"
   },
   {
    "duration": 158,
    "start_time": "2025-04-07T12:53:58.791Z"
   },
   {
    "duration": 3,
    "start_time": "2025-04-07T12:53:58.952Z"
   },
   {
    "duration": 209,
    "start_time": "2025-04-07T12:53:58.956Z"
   },
   {
    "duration": 62,
    "start_time": "2025-04-07T12:53:59.168Z"
   },
   {
    "duration": 124,
    "start_time": "2025-04-07T12:53:59.232Z"
   },
   {
    "duration": 77,
    "start_time": "2025-04-07T12:53:59.358Z"
   },
   {
    "duration": 6,
    "start_time": "2025-04-07T12:53:59.438Z"
   },
   {
    "duration": 4,
    "start_time": "2025-04-07T12:53:59.446Z"
   },
   {
    "duration": 4306,
    "start_time": "2025-04-07T12:53:59.452Z"
   },
   {
    "duration": 4103,
    "start_time": "2025-04-07T12:54:03.761Z"
   },
   {
    "duration": 17,
    "start_time": "2025-04-07T12:54:07.867Z"
   },
   {
    "duration": 57,
    "start_time": "2025-04-07T12:54:07.886Z"
   },
   {
    "duration": 20,
    "start_time": "2025-04-07T12:54:07.945Z"
   },
   {
    "duration": 24,
    "start_time": "2025-04-07T12:54:07.967Z"
   },
   {
    "duration": 10,
    "start_time": "2025-04-07T12:54:08.016Z"
   },
   {
    "duration": 44,
    "start_time": "2025-04-07T12:54:08.032Z"
   },
   {
    "duration": 52,
    "start_time": "2025-04-07T12:54:08.078Z"
   },
   {
    "duration": 16,
    "start_time": "2025-04-07T12:54:08.132Z"
   },
   {
    "duration": 54,
    "start_time": "2025-04-07T12:54:08.151Z"
   },
   {
    "duration": 4870,
    "start_time": "2025-04-07T12:54:08.209Z"
   },
   {
    "duration": 1236,
    "start_time": "2025-04-07T12:54:13.082Z"
   },
   {
    "duration": 3792,
    "start_time": "2025-04-07T12:54:14.323Z"
   },
   {
    "duration": 31,
    "start_time": "2025-04-07T12:54:18.117Z"
   },
   {
    "duration": 20,
    "start_time": "2025-04-07T12:54:18.151Z"
   },
   {
    "duration": 6151,
    "start_time": "2025-04-07T12:54:18.173Z"
   },
   {
    "duration": 1619,
    "start_time": "2025-04-07T12:54:24.325Z"
   },
   {
    "duration": 294,
    "start_time": "2025-04-07T12:54:25.947Z"
   },
   {
    "duration": 29,
    "start_time": "2025-04-07T12:54:26.244Z"
   },
   {
    "duration": 79,
    "start_time": "2025-04-07T12:54:26.275Z"
   },
   {
    "duration": 4857,
    "start_time": "2025-04-07T12:54:26.357Z"
   },
   {
    "duration": 1251,
    "start_time": "2025-04-07T12:54:31.222Z"
   },
   {
    "duration": 100,
    "start_time": "2025-04-07T12:54:32.476Z"
   },
   {
    "duration": 200,
    "start_time": "2025-04-07T12:54:32.579Z"
   },
   {
    "duration": 70268,
    "start_time": "2025-04-07T12:55:45.145Z"
   },
   {
    "duration": 6031,
    "start_time": "2025-04-07T13:14:30.905Z"
   },
   {
    "duration": 1819,
    "start_time": "2025-04-07T13:14:36.941Z"
   },
   {
    "duration": 4,
    "start_time": "2025-04-07T13:14:38.762Z"
   },
   {
    "duration": 1083,
    "start_time": "2025-04-07T13:14:38.769Z"
   },
   {
    "duration": 4,
    "start_time": "2025-04-07T13:14:39.854Z"
   },
   {
    "duration": 1203,
    "start_time": "2025-04-07T13:14:39.859Z"
   },
   {
    "duration": 4,
    "start_time": "2025-04-07T13:14:41.063Z"
   },
   {
    "duration": 47,
    "start_time": "2025-04-07T13:14:41.069Z"
   },
   {
    "duration": 641,
    "start_time": "2025-04-07T13:14:41.124Z"
   },
   {
    "duration": 25,
    "start_time": "2025-04-07T13:14:41.768Z"
   },
   {
    "duration": 41,
    "start_time": "2025-04-07T13:14:41.795Z"
   },
   {
    "duration": 129,
    "start_time": "2025-04-07T13:14:41.838Z"
   },
   {
    "duration": 172,
    "start_time": "2025-04-07T13:14:41.970Z"
   },
   {
    "duration": 3,
    "start_time": "2025-04-07T13:14:42.145Z"
   },
   {
    "duration": 197,
    "start_time": "2025-04-07T13:14:42.150Z"
   },
   {
    "duration": 40,
    "start_time": "2025-04-07T13:14:42.351Z"
   },
   {
    "duration": 224,
    "start_time": "2025-04-07T13:14:42.393Z"
   },
   {
    "duration": 20,
    "start_time": "2025-04-07T13:14:42.621Z"
   },
   {
    "duration": 32,
    "start_time": "2025-04-07T13:14:42.645Z"
   },
   {
    "duration": 8,
    "start_time": "2025-04-07T13:14:42.678Z"
   },
   {
    "duration": 4403,
    "start_time": "2025-04-07T13:14:42.688Z"
   },
   {
    "duration": 3955,
    "start_time": "2025-04-07T13:14:47.094Z"
   },
   {
    "duration": 17,
    "start_time": "2025-04-07T13:14:51.051Z"
   },
   {
    "duration": 64,
    "start_time": "2025-04-07T13:14:51.071Z"
   },
   {
    "duration": 18,
    "start_time": "2025-04-07T13:14:51.138Z"
   },
   {
    "duration": 33,
    "start_time": "2025-04-07T13:14:51.159Z"
   },
   {
    "duration": 23,
    "start_time": "2025-04-07T13:14:51.194Z"
   },
   {
    "duration": 33,
    "start_time": "2025-04-07T13:14:51.233Z"
   },
   {
    "duration": 20,
    "start_time": "2025-04-07T13:14:51.268Z"
   },
   {
    "duration": 25,
    "start_time": "2025-04-07T13:14:51.290Z"
   },
   {
    "duration": 38,
    "start_time": "2025-04-07T13:14:51.323Z"
   },
   {
    "duration": 3989,
    "start_time": "2025-04-07T13:14:51.363Z"
   },
   {
    "duration": 1098,
    "start_time": "2025-04-07T13:14:55.354Z"
   },
   {
    "duration": 3029,
    "start_time": "2025-04-07T13:14:56.454Z"
   },
   {
    "duration": 35,
    "start_time": "2025-04-07T13:14:59.485Z"
   },
   {
    "duration": 26,
    "start_time": "2025-04-07T13:14:59.531Z"
   },
   {
    "duration": 5866,
    "start_time": "2025-04-07T13:14:59.559Z"
   },
   {
    "duration": 1456,
    "start_time": "2025-04-07T13:15:05.427Z"
   },
   {
    "duration": 184,
    "start_time": "2025-04-07T13:15:06.885Z"
   },
   {
    "duration": 44,
    "start_time": "2025-04-07T13:15:07.070Z"
   },
   {
    "duration": 28,
    "start_time": "2025-04-07T13:15:07.123Z"
   },
   {
    "duration": 4701,
    "start_time": "2025-04-07T13:15:07.153Z"
   },
   {
    "duration": 1248,
    "start_time": "2025-04-07T13:15:11.856Z"
   },
   {
    "duration": 110,
    "start_time": "2025-04-07T13:15:13.112Z"
   },
   {
    "duration": 168,
    "start_time": "2025-04-07T13:15:13.232Z"
   },
   {
    "duration": 1690,
    "start_time": "2025-04-07T13:15:13.402Z"
   },
   {
    "duration": 5703,
    "start_time": "2025-04-07T13:27:43.697Z"
   },
   {
    "duration": 1750,
    "start_time": "2025-04-07T13:27:49.403Z"
   },
   {
    "duration": 3,
    "start_time": "2025-04-07T13:27:51.154Z"
   },
   {
    "duration": 1013,
    "start_time": "2025-04-07T13:27:51.159Z"
   },
   {
    "duration": 4,
    "start_time": "2025-04-07T13:27:52.175Z"
   },
   {
    "duration": 1071,
    "start_time": "2025-04-07T13:27:52.181Z"
   },
   {
    "duration": 4,
    "start_time": "2025-04-07T13:27:53.256Z"
   },
   {
    "duration": 68,
    "start_time": "2025-04-07T13:27:53.261Z"
   },
   {
    "duration": 551,
    "start_time": "2025-04-07T13:27:53.335Z"
   },
   {
    "duration": 37,
    "start_time": "2025-04-07T13:27:53.887Z"
   },
   {
    "duration": 20,
    "start_time": "2025-04-07T13:27:53.926Z"
   },
   {
    "duration": 123,
    "start_time": "2025-04-07T13:27:53.947Z"
   },
   {
    "duration": 180,
    "start_time": "2025-04-07T13:27:54.073Z"
   },
   {
    "duration": 4,
    "start_time": "2025-04-07T13:27:54.255Z"
   },
   {
    "duration": 186,
    "start_time": "2025-04-07T13:27:54.261Z"
   },
   {
    "duration": 35,
    "start_time": "2025-04-07T13:27:54.449Z"
   },
   {
    "duration": 159,
    "start_time": "2025-04-07T13:27:54.486Z"
   },
   {
    "duration": 6,
    "start_time": "2025-04-07T13:27:54.648Z"
   },
   {
    "duration": 11,
    "start_time": "2025-04-07T13:27:54.656Z"
   },
   {
    "duration": 5,
    "start_time": "2025-04-07T13:27:54.669Z"
   },
   {
    "duration": 4233,
    "start_time": "2025-04-07T13:27:54.676Z"
   },
   {
    "duration": 3866,
    "start_time": "2025-04-07T13:27:58.916Z"
   },
   {
    "duration": 14,
    "start_time": "2025-04-07T13:28:02.783Z"
   },
   {
    "duration": 45,
    "start_time": "2025-04-07T13:28:02.799Z"
   },
   {
    "duration": 35,
    "start_time": "2025-04-07T13:28:02.846Z"
   },
   {
    "duration": 84,
    "start_time": "2025-04-07T13:28:02.883Z"
   },
   {
    "duration": 111,
    "start_time": "2025-04-07T13:28:02.969Z"
   },
   {
    "duration": 38,
    "start_time": "2025-04-07T13:28:03.081Z"
   },
   {
    "duration": 20,
    "start_time": "2025-04-07T13:28:03.129Z"
   },
   {
    "duration": 23,
    "start_time": "2025-04-07T13:28:03.151Z"
   },
   {
    "duration": 40,
    "start_time": "2025-04-07T13:28:03.176Z"
   },
   {
    "duration": 3839,
    "start_time": "2025-04-07T13:28:03.226Z"
   },
   {
    "duration": 1072,
    "start_time": "2025-04-07T13:28:07.067Z"
   },
   {
    "duration": 2829,
    "start_time": "2025-04-07T13:28:08.142Z"
   },
   {
    "duration": 16,
    "start_time": "2025-04-07T13:28:10.973Z"
   },
   {
    "duration": 74,
    "start_time": "2025-04-07T13:28:10.993Z"
   },
   {
    "duration": 5395,
    "start_time": "2025-04-07T13:28:11.069Z"
   },
   {
    "duration": 1331,
    "start_time": "2025-04-07T13:28:16.465Z"
   },
   {
    "duration": 142,
    "start_time": "2025-04-07T13:28:17.798Z"
   },
   {
    "duration": 29,
    "start_time": "2025-04-07T13:28:17.942Z"
   },
   {
    "duration": 17,
    "start_time": "2025-04-07T13:28:17.972Z"
   },
   {
    "duration": 4359,
    "start_time": "2025-04-07T13:28:17.991Z"
   },
   {
    "duration": 1184,
    "start_time": "2025-04-07T13:28:22.352Z"
   },
   {
    "duration": 82,
    "start_time": "2025-04-07T13:28:23.539Z"
   },
   {
    "duration": 158,
    "start_time": "2025-04-07T13:28:23.627Z"
   },
   {
    "duration": 1279,
    "start_time": "2025-04-07T13:28:23.787Z"
   },
   {
    "duration": 108411,
    "start_time": "2025-04-07T13:29:05.203Z"
   },
   {
    "duration": 5038,
    "start_time": "2025-04-07T13:34:28.409Z"
   },
   {
    "duration": 1537,
    "start_time": "2025-04-07T13:34:33.449Z"
   },
   {
    "duration": 3,
    "start_time": "2025-04-07T13:34:34.988Z"
   },
   {
    "duration": 1008,
    "start_time": "2025-04-07T13:34:34.993Z"
   },
   {
    "duration": 3,
    "start_time": "2025-04-07T13:34:36.006Z"
   },
   {
    "duration": 986,
    "start_time": "2025-04-07T13:34:36.011Z"
   },
   {
    "duration": 7,
    "start_time": "2025-04-07T13:34:36.999Z"
   },
   {
    "duration": 79,
    "start_time": "2025-04-07T13:34:37.008Z"
   },
   {
    "duration": 497,
    "start_time": "2025-04-07T13:34:37.089Z"
   },
   {
    "duration": 28,
    "start_time": "2025-04-07T13:34:37.588Z"
   },
   {
    "duration": 18,
    "start_time": "2025-04-07T13:34:37.618Z"
   },
   {
    "duration": 112,
    "start_time": "2025-04-07T13:34:37.638Z"
   },
   {
    "duration": 158,
    "start_time": "2025-04-07T13:34:37.752Z"
   },
   {
    "duration": 3,
    "start_time": "2025-04-07T13:34:37.912Z"
   },
   {
    "duration": 135,
    "start_time": "2025-04-07T13:34:37.917Z"
   },
   {
    "duration": 36,
    "start_time": "2025-04-07T13:34:38.054Z"
   },
   {
    "duration": 109,
    "start_time": "2025-04-07T13:34:38.107Z"
   },
   {
    "duration": 4,
    "start_time": "2025-04-07T13:34:38.218Z"
   },
   {
    "duration": 22,
    "start_time": "2025-04-07T13:34:38.224Z"
   },
   {
    "duration": 10,
    "start_time": "2025-04-07T13:34:38.248Z"
   },
   {
    "duration": 3736,
    "start_time": "2025-04-07T13:34:38.259Z"
   },
   {
    "duration": 3514,
    "start_time": "2025-04-07T13:34:41.996Z"
   },
   {
    "duration": 14,
    "start_time": "2025-04-07T13:34:45.511Z"
   },
   {
    "duration": 125,
    "start_time": "2025-04-07T13:34:45.526Z"
   },
   {
    "duration": 16,
    "start_time": "2025-04-07T13:34:45.652Z"
   },
   {
    "duration": 28,
    "start_time": "2025-04-07T13:34:45.671Z"
   },
   {
    "duration": 6,
    "start_time": "2025-04-07T13:34:45.701Z"
   },
   {
    "duration": 30,
    "start_time": "2025-04-07T13:34:45.709Z"
   },
   {
    "duration": 20,
    "start_time": "2025-04-07T13:34:45.740Z"
   },
   {
    "duration": 12,
    "start_time": "2025-04-07T13:34:45.761Z"
   },
   {
    "duration": 51,
    "start_time": "2025-04-07T13:34:45.774Z"
   },
   {
    "duration": 3525,
    "start_time": "2025-04-07T13:34:45.827Z"
   },
   {
    "duration": 962,
    "start_time": "2025-04-07T13:34:49.355Z"
   },
   {
    "duration": 2382,
    "start_time": "2025-04-07T13:34:50.319Z"
   },
   {
    "duration": 16,
    "start_time": "2025-04-07T13:34:52.706Z"
   },
   {
    "duration": 22,
    "start_time": "2025-04-07T13:34:52.724Z"
   },
   {
    "duration": 4704,
    "start_time": "2025-04-07T13:34:52.748Z"
   },
   {
    "duration": 1258,
    "start_time": "2025-04-07T13:34:57.454Z"
   },
   {
    "duration": 124,
    "start_time": "2025-04-07T13:34:58.713Z"
   },
   {
    "duration": 28,
    "start_time": "2025-04-07T13:34:58.839Z"
   },
   {
    "duration": 16,
    "start_time": "2025-04-07T13:34:58.869Z"
   },
   {
    "duration": 3805,
    "start_time": "2025-04-07T13:34:58.886Z"
   },
   {
    "duration": 1056,
    "start_time": "2025-04-07T13:35:02.692Z"
   },
   {
    "duration": 80,
    "start_time": "2025-04-07T13:35:03.750Z"
   },
   {
    "duration": 144,
    "start_time": "2025-04-07T13:35:03.833Z"
   },
   {
    "duration": 1058,
    "start_time": "2025-04-07T13:35:03.979Z"
   },
   {
    "duration": 171830,
    "start_time": "2025-04-07T13:35:16.399Z"
   },
   {
    "duration": 505033,
    "start_time": "2025-04-07T13:41:31.500Z"
   },
   {
    "duration": 124,
    "start_time": "2025-04-07T13:52:56.737Z"
   },
   {
    "duration": 132462,
    "start_time": "2025-04-07T13:53:05.957Z"
   },
   {
    "duration": 61300,
    "start_time": "2025-04-07T13:55:25.379Z"
   },
   {
    "duration": 8,
    "start_time": "2025-04-07T13:56:32.805Z"
   },
   {
    "duration": 5,
    "start_time": "2025-04-07T14:10:54.979Z"
   },
   {
    "duration": 140,
    "start_time": "2025-04-07T14:49:11.033Z"
   },
   {
    "duration": 5362,
    "start_time": "2025-04-07T14:59:53.441Z"
   },
   {
    "duration": 1667,
    "start_time": "2025-04-07T14:59:58.805Z"
   },
   {
    "duration": 3,
    "start_time": "2025-04-07T15:00:00.474Z"
   },
   {
    "duration": 1017,
    "start_time": "2025-04-07T15:00:00.479Z"
   },
   {
    "duration": 17,
    "start_time": "2025-04-07T15:00:01.498Z"
   },
   {
    "duration": 1033,
    "start_time": "2025-04-07T15:00:01.530Z"
   },
   {
    "duration": 4,
    "start_time": "2025-04-07T15:00:02.565Z"
   },
   {
    "duration": 200,
    "start_time": "2025-04-07T15:00:02.571Z"
   },
   {
    "duration": 602,
    "start_time": "2025-04-07T15:00:02.773Z"
   },
   {
    "duration": 58,
    "start_time": "2025-04-07T15:00:03.378Z"
   },
   {
    "duration": 122,
    "start_time": "2025-04-07T15:00:03.437Z"
   },
   {
    "duration": 111,
    "start_time": "2025-04-07T15:00:03.560Z"
   },
   {
    "duration": 162,
    "start_time": "2025-04-07T15:00:03.673Z"
   },
   {
    "duration": 3,
    "start_time": "2025-04-07T15:00:03.836Z"
   },
   {
    "duration": 146,
    "start_time": "2025-04-07T15:00:03.841Z"
   },
   {
    "duration": 59,
    "start_time": "2025-04-07T15:00:03.988Z"
   },
   {
    "duration": 7,
    "start_time": "2025-04-07T15:00:04.049Z"
   },
   {
    "duration": 27,
    "start_time": "2025-04-07T15:00:04.058Z"
   },
   {
    "duration": 5,
    "start_time": "2025-04-07T15:00:04.086Z"
   },
   {
    "duration": 4061,
    "start_time": "2025-04-07T15:00:04.092Z"
   },
   {
    "duration": 14,
    "start_time": "2025-04-07T15:00:08.155Z"
   },
   {
    "duration": 56,
    "start_time": "2025-04-07T15:00:08.171Z"
   },
   {
    "duration": 12,
    "start_time": "2025-04-07T15:00:08.230Z"
   },
   {
    "duration": 23,
    "start_time": "2025-04-07T15:00:08.244Z"
   },
   {
    "duration": 3606,
    "start_time": "2025-04-07T15:00:08.269Z"
   },
   {
    "duration": 3079,
    "start_time": "2025-04-07T15:00:11.879Z"
   },
   {
    "duration": 19,
    "start_time": "2025-04-07T15:00:14.960Z"
   },
   {
    "duration": 7,
    "start_time": "2025-04-07T15:00:14.980Z"
   },
   {
    "duration": 45,
    "start_time": "2025-04-07T15:00:14.988Z"
   },
   {
    "duration": 36,
    "start_time": "2025-04-07T15:00:15.035Z"
   },
   {
    "duration": 1067,
    "start_time": "2025-04-07T15:00:15.073Z"
   },
   {
    "duration": 2874,
    "start_time": "2025-04-07T15:00:16.143Z"
   },
   {
    "duration": 5488,
    "start_time": "2025-04-07T15:00:19.024Z"
   },
   {
    "duration": 1377,
    "start_time": "2025-04-07T15:00:24.519Z"
   },
   {
    "duration": 132,
    "start_time": "2025-04-07T15:00:25.898Z"
   },
   {
    "duration": 15,
    "start_time": "2025-04-07T15:00:26.032Z"
   },
   {
    "duration": 18,
    "start_time": "2025-04-07T15:00:26.048Z"
   },
   {
    "duration": 4729,
    "start_time": "2025-04-07T15:00:26.067Z"
   },
   {
    "duration": 1094,
    "start_time": "2025-04-07T15:00:30.798Z"
   },
   {
    "duration": 176,
    "start_time": "2025-04-07T15:00:31.894Z"
   },
   {
    "duration": 1191,
    "start_time": "2025-04-07T15:00:32.073Z"
   },
   {
    "duration": 140757,
    "start_time": "2025-04-07T15:01:02.251Z"
   },
   {
    "duration": 64130,
    "start_time": "2025-04-07T15:04:52.692Z"
   },
   {
    "duration": 1465691,
    "start_time": "2025-04-07T15:06:37.335Z"
   },
   {
    "duration": 6,
    "start_time": "2025-04-07T15:31:10.430Z"
   },
   {
    "duration": 109,
    "start_time": "2025-04-07T15:31:12.558Z"
   },
   {
    "duration": 5748,
    "start_time": "2025-04-07T15:50:25.717Z"
   },
   {
    "duration": 5908,
    "start_time": "2025-04-07T15:50:31.468Z"
   },
   {
    "duration": 3,
    "start_time": "2025-04-07T15:50:37.378Z"
   },
   {
    "duration": 3214,
    "start_time": "2025-04-07T15:50:37.383Z"
   },
   {
    "duration": 4,
    "start_time": "2025-04-07T15:50:40.599Z"
   },
   {
    "duration": 914,
    "start_time": "2025-04-07T15:50:40.604Z"
   },
   {
    "duration": 3,
    "start_time": "2025-04-07T15:50:41.520Z"
   },
   {
    "duration": 162,
    "start_time": "2025-04-07T15:50:41.524Z"
   },
   {
    "duration": 536,
    "start_time": "2025-04-07T15:50:41.688Z"
   },
   {
    "duration": 44,
    "start_time": "2025-04-07T15:50:42.226Z"
   },
   {
    "duration": 113,
    "start_time": "2025-04-07T15:50:42.272Z"
   },
   {
    "duration": 130,
    "start_time": "2025-04-07T15:50:42.386Z"
   },
   {
    "duration": 132,
    "start_time": "2025-04-07T15:50:42.518Z"
   },
   {
    "duration": 3,
    "start_time": "2025-04-07T15:50:42.651Z"
   },
   {
    "duration": 126,
    "start_time": "2025-04-07T15:50:42.656Z"
   },
   {
    "duration": 41,
    "start_time": "2025-04-07T15:50:42.784Z"
   },
   {
    "duration": 6,
    "start_time": "2025-04-07T15:50:42.827Z"
   },
   {
    "duration": 12,
    "start_time": "2025-04-07T15:50:42.834Z"
   },
   {
    "duration": 12,
    "start_time": "2025-04-07T15:50:42.848Z"
   },
   {
    "duration": 3618,
    "start_time": "2025-04-07T15:50:42.862Z"
   },
   {
    "duration": 22,
    "start_time": "2025-04-07T15:50:46.482Z"
   },
   {
    "duration": 30,
    "start_time": "2025-04-07T15:50:46.506Z"
   },
   {
    "duration": 10,
    "start_time": "2025-04-07T15:50:46.538Z"
   },
   {
    "duration": 21,
    "start_time": "2025-04-07T15:50:46.550Z"
   },
   {
    "duration": 5,
    "start_time": "2025-04-07T15:50:46.573Z"
   },
   {
    "duration": 4,
    "start_time": "2025-04-07T15:50:59.815Z"
   },
   {
    "duration": 4,
    "start_time": "2025-04-07T15:51:03.277Z"
   },
   {
    "duration": 8,
    "start_time": "2025-04-07T15:51:25.595Z"
   },
   {
    "duration": 4,
    "start_time": "2025-04-07T15:51:27.813Z"
   },
   {
    "duration": 5493,
    "start_time": "2025-04-07T16:26:13.384Z"
   },
   {
    "duration": 1766,
    "start_time": "2025-04-07T16:26:18.879Z"
   },
   {
    "duration": 3,
    "start_time": "2025-04-07T16:26:20.647Z"
   },
   {
    "duration": 983,
    "start_time": "2025-04-07T16:26:20.652Z"
   },
   {
    "duration": 4,
    "start_time": "2025-04-07T16:26:21.639Z"
   },
   {
    "duration": 1034,
    "start_time": "2025-04-07T16:26:21.646Z"
   },
   {
    "duration": 4,
    "start_time": "2025-04-07T16:26:22.681Z"
   },
   {
    "duration": 191,
    "start_time": "2025-04-07T16:26:22.686Z"
   },
   {
    "duration": 594,
    "start_time": "2025-04-07T16:26:22.879Z"
   },
   {
    "duration": 59,
    "start_time": "2025-04-07T16:26:23.476Z"
   },
   {
    "duration": 155,
    "start_time": "2025-04-07T16:26:23.536Z"
   },
   {
    "duration": 128,
    "start_time": "2025-04-07T16:26:23.692Z"
   },
   {
    "duration": 153,
    "start_time": "2025-04-07T16:26:23.822Z"
   },
   {
    "duration": 3,
    "start_time": "2025-04-07T16:26:23.977Z"
   },
   {
    "duration": 201,
    "start_time": "2025-04-07T16:26:23.981Z"
   },
   {
    "duration": 53,
    "start_time": "2025-04-07T16:26:24.183Z"
   },
   {
    "duration": 7,
    "start_time": "2025-04-07T16:26:24.237Z"
   },
   {
    "duration": 4,
    "start_time": "2025-04-07T16:26:25.145Z"
   },
   {
    "duration": 5,
    "start_time": "2025-04-07T16:26:25.623Z"
   },
   {
    "duration": 3972,
    "start_time": "2025-04-07T16:26:26.791Z"
   },
   {
    "duration": 5814,
    "start_time": "2025-04-07T20:49:59.334Z"
   },
   {
    "duration": 1743,
    "start_time": "2025-04-07T20:50:05.151Z"
   },
   {
    "duration": 2,
    "start_time": "2025-04-07T20:50:06.896Z"
   },
   {
    "duration": 981,
    "start_time": "2025-04-07T20:50:06.903Z"
   },
   {
    "duration": 4,
    "start_time": "2025-04-07T20:50:07.886Z"
   },
   {
    "duration": 893,
    "start_time": "2025-04-07T20:50:07.891Z"
   },
   {
    "duration": 3,
    "start_time": "2025-04-07T20:50:11.149Z"
   },
   {
    "duration": 141,
    "start_time": "2025-04-07T20:50:11.605Z"
   },
   {
    "duration": 510,
    "start_time": "2025-04-07T20:50:12.309Z"
   },
   {
    "duration": 45,
    "start_time": "2025-04-07T20:50:14.105Z"
   },
   {
    "duration": 99,
    "start_time": "2025-04-07T20:50:15.509Z"
   },
   {
    "duration": 82,
    "start_time": "2025-04-07T20:50:16.205Z"
   },
   {
    "duration": 119,
    "start_time": "2025-04-07T20:50:17.981Z"
   },
   {
    "duration": 3,
    "start_time": "2025-04-07T20:50:19.405Z"
   },
   {
    "duration": 116,
    "start_time": "2025-04-07T20:50:20.509Z"
   },
   {
    "duration": 31,
    "start_time": "2025-04-07T20:50:21.310Z"
   },
   {
    "duration": 5,
    "start_time": "2025-04-07T20:50:32.799Z"
   },
   {
    "duration": 4,
    "start_time": "2025-04-07T20:50:33.391Z"
   },
   {
    "duration": 3,
    "start_time": "2025-04-07T20:50:34.117Z"
   },
   {
    "duration": 3539,
    "start_time": "2025-04-07T20:50:35.438Z"
   },
   {
    "duration": 112,
    "start_time": "2025-04-07T21:00:48.750Z"
   },
   {
    "duration": 14,
    "start_time": "2025-04-07T21:01:02.736Z"
   },
   {
    "duration": 13,
    "start_time": "2025-04-07T21:01:48.367Z"
   },
   {
    "duration": 32,
    "start_time": "2025-04-07T21:01:49.184Z"
   },
   {
    "duration": 3278,
    "start_time": "2025-04-07T21:02:01.216Z"
   },
   {
    "duration": 10,
    "start_time": "2025-04-07T21:06:29.852Z"
   },
   {
    "duration": 11,
    "start_time": "2025-04-07T21:06:32.819Z"
   },
   {
    "duration": 22,
    "start_time": "2025-04-07T21:06:33.203Z"
   },
   {
    "duration": 3049,
    "start_time": "2025-04-07T21:06:37.555Z"
   },
   {
    "duration": 11,
    "start_time": "2025-04-07T21:07:53.224Z"
   },
   {
    "duration": 525,
    "start_time": "2025-04-07T21:08:24.241Z"
   },
   {
    "duration": 466,
    "start_time": "2025-04-07T21:08:39.723Z"
   },
   {
    "duration": 536,
    "start_time": "2025-04-07T21:08:56.361Z"
   },
   {
    "duration": 701,
    "start_time": "2025-04-07T21:09:04.619Z"
   },
   {
    "duration": 1379,
    "start_time": "2025-04-07T21:09:20.859Z"
   },
   {
    "duration": 1206,
    "start_time": "2025-04-07T21:10:16.284Z"
   },
   {
    "duration": 1365,
    "start_time": "2025-04-07T21:11:00.545Z"
   },
   {
    "duration": 1399,
    "start_time": "2025-04-07T21:12:11.188Z"
   },
   {
    "duration": 2027,
    "start_time": "2025-04-07T21:12:23.002Z"
   },
   {
    "duration": 10,
    "start_time": "2025-04-07T21:13:24.962Z"
   },
   {
    "duration": 5,
    "start_time": "2025-04-07T21:13:36.701Z"
   },
   {
    "duration": 3,
    "start_time": "2025-04-07T21:13:51.558Z"
   },
   {
    "duration": 7,
    "start_time": "2025-04-07T21:20:56.230Z"
   },
   {
    "duration": 7,
    "start_time": "2025-04-07T21:25:25.328Z"
   },
   {
    "duration": 23,
    "start_time": "2025-04-07T21:26:35.110Z"
   },
   {
    "duration": 2387,
    "start_time": "2025-04-07T21:30:32.909Z"
   },
   {
    "duration": 8,
    "start_time": "2025-04-07T21:30:50.188Z"
   },
   {
    "duration": 24,
    "start_time": "2025-04-07T21:30:50.854Z"
   },
   {
    "duration": 19,
    "start_time": "2025-04-07T21:31:03.735Z"
   },
   {
    "duration": 23,
    "start_time": "2025-04-07T21:53:17.851Z"
   },
   {
    "duration": 3153,
    "start_time": "2025-04-07T21:53:22.738Z"
   },
   {
    "duration": 4758,
    "start_time": "2025-04-07T21:53:51.856Z"
   },
   {
    "duration": 1557,
    "start_time": "2025-04-07T21:53:56.616Z"
   },
   {
    "duration": 3,
    "start_time": "2025-04-07T21:53:58.174Z"
   },
   {
    "duration": 910,
    "start_time": "2025-04-07T21:53:58.179Z"
   },
   {
    "duration": 14,
    "start_time": "2025-04-07T21:53:59.090Z"
   },
   {
    "duration": 920,
    "start_time": "2025-04-07T21:53:59.106Z"
   },
   {
    "duration": 3,
    "start_time": "2025-04-07T21:54:00.028Z"
   },
   {
    "duration": 200,
    "start_time": "2025-04-07T21:54:00.032Z"
   },
   {
    "duration": 490,
    "start_time": "2025-04-07T21:54:00.234Z"
   },
   {
    "duration": 42,
    "start_time": "2025-04-07T21:54:00.727Z"
   },
   {
    "duration": 108,
    "start_time": "2025-04-07T21:54:00.771Z"
   },
   {
    "duration": 101,
    "start_time": "2025-04-07T21:54:00.881Z"
   },
   {
    "duration": 120,
    "start_time": "2025-04-07T21:54:00.984Z"
   },
   {
    "duration": 2,
    "start_time": "2025-04-07T21:54:01.106Z"
   },
   {
    "duration": 164,
    "start_time": "2025-04-07T21:54:01.110Z"
   },
   {
    "duration": 37,
    "start_time": "2025-04-07T21:54:01.275Z"
   },
   {
    "duration": 7,
    "start_time": "2025-04-07T21:54:01.313Z"
   },
   {
    "duration": 50,
    "start_time": "2025-04-07T21:54:01.321Z"
   },
   {
    "duration": 26,
    "start_time": "2025-04-07T21:54:01.373Z"
   },
   {
    "duration": 3453,
    "start_time": "2025-04-07T21:54:01.400Z"
   },
   {
    "duration": 9,
    "start_time": "2025-04-07T21:54:05.068Z"
   },
   {
    "duration": 33,
    "start_time": "2025-04-07T21:54:09.630Z"
   },
   {
    "duration": 26,
    "start_time": "2025-04-07T21:54:12.689Z"
   },
   {
    "duration": 3210,
    "start_time": "2025-04-07T21:54:19.726Z"
   },
   {
    "duration": 2781,
    "start_time": "2025-04-07T21:55:14.251Z"
   },
   {
    "duration": 18,
    "start_time": "2025-04-07T21:55:17.034Z"
   },
   {
    "duration": 26,
    "start_time": "2025-04-07T21:55:17.054Z"
   },
   {
    "duration": 71,
    "start_time": "2025-04-07T21:55:17.084Z"
   },
   {
    "duration": 17,
    "start_time": "2025-04-07T21:55:17.157Z"
   },
   {
    "duration": 862,
    "start_time": "2025-04-07T21:55:23.433Z"
   },
   {
    "duration": 2227,
    "start_time": "2025-04-07T21:55:24.304Z"
   },
   {
    "duration": 4260,
    "start_time": "2025-04-07T21:56:19.924Z"
   },
   {
    "duration": 1143,
    "start_time": "2025-04-07T21:56:24.186Z"
   },
   {
    "duration": 130,
    "start_time": "2025-04-07T21:56:34.484Z"
   },
   {
    "duration": 29,
    "start_time": "2025-04-07T21:56:36.236Z"
   },
   {
    "duration": 16,
    "start_time": "2025-04-07T21:56:41.604Z"
   },
   {
    "duration": 3489,
    "start_time": "2025-04-07T21:56:42.380Z"
   },
   {
    "duration": 898,
    "start_time": "2025-04-07T21:56:46.309Z"
   },
   {
    "duration": 3571,
    "start_time": "2025-04-07T22:01:29.304Z"
   },
   {
    "duration": 950,
    "start_time": "2025-04-07T22:01:32.877Z"
   },
   {
    "duration": 1238,
    "start_time": "2025-04-07T22:01:33.828Z"
   },
   {
    "duration": 0,
    "start_time": "2025-04-07T22:01:35.068Z"
   },
   {
    "duration": 0,
    "start_time": "2025-04-07T22:01:35.069Z"
   },
   {
    "duration": 3590,
    "start_time": "2025-04-07T22:01:35.960Z"
   },
   {
    "duration": 954,
    "start_time": "2025-04-07T22:01:39.552Z"
   },
   {
    "duration": 133,
    "start_time": "2025-04-07T22:13:54.385Z"
   },
   {
    "duration": 1375,
    "start_time": "2025-04-07T22:13:56.047Z"
   },
   {
    "duration": 123906,
    "start_time": "2025-04-07T22:14:16.881Z"
   },
   {
    "duration": 3,
    "start_time": "2025-04-07T22:16:28.367Z"
   },
   {
    "duration": 7,
    "start_time": "2025-04-07T22:16:36.408Z"
   },
   {
    "duration": 58204,
    "start_time": "2025-04-07T22:18:14.854Z"
   },
   {
    "duration": 314051,
    "start_time": "2025-04-07T22:19:13.060Z"
   },
   {
    "duration": 119212,
    "start_time": "2025-04-07T22:26:42.693Z"
   },
   {
    "duration": 19,
    "start_time": "2025-04-07T22:57:13.105Z"
   },
   {
    "duration": 135406,
    "start_time": "2025-04-07T23:01:45.898Z"
   },
   {
    "duration": 14,
    "start_time": "2025-04-07T23:05:29.207Z"
   },
   {
    "duration": 120334,
    "start_time": "2025-04-07T23:07:28.451Z"
   },
   {
    "duration": 55820,
    "start_time": "2025-04-07T23:09:28.787Z"
   },
   {
    "duration": 84,
    "start_time": "2025-04-07T23:10:25.745Z"
   },
   {
    "duration": 16528,
    "start_time": "2025-04-07T23:10:36.762Z"
   },
   {
    "duration": 6,
    "start_time": "2025-04-07T23:18:38.406Z"
   },
   {
    "duration": 5,
    "start_time": "2025-04-07T23:19:31.919Z"
   },
   {
    "duration": 135231,
    "start_time": "2025-04-07T23:19:59.218Z"
   },
   {
    "duration": 139285,
    "start_time": "2025-04-07T23:23:28.041Z"
   },
   {
    "duration": 17,
    "start_time": "2025-04-07T23:25:47.334Z"
   },
   {
    "duration": 73112,
    "start_time": "2025-04-07T23:25:47.353Z"
   },
   {
    "duration": 7,
    "start_time": "2025-04-07T23:27:00.467Z"
   },
   {
    "duration": 71541,
    "start_time": "2025-04-07T23:27:00.476Z"
   },
   {
    "duration": 8,
    "start_time": "2025-04-07T23:28:45.118Z"
   },
   {
    "duration": 5,
    "start_time": "2025-04-07T23:28:46.252Z"
   },
   {
    "duration": 135700,
    "start_time": "2025-04-07T23:28:47.660Z"
   },
   {
    "duration": 4,
    "start_time": "2025-04-07T23:31:03.362Z"
   },
   {
    "duration": 72637,
    "start_time": "2025-04-07T23:31:03.367Z"
   },
   {
    "duration": 7,
    "start_time": "2025-04-07T23:32:16.006Z"
   },
   {
    "duration": 71005,
    "start_time": "2025-04-07T23:32:16.014Z"
   },
   {
    "duration": 5,
    "start_time": "2025-04-07T23:36:56.386Z"
   },
   {
    "duration": 11,
    "start_time": "2025-04-07T23:37:12.697Z"
   },
   {
    "duration": 10,
    "start_time": "2025-04-07T23:37:24.395Z"
   },
   {
    "duration": 3,
    "start_time": "2025-04-07T23:37:59.692Z"
   },
   {
    "duration": 4,
    "start_time": "2025-04-07T23:39:38.256Z"
   },
   {
    "duration": 5,
    "start_time": "2025-04-07T23:40:08.457Z"
   },
   {
    "duration": 5,
    "start_time": "2025-04-07T23:40:24.810Z"
   },
   {
    "duration": 5,
    "start_time": "2025-04-07T23:40:25.351Z"
   },
   {
    "duration": 125,
    "start_time": "2025-04-07T23:40:50.858Z"
   },
   {
    "duration": 4680,
    "start_time": "2025-04-07T23:43:06.067Z"
   },
   {
    "duration": 1468,
    "start_time": "2025-04-07T23:43:10.749Z"
   },
   {
    "duration": 3,
    "start_time": "2025-04-07T23:43:12.218Z"
   },
   {
    "duration": 887,
    "start_time": "2025-04-07T23:43:12.222Z"
   },
   {
    "duration": 3,
    "start_time": "2025-04-07T23:43:13.111Z"
   },
   {
    "duration": 880,
    "start_time": "2025-04-07T23:43:13.116Z"
   },
   {
    "duration": 8,
    "start_time": "2025-04-07T23:43:13.997Z"
   },
   {
    "duration": 149,
    "start_time": "2025-04-07T23:43:14.007Z"
   },
   {
    "duration": 541,
    "start_time": "2025-04-07T23:43:14.157Z"
   },
   {
    "duration": 49,
    "start_time": "2025-04-07T23:43:14.703Z"
   },
   {
    "duration": 106,
    "start_time": "2025-04-07T23:43:14.754Z"
   },
   {
    "duration": 90,
    "start_time": "2025-04-07T23:43:14.861Z"
   },
   {
    "duration": 132,
    "start_time": "2025-04-07T23:43:14.952Z"
   },
   {
    "duration": 3,
    "start_time": "2025-04-07T23:43:15.086Z"
   },
   {
    "duration": 140,
    "start_time": "2025-04-07T23:43:15.090Z"
   },
   {
    "duration": 31,
    "start_time": "2025-04-07T23:43:15.232Z"
   },
   {
    "duration": 51,
    "start_time": "2025-04-07T23:43:15.265Z"
   },
   {
    "duration": 15,
    "start_time": "2025-04-07T23:43:15.318Z"
   },
   {
    "duration": 27,
    "start_time": "2025-04-07T23:43:15.334Z"
   },
   {
    "duration": 3412,
    "start_time": "2025-04-07T23:43:15.363Z"
   },
   {
    "duration": 10,
    "start_time": "2025-04-07T23:43:18.777Z"
   },
   {
    "duration": 47,
    "start_time": "2025-04-07T23:43:18.789Z"
   },
   {
    "duration": 26,
    "start_time": "2025-04-07T23:43:18.838Z"
   },
   {
    "duration": 3078,
    "start_time": "2025-04-07T23:43:18.866Z"
   },
   {
    "duration": 2545,
    "start_time": "2025-04-07T23:43:21.946Z"
   },
   {
    "duration": 27,
    "start_time": "2025-04-07T23:43:24.493Z"
   },
   {
    "duration": 8,
    "start_time": "2025-04-07T23:43:24.522Z"
   },
   {
    "duration": 23,
    "start_time": "2025-04-07T23:43:24.531Z"
   },
   {
    "duration": 18,
    "start_time": "2025-04-07T23:43:24.555Z"
   },
   {
    "duration": 833,
    "start_time": "2025-04-07T23:43:24.574Z"
   },
   {
    "duration": 2250,
    "start_time": "2025-04-07T23:43:25.409Z"
   },
   {
    "duration": 4253,
    "start_time": "2025-04-07T23:43:27.662Z"
   },
   {
    "duration": 1140,
    "start_time": "2025-04-07T23:43:31.917Z"
   },
   {
    "duration": 110,
    "start_time": "2025-04-07T23:43:33.059Z"
   },
   {
    "duration": 15,
    "start_time": "2025-04-07T23:43:33.171Z"
   },
   {
    "duration": 19,
    "start_time": "2025-04-07T23:43:33.187Z"
   },
   {
    "duration": 3489,
    "start_time": "2025-04-07T23:43:33.208Z"
   },
   {
    "duration": 911,
    "start_time": "2025-04-07T23:43:36.703Z"
   },
   {
    "duration": 151,
    "start_time": "2025-04-07T23:44:14.846Z"
   },
   {
    "duration": 1219,
    "start_time": "2025-04-07T23:44:15.213Z"
   },
   {
    "duration": 5,
    "start_time": "2025-04-07T23:44:18.726Z"
   },
   {
    "duration": 5,
    "start_time": "2025-04-07T23:44:19.911Z"
   },
   {
    "duration": 137762,
    "start_time": "2025-04-07T23:44:20.934Z"
   },
   {
    "duration": 8,
    "start_time": "2025-04-07T23:46:38.698Z"
   },
   {
    "duration": 73143,
    "start_time": "2025-04-07T23:46:38.708Z"
   },
   {
    "duration": 190,
    "start_time": "2025-04-07T23:47:51.853Z"
   },
   {
    "duration": 68965,
    "start_time": "2025-04-07T23:47:52.045Z"
   },
   {
    "duration": 4,
    "start_time": "2025-04-07T23:49:08.994Z"
   },
   {
    "duration": 4,
    "start_time": "2025-04-07T23:49:09.777Z"
   }
  ],
  "kernelspec": {
   "display_name": "Python 3 (ipykernel)",
   "language": "python",
   "name": "python3"
  },
  "language_info": {
   "codemirror_mode": {
    "name": "ipython",
    "version": 3
   },
   "file_extension": ".py",
   "mimetype": "text/x-python",
   "name": "python",
   "nbconvert_exporter": "python",
   "pygments_lexer": "ipython3",
   "version": "3.9.5"
  },
  "toc": {
   "base_numbering": 1,
   "nav_menu": {},
   "number_sections": false,
   "sideBar": true,
   "skip_h1_title": true,
   "title_cell": "Содержание",
   "title_sidebar": "Содержание",
   "toc_cell": true,
   "toc_position": {
    "height": "calc(100% - 180px)",
    "left": "10px",
    "top": "150px",
    "width": "347.227px"
   },
   "toc_section_display": true,
   "toc_window_display": true
  }
 },
 "nbformat": 4,
 "nbformat_minor": 2
}
