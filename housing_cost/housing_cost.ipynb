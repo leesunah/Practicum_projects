{
 "cells": [
  {
   "cell_type": "markdown",
   "id": "GEqQaHzsZ_bA",
   "metadata": {
    "id": "GEqQaHzsZ_bA"
   },
   "source": [
    "# Предсказание стоимости жилья"
   ]
  },
  {
   "cell_type": "markdown",
   "id": "f3e6c066",
   "metadata": {},
   "source": [
    "В проекте обучим модель линейной регрессии на данных о жилье в Калифорнии в 1990 году. На основе данных предскажем медианную стоимость дома в жилом массиве. Обучим модель и сделаем предсказания на тестовой выборке. Для оценки качества модели используем метрики `RMSE`, `MAE` и `R2`."
   ]
  },
  {
   "cell_type": "markdown",
   "id": "bc871997",
   "metadata": {},
   "source": [
    "В колонках датасета содержатся следующие данные:\n",
    "- `longitude` — широта;\n",
    "- `latitude` — долгота;\n",
    "- `housing_median_age` — медианный возраст жителей жилого массива;\n",
    "- `total_rooms` — общее количество комнат в домах жилого массива;\n",
    "- `total_bedrooms` — общее количество спален в домах жилого массива;\n",
    "- `population` — количество человек, которые проживают в жилом массиве;\n",
    "- `households` — количество домовладений в жилом массиве;\n",
    "- `median_income` — медианный доход жителей жилого массива;\n",
    "- `median_house_value` — медианная стоимость дома в жилом массиве;\n",
    "- `ocean_proximity` — близость к океану."
   ]
  },
  {
   "cell_type": "markdown",
   "id": "37c4f5c9",
   "metadata": {},
   "source": [
    "**План по проекта**\n",
    "\n",
    "1. Инициализация Spark-сессии: Создать локальную Spark-сессию.\n",
    "2. Чтение и загрузка данных: Прочитать данные из файла `###.csv`.\n",
    "3. Исследование данных: Вывести типы данных колонок датасета, исследовать наличие пропусков и выполнить их заполнение, при необходимости преобразовать категориальные значения техникой `One hot encoding`.\n",
    "4. Построение модели: Подготовить данные и построить две модели линейной регрессии — на всех данных из файла и только на числовых переменных (исключив категориальные).\n",
    "5. Оценка модели: Сравнить результаты работы обеих моделей по метрикам `RMSE`, `MAE` и `R2`."
   ]
  },
  {
   "cell_type": "markdown",
   "id": "6a5d7e05",
   "metadata": {
    "toc": true
   },
   "source": [
    "<h1>Содержание<span class=\"tocSkip\"></span></h1>\n",
    "<div class=\"toc\"><ul class=\"toc-item\"><li><span><a href=\"#Подготовка-данных\" data-toc-modified-id=\"Подготовка-данных-1\">Подготовка данных</a></span><ul class=\"toc-item\"><li><span><a href=\"#Вывод\" data-toc-modified-id=\"Вывод-1.1\">Вывод</a></span></li></ul></li><li><span><a href=\"#Обучение-моделей\" data-toc-modified-id=\"Обучение-моделей-2\">Обучение моделей</a></span><ul class=\"toc-item\"><li><span><a href=\"#Вывод\" data-toc-modified-id=\"Вывод-2.1\">Вывод</a></span></li></ul></li><li><span><a href=\"#Анализ-результатов\" data-toc-modified-id=\"Анализ-результатов-3\">Анализ результатов</a></span><ul class=\"toc-item\"><li><span><a href=\"#Вывод\" data-toc-modified-id=\"Вывод-3.1\">Вывод</a></span></li></ul></li><li><span><a href=\"#Общий-вывод\" data-toc-modified-id=\"Общий-вывод-4\">Общий вывод</a></span></li></ul></div>"
   ]
  },
  {
   "cell_type": "markdown",
   "id": "53871372",
   "metadata": {
    "id": "53871372"
   },
   "source": [
    "## Подготовка данных"
   ]
  },
  {
   "cell_type": "code",
   "execution_count": 1,
   "id": "df92e3ec",
   "metadata": {
    "id": "df92e3ec"
   },
   "outputs": [],
   "source": [
    "#импорт библиотек и модулей\n",
    "import pandas as pd \n",
    "import numpy as np\n",
    "import pyspark\n",
    "\n",
    "from pyspark.sql import SparkSession\n",
    "from pyspark.sql import functions as F\n",
    "from pyspark.sql.types import *\n",
    "from pyspark.ml.feature import OneHotEncoder, StringIndexer, VectorAssembler, StandardScaler\n",
    "from pyspark.ml.regression import LinearRegression\n",
    "from pyspark.ml.evaluation import RegressionEvaluator\n",
    "from pyspark.sql.functions import col, count, when, sum\n",
    "\n",
    "RANDOM_SEED = 42"
   ]
  },
  {
   "cell_type": "markdown",
   "id": "741bdde0",
   "metadata": {},
   "source": [
    "Инициализируем локальную Spark-сессию:"
   ]
  },
  {
   "cell_type": "code",
   "execution_count": 2,
   "id": "1358d7e3",
   "metadata": {},
   "outputs": [],
   "source": [
    "spark = SparkSession.builder \\\n",
    "                    .master(\"local\") \\\n",
    "                    .appName(\"california_housing\") \\\n",
    "                    .getOrCreate()"
   ]
  },
  {
   "cell_type": "code",
   "execution_count": 3,
   "id": "c9b76232",
   "metadata": {},
   "outputs": [
    {
     "name": "stderr",
     "output_type": "stream",
     "text": [
      "                                                                                \r"
     ]
    }
   ],
   "source": [
    "# чтение содержимого файла\n",
    "df = spark.read.csv(\"###.csv\", inferSchema=True, header=True)"
   ]
  },
  {
   "cell_type": "code",
   "execution_count": 4,
   "id": "6b5471ba",
   "metadata": {},
   "outputs": [
    {
     "name": "stdout",
     "output_type": "stream",
     "text": [
      "               column    type\n",
      "0           longitude  double\n",
      "1            latitude  double\n",
      "2  housing_median_age  double\n",
      "3         total_rooms  double\n",
      "4      total_bedrooms  double\n",
      "5          population  double\n",
      "6          households  double\n",
      "7       median_income  double\n",
      "8  median_house_value  double\n",
      "9     ocean_proximity  string\n",
      "+---------+--------+------------------+-----------+--------------+----------+----------+-------------+------------------+---------------+\n",
      "|longitude|latitude|housing_median_age|total_rooms|total_bedrooms|population|households|median_income|median_house_value|ocean_proximity|\n",
      "+---------+--------+------------------+-----------+--------------+----------+----------+-------------+------------------+---------------+\n",
      "|  -122.23|   37.88|              41.0|      880.0|         129.0|     322.0|     126.0|       8.3252|          452600.0|       NEAR BAY|\n",
      "|  -122.22|   37.86|              21.0|     7099.0|        1106.0|    2401.0|    1138.0|       8.3014|          358500.0|       NEAR BAY|\n",
      "|  -122.24|   37.85|              52.0|     1467.0|         190.0|     496.0|     177.0|       7.2574|          352100.0|       NEAR BAY|\n",
      "|  -122.25|   37.85|              52.0|     1274.0|         235.0|     558.0|     219.0|       5.6431|          341300.0|       NEAR BAY|\n",
      "|  -122.25|   37.85|              52.0|     1627.0|         280.0|     565.0|     259.0|       3.8462|          342200.0|       NEAR BAY|\n",
      "|  -122.25|   37.85|              52.0|      919.0|         213.0|     413.0|     193.0|       4.0368|          269700.0|       NEAR BAY|\n",
      "|  -122.25|   37.84|              52.0|     2535.0|         489.0|    1094.0|     514.0|       3.6591|          299200.0|       NEAR BAY|\n",
      "|  -122.25|   37.84|              52.0|     3104.0|         687.0|    1157.0|     647.0|         3.12|          241400.0|       NEAR BAY|\n",
      "|  -122.26|   37.84|              42.0|     2555.0|         665.0|    1206.0|     595.0|       2.0804|          226700.0|       NEAR BAY|\n",
      "|  -122.25|   37.84|              52.0|     3549.0|         707.0|    1551.0|     714.0|       3.6912|          261100.0|       NEAR BAY|\n",
      "+---------+--------+------------------+-----------+--------------+----------+----------+-------------+------------------+---------------+\n",
      "only showing top 10 rows\n",
      "\n"
     ]
    }
   ],
   "source": [
    "# названия колонок \n",
    "print(pd.DataFrame(df.dtypes, columns=['column', 'type']))\n",
    "\n",
    "# первые 10 строк \n",
    "df.show(10)"
   ]
  },
  {
   "cell_type": "markdown",
   "id": "c4c34d4d",
   "metadata": {},
   "source": [
    "Колонка `ocean_proximity` хранит категориальные значения, в остальных колонках хранятся количественные данные."
   ]
  },
  {
   "cell_type": "code",
   "execution_count": 5,
   "id": "250e0059",
   "metadata": {},
   "outputs": [
    {
     "name": "stdout",
     "output_type": "stream",
     "text": [
      "Количество строк:  20640\n"
     ]
    }
   ],
   "source": [
    "# количество строк\n",
    "print(\"Количество строк: \", df.count())"
   ]
  },
  {
   "cell_type": "code",
   "execution_count": 6,
   "id": "9d4c7b73",
   "metadata": {
    "scrolled": true
   },
   "outputs": [
    {
     "name": "stderr",
     "output_type": "stream",
     "text": [
      "                                                                                \r"
     ]
    },
    {
     "data": {
      "text/html": [
       "<div>\n",
       "<style scoped>\n",
       "    .dataframe tbody tr th:only-of-type {\n",
       "        vertical-align: middle;\n",
       "    }\n",
       "\n",
       "    .dataframe tbody tr th {\n",
       "        vertical-align: top;\n",
       "    }\n",
       "\n",
       "    .dataframe thead th {\n",
       "        text-align: right;\n",
       "    }\n",
       "</style>\n",
       "<table border=\"1\" class=\"dataframe\">\n",
       "  <thead>\n",
       "    <tr style=\"text-align: right;\">\n",
       "      <th></th>\n",
       "      <th>summary</th>\n",
       "      <th>longitude</th>\n",
       "      <th>latitude</th>\n",
       "      <th>housing_median_age</th>\n",
       "      <th>total_rooms</th>\n",
       "      <th>total_bedrooms</th>\n",
       "      <th>population</th>\n",
       "      <th>households</th>\n",
       "      <th>median_income</th>\n",
       "      <th>median_house_value</th>\n",
       "      <th>ocean_proximity</th>\n",
       "    </tr>\n",
       "  </thead>\n",
       "  <tbody>\n",
       "    <tr>\n",
       "      <th>0</th>\n",
       "      <td>count</td>\n",
       "      <td>20640</td>\n",
       "      <td>20640</td>\n",
       "      <td>20640</td>\n",
       "      <td>20640</td>\n",
       "      <td>20433</td>\n",
       "      <td>20640</td>\n",
       "      <td>20640</td>\n",
       "      <td>20640</td>\n",
       "      <td>20640</td>\n",
       "      <td>20640</td>\n",
       "    </tr>\n",
       "    <tr>\n",
       "      <th>1</th>\n",
       "      <td>mean</td>\n",
       "      <td>-119.56970445736148</td>\n",
       "      <td>35.6318614341087</td>\n",
       "      <td>28.639486434108527</td>\n",
       "      <td>2635.7630813953488</td>\n",
       "      <td>537.8705525375618</td>\n",
       "      <td>1425.4767441860465</td>\n",
       "      <td>499.5396802325581</td>\n",
       "      <td>3.8706710029070246</td>\n",
       "      <td>206855.81690891474</td>\n",
       "      <td>None</td>\n",
       "    </tr>\n",
       "    <tr>\n",
       "      <th>2</th>\n",
       "      <td>stddev</td>\n",
       "      <td>2.003531723502584</td>\n",
       "      <td>2.135952397457101</td>\n",
       "      <td>12.58555761211163</td>\n",
       "      <td>2181.6152515827944</td>\n",
       "      <td>421.38507007403115</td>\n",
       "      <td>1132.46212176534</td>\n",
       "      <td>382.3297528316098</td>\n",
       "      <td>1.899821717945263</td>\n",
       "      <td>115395.61587441359</td>\n",
       "      <td>None</td>\n",
       "    </tr>\n",
       "    <tr>\n",
       "      <th>3</th>\n",
       "      <td>min</td>\n",
       "      <td>-124.35</td>\n",
       "      <td>32.54</td>\n",
       "      <td>1.0</td>\n",
       "      <td>2.0</td>\n",
       "      <td>1.0</td>\n",
       "      <td>3.0</td>\n",
       "      <td>1.0</td>\n",
       "      <td>0.4999</td>\n",
       "      <td>14999.0</td>\n",
       "      <td>&lt;1H OCEAN</td>\n",
       "    </tr>\n",
       "    <tr>\n",
       "      <th>4</th>\n",
       "      <td>max</td>\n",
       "      <td>-114.31</td>\n",
       "      <td>41.95</td>\n",
       "      <td>52.0</td>\n",
       "      <td>39320.0</td>\n",
       "      <td>6445.0</td>\n",
       "      <td>35682.0</td>\n",
       "      <td>6082.0</td>\n",
       "      <td>15.0001</td>\n",
       "      <td>500001.0</td>\n",
       "      <td>NEAR OCEAN</td>\n",
       "    </tr>\n",
       "  </tbody>\n",
       "</table>\n",
       "</div>"
      ],
      "text/plain": [
       "  summary            longitude           latitude  housing_median_age  \\\n",
       "0   count                20640              20640               20640   \n",
       "1    mean  -119.56970445736148   35.6318614341087  28.639486434108527   \n",
       "2  stddev    2.003531723502584  2.135952397457101   12.58555761211163   \n",
       "3     min              -124.35              32.54                 1.0   \n",
       "4     max              -114.31              41.95                52.0   \n",
       "\n",
       "          total_rooms      total_bedrooms          population  \\\n",
       "0               20640               20433               20640   \n",
       "1  2635.7630813953488   537.8705525375618  1425.4767441860465   \n",
       "2  2181.6152515827944  421.38507007403115    1132.46212176534   \n",
       "3                 2.0                 1.0                 3.0   \n",
       "4             39320.0              6445.0             35682.0   \n",
       "\n",
       "          households       median_income  median_house_value ocean_proximity  \n",
       "0              20640               20640               20640           20640  \n",
       "1  499.5396802325581  3.8706710029070246  206855.81690891474            None  \n",
       "2  382.3297528316098   1.899821717945263  115395.61587441359            None  \n",
       "3                1.0              0.4999             14999.0       <1H OCEAN  \n",
       "4             6082.0             15.0001            500001.0      NEAR OCEAN  "
      ]
     },
     "execution_count": 6,
     "metadata": {},
     "output_type": "execute_result"
    }
   ],
   "source": [
    "# базовые статистики\n",
    "df.describe().toPandas()"
   ]
  },
  {
   "cell_type": "code",
   "execution_count": 7,
   "id": "47ff45ac",
   "metadata": {},
   "outputs": [
    {
     "name": "stdout",
     "output_type": "stream",
     "text": [
      "              Столбец  Количество пропущенных значений\n",
      "0           longitude                                0\n",
      "1            latitude                                0\n",
      "2  housing_median_age                                0\n",
      "3         total_rooms                                0\n",
      "4      total_bedrooms                              207\n",
      "5          population                                0\n",
      "6          households                                0\n",
      "7       median_income                                0\n",
      "8  median_house_value                                0\n",
      "9     ocean_proximity                                0\n"
     ]
    }
   ],
   "source": [
    "# проверка пропусков\n",
    "missing_values = df.select([sum(col(c).isNull().cast(\"int\")).alias(c) for c in df.columns]).toPandas()\n",
    "\n",
    "missing_values = missing_values.T.reset_index()\n",
    "missing_values.columns = ['Столбец', 'Количество пропущенных значений']\n",
    "print(missing_values)"
   ]
  },
  {
   "cell_type": "code",
   "execution_count": 8,
   "id": "cd8c2902",
   "metadata": {},
   "outputs": [
    {
     "name": "stdout",
     "output_type": "stream",
     "text": [
      "Корреляция c total_bedrooms (Спирмена):\n",
      "  longitude                  0.06\n",
      "  latitude                  -0.06\n",
      "  housing_median_age        -0.31\n",
      "  total_rooms                0.92\n",
      "  population                 0.87\n",
      "  households                 0.98\n",
      "  median_income             -0.01\n",
      "  median_house_value         0.09\n"
     ]
    }
   ],
   "source": [
    "# Преобразуем DataFrame PySpark в Pandas DataFrame\n",
    "df_pandas = df.toPandas()\n",
    "\n",
    "print('Корреляция c total_bedrooms (Спирмена):')\n",
    "for c in df_pandas.columns:\n",
    "    # Проверяем, является ли столбец числовым\n",
    "    if c != 'total_bedrooms' and pd.api.types.is_numeric_dtype(df_pandas[c]):\n",
    "        correlation = df_pandas['total_bedrooms'].corr(df_pandas[c], method='spearman')\n",
    "        print(f\"  {c:<25} {correlation:>5.2f}\")"
   ]
  },
  {
   "cell_type": "markdown",
   "id": "59aa30f1",
   "metadata": {},
   "source": [
    "В колонке `total_bedrooms` есть пропущенные значения. Наибольшая корреляция у этого признака с `households`. Заполним `null` значения в `total_bedrooms` через медиану соотношения `households` к `total_bedrooms`."
   ]
  },
  {
   "cell_type": "code",
   "execution_count": 9,
   "id": "5d8ff745",
   "metadata": {},
   "outputs": [],
   "source": [
    "# Рассчитываем коэффициенты соотношения households к total_bedrooms\n",
    "df_with_ratio = df.withColumn(\"households_to_bedrooms\", col(\"households\") / col(\"total_bedrooms\"))\n",
    "\n",
    "# Рассчитываем медиану\n",
    "median_value = df_with_ratio.approxQuantile(\"households_to_bedrooms\", [0.5], 0.01)[0]\n",
    "\n",
    "# Заполняем пропуски в total_bedrooms\n",
    "df = df_with_ratio.withColumn(\n",
    "    \"total_bedrooms\",\n",
    "    when(col(\"total_bedrooms\").isNull(), col(\"households\") / median_value)\n",
    "    .otherwise(col(\"total_bedrooms\"))\n",
    ")\n",
    "\n",
    "# Удаляем временный столбец households_to_bedrooms\n",
    "df = df.drop(\"households_to_bedrooms\")"
   ]
  },
  {
   "cell_type": "code",
   "execution_count": 10,
   "id": "0d7bd5ab",
   "metadata": {},
   "outputs": [
    {
     "name": "stdout",
     "output_type": "stream",
     "text": [
      "              Столбец  Количество пропущенных значений\n",
      "0           longitude                                0\n",
      "1            latitude                                0\n",
      "2  housing_median_age                                0\n",
      "3         total_rooms                                0\n",
      "4      total_bedrooms                                0\n",
      "5          population                                0\n",
      "6          households                                0\n",
      "7       median_income                                0\n",
      "8  median_house_value                                0\n",
      "9     ocean_proximity                                0\n"
     ]
    }
   ],
   "source": [
    "# проверка пропусков\n",
    "missing_values = df.select([sum(col(c).isNull().cast(\"int\")).alias(c) for c in df.columns]).toPandas()\n",
    "\n",
    "missing_values = missing_values.T.reset_index()\n",
    "missing_values.columns = ['Столбец', 'Количество пропущенных значений']\n",
    "print(missing_values)"
   ]
  },
  {
   "cell_type": "code",
   "execution_count": 11,
   "id": "43e50dbb",
   "metadata": {},
   "outputs": [
    {
     "name": "stderr",
     "output_type": "stream",
     "text": [
      "                                                                                \r"
     ]
    },
    {
     "data": {
      "text/plain": [
       "[Row(ocean_proximity='ISLAND'),\n",
       " Row(ocean_proximity='NEAR OCEAN'),\n",
       " Row(ocean_proximity='NEAR BAY'),\n",
       " Row(ocean_proximity='<1H OCEAN'),\n",
       " Row(ocean_proximity='INLAND')]"
      ]
     },
     "execution_count": 11,
     "metadata": {},
     "output_type": "execute_result"
    }
   ],
   "source": [
    "# проверка категориальных значений\n",
    "df.select('ocean_proximity').distinct().collect()"
   ]
  },
  {
   "cell_type": "markdown",
   "id": "04b96c35",
   "metadata": {},
   "source": [
    "Неявных дубликатов, ошибок не наблюдается."
   ]
  },
  {
   "cell_type": "markdown",
   "id": "f359c33b",
   "metadata": {},
   "source": [
    "### Вывод"
   ]
  },
  {
   "cell_type": "markdown",
   "id": "7fd0f540",
   "metadata": {},
   "source": [
    "- Колонка ocean_proximity хранит категориальные значения, в остальных колонках хранятся количественные данные.\n",
    "- Пропуски в `total_bedrooms` заполнены значениями через медиану соотношения `households` к `total_bedrooms`.\n",
    "- Неявных дубликатов, ошибок не наблюдается."
   ]
  },
  {
   "cell_type": "markdown",
   "id": "9f0a82f3",
   "metadata": {
    "id": "9f0a82f3"
   },
   "source": [
    "## Обучение моделей"
   ]
  },
  {
   "cell_type": "markdown",
   "id": "681dec40",
   "metadata": {},
   "source": [
    "Разделим признаки на числовые и категориальные, выделим целевой признак."
   ]
  },
  {
   "cell_type": "code",
   "execution_count": 12,
   "id": "740ec5db",
   "metadata": {},
   "outputs": [],
   "source": [
    "cat_features = ['ocean_proximity']\n",
    "num_features = ['longitude',\n",
    "                'latitude',\n",
    "                'housing_median_age',\n",
    "                'total_rooms',\n",
    "                'total_bedrooms',\n",
    "                'population',\n",
    "                'households',\n",
    "                'median_income'\n",
    "               ]\n",
    "target = 'median_house_value'"
   ]
  },
  {
   "cell_type": "markdown",
   "id": "49e84e16",
   "metadata": {},
   "source": [
    "Разделим датасет на обучающую и тестовую выборки."
   ]
  },
  {
   "cell_type": "code",
   "execution_count": 13,
   "id": "1fa55e14",
   "metadata": {},
   "outputs": [
    {
     "name": "stdout",
     "output_type": "stream",
     "text": [
      "\n",
      "    Обучающая выборка 16560 \n",
      "    Тестовая выборка 4080\n",
      "    \n"
     ]
    }
   ],
   "source": [
    "train_data, test_data = df.randomSplit([.8, .2], seed=RANDOM_SEED)\n",
    "\n",
    "print(f'''\n",
    "    Обучающая выборка {train_data.count()} \n",
    "    Тестовая выборка {test_data.count()}\n",
    "    ''')"
   ]
  },
  {
   "cell_type": "markdown",
   "id": "013eef32",
   "metadata": {},
   "source": [
    "Масштабируем и кодируем признаки:"
   ]
  },
  {
   "cell_type": "code",
   "execution_count": 14,
   "id": "6d13461f",
   "metadata": {},
   "outputs": [
    {
     "name": "stderr",
     "output_type": "stream",
     "text": [
      "                                                                                \r"
     ]
    },
    {
     "name": "stdout",
     "output_type": "stream",
     "text": [
      "+-------------+--------------------+\n",
      "| cat_features| num_features_scaled|\n",
      "+-------------+--------------------+\n",
      "|(4,[2],[1.0])|[-61.931952286653...|\n",
      "|(4,[2],[1.0])|[-61.907050013920...|\n",
      "|(4,[2],[1.0])|[-61.892108650280...|\n",
      "+-------------+--------------------+\n",
      "only showing top 3 rows\n",
      "\n",
      "+-------------+--------------------+\n",
      "| cat_features| num_features_scaled|\n",
      "+-------------+--------------------+\n",
      "|(4,[2],[1.0])|[-61.907050013920...|\n",
      "|(4,[2],[1.0])|[-61.872186832094...|\n",
      "|(4,[2],[1.0])|[-61.872186832094...|\n",
      "+-------------+--------------------+\n",
      "only showing top 3 rows\n",
      "\n"
     ]
    }
   ],
   "source": [
    "# Кодирование категориальных признаков на обучающей выборке\n",
    "indexer = StringIndexer(inputCols=cat_features, \n",
    "                        outputCols=[c+'_idx' for c in cat_features]) \n",
    "indexer_model = indexer.fit(train_data)  # Обучаем индексатор на обучающих данных\n",
    "train_data = indexer_model.transform(train_data)\n",
    "\n",
    "encoder = OneHotEncoder(inputCols=[c+'_idx' for c in cat_features],\n",
    "                        outputCols=[c+'_ohe' for c in cat_features])\n",
    "encoder_model = encoder.fit(train_data)  # Обучаем энкодер на обучающих данных\n",
    "train_data = encoder_model.transform(train_data)\n",
    "\n",
    "# Создание векторов для категориальных признаков\n",
    "categorical_assembler = VectorAssembler(inputCols=[c+'_ohe' for c in cat_features],\n",
    "                                        outputCol=\"cat_features\")\n",
    "train_data = categorical_assembler.transform(train_data)\n",
    "\n",
    "# Создание векторов для числовых признаков\n",
    "numerical_assembler = VectorAssembler(inputCols=num_features,\n",
    "                                      outputCol=\"num_features\")\n",
    "train_data = numerical_assembler.transform(train_data)\n",
    "\n",
    "# Стандартизация числовых признаков\n",
    "standardScaler = StandardScaler(inputCol='num_features',\n",
    "                                outputCol=\"num_features_scaled\")\n",
    "scaler_model = standardScaler.fit(train_data)  # Обучаем стандартный скейлер на обучающих данных\n",
    "train_data = scaler_model.transform(train_data)\n",
    "\n",
    "# Объединение всех признаков\n",
    "all_features = ['cat_features', 'num_features_scaled']\n",
    "final_assembler = VectorAssembler(inputCols=all_features, \n",
    "                                  outputCol=\"features\") \n",
    "train_data = final_assembler.transform(train_data)\n",
    "\n",
    "# Применение тех же трансформеров к тестовым данным\n",
    "test_data = indexer_model.transform(test_data)  # Применяем обученную модель индексатора\n",
    "test_data = encoder_model.transform(test_data)  # Применяем обученную модель энкодера\n",
    "test_data = categorical_assembler.transform(test_data)\n",
    "test_data = numerical_assembler.transform(test_data)\n",
    "test_data = scaler_model.transform(test_data)  # Применяем обученную модель скейлера\n",
    "test_data = final_assembler.transform(test_data)\n",
    "\n",
    "# Проверка результатов\n",
    "train_data.select(all_features).show(3)\n",
    "test_data.select(all_features).show(3)"
   ]
  },
  {
   "cell_type": "markdown",
   "id": "5391cc96",
   "metadata": {},
   "source": [
    "Построим модели линейной регрессии, первую на всех данных и вторую только на числовых переменных (исключив категориальные)."
   ]
  },
  {
   "cell_type": "code",
   "execution_count": 15,
   "id": "6a9d1692",
   "metadata": {},
   "outputs": [
    {
     "name": "stderr",
     "output_type": "stream",
     "text": [
      "25/01/16 13:12:58 WARN Instrumentation: [a684d9bb] regParam is zero, which might cause numerical instability and overfitting.\n",
      "25/01/16 13:12:59 WARN BLAS: Failed to load implementation from: com.github.fommil.netlib.NativeSystemBLAS\n",
      "25/01/16 13:12:59 WARN BLAS: Failed to load implementation from: com.github.fommil.netlib.NativeRefBLAS\n",
      "25/01/16 13:12:59 WARN LAPACK: Failed to load implementation from: com.github.fommil.netlib.NativeSystemLAPACK\n",
      "25/01/16 13:12:59 WARN LAPACK: Failed to load implementation from: com.github.fommil.netlib.NativeRefLAPACK\n",
      "                                                                                \r"
     ]
    }
   ],
   "source": [
    "lr_1 = LinearRegression(labelCol=target, featuresCol='features',regParam=0.0)\n",
    "model_1 = lr_1.fit(train_data) "
   ]
  },
  {
   "cell_type": "code",
   "execution_count": 16,
   "id": "d50001c2",
   "metadata": {},
   "outputs": [
    {
     "name": "stderr",
     "output_type": "stream",
     "text": [
      "25/01/16 13:13:01 WARN Instrumentation: [c5cce1c0] regParam is zero, which might cause numerical instability and overfitting.\n"
     ]
    }
   ],
   "source": [
    "lr_2 = LinearRegression(labelCol=target, featuresCol='num_features_scaled', regParam=0.0)\n",
    "model_2 = lr_2.fit(train_data) "
   ]
  },
  {
   "cell_type": "markdown",
   "id": "6114523e",
   "metadata": {},
   "source": [
    "### Вывод"
   ]
  },
  {
   "cell_type": "markdown",
   "id": "25140b79",
   "metadata": {},
   "source": [
    "Проведено разделение данных на обучающие и тестовые выборки, обучение модели линейной регрессии."
   ]
  },
  {
   "cell_type": "markdown",
   "id": "757fd103",
   "metadata": {
    "id": "757fd103"
   },
   "source": [
    "## Анализ результатов"
   ]
  },
  {
   "cell_type": "markdown",
   "id": "98fb25da",
   "metadata": {},
   "source": [
    "Предсказание вероятности моделей."
   ]
  },
  {
   "cell_type": "code",
   "execution_count": 17,
   "id": "e18a8527",
   "metadata": {},
   "outputs": [],
   "source": [
    "predictions_1 = model_1.transform(test_data)"
   ]
  },
  {
   "cell_type": "code",
   "execution_count": 18,
   "id": "a41a9ed0",
   "metadata": {},
   "outputs": [],
   "source": [
    "predictions_2 = model_2.transform(test_data)"
   ]
  },
  {
   "cell_type": "code",
   "execution_count": 19,
   "id": "bddb08c4",
   "metadata": {
    "id": "bddb08c4"
   },
   "outputs": [
    {
     "name": "stdout",
     "output_type": "stream",
     "text": [
      "Метрики модели 1:\n",
      "RMSE: 70600.5966926188\n",
      "MAE: 50771.63521003129\n",
      "R2: 0.6397445918050668\n"
     ]
    }
   ],
   "source": [
    "# Оценка качества модели на всех данных\n",
    "evaluator = RegressionEvaluator(labelCol=\"median_house_value\", predictionCol=\"prediction\", metricName=\"rmse\")\n",
    "rmse = evaluator.evaluate(predictions_1)\n",
    "evaluator = RegressionEvaluator(labelCol=\"median_house_value\", predictionCol=\"prediction\", metricName=\"mae\")\n",
    "mae = evaluator.evaluate(predictions_1)\n",
    "evaluator = RegressionEvaluator(labelCol=\"median_house_value\", predictionCol=\"prediction\", metricName=\"r2\")\n",
    "r2 = evaluator.evaluate(predictions_1)\n",
    "\n",
    "print(\"Метрики модели 1:\")\n",
    "print(f\"RMSE: {rmse}\")\n",
    "print(f\"MAE: {mae}\")\n",
    "print(f\"R2: {r2}\")"
   ]
  },
  {
   "cell_type": "code",
   "execution_count": 20,
   "id": "e36504c6",
   "metadata": {},
   "outputs": [
    {
     "name": "stdout",
     "output_type": "stream",
     "text": [
      "Метрики модели 2:\n",
      "RMSE: 71561.22911187526\n",
      "MAE: 51667.456968399754\n",
      "R2: 0.6298742089701994\n"
     ]
    }
   ],
   "source": [
    "# Оценка качества модели только на числовых переменных\n",
    "rmse_num = evaluator.evaluate(predictions_2, {evaluator.metricName: \"rmse\"})\n",
    "mae_num = evaluator.evaluate(predictions_2, {evaluator.metricName: \"mae\"})\n",
    "r2_num = evaluator.evaluate(predictions_2, {evaluator.metricName: \"r2\"})\n",
    "\n",
    "print(\"Метрики модели 2:\")\n",
    "print(f\"RMSE: {rmse_num}\")\n",
    "print(f\"MAE: {mae_num}\")\n",
    "print(f\"R2: {r2_num}\")"
   ]
  },
  {
   "cell_type": "code",
   "execution_count": 21,
   "id": "84a82199",
   "metadata": {},
   "outputs": [],
   "source": [
    "# Завершение Spark сессии\n",
    "spark.stop()"
   ]
  },
  {
   "cell_type": "markdown",
   "id": "b62c43f7",
   "metadata": {},
   "source": [
    "### Вывод"
   ]
  },
  {
   "cell_type": "markdown",
   "id": "cb5b6c56",
   "metadata": {},
   "source": [
    "Анализ показывает, модель 1 более точно предсказывает целевую переменную по сравнению с моделью 2. Меньшая `RMSE` свидетельствует о меньшем среднем квадрате ошибок между предсказанными и фактическими значениями.\n",
    "Модель 1 имеет более низкое значение `MAE`, что также свидетельствует о ее большей точности в предсказаниях. Модель 1 более последовательна в своих предсказаниях, поскольку среднее абсолютное отклонение от фактических значений меньше, чем в модели 2. Оба значения `R2` меньше 1, что указывает на то, что ни одна из моделей не объясняет всю вариацию в данных, но модель 1 делает это лучше.\n"
   ]
  },
  {
   "cell_type": "markdown",
   "id": "1dbe679d",
   "metadata": {},
   "source": [
    "## Общий вывод"
   ]
  },
  {
   "cell_type": "markdown",
   "id": "3d67c138",
   "metadata": {},
   "source": [
    "В ходе проекта была выполнена работа по обучению модели линейной регрессии для предсказания медианной стоимости жилья в Калифорнии на основе данных 1990 года. Были выполнены следующие этапы:\n",
    "\n",
    "1. Инициализация Spark-сессии и чтение данных из файла.\n",
    "2. Предобработка данных, включая обработку пропусков и преобразование категориальных переменных с помощью `One Hot Encoding`.\n",
    "3. Масштабирование числовых признаков и разделение данных на обучающую и тестовую выборки.\n",
    "4. Построение двух моделей линейной регрессии: одна с использованием всех данных, вторая — только на числовых переменных.\n",
    "4. Оценка качества моделей с помощью метрик `RMSE`, `MAE` и `R2`.\n",
    "\n",
    "Результаты:\n",
    "\n",
    "Модель, обученная на всех данных, показала лучшие результаты по всем метрикам по сравнению с моделью, обученной только на числовых переменных:\n",
    "- `RMSE`: 70600.5966926188\n",
    "- `MAE`: 50771.63521003129\n",
    "- `R2`: 0.6397445918050668\n",
    "\n",
    "После завершения работы с моделью Spark-сессия была корректно закрыта."
   ]
  }
 ],
 "metadata": {
  "ExecuteTimeLog": [
   {
    "duration": 1311,
    "start_time": "2025-01-15T12:58:50.581Z"
   },
   {
    "duration": 4,
    "start_time": "2025-01-15T13:03:20.003Z"
   },
   {
    "duration": 14716,
    "start_time": "2025-01-15T13:03:56.274Z"
   },
   {
    "duration": 7434,
    "start_time": "2025-01-15T13:05:06.031Z"
   },
   {
    "duration": 573,
    "start_time": "2025-01-15T13:06:58.591Z"
   },
   {
    "duration": 392,
    "start_time": "2025-01-15T13:07:09.159Z"
   },
   {
    "duration": 776,
    "start_time": "2025-01-15T13:09:27.410Z"
   },
   {
    "duration": 3217,
    "start_time": "2025-01-15T13:10:48.748Z"
   },
   {
    "duration": 427,
    "start_time": "2025-01-15T13:32:48.609Z"
   },
   {
    "duration": 1496,
    "start_time": "2025-01-15T13:32:58.459Z"
   },
   {
    "duration": 14,
    "start_time": "2025-01-15T13:33:16.890Z"
   },
   {
    "duration": 15,
    "start_time": "2025-01-15T13:33:56.913Z"
   },
   {
    "duration": 802,
    "start_time": "2025-01-15T13:34:23.866Z"
   },
   {
    "duration": 628,
    "start_time": "2025-01-15T13:34:40.235Z"
   },
   {
    "duration": 398,
    "start_time": "2025-01-15T13:37:34.882Z"
   },
   {
    "duration": 640,
    "start_time": "2025-01-15T13:37:53.322Z"
   },
   {
    "duration": 620,
    "start_time": "2025-01-15T13:38:03.440Z"
   },
   {
    "duration": 3573,
    "start_time": "2025-01-15T13:41:54.073Z"
   },
   {
    "duration": 496,
    "start_time": "2025-01-15T13:43:26.363Z"
   },
   {
    "duration": 791,
    "start_time": "2025-01-15T13:43:42.244Z"
   },
   {
    "duration": 405,
    "start_time": "2025-01-15T13:44:04.848Z"
   },
   {
    "duration": 293,
    "start_time": "2025-01-15T13:44:34.084Z"
   },
   {
    "duration": 474,
    "start_time": "2025-01-15T13:45:09.186Z"
   },
   {
    "duration": 443,
    "start_time": "2025-01-15T13:45:40.809Z"
   },
   {
    "duration": 335,
    "start_time": "2025-01-15T13:46:18.328Z"
   },
   {
    "duration": 15,
    "start_time": "2025-01-15T13:48:04.086Z"
   },
   {
    "duration": 274,
    "start_time": "2025-01-15T13:48:19.040Z"
   },
   {
    "duration": 3,
    "start_time": "2025-01-15T13:51:07.441Z"
   },
   {
    "duration": 3497,
    "start_time": "2025-01-15T13:52:44.768Z"
   },
   {
    "duration": 1168,
    "start_time": "2025-01-15T13:59:13.300Z"
   },
   {
    "duration": 3,
    "start_time": "2025-01-15T13:59:30.090Z"
   },
   {
    "duration": 1457,
    "start_time": "2025-01-15T17:42:47.505Z"
   },
   {
    "duration": 15594,
    "start_time": "2025-01-15T17:42:48.964Z"
   },
   {
    "duration": 8638,
    "start_time": "2025-01-15T17:43:04.614Z"
   },
   {
    "duration": 976,
    "start_time": "2025-01-15T17:43:13.255Z"
   },
   {
    "duration": 1026,
    "start_time": "2025-01-15T17:43:14.233Z"
   },
   {
    "duration": 3656,
    "start_time": "2025-01-15T17:43:15.260Z"
   },
   {
    "duration": 1228,
    "start_time": "2025-01-15T17:43:18.918Z"
   },
   {
    "duration": 83,
    "start_time": "2025-01-15T17:43:20.148Z"
   },
   {
    "duration": 603,
    "start_time": "2025-01-15T17:43:20.233Z"
   },
   {
    "duration": 4790,
    "start_time": "2025-01-15T17:43:20.839Z"
   },
   {
    "duration": 3,
    "start_time": "2025-01-15T17:43:25.631Z"
   },
   {
    "duration": 1508,
    "start_time": "2025-01-15T17:43:25.636Z"
   },
   {
    "duration": 1312,
    "start_time": "2025-01-15T18:07:16.022Z"
   },
   {
    "duration": 15607,
    "start_time": "2025-01-15T18:07:17.336Z"
   },
   {
    "duration": 8792,
    "start_time": "2025-01-15T18:07:32.945Z"
   },
   {
    "duration": 904,
    "start_time": "2025-01-15T18:07:41.740Z"
   },
   {
    "duration": 1289,
    "start_time": "2025-01-15T18:07:42.646Z"
   },
   {
    "duration": 3606,
    "start_time": "2025-01-15T18:07:43.938Z"
   },
   {
    "duration": 1169,
    "start_time": "2025-01-15T18:07:47.545Z"
   },
   {
    "duration": 22,
    "start_time": "2025-01-15T18:07:48.716Z"
   },
   {
    "duration": 598,
    "start_time": "2025-01-15T18:07:48.740Z"
   },
   {
    "duration": 4509,
    "start_time": "2025-01-15T18:07:49.342Z"
   },
   {
    "duration": 64,
    "start_time": "2025-01-15T18:07:53.852Z"
   },
   {
    "duration": 2170,
    "start_time": "2025-01-15T18:07:53.919Z"
   },
   {
    "duration": 746,
    "start_time": "2025-01-15T18:07:56.091Z"
   },
   {
    "duration": 103,
    "start_time": "2025-01-15T18:07:56.839Z"
   },
   {
    "duration": 96,
    "start_time": "2025-01-15T18:07:56.944Z"
   },
   {
    "duration": 1205,
    "start_time": "2025-01-15T18:07:57.042Z"
   },
   {
    "duration": 573,
    "start_time": "2025-01-15T18:07:58.249Z"
   },
   {
    "duration": 1391,
    "start_time": "2025-01-15T19:48:12.503Z"
   },
   {
    "duration": 15496,
    "start_time": "2025-01-15T19:48:13.896Z"
   },
   {
    "duration": 8383,
    "start_time": "2025-01-15T19:48:29.394Z"
   },
   {
    "duration": 898,
    "start_time": "2025-01-15T19:48:37.781Z"
   },
   {
    "duration": 1005,
    "start_time": "2025-01-15T19:48:38.681Z"
   },
   {
    "duration": 3519,
    "start_time": "2025-01-15T19:48:39.688Z"
   },
   {
    "duration": 1381,
    "start_time": "2025-01-15T19:48:43.209Z"
   },
   {
    "duration": 81,
    "start_time": "2025-01-15T19:48:44.592Z"
   },
   {
    "duration": 410,
    "start_time": "2025-01-15T19:48:44.675Z"
   },
   {
    "duration": 3915,
    "start_time": "2025-01-15T19:48:45.088Z"
   },
   {
    "duration": 68,
    "start_time": "2025-01-15T19:48:49.005Z"
   },
   {
    "duration": 1908,
    "start_time": "2025-01-15T19:48:49.075Z"
   },
   {
    "duration": 706,
    "start_time": "2025-01-15T19:48:50.985Z"
   },
   {
    "duration": 101,
    "start_time": "2025-01-15T19:48:51.693Z"
   },
   {
    "duration": 93,
    "start_time": "2025-01-15T19:48:51.796Z"
   },
   {
    "duration": 1211,
    "start_time": "2025-01-15T19:48:51.890Z"
   },
   {
    "duration": 427,
    "start_time": "2025-01-15T19:48:53.170Z"
   },
   {
    "duration": 1246,
    "start_time": "2025-01-15T20:40:27.987Z"
   },
   {
    "duration": 4,
    "start_time": "2025-01-15T20:50:07.732Z"
   },
   {
    "duration": 4,
    "start_time": "2025-01-15T20:50:08.163Z"
   },
   {
    "duration": 584,
    "start_time": "2025-01-15T20:50:08.397Z"
   },
   {
    "duration": 329,
    "start_time": "2025-01-15T20:50:08.984Z"
   },
   {
    "duration": 290,
    "start_time": "2025-01-15T20:50:09.316Z"
   },
   {
    "duration": 1567,
    "start_time": "2025-01-15T20:50:09.608Z"
   },
   {
    "duration": 1212,
    "start_time": "2025-01-15T20:50:11.176Z"
   },
   {
    "duration": 17,
    "start_time": "2025-01-15T20:50:12.390Z"
   },
   {
    "duration": 463,
    "start_time": "2025-01-15T20:50:12.408Z"
   },
   {
    "duration": 3796,
    "start_time": "2025-01-15T20:50:12.874Z"
   },
   {
    "duration": 4,
    "start_time": "2025-01-15T20:50:16.672Z"
   },
   {
    "duration": 1861,
    "start_time": "2025-01-15T20:50:16.678Z"
   },
   {
    "duration": 719,
    "start_time": "2025-01-15T20:50:18.572Z"
   },
   {
    "duration": 105,
    "start_time": "2025-01-15T20:50:19.293Z"
   },
   {
    "duration": 106,
    "start_time": "2025-01-15T20:50:19.400Z"
   },
   {
    "duration": 1165,
    "start_time": "2025-01-15T20:50:19.508Z"
   },
   {
    "duration": 420,
    "start_time": "2025-01-15T20:50:20.675Z"
   },
   {
    "duration": 3373,
    "start_time": "2025-01-15T20:50:23.531Z"
   },
   {
    "duration": 4139,
    "start_time": "2025-01-15T20:50:26.970Z"
   },
   {
    "duration": 3115,
    "start_time": "2025-01-15T20:50:31.171Z"
   },
   {
    "duration": 25,
    "start_time": "2025-01-15T20:50:37.617Z"
   },
   {
    "duration": 28,
    "start_time": "2025-01-15T20:50:38.467Z"
   },
   {
    "duration": 4,
    "start_time": "2025-01-15T20:50:51.302Z"
   },
   {
    "duration": 7,
    "start_time": "2025-01-15T20:51:13.322Z"
   },
   {
    "duration": 2493,
    "start_time": "2025-01-15T20:57:12.611Z"
   },
   {
    "duration": 4,
    "start_time": "2025-01-15T20:59:29.410Z"
   },
   {
    "duration": 109,
    "start_time": "2025-01-15T20:59:53.543Z"
   },
   {
    "duration": 4,
    "start_time": "2025-01-15T21:00:34.200Z"
   },
   {
    "duration": 3035,
    "start_time": "2025-01-15T21:00:35.637Z"
   },
   {
    "duration": 2293,
    "start_time": "2025-01-15T21:03:40.185Z"
   },
   {
    "duration": 1597,
    "start_time": "2025-01-15T21:05:47.317Z"
   },
   {
    "duration": 1202,
    "start_time": "2025-01-15T21:06:14.371Z"
   },
   {
    "duration": 223,
    "start_time": "2025-01-15T21:09:37.626Z"
   },
   {
    "duration": 778,
    "start_time": "2025-01-15T21:12:00.044Z"
   },
   {
    "duration": 15117,
    "start_time": "2025-01-15T21:12:01.158Z"
   },
   {
    "duration": 9221,
    "start_time": "2025-01-15T21:12:16.278Z"
   },
   {
    "duration": 790,
    "start_time": "2025-01-15T21:12:25.501Z"
   },
   {
    "duration": 1183,
    "start_time": "2025-01-15T21:12:26.293Z"
   },
   {
    "duration": 3596,
    "start_time": "2025-01-15T21:12:27.478Z"
   },
   {
    "duration": 1107,
    "start_time": "2025-01-15T21:12:33.180Z"
   },
   {
    "duration": 22,
    "start_time": "2025-01-15T21:12:35.677Z"
   },
   {
    "duration": 599,
    "start_time": "2025-01-15T21:12:36.277Z"
   },
   {
    "duration": 4696,
    "start_time": "2025-01-15T21:12:36.878Z"
   },
   {
    "duration": 4,
    "start_time": "2025-01-15T21:12:42.511Z"
   },
   {
    "duration": 1935,
    "start_time": "2025-01-15T21:12:44.348Z"
   },
   {
    "duration": 814,
    "start_time": "2025-01-15T21:12:46.285Z"
   },
   {
    "duration": 47,
    "start_time": "2025-01-15T21:12:47.312Z"
   },
   {
    "duration": 30,
    "start_time": "2025-01-15T21:12:49.846Z"
   },
   {
    "duration": 1063,
    "start_time": "2025-01-15T21:12:50.434Z"
   },
   {
    "duration": 383,
    "start_time": "2025-01-15T21:12:51.499Z"
   },
   {
    "duration": 3303,
    "start_time": "2025-01-15T21:12:52.698Z"
   },
   {
    "duration": 3779,
    "start_time": "2025-01-15T21:12:56.003Z"
   },
   {
    "duration": 2833,
    "start_time": "2025-01-15T21:12:59.784Z"
   },
   {
    "duration": 22,
    "start_time": "2025-01-15T21:13:15.163Z"
   },
   {
    "duration": 19,
    "start_time": "2025-01-15T21:13:16.765Z"
   },
   {
    "duration": 2510,
    "start_time": "2025-01-15T21:13:18.782Z"
   },
   {
    "duration": 2188,
    "start_time": "2025-01-15T21:13:25.408Z"
   },
   {
    "duration": 328,
    "start_time": "2025-01-15T21:13:29.502Z"
   },
   {
    "duration": 724,
    "start_time": "2025-01-15T21:53:16.689Z"
   },
   {
    "duration": 15587,
    "start_time": "2025-01-15T21:53:17.888Z"
   },
   {
    "duration": 9491,
    "start_time": "2025-01-15T21:53:33.478Z"
   },
   {
    "duration": 710,
    "start_time": "2025-01-15T21:53:42.972Z"
   },
   {
    "duration": 1088,
    "start_time": "2025-01-15T21:53:53.793Z"
   },
   {
    "duration": 3613,
    "start_time": "2025-01-15T21:53:54.884Z"
   },
   {
    "duration": 1206,
    "start_time": "2025-01-15T21:53:58.499Z"
   },
   {
    "duration": 152,
    "start_time": "2025-01-15T21:53:59.707Z"
   },
   {
    "duration": 0,
    "start_time": "2025-01-15T21:53:59.862Z"
   },
   {
    "duration": 0,
    "start_time": "2025-01-15T21:53:59.870Z"
   },
   {
    "duration": 23,
    "start_time": "2025-01-15T21:54:53.813Z"
   },
   {
    "duration": 3,
    "start_time": "2025-01-15T21:55:32.356Z"
   },
   {
    "duration": 301,
    "start_time": "2025-01-15T21:55:36.785Z"
   },
   {
    "duration": 5734,
    "start_time": "2025-01-15T21:55:40.052Z"
   },
   {
    "duration": 227,
    "start_time": "2025-01-15T21:56:02.510Z"
   },
   {
    "duration": 6,
    "start_time": "2025-01-15T21:57:08.415Z"
   },
   {
    "duration": 201,
    "start_time": "2025-01-15T21:57:23.698Z"
   },
   {
    "duration": 766,
    "start_time": "2025-01-15T21:57:39.953Z"
   },
   {
    "duration": 15644,
    "start_time": "2025-01-15T21:57:40.768Z"
   },
   {
    "duration": 9022,
    "start_time": "2025-01-15T21:57:56.470Z"
   },
   {
    "duration": 895,
    "start_time": "2025-01-15T21:58:05.494Z"
   },
   {
    "duration": 998,
    "start_time": "2025-01-15T21:58:08.107Z"
   },
   {
    "duration": 3679,
    "start_time": "2025-01-15T21:58:09.108Z"
   },
   {
    "duration": 1282,
    "start_time": "2025-01-15T21:58:12.789Z"
   },
   {
    "duration": 5,
    "start_time": "2025-01-15T22:00:04.299Z"
   },
   {
    "duration": 558,
    "start_time": "2025-01-15T22:00:15.838Z"
   },
   {
    "duration": 525,
    "start_time": "2025-01-15T22:00:22.456Z"
   },
   {
    "duration": 317,
    "start_time": "2025-01-15T22:00:23.871Z"
   },
   {
    "duration": 290,
    "start_time": "2025-01-15T22:00:34.558Z"
   },
   {
    "duration": 6,
    "start_time": "2025-01-15T22:01:47.450Z"
   },
   {
    "duration": 17,
    "start_time": "2025-01-15T22:39:13.882Z"
   },
   {
    "duration": 10,
    "start_time": "2025-01-15T22:39:50.800Z"
   },
   {
    "duration": 9,
    "start_time": "2025-01-15T22:40:36.324Z"
   },
   {
    "duration": 4,
    "start_time": "2025-01-15T22:41:45.620Z"
   },
   {
    "duration": 15,
    "start_time": "2025-01-15T22:42:01.448Z"
   },
   {
    "duration": 717,
    "start_time": "2025-01-15T22:42:39.499Z"
   },
   {
    "duration": 15266,
    "start_time": "2025-01-15T22:42:40.631Z"
   },
   {
    "duration": 8199,
    "start_time": "2025-01-15T22:42:55.899Z"
   },
   {
    "duration": 776,
    "start_time": "2025-01-15T22:43:04.100Z"
   },
   {
    "duration": 854,
    "start_time": "2025-01-15T22:43:06.820Z"
   },
   {
    "duration": 3519,
    "start_time": "2025-01-15T22:43:07.986Z"
   },
   {
    "duration": 196,
    "start_time": "2025-01-15T22:43:11.507Z"
   },
   {
    "duration": 0,
    "start_time": "2025-01-15T22:43:11.705Z"
   },
   {
    "duration": 10,
    "start_time": "2025-01-15T22:43:31.397Z"
   },
   {
    "duration": 4,
    "start_time": "2025-01-15T22:45:12.587Z"
   },
   {
    "duration": 1203,
    "start_time": "2025-01-15T22:45:18.284Z"
   },
   {
    "duration": 15,
    "start_time": "2025-01-15T22:45:20.565Z"
   },
   {
    "duration": 706,
    "start_time": "2025-01-15T22:51:20.704Z"
   },
   {
    "duration": 15062,
    "start_time": "2025-01-15T22:51:21.412Z"
   },
   {
    "duration": 8103,
    "start_time": "2025-01-15T22:51:36.477Z"
   },
   {
    "duration": 719,
    "start_time": "2025-01-15T22:51:44.582Z"
   },
   {
    "duration": 989,
    "start_time": "2025-01-15T22:51:48.908Z"
   },
   {
    "duration": 4170,
    "start_time": "2025-01-15T22:51:49.900Z"
   },
   {
    "duration": 1314,
    "start_time": "2025-01-15T22:51:54.073Z"
   },
   {
    "duration": 712,
    "start_time": "2025-01-15T23:05:03.199Z"
   },
   {
    "duration": 15533,
    "start_time": "2025-01-15T23:05:04.056Z"
   },
   {
    "duration": 8197,
    "start_time": "2025-01-15T23:05:19.592Z"
   },
   {
    "duration": 787,
    "start_time": "2025-01-15T23:05:27.791Z"
   },
   {
    "duration": 1091,
    "start_time": "2025-01-15T23:05:28.581Z"
   },
   {
    "duration": 3803,
    "start_time": "2025-01-15T23:05:29.674Z"
   },
   {
    "duration": 1121,
    "start_time": "2025-01-15T23:05:33.479Z"
   },
   {
    "duration": 380,
    "start_time": "2025-01-15T23:05:34.601Z"
   },
   {
    "duration": 6897,
    "start_time": "2025-01-15T23:05:34.983Z"
   },
   {
    "duration": 6014,
    "start_time": "2025-01-15T23:05:41.882Z"
   },
   {
    "duration": 81,
    "start_time": "2025-01-15T23:10:01.011Z"
   },
   {
    "duration": 15,
    "start_time": "2025-01-15T23:10:17.095Z"
   },
   {
    "duration": 13,
    "start_time": "2025-01-15T23:10:43.281Z"
   },
   {
    "duration": 51,
    "start_time": "2025-01-15T23:12:22.559Z"
   },
   {
    "duration": 4214,
    "start_time": "2025-01-15T23:12:24.476Z"
   },
   {
    "duration": 43,
    "start_time": "2025-01-15T23:30:46.375Z"
   },
   {
    "duration": 3144,
    "start_time": "2025-01-15T23:30:50.543Z"
   },
   {
    "duration": 684,
    "start_time": "2025-01-15T23:31:04.531Z"
   },
   {
    "duration": 15361,
    "start_time": "2025-01-15T23:31:05.217Z"
   },
   {
    "duration": 8210,
    "start_time": "2025-01-15T23:31:20.580Z"
   },
   {
    "duration": 810,
    "start_time": "2025-01-15T23:31:28.791Z"
   },
   {
    "duration": 862,
    "start_time": "2025-01-15T23:37:45.455Z"
   },
   {
    "duration": 3333,
    "start_time": "2025-01-15T23:37:46.371Z"
   },
   {
    "duration": 1084,
    "start_time": "2025-01-15T23:37:49.705Z"
   },
   {
    "duration": 134,
    "start_time": "2025-01-15T23:37:50.791Z"
   },
   {
    "duration": 0,
    "start_time": "2025-01-15T23:37:50.927Z"
   },
   {
    "duration": 217,
    "start_time": "2025-01-15T23:39:12.783Z"
   },
   {
    "duration": 544,
    "start_time": "2025-01-15T23:39:15.957Z"
   },
   {
    "duration": 49,
    "start_time": "2025-01-15T23:39:31.136Z"
   },
   {
    "duration": 489,
    "start_time": "2025-01-15T23:39:32.185Z"
   },
   {
    "duration": 41,
    "start_time": "2025-01-15T23:39:42.469Z"
   },
   {
    "duration": 463,
    "start_time": "2025-01-15T23:39:43.226Z"
   },
   {
    "duration": 696,
    "start_time": "2025-01-15T23:39:56.622Z"
   },
   {
    "duration": 15261,
    "start_time": "2025-01-15T23:39:58.037Z"
   },
   {
    "duration": 8104,
    "start_time": "2025-01-15T23:40:13.301Z"
   },
   {
    "duration": 870,
    "start_time": "2025-01-15T23:40:21.407Z"
   },
   {
    "duration": 999,
    "start_time": "2025-01-15T23:40:22.279Z"
   },
   {
    "duration": 3520,
    "start_time": "2025-01-15T23:40:23.280Z"
   },
   {
    "duration": 1186,
    "start_time": "2025-01-15T23:40:26.802Z"
   },
   {
    "duration": 313,
    "start_time": "2025-01-15T23:40:27.990Z"
   },
   {
    "duration": 689,
    "start_time": "2025-01-15T23:40:28.304Z"
   },
   {
    "duration": 49,
    "start_time": "2025-01-15T23:40:53.956Z"
   },
   {
    "duration": 549,
    "start_time": "2025-01-15T23:40:54.530Z"
   },
   {
    "duration": 38,
    "start_time": "2025-01-15T23:41:46.951Z"
   },
   {
    "duration": 2099,
    "start_time": "2025-01-15T23:41:52.172Z"
   },
   {
    "duration": 81,
    "start_time": "2025-01-15T23:47:19.620Z"
   },
   {
    "duration": 11,
    "start_time": "2025-01-15T23:48:25.912Z"
   },
   {
    "duration": 4407,
    "start_time": "2025-01-15T23:49:21.199Z"
   },
   {
    "duration": 2674,
    "start_time": "2025-01-15T23:50:53.160Z"
   },
   {
    "duration": 4,
    "start_time": "2025-01-16T00:06:50.703Z"
   },
   {
    "duration": 899,
    "start_time": "2025-01-16T00:07:53.274Z"
   },
   {
    "duration": 1152,
    "start_time": "2025-01-16T00:07:58.656Z"
   },
   {
    "duration": 813,
    "start_time": "2025-01-16T00:08:16.959Z"
   },
   {
    "duration": 485,
    "start_time": "2025-01-16T00:08:19.307Z"
   },
   {
    "duration": 9,
    "start_time": "2025-01-16T00:09:27.299Z"
   },
   {
    "duration": 2486,
    "start_time": "2025-01-16T00:10:04.487Z"
   },
   {
    "duration": 758,
    "start_time": "2025-01-16T00:12:26.458Z"
   },
   {
    "duration": 15496,
    "start_time": "2025-01-16T00:12:27.218Z"
   },
   {
    "duration": 8188,
    "start_time": "2025-01-16T00:12:42.716Z"
   },
   {
    "duration": 863,
    "start_time": "2025-01-16T00:12:50.907Z"
   },
   {
    "duration": 1002,
    "start_time": "2025-01-16T00:12:51.772Z"
   },
   {
    "duration": 3438,
    "start_time": "2025-01-16T00:12:52.777Z"
   },
   {
    "duration": 1109,
    "start_time": "2025-01-16T00:12:56.270Z"
   },
   {
    "duration": 2206,
    "start_time": "2025-01-16T00:12:57.381Z"
   },
   {
    "duration": 210,
    "start_time": "2025-01-16T00:13:09.193Z"
   },
   {
    "duration": 6191,
    "start_time": "2025-01-16T00:13:17.096Z"
   },
   {
    "duration": 19,
    "start_time": "2025-01-16T00:23:33.296Z"
   },
   {
    "duration": 722,
    "start_time": "2025-01-16T00:23:53.696Z"
   },
   {
    "duration": 15177,
    "start_time": "2025-01-16T00:23:54.510Z"
   },
   {
    "duration": 8098,
    "start_time": "2025-01-16T00:24:09.689Z"
   },
   {
    "duration": 895,
    "start_time": "2025-01-16T00:24:17.789Z"
   },
   {
    "duration": 985,
    "start_time": "2025-01-16T00:24:18.686Z"
   },
   {
    "duration": 3621,
    "start_time": "2025-01-16T00:24:19.672Z"
   },
   {
    "duration": 1188,
    "start_time": "2025-01-16T00:24:23.294Z"
   },
   {
    "duration": 2686,
    "start_time": "2025-01-16T00:24:24.484Z"
   },
   {
    "duration": 27,
    "start_time": "2025-01-16T00:24:30.618Z"
   },
   {
    "duration": 626,
    "start_time": "2025-01-16T00:24:34.550Z"
   },
   {
    "duration": 3805,
    "start_time": "2025-01-16T00:24:37.896Z"
   },
   {
    "duration": 3,
    "start_time": "2025-01-16T00:24:45.020Z"
   },
   {
    "duration": 1515,
    "start_time": "2025-01-16T00:24:45.967Z"
   },
   {
    "duration": 607,
    "start_time": "2025-01-16T00:24:47.484Z"
   },
   {
    "duration": 52,
    "start_time": "2025-01-16T00:24:48.351Z"
   },
   {
    "duration": 28,
    "start_time": "2025-01-16T00:24:49.417Z"
   },
   {
    "duration": 1109,
    "start_time": "2025-01-16T00:24:49.765Z"
   },
   {
    "duration": 433,
    "start_time": "2025-01-16T00:24:50.876Z"
   },
   {
    "duration": 2833,
    "start_time": "2025-01-16T00:24:51.665Z"
   },
   {
    "duration": 4279,
    "start_time": "2025-01-16T00:24:54.499Z"
   },
   {
    "duration": 3094,
    "start_time": "2025-01-16T00:24:58.780Z"
   },
   {
    "duration": 20,
    "start_time": "2025-01-16T00:25:01.876Z"
   },
   {
    "duration": 89,
    "start_time": "2025-01-16T00:25:01.898Z"
   },
   {
    "duration": 2383,
    "start_time": "2025-01-16T00:25:01.989Z"
   },
   {
    "duration": 2129,
    "start_time": "2025-01-16T00:25:04.373Z"
   },
   {
    "duration": 304,
    "start_time": "2025-01-16T00:25:06.503Z"
   },
   {
    "duration": 4,
    "start_time": "2025-01-16T00:29:10.810Z"
   },
   {
    "duration": 269,
    "start_time": "2025-01-16T00:29:11.209Z"
   },
   {
    "duration": 572,
    "start_time": "2025-01-16T00:29:11.741Z"
   },
   {
    "duration": 151,
    "start_time": "2025-01-16T00:29:12.370Z"
   },
   {
    "duration": 3,
    "start_time": "2025-01-16T00:29:30.548Z"
   },
   {
    "duration": 4,
    "start_time": "2025-01-16T00:29:31.143Z"
   },
   {
    "duration": 341,
    "start_time": "2025-01-16T00:29:31.377Z"
   },
   {
    "duration": 187,
    "start_time": "2025-01-16T00:29:31.720Z"
   },
   {
    "duration": 136,
    "start_time": "2025-01-16T00:29:32.813Z"
   },
   {
    "duration": 1262,
    "start_time": "2025-01-16T00:29:33.216Z"
   },
   {
    "duration": 411,
    "start_time": "2025-01-16T00:29:34.480Z"
   },
   {
    "duration": 979,
    "start_time": "2025-01-16T00:29:35.299Z"
   },
   {
    "duration": 14,
    "start_time": "2025-01-16T00:29:36.812Z"
   },
   {
    "duration": 372,
    "start_time": "2025-01-16T00:29:48.964Z"
   },
   {
    "duration": 2046,
    "start_time": "2025-01-16T00:30:08.574Z"
   },
   {
    "duration": 3,
    "start_time": "2025-01-16T00:30:13.398Z"
   },
   {
    "duration": 504,
    "start_time": "2025-01-16T00:30:14.666Z"
   },
   {
    "duration": 200,
    "start_time": "2025-01-16T00:30:15.173Z"
   },
   {
    "duration": 18,
    "start_time": "2025-01-16T00:30:15.484Z"
   },
   {
    "duration": 19,
    "start_time": "2025-01-16T00:30:16.216Z"
   },
   {
    "duration": 392,
    "start_time": "2025-01-16T00:30:16.499Z"
   },
   {
    "duration": 281,
    "start_time": "2025-01-16T00:30:16.893Z"
   },
   {
    "duration": 1088,
    "start_time": "2025-01-16T00:30:17.482Z"
   },
   {
    "duration": 1708,
    "start_time": "2025-01-16T00:30:18.572Z"
   },
   {
    "duration": 1892,
    "start_time": "2025-01-16T00:30:20.282Z"
   },
   {
    "duration": 17,
    "start_time": "2025-01-16T00:30:22.700Z"
   },
   {
    "duration": 16,
    "start_time": "2025-01-16T00:30:23.370Z"
   },
   {
    "duration": 1490,
    "start_time": "2025-01-16T00:30:23.935Z"
   },
   {
    "duration": 1599,
    "start_time": "2025-01-16T00:30:25.427Z"
   },
   {
    "duration": 148,
    "start_time": "2025-01-16T00:30:27.027Z"
   },
   {
    "duration": 214,
    "start_time": "2025-01-16T00:33:31.973Z"
   },
   {
    "duration": 716,
    "start_time": "2025-01-16T00:33:53.093Z"
   },
   {
    "duration": 15260,
    "start_time": "2025-01-16T00:33:53.811Z"
   },
   {
    "duration": 8605,
    "start_time": "2025-01-16T00:34:09.073Z"
   },
   {
    "duration": 720,
    "start_time": "2025-01-16T00:34:17.680Z"
   },
   {
    "duration": 907,
    "start_time": "2025-01-16T00:34:18.402Z"
   },
   {
    "duration": 3369,
    "start_time": "2025-01-16T00:34:19.310Z"
   },
   {
    "duration": 1112,
    "start_time": "2025-01-16T00:34:22.681Z"
   },
   {
    "duration": 2285,
    "start_time": "2025-01-16T00:34:23.795Z"
   },
   {
    "duration": 26,
    "start_time": "2025-01-16T00:34:26.083Z"
   },
   {
    "duration": 616,
    "start_time": "2025-01-16T00:34:29.078Z"
   },
   {
    "duration": 4002,
    "start_time": "2025-01-16T00:34:29.697Z"
   },
   {
    "duration": 3,
    "start_time": "2025-01-16T00:34:33.702Z"
   },
   {
    "duration": 1583,
    "start_time": "2025-01-16T00:34:33.771Z"
   },
   {
    "duration": 570,
    "start_time": "2025-01-16T00:34:35.356Z"
   },
   {
    "duration": 101,
    "start_time": "2025-01-16T00:34:35.972Z"
   },
   {
    "duration": 28,
    "start_time": "2025-01-16T00:34:36.075Z"
   },
   {
    "duration": 1270,
    "start_time": "2025-01-16T00:34:36.105Z"
   },
   {
    "duration": 412,
    "start_time": "2025-01-16T00:34:37.376Z"
   },
   {
    "duration": 2593,
    "start_time": "2025-01-16T00:34:37.791Z"
   },
   {
    "duration": 4187,
    "start_time": "2025-01-16T00:34:40.386Z"
   },
   {
    "duration": 2696,
    "start_time": "2025-01-16T00:34:44.575Z"
   },
   {
    "duration": 19,
    "start_time": "2025-01-16T00:34:47.273Z"
   },
   {
    "duration": 93,
    "start_time": "2025-01-16T00:34:47.294Z"
   },
   {
    "duration": 2707,
    "start_time": "2025-01-16T00:34:47.389Z"
   },
   {
    "duration": 2805,
    "start_time": "2025-01-16T00:34:50.098Z"
   },
   {
    "duration": 587,
    "start_time": "2025-01-16T00:34:52.904Z"
   },
   {
    "duration": 51,
    "start_time": "2025-01-16T09:03:49.342Z"
   },
   {
    "duration": 685,
    "start_time": "2025-01-16T09:04:02.240Z"
   },
   {
    "duration": 15194,
    "start_time": "2025-01-16T09:04:03.339Z"
   },
   {
    "duration": 8056,
    "start_time": "2025-01-16T09:04:18.536Z"
   },
   {
    "duration": 723,
    "start_time": "2025-01-16T09:04:26.594Z"
   },
   {
    "duration": 993,
    "start_time": "2025-01-16T09:04:27.319Z"
   },
   {
    "duration": 3414,
    "start_time": "2025-01-16T09:04:28.314Z"
   },
   {
    "duration": 1111,
    "start_time": "2025-01-16T09:04:31.786Z"
   },
   {
    "duration": 3286,
    "start_time": "2025-01-16T09:04:32.899Z"
   },
   {
    "duration": 1400,
    "start_time": "2025-01-16T09:06:17.512Z"
   },
   {
    "duration": 1058,
    "start_time": "2025-01-16T09:06:51.430Z"
   },
   {
    "duration": 8,
    "start_time": "2025-01-16T09:07:32.250Z"
   },
   {
    "duration": 78,
    "start_time": "2025-01-16T09:08:09.103Z"
   },
   {
    "duration": 4482,
    "start_time": "2025-01-16T09:08:16.722Z"
   },
   {
    "duration": 385,
    "start_time": "2025-01-16T09:08:47.725Z"
   },
   {
    "duration": 11,
    "start_time": "2025-01-16T09:41:39.092Z"
   },
   {
    "duration": 3,
    "start_time": "2025-01-16T09:41:50.691Z"
   },
   {
    "duration": 56,
    "start_time": "2025-01-16T09:41:51.559Z"
   },
   {
    "duration": 3091,
    "start_time": "2025-01-16T09:42:07.796Z"
   },
   {
    "duration": 1409,
    "start_time": "2025-01-16T09:43:15.522Z"
   },
   {
    "duration": 1260,
    "start_time": "2025-01-16T09:45:50.986Z"
   },
   {
    "duration": 450,
    "start_time": "2025-01-16T09:47:03.844Z"
   },
   {
    "duration": 17,
    "start_time": "2025-01-16T09:47:06.395Z"
   },
   {
    "duration": 559,
    "start_time": "2025-01-16T09:47:07.644Z"
   },
   {
    "duration": 2,
    "start_time": "2025-01-16T09:47:10.729Z"
   },
   {
    "duration": 1822,
    "start_time": "2025-01-16T09:47:11.398Z"
   },
   {
    "duration": 1491,
    "start_time": "2025-01-16T09:49:00.724Z"
   },
   {
    "duration": 3600,
    "start_time": "2025-01-16T09:50:41.290Z"
   },
   {
    "duration": 3045,
    "start_time": "2025-01-16T09:53:16.952Z"
   },
   {
    "duration": 1855,
    "start_time": "2025-01-16T09:53:20.036Z"
   },
   {
    "duration": 16,
    "start_time": "2025-01-16T09:53:25.069Z"
   },
   {
    "duration": 21,
    "start_time": "2025-01-16T09:53:25.468Z"
   },
   {
    "duration": 804,
    "start_time": "2025-01-16T09:53:25.919Z"
   },
   {
    "duration": 1202,
    "start_time": "2025-01-16T09:53:32.986Z"
   },
   {
    "duration": 738,
    "start_time": "2025-01-16T11:52:14.752Z"
   },
   {
    "duration": 14772,
    "start_time": "2025-01-16T11:52:16.156Z"
   },
   {
    "duration": 7668,
    "start_time": "2025-01-16T11:52:30.931Z"
   },
   {
    "duration": 787,
    "start_time": "2025-01-16T11:52:38.600Z"
   },
   {
    "duration": 942,
    "start_time": "2025-01-16T11:52:43.952Z"
   },
   {
    "duration": 3607,
    "start_time": "2025-01-16T11:52:44.896Z"
   },
   {
    "duration": 1184,
    "start_time": "2025-01-16T11:52:48.505Z"
   },
   {
    "duration": 1537,
    "start_time": "2025-01-16T11:52:49.691Z"
   },
   {
    "duration": 24,
    "start_time": "2025-01-16T11:52:52.105Z"
   },
   {
    "duration": 607,
    "start_time": "2025-01-16T11:52:52.420Z"
   },
   {
    "duration": 3936,
    "start_time": "2025-01-16T11:52:53.151Z"
   },
   {
    "duration": 2,
    "start_time": "2025-01-16T11:52:58.371Z"
   },
   {
    "duration": 7036,
    "start_time": "2025-01-16T11:52:59.068Z"
   },
   {
    "duration": 2796,
    "start_time": "2025-01-16T11:53:12.222Z"
   },
   {
    "duration": 1649,
    "start_time": "2025-01-16T11:53:15.039Z"
   },
   {
    "duration": 18,
    "start_time": "2025-01-16T11:53:19.605Z"
   },
   {
    "duration": 23,
    "start_time": "2025-01-16T11:53:20.839Z"
   },
   {
    "duration": 1662,
    "start_time": "2025-01-16T11:53:22.341Z"
   },
   {
    "duration": 1209,
    "start_time": "2025-01-16T11:53:27.990Z"
   },
   {
    "duration": 728,
    "start_time": "2025-01-16T12:05:35.304Z"
   },
   {
    "duration": 15433,
    "start_time": "2025-01-16T12:05:37.953Z"
   },
   {
    "duration": 8098,
    "start_time": "2025-01-16T12:05:53.389Z"
   },
   {
    "duration": 807,
    "start_time": "2025-01-16T12:06:01.488Z"
   },
   {
    "duration": 879,
    "start_time": "2025-01-16T12:07:53.908Z"
   },
   {
    "duration": 3417,
    "start_time": "2025-01-16T12:07:54.789Z"
   },
   {
    "duration": 1080,
    "start_time": "2025-01-16T12:07:58.208Z"
   },
   {
    "duration": 1052,
    "start_time": "2025-01-16T12:07:59.291Z"
   },
   {
    "duration": 48,
    "start_time": "2025-01-16T12:08:00.344Z"
   },
   {
    "duration": 697,
    "start_time": "2025-01-16T12:08:00.393Z"
   },
   {
    "duration": 3995,
    "start_time": "2025-01-16T12:08:01.092Z"
   },
   {
    "duration": 3,
    "start_time": "2025-01-16T12:08:05.468Z"
   },
   {
    "duration": 1238,
    "start_time": "2025-01-16T12:08:07.653Z"
   },
   {
    "duration": 143,
    "start_time": "2025-01-16T12:08:11.370Z"
   },
   {
    "duration": 4,
    "start_time": "2025-01-16T12:08:49.541Z"
   },
   {
    "duration": 4673,
    "start_time": "2025-01-16T12:08:55.841Z"
   },
   {
    "duration": 148,
    "start_time": "2025-01-16T12:09:37.718Z"
   },
   {
    "duration": 125,
    "start_time": "2025-01-16T12:10:10.734Z"
   },
   {
    "duration": 691,
    "start_time": "2025-01-16T12:10:26.535Z"
   },
   {
    "duration": 15145,
    "start_time": "2025-01-16T12:10:28.150Z"
   },
   {
    "duration": 7793,
    "start_time": "2025-01-16T12:10:43.297Z"
   },
   {
    "duration": 804,
    "start_time": "2025-01-16T12:10:51.092Z"
   },
   {
    "duration": 910,
    "start_time": "2025-01-16T12:10:51.898Z"
   },
   {
    "duration": 3493,
    "start_time": "2025-01-16T12:10:52.811Z"
   },
   {
    "duration": 1165,
    "start_time": "2025-01-16T12:11:12.640Z"
   },
   {
    "duration": 1221,
    "start_time": "2025-01-16T12:11:13.806Z"
   },
   {
    "duration": 25,
    "start_time": "2025-01-16T12:11:17.374Z"
   },
   {
    "duration": 517,
    "start_time": "2025-01-16T12:11:18.122Z"
   },
   {
    "duration": 3666,
    "start_time": "2025-01-16T12:11:19.124Z"
   },
   {
    "duration": 3,
    "start_time": "2025-01-16T12:11:24.406Z"
   },
   {
    "duration": 1164,
    "start_time": "2025-01-16T12:11:25.923Z"
   },
   {
    "duration": 4614,
    "start_time": "2025-01-16T12:11:27.089Z"
   },
   {
    "duration": 3345,
    "start_time": "2025-01-16T12:11:36.058Z"
   },
   {
    "duration": 2315,
    "start_time": "2025-01-16T12:11:39.405Z"
   },
   {
    "duration": 25,
    "start_time": "2025-01-16T12:11:46.859Z"
   },
   {
    "duration": 22,
    "start_time": "2025-01-16T12:11:47.111Z"
   },
   {
    "duration": 1548,
    "start_time": "2025-01-16T12:11:47.343Z"
   },
   {
    "duration": 1436,
    "start_time": "2025-01-16T12:11:48.894Z"
   },
   {
    "duration": 192,
    "start_time": "2025-01-16T12:11:50.332Z"
   },
   {
    "duration": 488,
    "start_time": "2025-01-16T12:19:31.944Z"
   },
   {
    "duration": 14,
    "start_time": "2025-01-16T12:20:33.936Z"
   },
   {
    "duration": 16,
    "start_time": "2025-01-16T12:23:31.771Z"
   },
   {
    "duration": 58,
    "start_time": "2025-01-16T12:23:47.372Z"
   },
   {
    "duration": 691,
    "start_time": "2025-01-16T12:23:59.840Z"
   },
   {
    "duration": 15154,
    "start_time": "2025-01-16T12:24:00.857Z"
   },
   {
    "duration": 8112,
    "start_time": "2025-01-16T12:24:16.013Z"
   },
   {
    "duration": 770,
    "start_time": "2025-01-16T12:24:24.127Z"
   },
   {
    "duration": 944,
    "start_time": "2025-01-16T12:24:25.743Z"
   },
   {
    "duration": 3223,
    "start_time": "2025-01-16T12:24:26.690Z"
   },
   {
    "duration": 1083,
    "start_time": "2025-01-16T12:24:31.426Z"
   },
   {
    "duration": 1093,
    "start_time": "2025-01-16T12:24:40.576Z"
   },
   {
    "duration": 1070,
    "start_time": "2025-01-16T12:24:55.493Z"
   },
   {
    "duration": 231,
    "start_time": "2025-01-16T12:25:33.585Z"
   },
   {
    "duration": 587,
    "start_time": "2025-01-16T12:35:29.130Z"
   },
   {
    "duration": 499,
    "start_time": "2025-01-16T12:35:40.119Z"
   },
   {
    "duration": 579,
    "start_time": "2025-01-16T12:39:35.044Z"
   },
   {
    "duration": 491,
    "start_time": "2025-01-16T12:45:17.280Z"
   },
   {
    "duration": 956,
    "start_time": "2025-01-16T12:45:39.883Z"
   },
   {
    "duration": 2193,
    "start_time": "2025-01-16T12:47:40.013Z"
   },
   {
    "duration": 1639,
    "start_time": "2025-01-16T12:48:29.518Z"
   },
   {
    "duration": 1670,
    "start_time": "2025-01-16T12:48:38.721Z"
   },
   {
    "duration": 2725,
    "start_time": "2025-01-16T12:52:27.084Z"
   },
   {
    "duration": 1788,
    "start_time": "2025-01-16T12:53:32.753Z"
   },
   {
    "duration": 1793,
    "start_time": "2025-01-16T12:54:24.103Z"
   },
   {
    "duration": 920,
    "start_time": "2025-01-16T12:55:02.347Z"
   },
   {
    "duration": 1002,
    "start_time": "2025-01-16T12:55:19.097Z"
   },
   {
    "duration": 807,
    "start_time": "2025-01-16T12:55:33.767Z"
   },
   {
    "duration": 805,
    "start_time": "2025-01-16T12:55:45.766Z"
   },
   {
    "duration": 815,
    "start_time": "2025-01-16T12:55:55.386Z"
   },
   {
    "duration": 777,
    "start_time": "2025-01-16T12:56:03.999Z"
   },
   {
    "duration": 802,
    "start_time": "2025-01-16T12:56:12.935Z"
   },
   {
    "duration": 809,
    "start_time": "2025-01-16T12:56:28.718Z"
   },
   {
    "duration": 761,
    "start_time": "2025-01-16T12:56:38.872Z"
   },
   {
    "duration": 703,
    "start_time": "2025-01-16T12:56:51.623Z"
   },
   {
    "duration": 332,
    "start_time": "2025-01-16T12:59:25.407Z"
   },
   {
    "duration": 322,
    "start_time": "2025-01-16T13:00:59.988Z"
   },
   {
    "duration": 385,
    "start_time": "2025-01-16T13:01:01.551Z"
   },
   {
    "duration": 257,
    "start_time": "2025-01-16T13:01:12.069Z"
   },
   {
    "duration": 396,
    "start_time": "2025-01-16T13:01:16.502Z"
   },
   {
    "duration": 441,
    "start_time": "2025-01-16T13:03:04.182Z"
   },
   {
    "duration": 745,
    "start_time": "2025-01-16T13:03:06.080Z"
   },
   {
    "duration": 254,
    "start_time": "2025-01-16T13:06:05.066Z"
   },
   {
    "duration": 379,
    "start_time": "2025-01-16T13:06:05.932Z"
   },
   {
    "duration": 722,
    "start_time": "2025-01-16T13:06:49.491Z"
   },
   {
    "duration": 14934,
    "start_time": "2025-01-16T13:06:50.357Z"
   },
   {
    "duration": 8196,
    "start_time": "2025-01-16T13:07:05.294Z"
   },
   {
    "duration": 710,
    "start_time": "2025-01-16T13:07:13.491Z"
   },
   {
    "duration": 909,
    "start_time": "2025-01-16T13:07:15.377Z"
   },
   {
    "duration": 3310,
    "start_time": "2025-01-16T13:07:16.288Z"
   },
   {
    "duration": 1114,
    "start_time": "2025-01-16T13:07:19.600Z"
   },
   {
    "duration": 1239,
    "start_time": "2025-01-16T13:07:20.716Z"
   },
   {
    "duration": 940,
    "start_time": "2025-01-16T13:07:24.995Z"
   },
   {
    "duration": 723,
    "start_time": "2025-01-16T13:07:29.895Z"
   },
   {
    "duration": 3435,
    "start_time": "2025-01-16T13:07:33.064Z"
   },
   {
    "duration": 4,
    "start_time": "2025-01-16T13:07:38.462Z"
   },
   {
    "duration": 1261,
    "start_time": "2025-01-16T13:07:39.362Z"
   },
   {
    "duration": 5162,
    "start_time": "2025-01-16T13:07:40.625Z"
   },
   {
    "duration": 3498,
    "start_time": "2025-01-16T13:07:45.789Z"
   },
   {
    "duration": 1808,
    "start_time": "2025-01-16T13:07:49.288Z"
   },
   {
    "duration": 17,
    "start_time": "2025-01-16T13:07:51.098Z"
   },
   {
    "duration": 90,
    "start_time": "2025-01-16T13:07:51.116Z"
   },
   {
    "duration": 1637,
    "start_time": "2025-01-16T13:07:51.208Z"
   },
   {
    "duration": 1558,
    "start_time": "2025-01-16T13:07:52.846Z"
   },
   {
    "duration": 731,
    "start_time": "2025-01-16T13:12:15.496Z"
   },
   {
    "duration": 15189,
    "start_time": "2025-01-16T13:12:16.243Z"
   },
   {
    "duration": 7661,
    "start_time": "2025-01-16T13:12:31.486Z"
   },
   {
    "duration": 728,
    "start_time": "2025-01-16T13:12:39.187Z"
   },
   {
    "duration": 1001,
    "start_time": "2025-01-16T13:12:39.917Z"
   },
   {
    "duration": 3291,
    "start_time": "2025-01-16T13:12:40.919Z"
   },
   {
    "duration": 1096,
    "start_time": "2025-01-16T13:12:44.212Z"
   },
   {
    "duration": 1324,
    "start_time": "2025-01-16T13:12:45.309Z"
   },
   {
    "duration": 772,
    "start_time": "2025-01-16T13:12:47.231Z"
   },
   {
    "duration": 697,
    "start_time": "2025-01-16T13:12:48.006Z"
   },
   {
    "duration": 3506,
    "start_time": "2025-01-16T13:12:48.705Z"
   },
   {
    "duration": 3,
    "start_time": "2025-01-16T13:12:52.214Z"
   },
   {
    "duration": 1137,
    "start_time": "2025-01-16T13:12:52.287Z"
   },
   {
    "duration": 4698,
    "start_time": "2025-01-16T13:12:53.426Z"
   },
   {
    "duration": 3071,
    "start_time": "2025-01-16T13:12:58.126Z"
   },
   {
    "duration": 1814,
    "start_time": "2025-01-16T13:13:01.200Z"
   },
   {
    "duration": 77,
    "start_time": "2025-01-16T13:13:03.015Z"
   },
   {
    "duration": 46,
    "start_time": "2025-01-16T13:13:03.093Z"
   },
   {
    "duration": 1552,
    "start_time": "2025-01-16T13:13:03.141Z"
   },
   {
    "duration": 1128,
    "start_time": "2025-01-16T13:13:04.694Z"
   },
   {
    "duration": 584,
    "start_time": "2025-01-16T13:13:05.824Z"
   }
  ],
  "colab": {
   "name": "PySparkSprint.ipynb",
   "provenance": []
  },
  "kernelspec": {
   "display_name": "Python 3 (ipykernel)",
   "language": "python",
   "name": "python3"
  },
  "language_info": {
   "codemirror_mode": {
    "name": "ipython",
    "version": 3
   },
   "file_extension": ".py",
   "mimetype": "text/x-python",
   "name": "python",
   "nbconvert_exporter": "python",
   "pygments_lexer": "ipython3",
   "version": "3.9.5"
  },
  "toc": {
   "base_numbering": 1,
   "nav_menu": {},
   "number_sections": false,
   "sideBar": true,
   "skip_h1_title": true,
   "title_cell": "Содержание",
   "title_sidebar": "Содержание",
   "toc_cell": true,
   "toc_position": {
    "height": "calc(100% - 180px)",
    "left": "10px",
    "top": "150px",
    "width": "165px"
   },
   "toc_section_display": true,
   "toc_window_display": true
  }
 },
 "nbformat": 4,
 "nbformat_minor": 5
}
