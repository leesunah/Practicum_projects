{
 "cells": [
  {
   "cell_type": "markdown",
   "metadata": {},
   "source": [
    "# Выбор локации для скважины"
   ]
  },
  {
   "cell_type": "markdown",
   "metadata": {},
   "source": [
    "Добывающей компании «###» нужно решить, где бурить новую скважину.\n",
    "\n",
    "Предоставлены пробы нефти в трёх регионах: в каждом 10 000 месторождений, где измерили качество нефти и объём её запасов. Построим модель машинного обучения, которая поможет определить регион, где добыча принесёт наибольшую прибыль. Проанализируем возможную прибыль и риски техникой *Bootstrap.*\n",
    "\n",
    "Шаги для выбора локации:\n",
    "\n",
    "- В избранном регионе ищут месторождения, для каждого определяют значения признаков;\n",
    "- Строят модель и оценивают объём запасов;\n",
    "- Выбирают месторождения с самым высокими оценками значений. Количество месторождений зависит от бюджета компании и стоимости разработки одной скважины;\n",
    "- Прибыль равна суммарной прибыли отобранных месторождений."
   ]
  },
  {
   "cell_type": "markdown",
   "metadata": {},
   "source": [
    "**План работы**\n",
    "\n",
    "1. Загрузим и подготовим данные. Поясним порядок действий.\n",
    "2. Обучим и проверим модель для каждого региона:\n",
    "    1. Разобъем данные на обучающую и валидационную выборки в соотношении 75:25.\n",
    "    2. Обучим модель и сделаем предсказания на валидационной выборке.\n",
    "    3. Сохраним предсказания и правильные ответы на валидационной выборке.\n",
    "    4. Напечатаем на экране средний запас предсказанного сырья и RMSE модели.\n",
    "    5. Проанализируем результаты.\n",
    "3. Подготовим к расчёту прибыли:\n",
    "    1. Все ключевые значения для расчётов сохраните в отдельных переменных.\n",
    "    2. Рассчитаем достаточный объём сырья для безубыточной разработки новой скважины. Сравним полученный объём сырья со средним запасом в каждом регионе. \n",
    "    3. Напишем выводы по этапу подготовки расчёта прибыли.\n",
    "4. Напишем функцию для расчёта прибыли по выбранным скважинам и предсказаниям модели:\n",
    "    1. Выберем скважины с максимальными значениями предсказаний. \n",
    "    2. Просуммируем целевое значение объёма сырья, соответствующее этим предсказаниям.\n",
    "    3. Рассчитаем прибыль для полученного объёма сырья.\n",
    "5. Посчитаем риски и прибыль для каждого региона:\n",
    "    1. Применим технику Bootstrap с 1000 выборок, чтобы найти распределение прибыли.\n",
    "    2. Найдем среднюю прибыль, 95%-й доверительный интервал и риск убытков. Убыток — это отрицательная прибыль.\n",
    "    3. Напишем выводы: предложем регион для разработки скважин и обоснуем выбор."
   ]
  },
  {
   "cell_type": "markdown",
   "metadata": {},
   "source": [
    "**Описание данных**\n",
    "\n",
    "Данные геологоразведки трёх регионов находятся в файлах: \n",
    "- `###.csv`\n",
    "- `###.csv`\n",
    "- `###.csv`\n",
    "- `id` — уникальный идентификатор скважины;\n",
    "- `f0`, `f1`, `f2` — три признака точек (неважно, что они означают, но сами признаки значимы);\n",
    "- `product` — объём запасов в скважине (тыс. баррелей)."
   ]
  },
  {
   "cell_type": "markdown",
   "metadata": {},
   "source": [
    "**Условия задачи:**\n",
    "- Для обучения модели подходит только линейная регрессия (остальные — недостаточно предсказуемые).\n",
    "- При разведке региона исследуют 500 точек, из которых с помощью машинного обучения выбирают 200 лучших для разработки.\n",
    "- Бюджет на разработку скважин в регионе — 10 млрд рублей.\n",
    "- При нынешних ценах один баррель сырья приносит 450 рублей дохода. Доход с каждой единицы продукта составляет 450 тыс. рублей, поскольку объём указан в тысячах баррелей.\n",
    "- После оценки рисков нужно оставить лишь те регионы, в которых вероятность убытков меньше 2.5%. Среди них выбирают регион с наибольшей средней прибылью.\n",
    "\n",
    "Данные синтетические: детали контрактов и характеристики месторождений не разглашаются."
   ]
  },
  {
   "cell_type": "markdown",
   "metadata": {
    "toc": true
   },
   "source": [
    "<h1>Содержание<span class=\"tocSkip\"></span></h1>\n",
    "<div class=\"toc\"><ul class=\"toc-item\"><li><span><a href=\"#Загрузка-и-подготовка-данных\" data-toc-modified-id=\"Загрузка-и-подготовка-данных-1\">Загрузка и подготовка данных</a></span><ul class=\"toc-item\"><li><span><a href=\"#Вывод\" data-toc-modified-id=\"Вывод-1.1\">Вывод</a></span></li></ul></li><li><span><a href=\"#Обучение-и-проверка-модели\" data-toc-modified-id=\"Обучение-и-проверка-модели-2\">Обучение и проверка модели</a></span><ul class=\"toc-item\"><li><span><a href=\"#Вывод\" data-toc-modified-id=\"Вывод-2.1\">Вывод</a></span></li></ul></li><li><span><a href=\"#Подготовка-к-расчёту-прибыли\" data-toc-modified-id=\"Подготовка-к-расчёту-прибыли-3\">Подготовка к расчёту прибыли</a></span><ul class=\"toc-item\"><li><span><a href=\"#Вывод\" data-toc-modified-id=\"Вывод-3.1\">Вывод</a></span></li></ul></li><li><span><a href=\"#Расчёт-прибыли-и-рисков\" data-toc-modified-id=\"Расчёт-прибыли-и-рисков-4\">Расчёт прибыли и рисков</a></span><ul class=\"toc-item\"><li><span><a href=\"#Вывод\" data-toc-modified-id=\"Вывод-4.1\">Вывод</a></span></li></ul></li><li><span><a href=\"#Общий-вывод\" data-toc-modified-id=\"Общий-вывод-5\">Общий вывод</a></span></li></ul></div>"
   ]
  },
  {
   "cell_type": "markdown",
   "metadata": {},
   "source": [
    "## Загрузка и подготовка данных"
   ]
  },
  {
   "cell_type": "code",
   "execution_count": 1,
   "metadata": {},
   "outputs": [],
   "source": [
    "import pandas as pd\n",
    "import matplotlib.pyplot as plt\n",
    "from sklearn.model_selection import train_test_split\n",
    "from sklearn.linear_model import LinearRegression\n",
    "from sklearn.metrics import mean_squared_error\n",
    "from sklearn.preprocessing import StandardScaler\n",
    "from sklearn.pipeline import make_pipeline\n",
    "import numpy as np\n",
    "import seaborn as sns\n",
    "import warnings\n",
    "warnings.filterwarnings(\"ignore\")"
   ]
  },
  {
   "cell_type": "code",
   "execution_count": 2,
   "metadata": {},
   "outputs": [],
   "source": [
    "#Константы\n",
    "STATE = np.random.RandomState(12345)\n",
    "POINTS = 500 # количество скважин, которое исследуют при разведке региона\n",
    "BEST_FOR_ML = 200 # количество лучших скважин, которые нужно выбрать для разработки в каждом регионе с помощью машинного обучения\n",
    "BUDGET = 10e9 # бюджет (расходы) на разработку скважин в регионе, заложенный на 200 скважин\n",
    "BARREL_PRICE = 450e3 # доход с каждой единицы продукта (рублей на 1 тыс. баррелей)\n",
    "THRESHOLD = 0.025"
   ]
  },
  {
   "cell_type": "code",
   "execution_count": null,
   "metadata": {},
   "outputs": [],
   "source": [
    "try:\n",
    "    df1 = pd.read_csv('###_0.csv')\n",
    "    df2 = pd.read_csv('###_1.csv')\n",
    "    df3 = pd.read_csv('###_2.csv')\n",
    "    \n",
    "except:\n",
    "    df1 = pd.read_csv('###_0.csv')\n",
    "    df2 = pd.read_csv('###_1.csv')\n",
    "    df3 = pd.read_csv('###_2.csv')"
   ]
  },
  {
   "cell_type": "code",
   "execution_count": 4,
   "metadata": {},
   "outputs": [],
   "source": [
    "# Функция для получения общей информации о датасете\n",
    "def get_info(data):\n",
    "    display(data.head())\n",
    "    print('')\n",
    "    display(data.info())\n",
    "    print('')\n",
    "    display(data.describe().T)\n",
    "    print('')\n",
    "    data.hist(figsize=(15, 7), bins='auto')\n",
    "    print('')\n",
    "    print('Количество явных дубликатов:', data.duplicated().sum())\n",
    "    print('Количество пропусков:\\n', data.isna().sum())"
   ]
  },
  {
   "cell_type": "code",
   "execution_count": 5,
   "metadata": {},
   "outputs": [],
   "source": [
    "def corr_matrix(data):    \n",
    "    corr_matrix = data.corr()\n",
    "    fig, ax = plt.subplots(figsize=(15, 6))\n",
    "    sns.heatmap(corr_matrix, annot=True, cmap=\"coolwarm\");\n",
    "    plt.show()"
   ]
  },
  {
   "cell_type": "code",
   "execution_count": 6,
   "metadata": {},
   "outputs": [
    {
     "data": {
      "text/html": [
       "<div>\n",
       "<style scoped>\n",
       "    .dataframe tbody tr th:only-of-type {\n",
       "        vertical-align: middle;\n",
       "    }\n",
       "\n",
       "    .dataframe tbody tr th {\n",
       "        vertical-align: top;\n",
       "    }\n",
       "\n",
       "    .dataframe thead th {\n",
       "        text-align: right;\n",
       "    }\n",
       "</style>\n",
       "<table border=\"1\" class=\"dataframe\">\n",
       "  <thead>\n",
       "    <tr style=\"text-align: right;\">\n",
       "      <th></th>\n",
       "      <th>id</th>\n",
       "      <th>f0</th>\n",
       "      <th>f1</th>\n",
       "      <th>f2</th>\n",
       "      <th>product</th>\n",
       "    </tr>\n",
       "  </thead>\n",
       "  <tbody>\n",
       "    <tr>\n",
       "      <th>0</th>\n",
       "      <td>txEyH</td>\n",
       "      <td>0.705745</td>\n",
       "      <td>-0.497823</td>\n",
       "      <td>1.221170</td>\n",
       "      <td>105.280062</td>\n",
       "    </tr>\n",
       "    <tr>\n",
       "      <th>1</th>\n",
       "      <td>2acmU</td>\n",
       "      <td>1.334711</td>\n",
       "      <td>-0.340164</td>\n",
       "      <td>4.365080</td>\n",
       "      <td>73.037750</td>\n",
       "    </tr>\n",
       "    <tr>\n",
       "      <th>2</th>\n",
       "      <td>409Wp</td>\n",
       "      <td>1.022732</td>\n",
       "      <td>0.151990</td>\n",
       "      <td>1.419926</td>\n",
       "      <td>85.265647</td>\n",
       "    </tr>\n",
       "    <tr>\n",
       "      <th>3</th>\n",
       "      <td>iJLyR</td>\n",
       "      <td>-0.032172</td>\n",
       "      <td>0.139033</td>\n",
       "      <td>2.978566</td>\n",
       "      <td>168.620776</td>\n",
       "    </tr>\n",
       "    <tr>\n",
       "      <th>4</th>\n",
       "      <td>Xdl7t</td>\n",
       "      <td>1.988431</td>\n",
       "      <td>0.155413</td>\n",
       "      <td>4.751769</td>\n",
       "      <td>154.036647</td>\n",
       "    </tr>\n",
       "  </tbody>\n",
       "</table>\n",
       "</div>"
      ],
      "text/plain": [
       "      id        f0        f1        f2     product\n",
       "0  txEyH  0.705745 -0.497823  1.221170  105.280062\n",
       "1  2acmU  1.334711 -0.340164  4.365080   73.037750\n",
       "2  409Wp  1.022732  0.151990  1.419926   85.265647\n",
       "3  iJLyR -0.032172  0.139033  2.978566  168.620776\n",
       "4  Xdl7t  1.988431  0.155413  4.751769  154.036647"
      ]
     },
     "metadata": {},
     "output_type": "display_data"
    },
    {
     "name": "stdout",
     "output_type": "stream",
     "text": [
      "\n",
      "<class 'pandas.core.frame.DataFrame'>\n",
      "RangeIndex: 100000 entries, 0 to 99999\n",
      "Data columns (total 5 columns):\n",
      " #   Column   Non-Null Count   Dtype  \n",
      "---  ------   --------------   -----  \n",
      " 0   id       100000 non-null  object \n",
      " 1   f0       100000 non-null  float64\n",
      " 2   f1       100000 non-null  float64\n",
      " 3   f2       100000 non-null  float64\n",
      " 4   product  100000 non-null  float64\n",
      "dtypes: float64(4), object(1)\n",
      "memory usage: 3.8+ MB\n"
     ]
    },
    {
     "data": {
      "text/plain": [
       "None"
      ]
     },
     "metadata": {},
     "output_type": "display_data"
    },
    {
     "name": "stdout",
     "output_type": "stream",
     "text": [
      "\n"
     ]
    },
    {
     "data": {
      "text/html": [
       "<div>\n",
       "<style scoped>\n",
       "    .dataframe tbody tr th:only-of-type {\n",
       "        vertical-align: middle;\n",
       "    }\n",
       "\n",
       "    .dataframe tbody tr th {\n",
       "        vertical-align: top;\n",
       "    }\n",
       "\n",
       "    .dataframe thead th {\n",
       "        text-align: right;\n",
       "    }\n",
       "</style>\n",
       "<table border=\"1\" class=\"dataframe\">\n",
       "  <thead>\n",
       "    <tr style=\"text-align: right;\">\n",
       "      <th></th>\n",
       "      <th>count</th>\n",
       "      <th>mean</th>\n",
       "      <th>std</th>\n",
       "      <th>min</th>\n",
       "      <th>25%</th>\n",
       "      <th>50%</th>\n",
       "      <th>75%</th>\n",
       "      <th>max</th>\n",
       "    </tr>\n",
       "  </thead>\n",
       "  <tbody>\n",
       "    <tr>\n",
       "      <th>f0</th>\n",
       "      <td>100000.0</td>\n",
       "      <td>0.500419</td>\n",
       "      <td>0.871832</td>\n",
       "      <td>-1.408605</td>\n",
       "      <td>-0.072580</td>\n",
       "      <td>0.502360</td>\n",
       "      <td>1.073581</td>\n",
       "      <td>2.362331</td>\n",
       "    </tr>\n",
       "    <tr>\n",
       "      <th>f1</th>\n",
       "      <td>100000.0</td>\n",
       "      <td>0.250143</td>\n",
       "      <td>0.504433</td>\n",
       "      <td>-0.848218</td>\n",
       "      <td>-0.200881</td>\n",
       "      <td>0.250252</td>\n",
       "      <td>0.700646</td>\n",
       "      <td>1.343769</td>\n",
       "    </tr>\n",
       "    <tr>\n",
       "      <th>f2</th>\n",
       "      <td>100000.0</td>\n",
       "      <td>2.502647</td>\n",
       "      <td>3.248248</td>\n",
       "      <td>-12.088328</td>\n",
       "      <td>0.287748</td>\n",
       "      <td>2.515969</td>\n",
       "      <td>4.715088</td>\n",
       "      <td>16.003790</td>\n",
       "    </tr>\n",
       "    <tr>\n",
       "      <th>product</th>\n",
       "      <td>100000.0</td>\n",
       "      <td>92.500000</td>\n",
       "      <td>44.288691</td>\n",
       "      <td>0.000000</td>\n",
       "      <td>56.497507</td>\n",
       "      <td>91.849972</td>\n",
       "      <td>128.564089</td>\n",
       "      <td>185.364347</td>\n",
       "    </tr>\n",
       "  </tbody>\n",
       "</table>\n",
       "</div>"
      ],
      "text/plain": [
       "            count       mean        std        min        25%        50%  \\\n",
       "f0       100000.0   0.500419   0.871832  -1.408605  -0.072580   0.502360   \n",
       "f1       100000.0   0.250143   0.504433  -0.848218  -0.200881   0.250252   \n",
       "f2       100000.0   2.502647   3.248248 -12.088328   0.287748   2.515969   \n",
       "product  100000.0  92.500000  44.288691   0.000000  56.497507  91.849972   \n",
       "\n",
       "                75%         max  \n",
       "f0         1.073581    2.362331  \n",
       "f1         0.700646    1.343769  \n",
       "f2         4.715088   16.003790  \n",
       "product  128.564089  185.364347  "
      ]
     },
     "metadata": {},
     "output_type": "display_data"
    },
    {
     "name": "stdout",
     "output_type": "stream",
     "text": [
      "\n",
      "\n",
      "Количество явных дубликатов: 0\n",
      "Количество пропусков:\n",
      " id         0\n",
      "f0         0\n",
      "f1         0\n",
      "f2         0\n",
      "product    0\n",
      "dtype: int64\n"
     ]
    },
    {
     "data": {
      "image/png": "[encoded data removed]",
      "text/plain": [
       "<Figure size 1080x504 with 4 Axes>"
      ]
     },
     "metadata": {
      "needs_background": "light"
     },
     "output_type": "display_data"
    },
    {
     "data": {
      "image/png": "[encoded data removed]",
      "text/plain": [
       "<Figure size 1080x432 with 2 Axes>"
      ]
     },
     "metadata": {
      "needs_background": "light"
     },
     "output_type": "display_data"
    }
   ],
   "source": [
    "get_info(df1)\n",
    "corr_matrix(df1)"
   ]
  },
  {
   "cell_type": "code",
   "execution_count": 7,
   "metadata": {},
   "outputs": [
    {
     "data": {
      "text/html": [
       "<div>\n",
       "<style scoped>\n",
       "    .dataframe tbody tr th:only-of-type {\n",
       "        vertical-align: middle;\n",
       "    }\n",
       "\n",
       "    .dataframe tbody tr th {\n",
       "        vertical-align: top;\n",
       "    }\n",
       "\n",
       "    .dataframe thead th {\n",
       "        text-align: right;\n",
       "    }\n",
       "</style>\n",
       "<table border=\"1\" class=\"dataframe\">\n",
       "  <thead>\n",
       "    <tr style=\"text-align: right;\">\n",
       "      <th></th>\n",
       "      <th>id</th>\n",
       "      <th>f0</th>\n",
       "      <th>f1</th>\n",
       "      <th>f2</th>\n",
       "      <th>product</th>\n",
       "    </tr>\n",
       "  </thead>\n",
       "  <tbody>\n",
       "    <tr>\n",
       "      <th>0</th>\n",
       "      <td>kBEdx</td>\n",
       "      <td>-15.001348</td>\n",
       "      <td>-8.276000</td>\n",
       "      <td>-0.005876</td>\n",
       "      <td>3.179103</td>\n",
       "    </tr>\n",
       "    <tr>\n",
       "      <th>1</th>\n",
       "      <td>62mP7</td>\n",
       "      <td>14.272088</td>\n",
       "      <td>-3.475083</td>\n",
       "      <td>0.999183</td>\n",
       "      <td>26.953261</td>\n",
       "    </tr>\n",
       "    <tr>\n",
       "      <th>2</th>\n",
       "      <td>vyE1P</td>\n",
       "      <td>6.263187</td>\n",
       "      <td>-5.948386</td>\n",
       "      <td>5.001160</td>\n",
       "      <td>134.766305</td>\n",
       "    </tr>\n",
       "    <tr>\n",
       "      <th>3</th>\n",
       "      <td>KcrkZ</td>\n",
       "      <td>-13.081196</td>\n",
       "      <td>-11.506057</td>\n",
       "      <td>4.999415</td>\n",
       "      <td>137.945408</td>\n",
       "    </tr>\n",
       "    <tr>\n",
       "      <th>4</th>\n",
       "      <td>AHL4O</td>\n",
       "      <td>12.702195</td>\n",
       "      <td>-8.147433</td>\n",
       "      <td>5.004363</td>\n",
       "      <td>134.766305</td>\n",
       "    </tr>\n",
       "  </tbody>\n",
       "</table>\n",
       "</div>"
      ],
      "text/plain": [
       "      id         f0         f1        f2     product\n",
       "0  kBEdx -15.001348  -8.276000 -0.005876    3.179103\n",
       "1  62mP7  14.272088  -3.475083  0.999183   26.953261\n",
       "2  vyE1P   6.263187  -5.948386  5.001160  134.766305\n",
       "3  KcrkZ -13.081196 -11.506057  4.999415  137.945408\n",
       "4  AHL4O  12.702195  -8.147433  5.004363  134.766305"
      ]
     },
     "metadata": {},
     "output_type": "display_data"
    },
    {
     "name": "stdout",
     "output_type": "stream",
     "text": [
      "\n",
      "<class 'pandas.core.frame.DataFrame'>\n",
      "RangeIndex: 100000 entries, 0 to 99999\n",
      "Data columns (total 5 columns):\n",
      " #   Column   Non-Null Count   Dtype  \n",
      "---  ------   --------------   -----  \n",
      " 0   id       100000 non-null  object \n",
      " 1   f0       100000 non-null  float64\n",
      " 2   f1       100000 non-null  float64\n",
      " 3   f2       100000 non-null  float64\n",
      " 4   product  100000 non-null  float64\n",
      "dtypes: float64(4), object(1)\n",
      "memory usage: 3.8+ MB\n"
     ]
    },
    {
     "data": {
      "text/plain": [
       "None"
      ]
     },
     "metadata": {},
     "output_type": "display_data"
    },
    {
     "name": "stdout",
     "output_type": "stream",
     "text": [
      "\n"
     ]
    },
    {
     "data": {
      "text/html": [
       "<div>\n",
       "<style scoped>\n",
       "    .dataframe tbody tr th:only-of-type {\n",
       "        vertical-align: middle;\n",
       "    }\n",
       "\n",
       "    .dataframe tbody tr th {\n",
       "        vertical-align: top;\n",
       "    }\n",
       "\n",
       "    .dataframe thead th {\n",
       "        text-align: right;\n",
       "    }\n",
       "</style>\n",
       "<table border=\"1\" class=\"dataframe\">\n",
       "  <thead>\n",
       "    <tr style=\"text-align: right;\">\n",
       "      <th></th>\n",
       "      <th>count</th>\n",
       "      <th>mean</th>\n",
       "      <th>std</th>\n",
       "      <th>min</th>\n",
       "      <th>25%</th>\n",
       "      <th>50%</th>\n",
       "      <th>75%</th>\n",
       "      <th>max</th>\n",
       "    </tr>\n",
       "  </thead>\n",
       "  <tbody>\n",
       "    <tr>\n",
       "      <th>f0</th>\n",
       "      <td>100000.0</td>\n",
       "      <td>1.141296</td>\n",
       "      <td>8.965932</td>\n",
       "      <td>-31.609576</td>\n",
       "      <td>-6.298551</td>\n",
       "      <td>1.153055</td>\n",
       "      <td>8.621015</td>\n",
       "      <td>29.421755</td>\n",
       "    </tr>\n",
       "    <tr>\n",
       "      <th>f1</th>\n",
       "      <td>100000.0</td>\n",
       "      <td>-4.796579</td>\n",
       "      <td>5.119872</td>\n",
       "      <td>-26.358598</td>\n",
       "      <td>-8.267985</td>\n",
       "      <td>-4.813172</td>\n",
       "      <td>-1.332816</td>\n",
       "      <td>18.734063</td>\n",
       "    </tr>\n",
       "    <tr>\n",
       "      <th>f2</th>\n",
       "      <td>100000.0</td>\n",
       "      <td>2.494541</td>\n",
       "      <td>1.703572</td>\n",
       "      <td>-0.018144</td>\n",
       "      <td>1.000021</td>\n",
       "      <td>2.011479</td>\n",
       "      <td>3.999904</td>\n",
       "      <td>5.019721</td>\n",
       "    </tr>\n",
       "    <tr>\n",
       "      <th>product</th>\n",
       "      <td>100000.0</td>\n",
       "      <td>68.825000</td>\n",
       "      <td>45.944423</td>\n",
       "      <td>0.000000</td>\n",
       "      <td>26.953261</td>\n",
       "      <td>57.085625</td>\n",
       "      <td>107.813044</td>\n",
       "      <td>137.945408</td>\n",
       "    </tr>\n",
       "  </tbody>\n",
       "</table>\n",
       "</div>"
      ],
      "text/plain": [
       "            count       mean        std        min        25%        50%  \\\n",
       "f0       100000.0   1.141296   8.965932 -31.609576  -6.298551   1.153055   \n",
       "f1       100000.0  -4.796579   5.119872 -26.358598  -8.267985  -4.813172   \n",
       "f2       100000.0   2.494541   1.703572  -0.018144   1.000021   2.011479   \n",
       "product  100000.0  68.825000  45.944423   0.000000  26.953261  57.085625   \n",
       "\n",
       "                75%         max  \n",
       "f0         8.621015   29.421755  \n",
       "f1        -1.332816   18.734063  \n",
       "f2         3.999904    5.019721  \n",
       "product  107.813044  137.945408  "
      ]
     },
     "metadata": {},
     "output_type": "display_data"
    },
    {
     "name": "stdout",
     "output_type": "stream",
     "text": [
      "\n",
      "\n",
      "Количество явных дубликатов: 0\n",
      "Количество пропусков:\n",
      " id         0\n",
      "f0         0\n",
      "f1         0\n",
      "f2         0\n",
      "product    0\n",
      "dtype: int64\n"
     ]
    },
    {
     "data": {
      "image/png": "[encoded data removed]",
      "text/plain": [
       "<Figure size 1080x504 with 4 Axes>"
      ]
     },
     "metadata": {
      "needs_background": "light"
     },
     "output_type": "display_data"
    },
    {
     "data": {
      "image/png": "[encoded data removed]",
      "text/plain": [
       "<Figure size 1080x432 with 2 Axes>"
      ]
     },
     "metadata": {
      "needs_background": "light"
     },
     "output_type": "display_data"
    }
   ],
   "source": [
    "get_info(df2)\n",
    "corr_matrix(df2)"
   ]
  },
  {
   "cell_type": "code",
   "execution_count": 8,
   "metadata": {},
   "outputs": [
    {
     "data": {
      "text/html": [
       "<div>\n",
       "<style scoped>\n",
       "    .dataframe tbody tr th:only-of-type {\n",
       "        vertical-align: middle;\n",
       "    }\n",
       "\n",
       "    .dataframe tbody tr th {\n",
       "        vertical-align: top;\n",
       "    }\n",
       "\n",
       "    .dataframe thead th {\n",
       "        text-align: right;\n",
       "    }\n",
       "</style>\n",
       "<table border=\"1\" class=\"dataframe\">\n",
       "  <thead>\n",
       "    <tr style=\"text-align: right;\">\n",
       "      <th></th>\n",
       "      <th>id</th>\n",
       "      <th>f0</th>\n",
       "      <th>f1</th>\n",
       "      <th>f2</th>\n",
       "      <th>product</th>\n",
       "    </tr>\n",
       "  </thead>\n",
       "  <tbody>\n",
       "    <tr>\n",
       "      <th>0</th>\n",
       "      <td>fwXo0</td>\n",
       "      <td>-1.146987</td>\n",
       "      <td>0.963328</td>\n",
       "      <td>-0.828965</td>\n",
       "      <td>27.758673</td>\n",
       "    </tr>\n",
       "    <tr>\n",
       "      <th>1</th>\n",
       "      <td>WJtFt</td>\n",
       "      <td>0.262778</td>\n",
       "      <td>0.269839</td>\n",
       "      <td>-2.530187</td>\n",
       "      <td>56.069697</td>\n",
       "    </tr>\n",
       "    <tr>\n",
       "      <th>2</th>\n",
       "      <td>ovLUW</td>\n",
       "      <td>0.194587</td>\n",
       "      <td>0.289035</td>\n",
       "      <td>-5.586433</td>\n",
       "      <td>62.871910</td>\n",
       "    </tr>\n",
       "    <tr>\n",
       "      <th>3</th>\n",
       "      <td>q6cA6</td>\n",
       "      <td>2.236060</td>\n",
       "      <td>-0.553760</td>\n",
       "      <td>0.930038</td>\n",
       "      <td>114.572842</td>\n",
       "    </tr>\n",
       "    <tr>\n",
       "      <th>4</th>\n",
       "      <td>WPMUX</td>\n",
       "      <td>-0.515993</td>\n",
       "      <td>1.716266</td>\n",
       "      <td>5.899011</td>\n",
       "      <td>149.600746</td>\n",
       "    </tr>\n",
       "  </tbody>\n",
       "</table>\n",
       "</div>"
      ],
      "text/plain": [
       "      id        f0        f1        f2     product\n",
       "0  fwXo0 -1.146987  0.963328 -0.828965   27.758673\n",
       "1  WJtFt  0.262778  0.269839 -2.530187   56.069697\n",
       "2  ovLUW  0.194587  0.289035 -5.586433   62.871910\n",
       "3  q6cA6  2.236060 -0.553760  0.930038  114.572842\n",
       "4  WPMUX -0.515993  1.716266  5.899011  149.600746"
      ]
     },
     "metadata": {},
     "output_type": "display_data"
    },
    {
     "name": "stdout",
     "output_type": "stream",
     "text": [
      "\n",
      "<class 'pandas.core.frame.DataFrame'>\n",
      "RangeIndex: 100000 entries, 0 to 99999\n",
      "Data columns (total 5 columns):\n",
      " #   Column   Non-Null Count   Dtype  \n",
      "---  ------   --------------   -----  \n",
      " 0   id       100000 non-null  object \n",
      " 1   f0       100000 non-null  float64\n",
      " 2   f1       100000 non-null  float64\n",
      " 3   f2       100000 non-null  float64\n",
      " 4   product  100000 non-null  float64\n",
      "dtypes: float64(4), object(1)\n",
      "memory usage: 3.8+ MB\n"
     ]
    },
    {
     "data": {
      "text/plain": [
       "None"
      ]
     },
     "metadata": {},
     "output_type": "display_data"
    },
    {
     "name": "stdout",
     "output_type": "stream",
     "text": [
      "\n"
     ]
    },
    {
     "data": {
      "text/html": [
       "<div>\n",
       "<style scoped>\n",
       "    .dataframe tbody tr th:only-of-type {\n",
       "        vertical-align: middle;\n",
       "    }\n",
       "\n",
       "    .dataframe tbody tr th {\n",
       "        vertical-align: top;\n",
       "    }\n",
       "\n",
       "    .dataframe thead th {\n",
       "        text-align: right;\n",
       "    }\n",
       "</style>\n",
       "<table border=\"1\" class=\"dataframe\">\n",
       "  <thead>\n",
       "    <tr style=\"text-align: right;\">\n",
       "      <th></th>\n",
       "      <th>count</th>\n",
       "      <th>mean</th>\n",
       "      <th>std</th>\n",
       "      <th>min</th>\n",
       "      <th>25%</th>\n",
       "      <th>50%</th>\n",
       "      <th>75%</th>\n",
       "      <th>max</th>\n",
       "    </tr>\n",
       "  </thead>\n",
       "  <tbody>\n",
       "    <tr>\n",
       "      <th>f0</th>\n",
       "      <td>100000.0</td>\n",
       "      <td>0.002023</td>\n",
       "      <td>1.732045</td>\n",
       "      <td>-8.760004</td>\n",
       "      <td>-1.162288</td>\n",
       "      <td>0.009424</td>\n",
       "      <td>1.158535</td>\n",
       "      <td>7.238262</td>\n",
       "    </tr>\n",
       "    <tr>\n",
       "      <th>f1</th>\n",
       "      <td>100000.0</td>\n",
       "      <td>-0.002081</td>\n",
       "      <td>1.730417</td>\n",
       "      <td>-7.084020</td>\n",
       "      <td>-1.174820</td>\n",
       "      <td>-0.009482</td>\n",
       "      <td>1.163678</td>\n",
       "      <td>7.844801</td>\n",
       "    </tr>\n",
       "    <tr>\n",
       "      <th>f2</th>\n",
       "      <td>100000.0</td>\n",
       "      <td>2.495128</td>\n",
       "      <td>3.473445</td>\n",
       "      <td>-11.970335</td>\n",
       "      <td>0.130359</td>\n",
       "      <td>2.484236</td>\n",
       "      <td>4.858794</td>\n",
       "      <td>16.739402</td>\n",
       "    </tr>\n",
       "    <tr>\n",
       "      <th>product</th>\n",
       "      <td>100000.0</td>\n",
       "      <td>95.000000</td>\n",
       "      <td>44.749921</td>\n",
       "      <td>0.000000</td>\n",
       "      <td>59.450441</td>\n",
       "      <td>94.925613</td>\n",
       "      <td>130.595027</td>\n",
       "      <td>190.029838</td>\n",
       "    </tr>\n",
       "  </tbody>\n",
       "</table>\n",
       "</div>"
      ],
      "text/plain": [
       "            count       mean        std        min        25%        50%  \\\n",
       "f0       100000.0   0.002023   1.732045  -8.760004  -1.162288   0.009424   \n",
       "f1       100000.0  -0.002081   1.730417  -7.084020  -1.174820  -0.009482   \n",
       "f2       100000.0   2.495128   3.473445 -11.970335   0.130359   2.484236   \n",
       "product  100000.0  95.000000  44.749921   0.000000  59.450441  94.925613   \n",
       "\n",
       "                75%         max  \n",
       "f0         1.158535    7.238262  \n",
       "f1         1.163678    7.844801  \n",
       "f2         4.858794   16.739402  \n",
       "product  130.595027  190.029838  "
      ]
     },
     "metadata": {},
     "output_type": "display_data"
    },
    {
     "name": "stdout",
     "output_type": "stream",
     "text": [
      "\n",
      "\n",
      "Количество явных дубликатов: 0\n",
      "Количество пропусков:\n",
      " id         0\n",
      "f0         0\n",
      "f1         0\n",
      "f2         0\n",
      "product    0\n",
      "dtype: int64\n"
     ]
    },
    {
     "data": {
      "image/png": "[encoded data removed]",
      "text/plain": [
       "<Figure size 1080x504 with 4 Axes>"
      ]
     },
     "metadata": {
      "needs_background": "light"
     },
     "output_type": "display_data"
    },
    {
     "data": {
      "image/png": "[encoded data removed]",
      "text/plain": [
       "<Figure size 1080x432 with 2 Axes>"
      ]
     },
     "metadata": {
      "needs_background": "light"
     },
     "output_type": "display_data"
    }
   ],
   "source": [
    "get_info(df3)\n",
    "corr_matrix(df3)"
   ]
  },
  {
   "cell_type": "markdown",
   "metadata": {},
   "source": [
    "Удалим из каждого датафрейма столбец id. Он не несет значимости для для модели."
   ]
  },
  {
   "cell_type": "code",
   "execution_count": 9,
   "metadata": {},
   "outputs": [],
   "source": [
    "data1 = df1.drop(['id'], axis=1)\n",
    "data2 = df2.drop(['id'], axis=1)\n",
    "data3 = df3.drop(['id'], axis=1)"
   ]
  },
  {
   "cell_type": "markdown",
   "metadata": {},
   "source": [
    "### Вывод"
   ]
  },
  {
   "cell_type": "markdown",
   "metadata": {},
   "source": [
    "- В данных отсутствуют пропуски и дубликаты\n",
    "- Признаки `f0`, `f1`, `f2` не  имеют никакой взяимосвязи между собой. При этом признаки `f0` и `f1` не имеют какого-то значимого влияния на целевой признак, в то время как признак `f2` имеет среднюю взяимосвязь с целевым пизнаком в данных первого и третьего месторождений, а во втором месторождении между признаком `f2` и целевым признаком прослеживается прямая взаимосвязь. \n",
    "- Удалили из каждого датафрейма столбец `id`"
   ]
  },
  {
   "cell_type": "markdown",
   "metadata": {},
   "source": [
    "## Обучение и проверка модели"
   ]
  },
  {
   "cell_type": "code",
   "execution_count": 10,
   "metadata": {},
   "outputs": [
    {
     "name": "stdout",
     "output_type": "stream",
     "text": [
      "\n",
      "Для data1 региона:\n",
      "Средний запас предсказанного сырья = 92.59 тыс. баррелей\n",
      "RMSE модели = 37.58\n",
      "\n",
      "Для data2 региона:\n",
      "Средний запас предсказанного сырья = 68.77 тыс. баррелей\n",
      "RMSE модели = 0.89\n",
      "\n",
      "Для data3 региона:\n",
      "Средний запас предсказанного сырья = 95.09 тыс. баррелей\n",
      "RMSE модели = 39.96\n"
     ]
    }
   ],
   "source": [
    "names = ['data1', 'data2', 'data3']\n",
    "data = [data1, data2, data3]\n",
    "\n",
    "# создадим словарь для хранения фактического и предсказанных значений набора valid\n",
    "targets = {}\n",
    "\n",
    "for name, data in zip(names, data):\n",
    "    target = data['product']\n",
    "    features = data.drop('product', axis=1)\n",
    "        \n",
    "    features_train, features_valid, target_train, target_valid = \\\n",
    "    train_test_split(features, target, test_size=.25, random_state=STATE)\n",
    "    \n",
    "    # создадим pipeline их скелера и модели линейной регрессии\n",
    "    model = make_pipeline(StandardScaler(), LinearRegression())\n",
    "    \n",
    "    model.fit(features_train, target_train)\n",
    "    \n",
    "    # запишем фактические данные и предсказанные в словарь\n",
    "    targets[name] = (target_valid, pd.Series(model.predict(features_valid), \\\n",
    "                     index=target_valid.index, name='product_predicted'))\n",
    "    \n",
    "    # напечатаем на экране средний запас предсказанного сырья и RMSE модели\n",
    "    print()\n",
    "    print(f'Для {name} региона:')\n",
    "    print(f'Средний запас предсказанного сырья = {targets[name][1].mean():.2f} тыс. баррелей')\n",
    "    print(f'RMSE модели = {(mean_squared_error(target_valid, targets[name][1])**0.5):.2f}')"
   ]
  },
  {
   "cell_type": "markdown",
   "metadata": {},
   "source": [
    "### Вывод"
   ]
  },
  {
   "cell_type": "markdown",
   "metadata": {},
   "source": [
    "В данной части работы мы провели обучение и проверку модели. RMSE для датасета `data2` составляет 0.89. Однако, для датасетов `data1` и `data3` RMSE значительно выше и составляет 37.58 и 39.96 соответственно. Это говорит о том, что в этих датасетах имеется большой разброс данных в целевых показателях, что означает, что предсказанные значения не отражают реальные запасы сырья с высокой точностью. Предварительно можно утверждать, что, по результатам предсказаний моделей линейной регрессии, регион `data2` является самым предсказуемым, но низкодоходным, а `data3`самым доходным и рискованным."
   ]
  },
  {
   "cell_type": "markdown",
   "metadata": {},
   "source": [
    "## Подготовка к расчёту прибыли"
   ]
  },
  {
   "cell_type": "code",
   "execution_count": 11,
   "metadata": {},
   "outputs": [
    {
     "name": "stdout",
     "output_type": "stream",
     "text": [
      "Достаточный объём сырья для безубыточной разработки = 111.11 тыс. баррелей.\n",
      "\n",
      "Средний запас в data1 регионе = 92.50 тыс. баррелей.\n",
      "\n",
      "Средний запас в data2 регионе = 68.83 тыс. баррелей.\n",
      "\n",
      "Средний запас в data3 регионе = 95.00 тыс. баррелей.\n"
     ]
    }
   ],
   "source": [
    "names = ['data1', 'data2', 'data3']\n",
    "data = [data1, data2, data3]\n",
    "break_even = BUDGET / (BARREL_PRICE * BEST_FOR_ML)\n",
    "print(f'Достаточный объём сырья для безубыточной разработки = {break_even:.2f} тыс. баррелей.')\n",
    "\n",
    "for name, data in zip(names, data):\n",
    "    print()\n",
    "    print(f'Средний запас в {name} регионе = {data[\"product\"].mean():.2f} тыс. баррелей.')"
   ]
  },
  {
   "cell_type": "markdown",
   "metadata": {},
   "source": [
    "### Вывод"
   ]
  },
  {
   "cell_type": "markdown",
   "metadata": {},
   "source": [
    "Объём сырья для безубыточной разработки новой скважины равен 111.11 тысяч баррелей. Средний объем запасов скважин во всех регионах меньше этого значения.В регионе `data2` наша модель очень хорошо прогнозирует запасы скважин, хотя средние запасы меньше необходимых почти в 1,5 раза и составляют 68.83 тысяч баррелей. Разработку всех скважин вести нерентабельно, из всех скважин нужно выбрать всего 200 лучших с максимальными запасами."
   ]
  },
  {
   "cell_type": "markdown",
   "metadata": {},
   "source": [
    "## Расчёт прибыли и рисков "
   ]
  },
  {
   "cell_type": "code",
   "execution_count": 12,
   "metadata": {},
   "outputs": [],
   "source": [
    "#функция для расчёта прибыли по выбранным скважинам и предсказаниям модели\n",
    "def profit(target, probabilities, count):\n",
    "    probs_sorted = probabilities.sort_values(ascending=False)[:count]\n",
    "    selected = target[probs_sorted.index]\n",
    "    product = selected.sum()\n",
    "    revenue = product * BARREL_PRICE\n",
    "    return revenue - BUDGET"
   ]
  },
  {
   "cell_type": "code",
   "execution_count": 14,
   "metadata": {},
   "outputs": [
    {
     "name": "stdout",
     "output_type": "stream",
     "text": [
      "\n",
      "Для data1 региона:\n",
      "Средняя прибыль с 200 лучших скважин, отобранных по предсказанию = 595 млн. рублей.\n",
      "Доверительный интервал лежит между -32 - 1289 млн. рублей.\n",
      "Риск убытков составляет = 3.60%\n",
      "\n",
      "Для data2 региона:\n",
      "Средняя прибыль с 200 лучших скважин, отобранных по предсказанию = 662 млн. рублей.\n",
      "Доверительный интервал лежит между 160 - 1237 млн. рублей.\n",
      "Риск убытков составляет = 0.10%\n",
      "\n",
      "Для data3 региона:\n",
      "Средняя прибыль с 200 лучших скважин, отобранных по предсказанию = 546 млн. рублей.\n",
      "Доверительный интервал лежит между -37 - 1169 млн. рублей.\n",
      "Риск убытков составляет = 3.70%\n"
     ]
    }
   ],
   "source": [
    "for name in names: \n",
    "    values = []\n",
    "    for _ in range(1000):\n",
    "        target_subsample = targets[name][0].sample(POINTS, replace=True, random_state=STATE)\n",
    "        probs_subsample = targets[name][1][target_subsample.index]\n",
    "        values.append(profit(target_subsample, probs_subsample, BEST_FOR_ML))\n",
    "\n",
    "    values = pd.Series(values)\n",
    "\n",
    "    mean = values.mean() / 1e6\n",
    "    lower = values.quantile(0.025) / 1e6\n",
    "    upper = values.quantile(0.975) / 1e6\n",
    "\n",
    "    risk = values.apply(lambda x: x < 0).sum() / len(values)\n",
    "\n",
    "    print()\n",
    "    print(f'Для {name} региона:')\n",
    "    print(f'Средняя прибыль с 200 лучших скважин, отобранных по предсказанию = {mean:.0f} млн. рублей.')\n",
    "    print(f'Доверительный интервал лежит между {lower:.0f} - {upper:.0f} млн. рублей.')\n",
    "    print(f'Риск убытков составляет = {risk:.2%}')"
   ]
  },
  {
   "cell_type": "markdown",
   "metadata": {},
   "source": [
    "### Вывод"
   ]
  },
  {
   "cell_type": "markdown",
   "metadata": {},
   "source": [
    "Отсеиваем регионы `data1` и `data3`, так как риски убытков относительно велики (3.6% и 3.7%).\n",
    "В регионе `data2` вероятность убытков меньше 2.5% и составляет 0.1%, cредняя прибыль составляет более 662 млн. рублей, 95%-й доверительный интервал не содержит отрицательных значений. Несмотря на сравнительно меньшие запасы сырья, по сравнению с другими регионами, средняя доходность со скважин в регионе `data2` прогнозируется выше других при наименьшем риске убытков."
   ]
  },
  {
   "cell_type": "markdown",
   "metadata": {},
   "source": [
    "## Общий вывод"
   ]
  },
  {
   "cell_type": "markdown",
   "metadata": {},
   "source": [
    "В ходе исследования построена модель машинного обучения, которая помогла определить регион, где добыча принесёт наибольшую прибыль, проведен анализ возможной прибыли и рисков техникой Bootstrap.\n",
    "\n",
    "На этапе **загрузки и подготовки данных** установлено:\n",
    "- В данных отсутствуют пропуски и дубликаты\n",
    "- Признаки `f0`, `f1`, `f2` не имеют никакой взяимосвязи между собой. При этом признаки `f0` и `f1` не имеют какого-то значимого влияния на целевой признак, в то время как признак `f2` имеет среднюю взяимосвязь с целевым пизнаком в данных первого и третьего месторождений, а во втором месторождении между признаком `f2` и целевым признаком прослеживается прямая взаимосвязь.\n",
    "- Удалили из каждого датафрейма столбец `id`\n",
    "\n",
    "На этапе **обучения и проверки данных** установлено, что RMSE для датасета `data2` составляет 0.89. Для датасетов `data1` и `data3` RMSE значительно выше и составляет 37.58 и 39.96 соответственно. Это говорит о том, что в этих датасетах имеется большой разброс данных в целевых показателях, что означает, что предсказанные значения не отражают реальные запасы сырья с высокой точностью. По результатам предсказаний моделей линейной регрессии, регион `data2` является самым предсказуемым, но низкодоходным, а `data3` самым доходным и рискованным.\n",
    "\n",
    "На этапе **подготовки к расчету прибыли** установили, что объём сырья для безубыточной разработки новой скважины равен 111.11 тысяч баррелей. Средний объем запасов скважин во всех регионах меньше этого значения.В регионе `data2` наша модель очень хорошо прогнозирует запасы скважин, хотя средние запасы меньше необходимых почти в 1,5 раза и составляют 68.83 тысяч баррелей. Разработку всех скважин вести нерентабельно, из всех скважин нужно выбрать всего 200 лучших с максимальными запасами.\n",
    "\n",
    "На этапе **расчета прибыли и рисков** отсеили регионы `data1` и `data3`, так как риски убытков относительно велики (3.6% и 3.7%). В регионе `data2` вероятность убытков меньше 2.5% и составляет 0.1%, cредняя прибыль составляет более 662 млн. рублей, 95%-й доверительный интервал не содержит отрицательных значений. Несмотря на сравнительно меньшие запасы сырья, по сравнению с другими регионами, средняя доходность со скважин в регионе `data2` прогнозируется выше других при наименьшем риске убытков.\n",
    "\n",
    " \n",
    "**Исходя из проведённого анализа, можно предположить, что наиболее выгодным для разработки является регион `data2`.**"
   ]
  }
 ],
 "metadata": {
  "ExecuteTimeLog": [
   {
    "duration": 1695,
    "start_time": "2025-01-02T23:08:52.399Z"
   },
   {
    "duration": 3,
    "start_time": "2025-01-02T23:09:04.004Z"
   },
   {
    "duration": 3,
    "start_time": "2025-01-02T23:18:13.923Z"
   },
   {
    "duration": 643,
    "start_time": "2025-01-02T23:18:14.313Z"
   },
   {
    "duration": 4,
    "start_time": "2025-01-02T23:18:45.480Z"
   },
   {
    "duration": 3,
    "start_time": "2025-01-02T23:20:02.913Z"
   },
   {
    "duration": 119,
    "start_time": "2025-01-02T23:20:07.032Z"
   },
   {
    "duration": 108,
    "start_time": "2025-01-02T23:20:34.451Z"
   },
   {
    "duration": 109,
    "start_time": "2025-01-02T23:20:34.843Z"
   },
   {
    "duration": 4,
    "start_time": "2025-01-02T23:22:16.810Z"
   },
   {
    "duration": 829,
    "start_time": "2025-01-02T23:22:19.091Z"
   },
   {
    "duration": 5,
    "start_time": "2025-01-02T23:22:33.151Z"
   },
   {
    "duration": 923,
    "start_time": "2025-01-02T23:22:34.091Z"
   },
   {
    "duration": 775,
    "start_time": "2025-01-02T23:22:42.322Z"
   },
   {
    "duration": 926,
    "start_time": "2025-01-02T23:22:45.753Z"
   },
   {
    "duration": 5,
    "start_time": "2025-01-02T23:23:10.749Z"
   },
   {
    "duration": 168,
    "start_time": "2025-01-02T23:23:11.233Z"
   },
   {
    "duration": 5,
    "start_time": "2025-01-02T23:23:20.060Z"
   },
   {
    "duration": 960,
    "start_time": "2025-01-02T23:23:20.453Z"
   },
   {
    "duration": 1096,
    "start_time": "2025-01-02T23:23:24.540Z"
   },
   {
    "duration": 1177,
    "start_time": "2025-01-02T23:23:28.370Z"
   },
   {
    "duration": 3,
    "start_time": "2025-01-03T00:10:44.281Z"
   },
   {
    "duration": 1509,
    "start_time": "2025-01-03T00:10:58.320Z"
   },
   {
    "duration": 1270,
    "start_time": "2025-01-03T00:11:15.537Z"
   },
   {
    "duration": 1685,
    "start_time": "2025-01-03T00:11:22.977Z"
   },
   {
    "duration": 13,
    "start_time": "2025-01-03T00:18:54.681Z"
   },
   {
    "duration": 15,
    "start_time": "2025-01-03T00:32:26.761Z"
   },
   {
    "duration": 24,
    "start_time": "2025-01-03T00:33:50.210Z"
   },
   {
    "duration": 5,
    "start_time": "2025-01-03T00:34:46.307Z"
   },
   {
    "duration": 24,
    "start_time": "2025-01-03T00:34:51.911Z"
   },
   {
    "duration": 4,
    "start_time": "2025-01-03T00:35:15.997Z"
   },
   {
    "duration": 3,
    "start_time": "2025-01-03T00:35:29.758Z"
   },
   {
    "duration": 420,
    "start_time": "2025-01-03T00:35:41.361Z"
   },
   {
    "duration": 1405,
    "start_time": "2025-01-03T00:36:20.032Z"
   },
   {
    "duration": 3,
    "start_time": "2025-01-03T00:36:21.439Z"
   },
   {
    "duration": 430,
    "start_time": "2025-01-03T00:36:21.444Z"
   },
   {
    "duration": 4,
    "start_time": "2025-01-03T00:36:21.877Z"
   },
   {
    "duration": 9,
    "start_time": "2025-01-03T00:36:21.882Z"
   },
   {
    "duration": 1445,
    "start_time": "2025-01-03T00:37:13.410Z"
   },
   {
    "duration": 4,
    "start_time": "2025-01-03T00:37:14.857Z"
   },
   {
    "duration": 419,
    "start_time": "2025-01-03T00:37:15.079Z"
   },
   {
    "duration": 3,
    "start_time": "2025-01-03T00:37:15.618Z"
   },
   {
    "duration": 4,
    "start_time": "2025-01-03T00:37:17.538Z"
   },
   {
    "duration": 1386,
    "start_time": "2025-01-03T00:37:19.111Z"
   },
   {
    "duration": 1293,
    "start_time": "2025-01-03T00:37:20.499Z"
   },
   {
    "duration": 1630,
    "start_time": "2025-01-03T00:37:21.794Z"
   },
   {
    "duration": 12,
    "start_time": "2025-01-03T00:37:25.167Z"
   },
   {
    "duration": 415,
    "start_time": "2025-01-03T00:37:26.561Z"
   },
   {
    "duration": 3,
    "start_time": "2025-01-03T00:58:19.790Z"
   },
   {
    "duration": 113,
    "start_time": "2025-01-03T00:59:39.552Z"
   },
   {
    "duration": 11,
    "start_time": "2025-01-03T01:01:01.361Z"
   },
   {
    "duration": 11,
    "start_time": "2025-01-03T01:01:17.999Z"
   },
   {
    "duration": 31,
    "start_time": "2025-01-03T01:01:45.752Z"
   },
   {
    "duration": 1970,
    "start_time": "2025-01-03T16:22:54.039Z"
   },
   {
    "duration": 3,
    "start_time": "2025-01-03T16:22:56.011Z"
   },
   {
    "duration": 1792,
    "start_time": "2025-01-03T16:22:56.016Z"
   },
   {
    "duration": 5,
    "start_time": "2025-01-03T16:22:57.810Z"
   },
   {
    "duration": 19,
    "start_time": "2025-01-03T16:22:57.816Z"
   },
   {
    "duration": 1635,
    "start_time": "2025-01-03T16:22:59.004Z"
   },
   {
    "duration": 1602,
    "start_time": "2025-01-03T16:23:00.641Z"
   },
   {
    "duration": 1986,
    "start_time": "2025-01-03T16:23:02.245Z"
   },
   {
    "duration": 14,
    "start_time": "2025-01-03T16:23:06.689Z"
   },
   {
    "duration": 559,
    "start_time": "2025-01-03T16:23:08.306Z"
   },
   {
    "duration": 5,
    "start_time": "2025-01-03T16:23:21.474Z"
   },
   {
    "duration": 7,
    "start_time": "2025-01-03T16:23:22.439Z"
   },
   {
    "duration": 6,
    "start_time": "2025-01-03T16:43:29.574Z"
   },
   {
    "duration": 6,
    "start_time": "2025-01-03T16:43:44.006Z"
   },
   {
    "duration": 131,
    "start_time": "2025-01-03T16:44:01.277Z"
   },
   {
    "duration": 4,
    "start_time": "2025-01-03T16:51:53.880Z"
   },
   {
    "duration": 20,
    "start_time": "2025-01-03T16:56:10.274Z"
   },
   {
    "duration": 21,
    "start_time": "2025-01-03T16:56:17.289Z"
   },
   {
    "duration": 14,
    "start_time": "2025-01-03T16:56:25.241Z"
   },
   {
    "duration": 5,
    "start_time": "2025-01-03T17:01:56.825Z"
   },
   {
    "duration": 4,
    "start_time": "2025-01-03T17:02:10.129Z"
   },
   {
    "duration": 89,
    "start_time": "2025-01-03T17:02:21.965Z"
   },
   {
    "duration": 4,
    "start_time": "2025-01-03T17:03:57.458Z"
   },
   {
    "duration": 16,
    "start_time": "2025-01-03T17:04:22.526Z"
   },
   {
    "duration": 16,
    "start_time": "2025-01-03T17:05:03.731Z"
   },
   {
    "duration": 9,
    "start_time": "2025-01-03T17:05:08.648Z"
   },
   {
    "duration": 4,
    "start_time": "2025-01-03T17:05:09.129Z"
   },
   {
    "duration": 41,
    "start_time": "2025-01-03T17:05:09.565Z"
   },
   {
    "duration": 5012,
    "start_time": "2025-01-03T17:05:32.720Z"
   },
   {
    "duration": 5259,
    "start_time": "2025-01-03T17:06:50.111Z"
   },
   {
    "duration": 449,
    "start_time": "2025-01-03T17:29:54.448Z"
   },
   {
    "duration": 485,
    "start_time": "2025-01-03T17:33:13.887Z"
   },
   {
    "duration": 1415,
    "start_time": "2025-01-03T17:38:55.457Z"
   },
   {
    "duration": 1491,
    "start_time": "2025-01-03T19:36:46.196Z"
   },
   {
    "duration": 3,
    "start_time": "2025-01-03T19:36:47.689Z"
   },
   {
    "duration": 493,
    "start_time": "2025-01-03T19:36:47.694Z"
   },
   {
    "duration": 6,
    "start_time": "2025-01-03T19:36:48.189Z"
   },
   {
    "duration": 20,
    "start_time": "2025-01-03T19:36:48.196Z"
   },
   {
    "duration": 1547,
    "start_time": "2025-01-03T19:36:48.217Z"
   },
   {
    "duration": 1368,
    "start_time": "2025-01-03T19:36:49.766Z"
   },
   {
    "duration": 1854,
    "start_time": "2025-01-03T19:36:51.136Z"
   },
   {
    "duration": 14,
    "start_time": "2025-01-03T19:36:52.992Z"
   },
   {
    "duration": 554,
    "start_time": "2025-01-03T19:36:53.007Z"
   },
   {
    "duration": 1753,
    "start_time": "2025-01-03T19:36:53.564Z"
   },
   {
    "duration": 3,
    "start_time": "2025-01-03T19:36:55.318Z"
   },
   {
    "duration": 13,
    "start_time": "2025-01-03T19:36:55.323Z"
   },
   {
    "duration": 7,
    "start_time": "2025-01-03T19:36:58.247Z"
   },
   {
    "duration": 4,
    "start_time": "2025-01-03T19:36:58.479Z"
   },
   {
    "duration": 5207,
    "start_time": "2025-01-03T19:36:58.780Z"
   },
   {
    "duration": 1596,
    "start_time": "2025-01-04T08:28:13.526Z"
   },
   {
    "duration": 3,
    "start_time": "2025-01-04T08:28:15.124Z"
   },
   {
    "duration": 733,
    "start_time": "2025-01-04T08:28:15.128Z"
   },
   {
    "duration": 4,
    "start_time": "2025-01-04T08:28:15.863Z"
   },
   {
    "duration": 27,
    "start_time": "2025-01-04T08:28:15.868Z"
   },
   {
    "duration": 1485,
    "start_time": "2025-01-04T08:28:15.897Z"
   },
   {
    "duration": 1257,
    "start_time": "2025-01-04T08:28:17.384Z"
   },
   {
    "duration": 1592,
    "start_time": "2025-01-04T08:28:18.643Z"
   },
   {
    "duration": 10,
    "start_time": "2025-01-04T08:28:20.237Z"
   },
   {
    "duration": 390,
    "start_time": "2025-01-04T08:28:20.249Z"
   },
   {
    "duration": 4,
    "start_time": "2025-01-04T08:28:20.642Z"
   },
   {
    "duration": 129,
    "start_time": "2025-01-04T08:28:20.723Z"
   },
   {
    "duration": 52,
    "start_time": "2025-01-04T08:28:20.853Z"
   },
   {
    "duration": 6,
    "start_time": "2025-01-04T08:28:20.907Z"
   },
   {
    "duration": 4657,
    "start_time": "2025-01-04T08:28:20.916Z"
   },
   {
    "duration": 5,
    "start_time": "2025-01-04T08:30:51.423Z"
   },
   {
    "duration": 9,
    "start_time": "2025-01-04T08:31:06.838Z"
   },
   {
    "duration": 114,
    "start_time": "2025-01-04T08:31:20.124Z"
   },
   {
    "duration": 3,
    "start_time": "2025-01-04T08:31:53.261Z"
   },
   {
    "duration": 3,
    "start_time": "2025-01-04T08:32:03.412Z"
   },
   {
    "duration": 4,
    "start_time": "2025-01-04T08:32:11.963Z"
   },
   {
    "duration": 10,
    "start_time": "2025-01-04T08:32:23.998Z"
   },
   {
    "duration": 14,
    "start_time": "2025-01-04T08:36:29.823Z"
   },
   {
    "duration": 15,
    "start_time": "2025-01-04T08:38:13.623Z"
   },
   {
    "duration": 16,
    "start_time": "2025-01-04T08:40:57.672Z"
   },
   {
    "duration": 621,
    "start_time": "2025-01-04T08:46:32.007Z"
   },
   {
    "duration": 13,
    "start_time": "2025-01-04T08:52:33.366Z"
   },
   {
    "duration": 11,
    "start_time": "2025-01-04T08:57:24.147Z"
   },
   {
    "duration": 8,
    "start_time": "2025-01-04T08:58:50.274Z"
   },
   {
    "duration": 552,
    "start_time": "2025-01-04T08:59:07.973Z"
   },
   {
    "duration": 21,
    "start_time": "2025-01-04T09:00:16.103Z"
   },
   {
    "duration": 568,
    "start_time": "2025-01-04T09:02:18.279Z"
   },
   {
    "duration": 1455,
    "start_time": "2025-01-04T09:05:02.348Z"
   },
   {
    "duration": 3,
    "start_time": "2025-01-04T09:05:03.805Z"
   },
   {
    "duration": 434,
    "start_time": "2025-01-04T09:05:03.810Z"
   },
   {
    "duration": 3,
    "start_time": "2025-01-04T09:05:04.246Z"
   },
   {
    "duration": 42,
    "start_time": "2025-01-04T09:05:04.251Z"
   },
   {
    "duration": 1455,
    "start_time": "2025-01-04T09:05:04.294Z"
   },
   {
    "duration": 1290,
    "start_time": "2025-01-04T09:05:05.751Z"
   },
   {
    "duration": 1857,
    "start_time": "2025-01-04T09:05:07.044Z"
   },
   {
    "duration": 14,
    "start_time": "2025-01-04T09:05:13.331Z"
   },
   {
    "duration": 135,
    "start_time": "2025-01-04T09:05:21.832Z"
   },
   {
    "duration": 479,
    "start_time": "2025-01-04T09:05:33.053Z"
   },
   {
    "duration": 17459,
    "start_time": "2025-01-04T09:05:43.418Z"
   },
   {
    "duration": 1481,
    "start_time": "2025-01-04T09:12:54.832Z"
   },
   {
    "duration": 4,
    "start_time": "2025-01-04T09:12:56.316Z"
   },
   {
    "duration": 434,
    "start_time": "2025-01-04T09:12:56.618Z"
   },
   {
    "duration": 1431,
    "start_time": "2025-01-04T09:13:13.781Z"
   },
   {
    "duration": 3,
    "start_time": "2025-01-04T09:13:15.214Z"
   },
   {
    "duration": 437,
    "start_time": "2025-01-04T09:13:15.450Z"
   },
   {
    "duration": 4,
    "start_time": "2025-01-04T09:13:16.117Z"
   },
   {
    "duration": 4,
    "start_time": "2025-01-04T09:13:18.166Z"
   },
   {
    "duration": 1450,
    "start_time": "2025-01-04T09:13:19.867Z"
   },
   {
    "duration": 1611,
    "start_time": "2025-01-04T09:13:21.321Z"
   },
   {
    "duration": 1697,
    "start_time": "2025-01-04T09:13:22.935Z"
   },
   {
    "duration": 15,
    "start_time": "2025-01-04T09:13:26.734Z"
   },
   {
    "duration": 5,
    "start_time": "2025-01-04T09:13:59.006Z"
   },
   {
    "duration": 137,
    "start_time": "2025-01-04T09:14:19.740Z"
   },
   {
    "duration": 13,
    "start_time": "2025-01-04T09:14:41.058Z"
   },
   {
    "duration": 9,
    "start_time": "2025-01-04T09:14:44.127Z"
   },
   {
    "duration": 14,
    "start_time": "2025-01-04T09:14:44.653Z"
   },
   {
    "duration": 13,
    "start_time": "2025-01-04T09:14:47.325Z"
   },
   {
    "duration": 7664,
    "start_time": "2025-01-04T09:16:35.826Z"
   },
   {
    "duration": 7800,
    "start_time": "2025-01-04T09:19:06.495Z"
   },
   {
    "duration": 7908,
    "start_time": "2025-01-04T09:21:34.379Z"
   },
   {
    "duration": 8236,
    "start_time": "2025-01-04T09:28:53.089Z"
   },
   {
    "duration": 8097,
    "start_time": "2025-01-04T09:35:30.257Z"
   },
   {
    "duration": 8331,
    "start_time": "2025-01-04T09:36:00.771Z"
   },
   {
    "duration": 8382,
    "start_time": "2025-01-04T09:41:21.399Z"
   },
   {
    "duration": 19,
    "start_time": "2025-01-04T09:45:03.681Z"
   },
   {
    "duration": 3,
    "start_time": "2025-01-04T09:45:27.212Z"
   },
   {
    "duration": 15,
    "start_time": "2025-01-04T09:45:31.735Z"
   },
   {
    "duration": 24,
    "start_time": "2025-01-04T09:50:49.059Z"
   },
   {
    "duration": 202,
    "start_time": "2025-01-04T09:58:39.120Z"
   },
   {
    "duration": 8,
    "start_time": "2025-01-04T10:01:09.300Z"
   },
   {
    "duration": 22,
    "start_time": "2025-01-04T10:04:47.176Z"
   },
   {
    "duration": 17,
    "start_time": "2025-01-04T10:06:26.920Z"
   },
   {
    "duration": 50,
    "start_time": "2025-01-04T10:40:38.273Z"
   },
   {
    "duration": 1463,
    "start_time": "2025-01-04T10:45:49.972Z"
   },
   {
    "duration": 3,
    "start_time": "2025-01-04T10:45:51.436Z"
   },
   {
    "duration": 409,
    "start_time": "2025-01-04T10:45:51.440Z"
   },
   {
    "duration": 4,
    "start_time": "2025-01-04T10:45:51.851Z"
   },
   {
    "duration": 31,
    "start_time": "2025-01-04T10:45:51.857Z"
   },
   {
    "duration": 1368,
    "start_time": "2025-01-04T10:45:51.891Z"
   },
   {
    "duration": 1277,
    "start_time": "2025-01-04T10:45:53.261Z"
   },
   {
    "duration": 1669,
    "start_time": "2025-01-04T10:45:54.540Z"
   },
   {
    "duration": 16,
    "start_time": "2025-01-04T10:45:56.211Z"
   },
   {
    "duration": 110,
    "start_time": "2025-01-04T10:45:56.822Z"
   },
   {
    "duration": 10,
    "start_time": "2025-01-04T10:46:07.908Z"
   },
   {
    "duration": 343,
    "start_time": "2025-01-04T10:46:12.192Z"
   },
   {
    "duration": 3,
    "start_time": "2025-01-04T10:46:16.908Z"
   },
   {
    "duration": 9,
    "start_time": "2025-01-04T10:46:17.458Z"
   },
   {
    "duration": 15,
    "start_time": "2025-01-04T10:46:22.892Z"
   },
   {
    "duration": 7,
    "start_time": "2025-01-04T10:46:27.728Z"
   },
   {
    "duration": 4,
    "start_time": "2025-01-04T10:46:28.559Z"
   },
   {
    "duration": 3436,
    "start_time": "2025-01-04T10:46:29.078Z"
   },
   {
    "duration": 3541,
    "start_time": "2025-01-04T10:51:21.453Z"
   },
   {
    "duration": 3444,
    "start_time": "2025-01-04T10:52:29.831Z"
   },
   {
    "duration": 4,
    "start_time": "2025-01-04T11:18:28.951Z"
   },
   {
    "duration": 3672,
    "start_time": "2025-01-04T11:18:55.730Z"
   },
   {
    "duration": 5,
    "start_time": "2025-01-04T11:20:48.219Z"
   },
   {
    "duration": 3797,
    "start_time": "2025-01-04T11:21:12.151Z"
   },
   {
    "duration": 3665,
    "start_time": "2025-01-04T11:24:17.056Z"
   },
   {
    "duration": 3498,
    "start_time": "2025-01-04T11:25:40.170Z"
   },
   {
    "duration": 3461,
    "start_time": "2025-01-04T11:34:10.394Z"
   },
   {
    "duration": 3513,
    "start_time": "2025-01-04T11:34:28.056Z"
   },
   {
    "duration": 3503,
    "start_time": "2025-01-04T11:34:36.722Z"
   },
   {
    "duration": 3272,
    "start_time": "2025-01-04T11:34:43.107Z"
   },
   {
    "duration": 3287,
    "start_time": "2025-01-04T11:34:50.308Z"
   },
   {
    "duration": 3357,
    "start_time": "2025-01-04T11:34:56.509Z"
   },
   {
    "duration": 3490,
    "start_time": "2025-01-04T11:35:04.713Z"
   },
   {
    "duration": 3363,
    "start_time": "2025-01-04T11:35:16.680Z"
   },
   {
    "duration": 3518,
    "start_time": "2025-01-04T11:35:39.662Z"
   },
   {
    "duration": 3374,
    "start_time": "2025-01-04T11:35:49.783Z"
   },
   {
    "duration": 3584,
    "start_time": "2025-01-04T11:35:58.283Z"
   },
   {
    "duration": 3,
    "start_time": "2025-01-04T12:27:08.819Z"
   },
   {
    "duration": 3,
    "start_time": "2025-01-04T13:35:11.566Z"
   },
   {
    "duration": 1508,
    "start_time": "2025-01-04T13:35:12.301Z"
   },
   {
    "duration": 1198,
    "start_time": "2025-01-04T13:35:16.830Z"
   },
   {
    "duration": 1528,
    "start_time": "2025-01-04T13:35:21.801Z"
   },
   {
    "duration": 3653,
    "start_time": "2025-01-04T13:42:24.331Z"
   },
   {
    "duration": 3500,
    "start_time": "2025-01-04T13:42:32.681Z"
   },
   {
    "duration": 3510,
    "start_time": "2025-01-04T13:42:39.515Z"
   },
   {
    "duration": 3532,
    "start_time": "2025-01-04T13:46:07.504Z"
   },
   {
    "duration": 106,
    "start_time": "2025-01-04T14:02:26.186Z"
   },
   {
    "duration": 1459,
    "start_time": "2025-01-04T14:31:03.933Z"
   },
   {
    "duration": 5,
    "start_time": "2025-01-04T14:31:05.393Z"
   },
   {
    "duration": 502,
    "start_time": "2025-01-04T14:31:05.399Z"
   },
   {
    "duration": 7,
    "start_time": "2025-01-04T14:31:06.147Z"
   },
   {
    "duration": 4,
    "start_time": "2025-01-04T14:31:06.848Z"
   },
   {
    "duration": 1463,
    "start_time": "2025-01-04T14:31:07.599Z"
   },
   {
    "duration": 1265,
    "start_time": "2025-01-04T14:31:09.063Z"
   },
   {
    "duration": 1668,
    "start_time": "2025-01-04T14:31:10.330Z"
   },
   {
    "duration": 14,
    "start_time": "2025-01-04T14:31:14.315Z"
   },
   {
    "duration": 377,
    "start_time": "2025-01-04T14:31:20.367Z"
   },
   {
    "duration": 6,
    "start_time": "2025-01-04T14:31:41.869Z"
   },
   {
    "duration": 3,
    "start_time": "2025-01-04T14:31:51.987Z"
   },
   {
    "duration": 3697,
    "start_time": "2025-01-04T14:31:53.920Z"
   },
   {
    "duration": 390,
    "start_time": "2025-01-04T14:36:12.251Z"
   },
   {
    "duration": 3455,
    "start_time": "2025-01-04T14:36:21.233Z"
   },
   {
    "duration": 3492,
    "start_time": "2025-01-04T14:36:32.567Z"
   },
   {
    "duration": 3642,
    "start_time": "2025-01-04T14:36:58.854Z"
   },
   {
    "duration": 3755,
    "start_time": "2025-01-04T14:37:08.054Z"
   },
   {
    "duration": 3564,
    "start_time": "2025-01-04T14:37:18.223Z"
   },
   {
    "duration": 36166,
    "start_time": "2025-01-04T14:39:48.289Z"
   },
   {
    "duration": 3499,
    "start_time": "2025-01-04T14:47:13.505Z"
   },
   {
    "duration": 3567,
    "start_time": "2025-01-04T14:47:33.989Z"
   },
   {
    "duration": 3667,
    "start_time": "2025-01-04T14:47:40.905Z"
   },
   {
    "duration": 3724,
    "start_time": "2025-01-04T14:47:46.344Z"
   },
   {
    "duration": 3522,
    "start_time": "2025-01-04T14:47:52.424Z"
   },
   {
    "duration": 3643,
    "start_time": "2025-01-04T14:47:58.091Z"
   },
   {
    "duration": 3487,
    "start_time": "2025-01-04T14:48:05.129Z"
   },
   {
    "duration": 3517,
    "start_time": "2025-01-04T14:48:11.043Z"
   },
   {
    "duration": 3708,
    "start_time": "2025-01-04T14:48:17.094Z"
   },
   {
    "duration": 3552,
    "start_time": "2025-01-04T14:48:23.011Z"
   },
   {
    "duration": 3462,
    "start_time": "2025-01-04T14:48:29.379Z"
   },
   {
    "duration": 3726,
    "start_time": "2025-01-04T14:48:35.914Z"
   },
   {
    "duration": 3606,
    "start_time": "2025-01-04T14:48:41.848Z"
   },
   {
    "duration": 3560,
    "start_time": "2025-01-04T14:48:48.015Z"
   },
   {
    "duration": 3773,
    "start_time": "2025-01-04T14:48:52.998Z"
   },
   {
    "duration": 3381,
    "start_time": "2025-01-04T14:48:57.930Z"
   },
   {
    "duration": 3426,
    "start_time": "2025-01-04T14:49:03.416Z"
   },
   {
    "duration": 3576,
    "start_time": "2025-01-04T14:49:13.299Z"
   },
   {
    "duration": 3493,
    "start_time": "2025-01-04T14:49:18.751Z"
   },
   {
    "duration": 3660,
    "start_time": "2025-01-04T14:49:23.935Z"
   },
   {
    "duration": 3512,
    "start_time": "2025-01-04T14:49:28.869Z"
   },
   {
    "duration": 3632,
    "start_time": "2025-01-04T14:49:37.185Z"
   },
   {
    "duration": 3534,
    "start_time": "2025-01-04T14:49:48.444Z"
   },
   {
    "duration": 3519,
    "start_time": "2025-01-04T14:49:52.304Z"
   },
   {
    "duration": 3562,
    "start_time": "2025-01-04T14:49:56.422Z"
   },
   {
    "duration": 3516,
    "start_time": "2025-01-04T14:50:00.835Z"
   },
   {
    "duration": 3528,
    "start_time": "2025-01-04T14:50:11.471Z"
   },
   {
    "duration": 3321,
    "start_time": "2025-01-04T14:50:33.004Z"
   },
   {
    "duration": 3366,
    "start_time": "2025-01-04T14:50:40.143Z"
   },
   {
    "duration": 3305,
    "start_time": "2025-01-04T14:50:44.094Z"
   },
   {
    "duration": 3697,
    "start_time": "2025-01-04T14:50:50.043Z"
   },
   {
    "duration": 3566,
    "start_time": "2025-01-04T14:50:54.194Z"
   },
   {
    "duration": 3589,
    "start_time": "2025-01-04T14:50:58.978Z"
   },
   {
    "duration": 3509,
    "start_time": "2025-01-04T14:51:02.996Z"
   },
   {
    "duration": 3512,
    "start_time": "2025-01-04T14:51:07.604Z"
   },
   {
    "duration": 3414,
    "start_time": "2025-01-04T14:51:13.581Z"
   },
   {
    "duration": 3616,
    "start_time": "2025-01-04T14:51:58.052Z"
   },
   {
    "duration": 3457,
    "start_time": "2025-01-04T14:52:04.502Z"
   },
   {
    "duration": 3382,
    "start_time": "2025-01-04T14:52:10.470Z"
   },
   {
    "duration": 3417,
    "start_time": "2025-01-04T14:52:14.186Z"
   },
   {
    "duration": 3634,
    "start_time": "2025-01-04T14:52:19.721Z"
   },
   {
    "duration": 3659,
    "start_time": "2025-01-04T14:52:26.728Z"
   },
   {
    "duration": 3386,
    "start_time": "2025-01-04T14:52:33.071Z"
   },
   {
    "duration": 3489,
    "start_time": "2025-01-04T14:52:37.606Z"
   },
   {
    "duration": 3533,
    "start_time": "2025-01-04T14:52:41.956Z"
   },
   {
    "duration": 127,
    "start_time": "2025-01-04T15:11:12.012Z"
   },
   {
    "duration": 20,
    "start_time": "2025-01-04T15:26:20.899Z"
   },
   {
    "duration": 20,
    "start_time": "2025-01-04T15:30:10.256Z"
   },
   {
    "duration": 24,
    "start_time": "2025-01-04T15:31:59.418Z"
   },
   {
    "duration": 14,
    "start_time": "2025-01-04T15:39:26.236Z"
   },
   {
    "duration": 5,
    "start_time": "2025-01-04T15:40:36.538Z"
   },
   {
    "duration": 8120,
    "start_time": "2025-01-04T15:44:54.609Z"
   },
   {
    "duration": 14,
    "start_time": "2025-01-04T15:48:35.164Z"
   },
   {
    "duration": 8151,
    "start_time": "2025-01-04T15:51:46.034Z"
   },
   {
    "duration": 19690,
    "start_time": "2025-01-04T15:57:05.408Z"
   },
   {
    "duration": 17243,
    "start_time": "2025-01-04T16:00:10.407Z"
   },
   {
    "duration": 16291,
    "start_time": "2025-01-04T16:03:55.102Z"
   },
   {
    "duration": 15955,
    "start_time": "2025-01-04T16:07:06.804Z"
   },
   {
    "duration": 16466,
    "start_time": "2025-01-04T16:07:46.225Z"
   },
   {
    "duration": 1507,
    "start_time": "2025-01-04T16:08:25.561Z"
   },
   {
    "duration": 5,
    "start_time": "2025-01-04T16:08:27.070Z"
   },
   {
    "duration": 499,
    "start_time": "2025-01-04T16:08:27.077Z"
   },
   {
    "duration": 7,
    "start_time": "2025-01-04T16:08:27.579Z"
   },
   {
    "duration": 18,
    "start_time": "2025-01-04T16:08:27.587Z"
   },
   {
    "duration": 1520,
    "start_time": "2025-01-04T16:08:27.607Z"
   },
   {
    "duration": 1452,
    "start_time": "2025-01-04T16:08:29.130Z"
   },
   {
    "duration": 1664,
    "start_time": "2025-01-04T16:08:30.585Z"
   },
   {
    "duration": 12,
    "start_time": "2025-01-04T16:08:32.251Z"
   },
   {
    "duration": 559,
    "start_time": "2025-01-04T16:08:32.264Z"
   },
   {
    "duration": 8,
    "start_time": "2025-01-04T16:08:34.131Z"
   },
   {
    "duration": 4,
    "start_time": "2025-01-04T16:08:35.311Z"
   },
   {
    "duration": 3564,
    "start_time": "2025-01-04T16:08:35.577Z"
   },
   {
    "duration": 3819,
    "start_time": "2025-01-04T16:08:50.512Z"
   },
   {
    "duration": 3703,
    "start_time": "2025-01-04T16:09:25.467Z"
   },
   {
    "duration": 3530,
    "start_time": "2025-01-04T16:09:33.620Z"
   },
   {
    "duration": 3589,
    "start_time": "2025-01-04T16:09:45.403Z"
   },
   {
    "duration": 7,
    "start_time": "2025-01-04T16:10:23.391Z"
   },
   {
    "duration": 3545,
    "start_time": "2025-01-04T16:10:43.061Z"
   },
   {
    "duration": 3712,
    "start_time": "2025-01-04T16:10:50.541Z"
   }
  ],
  "kernelspec": {
   "display_name": "Python 3 (ipykernel)",
   "language": "python",
   "name": "python3"
  },
  "language_info": {
   "codemirror_mode": {
    "name": "ipython",
    "version": 3
   },
   "file_extension": ".py",
   "mimetype": "text/x-python",
   "name": "python",
   "nbconvert_exporter": "python",
   "pygments_lexer": "ipython3",
   "version": "3.9.5"
  },
  "toc": {
   "base_numbering": 1,
   "nav_menu": {},
   "number_sections": false,
   "sideBar": true,
   "skip_h1_title": true,
   "title_cell": "Содержание",
   "title_sidebar": "Содержание",
   "toc_cell": true,
   "toc_position": {},
   "toc_section_display": true,
   "toc_window_display": true
  }
 },
 "nbformat": 4,
 "nbformat_minor": 2
}
