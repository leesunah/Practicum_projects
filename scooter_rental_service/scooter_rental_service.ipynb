{
 "cells": [
  {
   "cell_type": "markdown",
   "id": "87152187",
   "metadata": {},
   "source": [
    "# Статистический анализ данных сервиса аренды самокатов"
   ]
  },
  {
   "cell_type": "markdown",
   "id": "36d2a11c",
   "metadata": {},
   "source": [
    "**Описание проекта**\n",
    "\n",
    "Основная цель проекта: проанализировать данные сервиса аренды самокатов и проверить некоторые гипотезы, которые могут помочь бизнесу вырасти. Чтобы совершать поездки по городу, пользователи сервиса пользуются мобильным приложением. Сервисом можно пользоваться:\n",
    "- без подписки:\n",
    "\n",
    " - абонентская плата отсутствует;\n",
    " - стоимость одной минуты поездки — 8 рублей;\n",
    " - стоимость старта (начала поездки) — 50 рублей;\n",
    "\n",
    "- с подпиской Ultra:\n",
    "\n",
    " - абонентская плата — 199 рублей в месяц;\n",
    " - стоимость одной минуты поездки — 6 рублей;\n",
    " - стоимость старта — бесплатно.\n",
    "\n",
    "**Описание исходных данных**\n",
    "\n",
    "В исходных данных есть информация о пользователях, их поездках и подписках, сгруппированных в файлы.\n",
    "\n",
    "Пользователи — `###.csv`:\n",
    "\n",
    "- `user_id` - уникальный идентификатор пользователя;\n",
    "- `name` - имя пользователя;\n",
    "- `age` - возраст;\n",
    "- `city` - город;\n",
    "- `subscription_type` - тип подписки (free, ultra).\n",
    "\n",
    "Поездки — `###.csv`:\n",
    "\n",
    "- `user_id` - уникальный идентификатор пользователя;\n",
    "- `distance` - расстояние, которое пользователь проехал в текущей сессии (в метрах);\n",
    "- `duration` - продолжительность сессии (в минутах) — время с того момента, как пользователь нажал кнопку «Начать поездку» до момента, как он нажал кнопку «Завершить поездку»;\n",
    "- `date` - дата совершения поездки.\n",
    "\n",
    "Подписки — `###.csv`:\n",
    "\n",
    "- `subscription_type` - тип подписки;\n",
    "- `minute_price` - стоимость одной минуты поездки по данной подписке;\n",
    "- `start_ride_price` - стоимость начала поездки;\n",
    "- `subscription_fee` - стоимость ежемесячного платёж.\n",
    "\n"
   ]
  },
  {
   "cell_type": "markdown",
   "id": "a3c50873",
   "metadata": {
    "toc": true
   },
   "source": [
    "<h1>Содержание<span class=\"tocSkip\"></span></h1>\n",
    "<div class=\"toc\"><ul class=\"toc-item\"><li><span><a href=\"#Шаг-1.-Загрузка-данных\" data-toc-modified-id=\"Шаг-1.-Загрузка-данных-1\"><span class=\"toc-item-num\">1&nbsp;&nbsp;</span>Шаг 1. Загрузка данных</a></span></li><li><span><a href=\"#Шаг-2.-Предобработка-данных\" data-toc-modified-id=\"Шаг-2.-Предобработка-данных-2\"><span class=\"toc-item-num\">2&nbsp;&nbsp;</span>Шаг 2. Предобработка данных</a></span></li><li><span><a href=\"#Шаг-3.-Исследовательский-анализ-данных\" data-toc-modified-id=\"Шаг-3.-Исследовательский-анализ-данных-3\"><span class=\"toc-item-num\">3&nbsp;&nbsp;</span>Шаг 3. Исследовательский анализ данных</a></span></li><li><span><a href=\"#Шаг-4.-Объединение-данных\" data-toc-modified-id=\"Шаг-4.-Объединение-данных-4\"><span class=\"toc-item-num\">4&nbsp;&nbsp;</span>Шаг 4. Объединение данных</a></span></li><li><span><a href=\"#Шаг-5.-Подсчёт-выручки\" data-toc-modified-id=\"Шаг-5.-Подсчёт-выручки-5\"><span class=\"toc-item-num\">5&nbsp;&nbsp;</span>Шаг 5. Подсчёт выручки</a></span></li><li><span><a href=\"#Шаг-6.-Проверка-гипотез\" data-toc-modified-id=\"Шаг-6.-Проверка-гипотез-6\"><span class=\"toc-item-num\">6&nbsp;&nbsp;</span>Шаг 6. Проверка гипотез</a></span></li><li><span><a href=\"#Общий-вывод\" data-toc-modified-id=\"Общий-вывод-7\"><span class=\"toc-item-num\">7&nbsp;&nbsp;</span>Общий вывод</a></span></li></ul></div>"
   ]
  },
  {
   "cell_type": "markdown",
   "id": "6b8d2f1d",
   "metadata": {},
   "source": [
    "#### Шаг 1. Загрузка данных"
   ]
  },
  {
   "cell_type": "code",
   "execution_count": 1,
   "id": "9f39fcd5",
   "metadata": {},
   "outputs": [],
   "source": [
    "import pandas as pd\n",
    "import numpy as np\n",
    "import matplotlib.pyplot as plt\n",
    "from scipy import stats as st\n",
    "import plotly.express as px\n",
    "import seaborn as sns"
   ]
  },
  {
   "cell_type": "code",
   "execution_count": 2,
   "id": "c7472d7d",
   "metadata": {},
   "outputs": [],
   "source": [
    "# Отображение всех колонок таблиц\n",
    "pd.set_option('display.max_columns', None)\n",
    "# избавление от экспоненциального формата вывода чисел\n",
    "#pd.set_option('display.float_format', '{:.2f}'.format)"
   ]
  },
  {
   "cell_type": "code",
   "execution_count": 3,
   "id": "5efc18ac",
   "metadata": {},
   "outputs": [],
   "source": [
    "# Чтение данных\n",
    "try:\n",
    "    users = pd.read_csv('###.csv') \n",
    "    rides = pd.read_csv('###.csv') \n",
    "    subscriptions = pd.read_csv('###.csv') \n",
    "except:\n",
    "    users = pd.read_csv('###.csv') \n",
    "    rides = pd.read_csv('###.csv') \n",
    "    subscriptions = pd.read_csv('###.csv') "
   ]
  },
  {
   "cell_type": "code",
   "execution_count": 4,
   "id": "20fc68f4",
   "metadata": {},
   "outputs": [
    {
     "name": "stdout",
     "output_type": "stream",
     "text": [
      "<class 'pandas.core.frame.DataFrame'>\n",
      "RangeIndex: 1565 entries, 0 to 1564\n",
      "Data columns (total 5 columns):\n",
      " #   Column             Non-Null Count  Dtype \n",
      "---  ------             --------------  ----- \n",
      " 0   user_id            1565 non-null   int64 \n",
      " 1   name               1565 non-null   object\n",
      " 2   age                1565 non-null   int64 \n",
      " 3   city               1565 non-null   object\n",
      " 4   subscription_type  1565 non-null   object\n",
      "dtypes: int64(2), object(3)\n",
      "memory usage: 61.3+ KB\n",
      "\n"
     ]
    },
    {
     "data": {
      "text/html": [
       "<div>\n",
       "<style scoped>\n",
       "    .dataframe tbody tr th:only-of-type {\n",
       "        vertical-align: middle;\n",
       "    }\n",
       "\n",
       "    .dataframe tbody tr th {\n",
       "        vertical-align: top;\n",
       "    }\n",
       "\n",
       "    .dataframe thead th {\n",
       "        text-align: right;\n",
       "    }\n",
       "</style>\n",
       "<table border=\"1\" class=\"dataframe\">\n",
       "  <thead>\n",
       "    <tr style=\"text-align: right;\">\n",
       "      <th></th>\n",
       "      <th>user_id</th>\n",
       "      <th>age</th>\n",
       "    </tr>\n",
       "  </thead>\n",
       "  <tbody>\n",
       "    <tr>\n",
       "      <th>count</th>\n",
       "      <td>1565.000000</td>\n",
       "      <td>1565.000000</td>\n",
       "    </tr>\n",
       "    <tr>\n",
       "      <th>mean</th>\n",
       "      <td>762.633866</td>\n",
       "      <td>24.922045</td>\n",
       "    </tr>\n",
       "    <tr>\n",
       "      <th>std</th>\n",
       "      <td>443.260155</td>\n",
       "      <td>4.553496</td>\n",
       "    </tr>\n",
       "    <tr>\n",
       "      <th>min</th>\n",
       "      <td>1.000000</td>\n",
       "      <td>12.000000</td>\n",
       "    </tr>\n",
       "    <tr>\n",
       "      <th>25%</th>\n",
       "      <td>378.000000</td>\n",
       "      <td>22.000000</td>\n",
       "    </tr>\n",
       "    <tr>\n",
       "      <th>50%</th>\n",
       "      <td>762.000000</td>\n",
       "      <td>25.000000</td>\n",
       "    </tr>\n",
       "    <tr>\n",
       "      <th>75%</th>\n",
       "      <td>1146.000000</td>\n",
       "      <td>28.000000</td>\n",
       "    </tr>\n",
       "    <tr>\n",
       "      <th>max</th>\n",
       "      <td>1534.000000</td>\n",
       "      <td>43.000000</td>\n",
       "    </tr>\n",
       "  </tbody>\n",
       "</table>\n",
       "</div>"
      ],
      "text/plain": [
       "           user_id          age\n",
       "count  1565.000000  1565.000000\n",
       "mean    762.633866    24.922045\n",
       "std     443.260155     4.553496\n",
       "min       1.000000    12.000000\n",
       "25%     378.000000    22.000000\n",
       "50%     762.000000    25.000000\n",
       "75%    1146.000000    28.000000\n",
       "max    1534.000000    43.000000"
      ]
     },
     "metadata": {},
     "output_type": "display_data"
    },
    {
     "data": {
      "text/html": [
       "<div>\n",
       "<style scoped>\n",
       "    .dataframe tbody tr th:only-of-type {\n",
       "        vertical-align: middle;\n",
       "    }\n",
       "\n",
       "    .dataframe tbody tr th {\n",
       "        vertical-align: top;\n",
       "    }\n",
       "\n",
       "    .dataframe thead th {\n",
       "        text-align: right;\n",
       "    }\n",
       "</style>\n",
       "<table border=\"1\" class=\"dataframe\">\n",
       "  <thead>\n",
       "    <tr style=\"text-align: right;\">\n",
       "      <th></th>\n",
       "      <th>user_id</th>\n",
       "      <th>name</th>\n",
       "      <th>age</th>\n",
       "      <th>city</th>\n",
       "      <th>subscription_type</th>\n",
       "    </tr>\n",
       "  </thead>\n",
       "  <tbody>\n",
       "    <tr>\n",
       "      <th>0</th>\n",
       "      <td>1</td>\n",
       "      <td>Кира</td>\n",
       "      <td>22</td>\n",
       "      <td>Тюмень</td>\n",
       "      <td>ultra</td>\n",
       "    </tr>\n",
       "    <tr>\n",
       "      <th>1</th>\n",
       "      <td>2</td>\n",
       "      <td>Станислав</td>\n",
       "      <td>31</td>\n",
       "      <td>Омск</td>\n",
       "      <td>ultra</td>\n",
       "    </tr>\n",
       "    <tr>\n",
       "      <th>2</th>\n",
       "      <td>3</td>\n",
       "      <td>Алексей</td>\n",
       "      <td>20</td>\n",
       "      <td>Москва</td>\n",
       "      <td>ultra</td>\n",
       "    </tr>\n",
       "    <tr>\n",
       "      <th>3</th>\n",
       "      <td>4</td>\n",
       "      <td>Константин</td>\n",
       "      <td>26</td>\n",
       "      <td>Ростов-на-Дону</td>\n",
       "      <td>ultra</td>\n",
       "    </tr>\n",
       "    <tr>\n",
       "      <th>4</th>\n",
       "      <td>5</td>\n",
       "      <td>Адель</td>\n",
       "      <td>28</td>\n",
       "      <td>Омск</td>\n",
       "      <td>ultra</td>\n",
       "    </tr>\n",
       "  </tbody>\n",
       "</table>\n",
       "</div>"
      ],
      "text/plain": [
       "   user_id        name  age            city subscription_type\n",
       "0        1        Кира   22          Тюмень             ultra\n",
       "1        2   Станислав   31            Омск             ultra\n",
       "2        3     Алексей   20          Москва             ultra\n",
       "3        4  Константин   26  Ростов-на-Дону             ultra\n",
       "4        5       Адель   28            Омск             ultra"
      ]
     },
     "execution_count": 4,
     "metadata": {},
     "output_type": "execute_result"
    },
    {
     "data": {
      "image/png": "[encoded data removed]",
      "text/plain": [
       "<Figure size 432x288 with 2 Axes>"
      ]
     },
     "metadata": {
      "needs_background": "light"
     },
     "output_type": "display_data"
    }
   ],
   "source": [
    "# Изучение датафрейма `users`\n",
    "users.info()\n",
    "print()\n",
    "display(users.describe())\n",
    "users.hist()\n",
    "users.head()"
   ]
  },
  {
   "cell_type": "markdown",
   "id": "a3ed2221",
   "metadata": {},
   "source": [
    "Датафрейм `users` имеет 5 столбцов и 1565 строк без пропусков и выбросов. Типы данных столбцов не нуждаются в преобразовании. В столбце `user_id` вероятно есть дубликаты."
   ]
  },
  {
   "cell_type": "code",
   "execution_count": 5,
   "id": "daf115cd",
   "metadata": {},
   "outputs": [
    {
     "name": "stdout",
     "output_type": "stream",
     "text": [
      "<class 'pandas.core.frame.DataFrame'>\n",
      "RangeIndex: 18068 entries, 0 to 18067\n",
      "Data columns (total 4 columns):\n",
      " #   Column    Non-Null Count  Dtype  \n",
      "---  ------    --------------  -----  \n",
      " 0   user_id   18068 non-null  int64  \n",
      " 1   distance  18068 non-null  float64\n",
      " 2   duration  18068 non-null  float64\n",
      " 3   date      18068 non-null  object \n",
      "dtypes: float64(2), int64(1), object(1)\n",
      "memory usage: 564.8+ KB\n",
      "\n"
     ]
    },
    {
     "data": {
      "text/html": [
       "<div>\n",
       "<style scoped>\n",
       "    .dataframe tbody tr th:only-of-type {\n",
       "        vertical-align: middle;\n",
       "    }\n",
       "\n",
       "    .dataframe tbody tr th {\n",
       "        vertical-align: top;\n",
       "    }\n",
       "\n",
       "    .dataframe thead th {\n",
       "        text-align: right;\n",
       "    }\n",
       "</style>\n",
       "<table border=\"1\" class=\"dataframe\">\n",
       "  <thead>\n",
       "    <tr style=\"text-align: right;\">\n",
       "      <th></th>\n",
       "      <th>user_id</th>\n",
       "      <th>distance</th>\n",
       "      <th>duration</th>\n",
       "    </tr>\n",
       "  </thead>\n",
       "  <tbody>\n",
       "    <tr>\n",
       "      <th>count</th>\n",
       "      <td>18068.000000</td>\n",
       "      <td>18068.000000</td>\n",
       "      <td>18068.000000</td>\n",
       "    </tr>\n",
       "    <tr>\n",
       "      <th>mean</th>\n",
       "      <td>842.869936</td>\n",
       "      <td>3070.659976</td>\n",
       "      <td>17.805011</td>\n",
       "    </tr>\n",
       "    <tr>\n",
       "      <th>std</th>\n",
       "      <td>434.734317</td>\n",
       "      <td>1116.831209</td>\n",
       "      <td>6.091051</td>\n",
       "    </tr>\n",
       "    <tr>\n",
       "      <th>min</th>\n",
       "      <td>1.000000</td>\n",
       "      <td>0.855683</td>\n",
       "      <td>0.500000</td>\n",
       "    </tr>\n",
       "    <tr>\n",
       "      <th>25%</th>\n",
       "      <td>487.000000</td>\n",
       "      <td>2543.226360</td>\n",
       "      <td>13.597563</td>\n",
       "    </tr>\n",
       "    <tr>\n",
       "      <th>50%</th>\n",
       "      <td>889.000000</td>\n",
       "      <td>3133.609994</td>\n",
       "      <td>17.678395</td>\n",
       "    </tr>\n",
       "    <tr>\n",
       "      <th>75%</th>\n",
       "      <td>1213.250000</td>\n",
       "      <td>3776.222735</td>\n",
       "      <td>21.724800</td>\n",
       "    </tr>\n",
       "    <tr>\n",
       "      <th>max</th>\n",
       "      <td>1534.000000</td>\n",
       "      <td>7211.007745</td>\n",
       "      <td>40.823963</td>\n",
       "    </tr>\n",
       "  </tbody>\n",
       "</table>\n",
       "</div>"
      ],
      "text/plain": [
       "            user_id      distance      duration\n",
       "count  18068.000000  18068.000000  18068.000000\n",
       "mean     842.869936   3070.659976     17.805011\n",
       "std      434.734317   1116.831209      6.091051\n",
       "min        1.000000      0.855683      0.500000\n",
       "25%      487.000000   2543.226360     13.597563\n",
       "50%      889.000000   3133.609994     17.678395\n",
       "75%     1213.250000   3776.222735     21.724800\n",
       "max     1534.000000   7211.007745     40.823963"
      ]
     },
     "metadata": {},
     "output_type": "display_data"
    },
    {
     "data": {
      "text/html": [
       "<div>\n",
       "<style scoped>\n",
       "    .dataframe tbody tr th:only-of-type {\n",
       "        vertical-align: middle;\n",
       "    }\n",
       "\n",
       "    .dataframe tbody tr th {\n",
       "        vertical-align: top;\n",
       "    }\n",
       "\n",
       "    .dataframe thead th {\n",
       "        text-align: right;\n",
       "    }\n",
       "</style>\n",
       "<table border=\"1\" class=\"dataframe\">\n",
       "  <thead>\n",
       "    <tr style=\"text-align: right;\">\n",
       "      <th></th>\n",
       "      <th>user_id</th>\n",
       "      <th>distance</th>\n",
       "      <th>duration</th>\n",
       "      <th>date</th>\n",
       "    </tr>\n",
       "  </thead>\n",
       "  <tbody>\n",
       "    <tr>\n",
       "      <th>0</th>\n",
       "      <td>1</td>\n",
       "      <td>4409.919140</td>\n",
       "      <td>25.599769</td>\n",
       "      <td>2021-01-01</td>\n",
       "    </tr>\n",
       "    <tr>\n",
       "      <th>1</th>\n",
       "      <td>1</td>\n",
       "      <td>2617.592153</td>\n",
       "      <td>15.816871</td>\n",
       "      <td>2021-01-18</td>\n",
       "    </tr>\n",
       "    <tr>\n",
       "      <th>2</th>\n",
       "      <td>1</td>\n",
       "      <td>754.159807</td>\n",
       "      <td>6.232113</td>\n",
       "      <td>2021-04-20</td>\n",
       "    </tr>\n",
       "    <tr>\n",
       "      <th>3</th>\n",
       "      <td>1</td>\n",
       "      <td>2694.783254</td>\n",
       "      <td>18.511000</td>\n",
       "      <td>2021-08-11</td>\n",
       "    </tr>\n",
       "    <tr>\n",
       "      <th>4</th>\n",
       "      <td>1</td>\n",
       "      <td>4028.687306</td>\n",
       "      <td>26.265803</td>\n",
       "      <td>2021-08-28</td>\n",
       "    </tr>\n",
       "  </tbody>\n",
       "</table>\n",
       "</div>"
      ],
      "text/plain": [
       "   user_id     distance   duration        date\n",
       "0        1  4409.919140  25.599769  2021-01-01\n",
       "1        1  2617.592153  15.816871  2021-01-18\n",
       "2        1   754.159807   6.232113  2021-04-20\n",
       "3        1  2694.783254  18.511000  2021-08-11\n",
       "4        1  4028.687306  26.265803  2021-08-28"
      ]
     },
     "execution_count": 5,
     "metadata": {},
     "output_type": "execute_result"
    },
    {
     "data": {
      "image/png": "[encoded data removed]",
      "text/plain": [
       "<Figure size 432x288 with 4 Axes>"
      ]
     },
     "metadata": {
      "needs_background": "light"
     },
     "output_type": "display_data"
    }
   ],
   "source": [
    "# Изучение датафрейма `rides` \n",
    "rides.info()\n",
    "print()\n",
    "display(rides.describe())\n",
    "rides.hist()\n",
    "rides.head()"
   ]
  },
  {
   "cell_type": "markdown",
   "id": "531551e4",
   "metadata": {},
   "source": [
    "Датафрейм `rides` имеет 4 столбца и 18068 строк без пропусков и выбросов. Столбец `date` имеет неверный тип 'object', приведем к типу Date без времени."
   ]
  },
  {
   "cell_type": "code",
   "execution_count": 6,
   "id": "5a7e93b0",
   "metadata": {},
   "outputs": [
    {
     "name": "stdout",
     "output_type": "stream",
     "text": [
      "<class 'pandas.core.frame.DataFrame'>\n",
      "RangeIndex: 2 entries, 0 to 1\n",
      "Data columns (total 4 columns):\n",
      " #   Column             Non-Null Count  Dtype \n",
      "---  ------             --------------  ----- \n",
      " 0   subscription_type  2 non-null      object\n",
      " 1   minute_price       2 non-null      int64 \n",
      " 2   start_ride_price   2 non-null      int64 \n",
      " 3   subscription_fee   2 non-null      int64 \n",
      "dtypes: int64(3), object(1)\n",
      "memory usage: 192.0+ bytes\n",
      "\n"
     ]
    },
    {
     "data": {
      "text/html": [
       "<div>\n",
       "<style scoped>\n",
       "    .dataframe tbody tr th:only-of-type {\n",
       "        vertical-align: middle;\n",
       "    }\n",
       "\n",
       "    .dataframe tbody tr th {\n",
       "        vertical-align: top;\n",
       "    }\n",
       "\n",
       "    .dataframe thead th {\n",
       "        text-align: right;\n",
       "    }\n",
       "</style>\n",
       "<table border=\"1\" class=\"dataframe\">\n",
       "  <thead>\n",
       "    <tr style=\"text-align: right;\">\n",
       "      <th></th>\n",
       "      <th>subscription_type</th>\n",
       "      <th>minute_price</th>\n",
       "      <th>start_ride_price</th>\n",
       "      <th>subscription_fee</th>\n",
       "    </tr>\n",
       "  </thead>\n",
       "  <tbody>\n",
       "    <tr>\n",
       "      <th>0</th>\n",
       "      <td>free</td>\n",
       "      <td>8</td>\n",
       "      <td>50</td>\n",
       "      <td>0</td>\n",
       "    </tr>\n",
       "    <tr>\n",
       "      <th>1</th>\n",
       "      <td>ultra</td>\n",
       "      <td>6</td>\n",
       "      <td>0</td>\n",
       "      <td>199</td>\n",
       "    </tr>\n",
       "  </tbody>\n",
       "</table>\n",
       "</div>"
      ],
      "text/plain": [
       "  subscription_type  minute_price  start_ride_price  subscription_fee\n",
       "0              free             8                50                 0\n",
       "1             ultra             6                 0               199"
      ]
     },
     "execution_count": 6,
     "metadata": {},
     "output_type": "execute_result"
    }
   ],
   "source": [
    "# Изучение датафрейма `subscriptions`\n",
    "subscriptions.info()\n",
    "print()\n",
    "subscriptions.head()"
   ]
  },
  {
   "cell_type": "markdown",
   "id": "04fe7c33",
   "metadata": {},
   "source": [
    "Датафрейм `subscriptions` имеет 4 столбца и 2 строки без пропусков. "
   ]
  },
  {
   "cell_type": "markdown",
   "id": "17a5c788",
   "metadata": {},
   "source": [
    "**Выводы:**\n",
    "Все датафреймы загрузились без ошибок. В данных отсутствуют пропуски. В датафрейме `rides` поле `date` имеет тип `object`."
   ]
  },
  {
   "cell_type": "markdown",
   "id": "6e2f2376",
   "metadata": {},
   "source": [
    "#### Шаг 2. Предобработка данных"
   ]
  },
  {
   "cell_type": "markdown",
   "id": "06b5df18",
   "metadata": {},
   "source": [
    "Столбец `date` датафрейма `rides` имеет значение даты, приведем его к типу Date без времени."
   ]
  },
  {
   "cell_type": "code",
   "execution_count": 7,
   "id": "159ef7f4",
   "metadata": {},
   "outputs": [],
   "source": [
    "# Переведем значения в столбце `date` в формат даты\n",
    "rides['date']=pd.to_datetime(rides['date'], format = '%Y-%m-%d')"
   ]
  },
  {
   "cell_type": "markdown",
   "id": "4093ba64",
   "metadata": {},
   "source": [
    "Создадим новый столбец `month` с номером месяца на основе столбца `date`."
   ]
  },
  {
   "cell_type": "code",
   "execution_count": 8,
   "id": "d1832971",
   "metadata": {},
   "outputs": [
    {
     "data": {
      "text/html": [
       "<div>\n",
       "<style scoped>\n",
       "    .dataframe tbody tr th:only-of-type {\n",
       "        vertical-align: middle;\n",
       "    }\n",
       "\n",
       "    .dataframe tbody tr th {\n",
       "        vertical-align: top;\n",
       "    }\n",
       "\n",
       "    .dataframe thead th {\n",
       "        text-align: right;\n",
       "    }\n",
       "</style>\n",
       "<table border=\"1\" class=\"dataframe\">\n",
       "  <thead>\n",
       "    <tr style=\"text-align: right;\">\n",
       "      <th></th>\n",
       "      <th>user_id</th>\n",
       "      <th>distance</th>\n",
       "      <th>duration</th>\n",
       "      <th>date</th>\n",
       "      <th>month</th>\n",
       "    </tr>\n",
       "  </thead>\n",
       "  <tbody>\n",
       "    <tr>\n",
       "      <th>0</th>\n",
       "      <td>1</td>\n",
       "      <td>4409.919140</td>\n",
       "      <td>25.599769</td>\n",
       "      <td>2021-01-01</td>\n",
       "      <td>1</td>\n",
       "    </tr>\n",
       "    <tr>\n",
       "      <th>1</th>\n",
       "      <td>1</td>\n",
       "      <td>2617.592153</td>\n",
       "      <td>15.816871</td>\n",
       "      <td>2021-01-18</td>\n",
       "      <td>1</td>\n",
       "    </tr>\n",
       "    <tr>\n",
       "      <th>2</th>\n",
       "      <td>1</td>\n",
       "      <td>754.159807</td>\n",
       "      <td>6.232113</td>\n",
       "      <td>2021-04-20</td>\n",
       "      <td>4</td>\n",
       "    </tr>\n",
       "    <tr>\n",
       "      <th>3</th>\n",
       "      <td>1</td>\n",
       "      <td>2694.783254</td>\n",
       "      <td>18.511000</td>\n",
       "      <td>2021-08-11</td>\n",
       "      <td>8</td>\n",
       "    </tr>\n",
       "    <tr>\n",
       "      <th>4</th>\n",
       "      <td>1</td>\n",
       "      <td>4028.687306</td>\n",
       "      <td>26.265803</td>\n",
       "      <td>2021-08-28</td>\n",
       "      <td>8</td>\n",
       "    </tr>\n",
       "  </tbody>\n",
       "</table>\n",
       "</div>"
      ],
      "text/plain": [
       "   user_id     distance   duration       date  month\n",
       "0        1  4409.919140  25.599769 2021-01-01      1\n",
       "1        1  2617.592153  15.816871 2021-01-18      1\n",
       "2        1   754.159807   6.232113 2021-04-20      4\n",
       "3        1  2694.783254  18.511000 2021-08-11      8\n",
       "4        1  4028.687306  26.265803 2021-08-28      8"
      ]
     },
     "execution_count": 8,
     "metadata": {},
     "output_type": "execute_result"
    }
   ],
   "source": [
    "rides['month'] = rides.date.dt.month\n",
    "rides.head()"
   ]
  },
  {
   "cell_type": "markdown",
   "id": "e193938c",
   "metadata": {},
   "source": [
    "Проверим наличие дубликатов в датафреймах. Обработаем их, если такие значения присутствуют."
   ]
  },
  {
   "cell_type": "code",
   "execution_count": 9,
   "id": "5eb94ffa",
   "metadata": {},
   "outputs": [
    {
     "name": "stdout",
     "output_type": "stream",
     "text": [
      "Количество дубликатов в датафрейме `users`: 31\n",
      "Количество дубликатов в датафрейме `rides`: 0\n",
      "Количество дубликатов в датафрейме `subscriptions`: 0\n"
     ]
    }
   ],
   "source": [
    "print('Количество дубликатов в датафрейме `users`:', users.duplicated().sum())\n",
    "print('Количество дубликатов в датафрейме `rides`:', rides.duplicated().sum())\n",
    "print('Количество дубликатов в датафрейме `subscriptions`:', subscriptions.duplicated().sum())"
   ]
  },
  {
   "cell_type": "code",
   "execution_count": 10,
   "id": "3dfa17ee",
   "metadata": {},
   "outputs": [
    {
     "name": "stdout",
     "output_type": "stream",
     "text": [
      "Количество дубликатов в датафрейме `users`: 0\n"
     ]
    }
   ],
   "source": [
    "users.drop_duplicates(inplace=True)\n",
    "print('Количество дубликатов в датафрейме `users`:', users.duplicated().sum())"
   ]
  },
  {
   "cell_type": "markdown",
   "id": "0eac8185",
   "metadata": {},
   "source": [
    "**Выводы:**\n",
    "Пропущенных данных в таблицах нет. Дубликаты имеются среди пользователей, удалили строки-дубликаты. Добавили столбец `month` с номер месяца."
   ]
  },
  {
   "cell_type": "markdown",
   "id": "97ea1ae4",
   "metadata": {},
   "source": [
    "#### Шаг 3. Исследовательский анализ данных"
   ]
  },
  {
   "cell_type": "markdown",
   "id": "a68ea911",
   "metadata": {},
   "source": [
    "Опишем и визуализируем общую информацию о пользователях и поездках:\n",
    "- частота встречаемости городов;\n",
    "- соотношение пользователей с подпиской и без подписки;\n",
    "- возраст пользователей;\n",
    "- расстояние, которое пользователь преодолел за одну поездку;\n",
    "- продолжительность поездок."
   ]
  },
  {
   "cell_type": "code",
   "execution_count": 11,
   "id": "0dc8d9a9",
   "metadata": {},
   "outputs": [
    {
     "data": {
      "image/png": "[encoded data removed]",
      "text/plain": [
       "<Figure size 1080x360 with 1 Axes>"
      ]
     },
     "metadata": {
      "needs_background": "light"
     },
     "output_type": "display_data"
    }
   ],
   "source": [
    "# Количество пользователей в каждом городе\n",
    "city_counts = users['city'].value_counts().reset_index()\n",
    "city_counts.columns = ['city', 'user_count']\n",
    "\n",
    "# Процент пользователей\n",
    "total_users = city_counts['user_count'].sum()\n",
    "city_counts['user_percentage'] = (city_counts['user_count'] / total_users) * 100\n",
    "city_counts = city_counts.sort_values(by='user_count', ascending=True)\n",
    "\n",
    "# Создание столбикового графика\n",
    "plt.figure(figsize=(15, 5))\n",
    "bars = plt.barh(city_counts['city'], city_counts['user_count'], color='skyblue')\n",
    "for bar, user_count, user_percentage in zip(bars, city_counts['user_count'], city_counts['user_percentage']):\n",
    "    plt.text(bar.get_width(), bar.get_y() + bar.get_height() / 2, \n",
    "             f'{user_count} ({user_percentage:.2f}%)', \n",
    "             va='center', ha='right')\n",
    "plt.title('Количество пользователей по городам')\n",
    "plt.xlabel('Количество пользователей')\n",
    "plt.ylabel('Город')\n",
    "plt.show()"
   ]
  },
  {
   "cell_type": "markdown",
   "id": "d44b3a07",
   "metadata": {},
   "source": [
    "Датафреймы содержат данные о пользователях из 8-ми городов. Больше всего пользователей из Пятигорска — 219 (14.28 %), меньше всего из Москвы — 168 (10.95%)."
   ]
  },
  {
   "cell_type": "code",
   "execution_count": 12,
   "id": "90178891",
   "metadata": {},
   "outputs": [
    {
     "data": {
      "image/png": "[encoded data removed]",
      "text/plain": [
       "<Figure size 360x360 with 1 Axes>"
      ]
     },
     "metadata": {},
     "output_type": "display_data"
    }
   ],
   "source": [
    "subscription_counts = users['subscription_type'].value_counts()\n",
    "plt.figure(figsize=(5, 5))\n",
    "plt.pie(subscription_counts,\n",
    "            labels=subscription_counts.index,\n",
    "            autopct=lambda pct: f\"{int(np.round(pct / 100. * sum(subscription_counts)))}\\n({pct:.1f}%)\",\n",
    "            startangle=90)\n",
    "plt.title('Соотношение пользователей с подпиской и без подписки')\n",
    "plt.show()"
   ]
  },
  {
   "cell_type": "code",
   "execution_count": 13,
   "id": "3d47cf1e",
   "metadata": {},
   "outputs": [
    {
     "data": {
      "image/png": "[encoded data removed]",
      "text/plain": [
       "<Figure size 1080x432 with 1 Axes>"
      ]
     },
     "metadata": {
      "needs_background": "light"
     },
     "output_type": "display_data"
    }
   ],
   "source": [
    "grouped_data = users.groupby(['city', 'subscription_type']).size().unstack(fill_value=0)\n",
    "sorted_data = grouped_data.sum(axis=1).sort_values(ascending=False)\n",
    "grouped_data = grouped_data.loc[sorted_data.index]\n",
    "\n",
    "grouped_data.plot(kind='bar', stacked=False, figsize=(15, 6))\n",
    "plt.title('Соотношение пользователей с подпиской и без по городам')\n",
    "plt.xlabel('Город')\n",
    "plt.ylabel('Количество пользователей')\n",
    "plt.xticks(rotation=45)\n",
    "plt.legend(labels=['Без подписки', 'С подпиской'])\n",
    "plt.grid(axis='y', linestyle='--', alpha=0.7)\n",
    "plt.show()"
   ]
  },
  {
   "cell_type": "markdown",
   "id": "06ec547f",
   "metadata": {},
   "source": [
    "Пользователей, использующих бесплатную подписку больше - 835 человек (54.4%) от общего числа пользователей. На платной подписке сидит 699 пользователей (45.6%). В зависимости от городов данное соотнощшение также соблюдается."
   ]
  },
  {
   "cell_type": "code",
   "execution_count": 14,
   "id": "bea225de",
   "metadata": {},
   "outputs": [
    {
     "data": {
      "image/png": "[encoded data removed]",
      "text/plain": [
       "<Figure size 1080x360 with 1 Axes>"
      ]
     },
     "metadata": {
      "needs_background": "light"
     },
     "output_type": "display_data"
    },
    {
     "data": {
      "text/plain": [
       "count    1534.000000\n",
       "mean       24.903520\n",
       "std         4.572367\n",
       "min        12.000000\n",
       "25%        22.000000\n",
       "50%        25.000000\n",
       "75%        28.000000\n",
       "max        43.000000\n",
       "Name: age, dtype: float64"
      ]
     },
     "execution_count": 14,
     "metadata": {},
     "output_type": "execute_result"
    }
   ],
   "source": [
    "users['age'].plot(kind = 'hist', grid=True, figsize = (15,5), bins = 32)\n",
    "plt.title('Возраст пользователей')\n",
    "plt.xlabel('Возраст')\n",
    "plt.ylabel('Количество пользователей')\n",
    "plt.show()\n",
    "users['age'].describe()"
   ]
  },
  {
   "cell_type": "code",
   "execution_count": 15,
   "id": "9e3ac1cf",
   "metadata": {},
   "outputs": [
    {
     "data": {
      "image/png": "[encoded data removed]",
      "text/plain": [
       "<Figure size 1080x360 with 1 Axes>"
      ]
     },
     "metadata": {
      "needs_background": "light"
     },
     "output_type": "display_data"
    }
   ],
   "source": [
    "plt.figure(figsize=(15, 5))\n",
    "# Гистограмма для пользователей с подпиской\n",
    "plt.hist(users[users['subscription_type'] == \"ultra\"]['age'], bins=25, alpha=0.7, label='С подпиской')\n",
    "# Гистограмма для пользователей без подписки\n",
    "plt.hist(users[users['subscription_type'] == \"free\"]['age'], bins=30, alpha=0.3, label='Без подписки')\n",
    "\n",
    "plt.title('Распределение пользователей по возрасту в зависимости от подписки')\n",
    "plt.xlabel('Возраст')\n",
    "plt.ylabel('Количество пользователей')\n",
    "plt.legend()\n",
    "plt.grid(axis='y', linestyle='--')\n",
    "plt.show()"
   ]
  },
  {
   "cell_type": "markdown",
   "id": "be48fb68",
   "metadata": {},
   "source": [
    "Услугами сервиса аренды самокатов пользуются люди от 12 до 43 лет. Распределение возрастной кривой имеет нормальное распределение. Максимальное количество пользователей в возрасте 25 лет, этот же возраст является медианным."
   ]
  },
  {
   "cell_type": "code",
   "execution_count": 16,
   "id": "b4c4116a",
   "metadata": {},
   "outputs": [
    {
     "data": {
      "image/png": "[encoded data removed]",
      "text/plain": [
       "<Figure size 1080x360 with 1 Axes>"
      ]
     },
     "metadata": {
      "needs_background": "light"
     },
     "output_type": "display_data"
    },
    {
     "data": {
      "text/plain": [
       "count    18068.000000\n",
       "mean      3070.659976\n",
       "std       1116.831209\n",
       "min          0.855683\n",
       "25%       2543.226360\n",
       "50%       3133.609994\n",
       "75%       3776.222735\n",
       "max       7211.007745\n",
       "Name: distance, dtype: float64"
      ]
     },
     "execution_count": 16,
     "metadata": {},
     "output_type": "execute_result"
    }
   ],
   "source": [
    "rides['distance'].plot(kind = 'hist', grid=True, figsize = (15,5), bins = 200)\n",
    "plt.title('Расстояние поездок')\n",
    "plt.xlabel('Расстояние, м')\n",
    "plt.ylabel('Количество поездок')\n",
    "plt.show()\n",
    "rides['distance'].describe()"
   ]
  },
  {
   "cell_type": "markdown",
   "id": "3805268c",
   "metadata": {},
   "source": [
    "За одну поездку пользователи преодолевают от 1 до 7211 метров. Медиана всех значений равна 3134 метров. Наблюдаются два пика. Малый пик около 700 метров, большой пик около 3200 метров. Между пиками значения нормально распределены."
   ]
  },
  {
   "cell_type": "code",
   "execution_count": 17,
   "id": "b396c0a8",
   "metadata": {},
   "outputs": [
    {
     "data": {
      "image/png": "[encoded data removed]",
      "text/plain": [
       "<Figure size 1080x360 with 1 Axes>"
      ]
     },
     "metadata": {
      "needs_background": "light"
     },
     "output_type": "display_data"
    },
    {
     "data": {
      "text/plain": [
       "count    18068.000000\n",
       "mean        17.805011\n",
       "std          6.091051\n",
       "min          0.500000\n",
       "25%         13.597563\n",
       "50%         17.678395\n",
       "75%         21.724800\n",
       "max         40.823963\n",
       "Name: duration, dtype: float64"
      ]
     },
     "execution_count": 17,
     "metadata": {},
     "output_type": "execute_result"
    }
   ],
   "source": [
    "rides['duration'].plot(kind = 'hist', grid=True, figsize = (15,5), bins = 100)\n",
    "plt.title('Продолжительность поездок')\n",
    "plt.xlabel('Время, мин')\n",
    "plt.ylabel('Количество поездок')\n",
    "plt.show()\n",
    "rides['duration'].describe()"
   ]
  },
  {
   "cell_type": "markdown",
   "id": "8f4a7ed2",
   "metadata": {},
   "source": [
    "Продолжительность поездок нормально распределена от 0 до 41 минуты. Продолжительность в 18 минут является как наиболее распространенной так и медианным значением. Имеем аномалию на 1 минуте. Рассмотрим характер данной аномалии на диаграмме рассеяния. "
   ]
  },
  {
   "cell_type": "code",
   "execution_count": 18,
   "id": "0e239b52",
   "metadata": {},
   "outputs": [
    {
     "data": {
      "image/png": "[encoded data removed]",
      "text/plain": [
       "<Figure size 432x288 with 1 Axes>"
      ]
     },
     "metadata": {
      "needs_background": "light"
     },
     "output_type": "display_data"
    }
   ],
   "source": [
    "sns.scatterplot(data=rides, x='distance', y='duration', alpha=0.03)\n",
    "plt.xlabel('Расстояние поездки, м')\n",
    "plt.ylabel('Продолжительность поездки, мин')\n",
    "plt.title('Зависимость расстояния от времени поездки')\n",
    "plt.show()"
   ]
  },
  {
   "cell_type": "markdown",
   "id": "a61ecb5b",
   "metadata": {},
   "source": [
    "Рассмотрим аномалию в приближении."
   ]
  },
  {
   "cell_type": "code",
   "execution_count": 19,
   "id": "cbc540c5",
   "metadata": {},
   "outputs": [
    {
     "data": {
      "image/png": "[encoded data removed]",
      "text/plain": [
       "<Figure size 432x288 with 1 Axes>"
      ]
     },
     "metadata": {
      "needs_background": "light"
     },
     "output_type": "display_data"
    }
   ],
   "source": [
    "sns.scatterplot(data=rides, x='distance', y='duration', alpha=0.1)\n",
    "plt.ylim(0.4, 0.6)\n",
    "plt.xlabel('Расстояние поездки, м')\n",
    "plt.ylabel('Продолжительность поездки, мин')\n",
    "plt.title('Зависимость расстояния от времени поездки')\n",
    "plt.show()"
   ]
  },
  {
   "cell_type": "code",
   "execution_count": 20,
   "id": "00e669d2",
   "metadata": {},
   "outputs": [
    {
     "data": {
      "text/plain": [
       "95"
      ]
     },
     "execution_count": 20,
     "metadata": {},
     "output_type": "execute_result"
    }
   ],
   "source": [
    "len(rides.query('duration == 0.5'))"
   ]
  },
  {
   "cell_type": "markdown",
   "id": "33010dea",
   "metadata": {},
   "source": [
    "Имеем 95 поездкок с расстоянием от 4000 м с продолжительностью поездки, равной 0.5 минут. Возможно таким образом была реализована какая-нибудь акция с бесплатными минутами, необходимо уточнить характер данной аномалии. "
   ]
  },
  {
   "cell_type": "markdown",
   "id": "ea9ea399",
   "metadata": {},
   "source": [
    "**Выводы:**\n",
    "- Датафреймы содержат данные о пользователях из 8-ми городов. Больше всего пользователей из Пятигорска — 219 (14.28 %), меньше всего из Москвы — 168 (10.95%).\n",
    "- Пользователей, использующих бесплатную подписку больше - 835 человек (54.4%) от общего числа пользователей. На платной подписке сидит 699 пользователей (45.6%). В зависимости от городов данное соотнощшение также соблюдается.\n",
    "- Услугами сервиса аренды самокатов пользуются люди от 12 до 43 лет. Распределение возрастной кривой имеет нормальное распределение. Максимальное количество пользователей в возрасте 25 лет, этот же возраст является медианным.\n",
    "- За одну поездку пользователи преодолевают от 1 до 7211 метров. Медиана всех значений равна 3134 метров. Наблюдаются два пика. Малый пик около 700 метров, большой пик около 3200 метров. Между пиками значения нормально распределены.\n",
    "- Продолжительность поездок нормально распределена от 0 до 35 минут, с выбросами до 41 минуты. Продолжительность в 18 минут является как наиболее распространенной так и медианным значением. Наблюдается аномалия размером 95 поездок с продолжительностью в 0.5 минуты, необходимо уточнить характер данной аномалии."
   ]
  },
  {
   "cell_type": "markdown",
   "id": "9c03873a",
   "metadata": {},
   "source": [
    "#### Шаг 4. Объединение данных"
   ]
  },
  {
   "cell_type": "markdown",
   "id": "a9318863",
   "metadata": {},
   "source": [
    "Объединим данные о пользователях, поездках и подписках в один датафрейм. "
   ]
  },
  {
   "cell_type": "code",
   "execution_count": 21,
   "id": "20f3a430",
   "metadata": {},
   "outputs": [],
   "source": [
    "# Общая таблица с данными\n",
    "go_fast = users.merge(rides, on='user_id').merge(subscriptions, on='subscription_type')"
   ]
  },
  {
   "cell_type": "code",
   "execution_count": 22,
   "id": "22d6f209",
   "metadata": {},
   "outputs": [
    {
     "data": {
      "text/html": [
       "<div>\n",
       "<style scoped>\n",
       "    .dataframe tbody tr th:only-of-type {\n",
       "        vertical-align: middle;\n",
       "    }\n",
       "\n",
       "    .dataframe tbody tr th {\n",
       "        vertical-align: top;\n",
       "    }\n",
       "\n",
       "    .dataframe thead th {\n",
       "        text-align: right;\n",
       "    }\n",
       "</style>\n",
       "<table border=\"1\" class=\"dataframe\">\n",
       "  <thead>\n",
       "    <tr style=\"text-align: right;\">\n",
       "      <th></th>\n",
       "      <th>user_id</th>\n",
       "      <th>name</th>\n",
       "      <th>age</th>\n",
       "      <th>city</th>\n",
       "      <th>subscription_type</th>\n",
       "      <th>distance</th>\n",
       "      <th>duration</th>\n",
       "      <th>date</th>\n",
       "      <th>month</th>\n",
       "      <th>minute_price</th>\n",
       "      <th>start_ride_price</th>\n",
       "      <th>subscription_fee</th>\n",
       "    </tr>\n",
       "  </thead>\n",
       "  <tbody>\n",
       "    <tr>\n",
       "      <th>0</th>\n",
       "      <td>1</td>\n",
       "      <td>Кира</td>\n",
       "      <td>22</td>\n",
       "      <td>Тюмень</td>\n",
       "      <td>ultra</td>\n",
       "      <td>4409.919140</td>\n",
       "      <td>25.599769</td>\n",
       "      <td>2021-01-01</td>\n",
       "      <td>1</td>\n",
       "      <td>6</td>\n",
       "      <td>0</td>\n",
       "      <td>199</td>\n",
       "    </tr>\n",
       "    <tr>\n",
       "      <th>1</th>\n",
       "      <td>1</td>\n",
       "      <td>Кира</td>\n",
       "      <td>22</td>\n",
       "      <td>Тюмень</td>\n",
       "      <td>ultra</td>\n",
       "      <td>2617.592153</td>\n",
       "      <td>15.816871</td>\n",
       "      <td>2021-01-18</td>\n",
       "      <td>1</td>\n",
       "      <td>6</td>\n",
       "      <td>0</td>\n",
       "      <td>199</td>\n",
       "    </tr>\n",
       "    <tr>\n",
       "      <th>2</th>\n",
       "      <td>1</td>\n",
       "      <td>Кира</td>\n",
       "      <td>22</td>\n",
       "      <td>Тюмень</td>\n",
       "      <td>ultra</td>\n",
       "      <td>754.159807</td>\n",
       "      <td>6.232113</td>\n",
       "      <td>2021-04-20</td>\n",
       "      <td>4</td>\n",
       "      <td>6</td>\n",
       "      <td>0</td>\n",
       "      <td>199</td>\n",
       "    </tr>\n",
       "    <tr>\n",
       "      <th>3</th>\n",
       "      <td>1</td>\n",
       "      <td>Кира</td>\n",
       "      <td>22</td>\n",
       "      <td>Тюмень</td>\n",
       "      <td>ultra</td>\n",
       "      <td>2694.783254</td>\n",
       "      <td>18.511000</td>\n",
       "      <td>2021-08-11</td>\n",
       "      <td>8</td>\n",
       "      <td>6</td>\n",
       "      <td>0</td>\n",
       "      <td>199</td>\n",
       "    </tr>\n",
       "    <tr>\n",
       "      <th>4</th>\n",
       "      <td>1</td>\n",
       "      <td>Кира</td>\n",
       "      <td>22</td>\n",
       "      <td>Тюмень</td>\n",
       "      <td>ultra</td>\n",
       "      <td>4028.687306</td>\n",
       "      <td>26.265803</td>\n",
       "      <td>2021-08-28</td>\n",
       "      <td>8</td>\n",
       "      <td>6</td>\n",
       "      <td>0</td>\n",
       "      <td>199</td>\n",
       "    </tr>\n",
       "  </tbody>\n",
       "</table>\n",
       "</div>"
      ],
      "text/plain": [
       "   user_id  name  age    city subscription_type     distance   duration  \\\n",
       "0        1  Кира   22  Тюмень             ultra  4409.919140  25.599769   \n",
       "1        1  Кира   22  Тюмень             ultra  2617.592153  15.816871   \n",
       "2        1  Кира   22  Тюмень             ultra   754.159807   6.232113   \n",
       "3        1  Кира   22  Тюмень             ultra  2694.783254  18.511000   \n",
       "4        1  Кира   22  Тюмень             ultra  4028.687306  26.265803   \n",
       "\n",
       "        date  month  minute_price  start_ride_price  subscription_fee  \n",
       "0 2021-01-01      1             6                 0               199  \n",
       "1 2021-01-18      1             6                 0               199  \n",
       "2 2021-04-20      4             6                 0               199  \n",
       "3 2021-08-11      8             6                 0               199  \n",
       "4 2021-08-28      8             6                 0               199  "
      ]
     },
     "execution_count": 22,
     "metadata": {},
     "output_type": "execute_result"
    }
   ],
   "source": [
    "go_fast.head()"
   ]
  },
  {
   "cell_type": "markdown",
   "id": "7415d3c7",
   "metadata": {},
   "source": [
    "Создадим ещё два датафрейма из датафрейма `go_fast`:\n",
    "- c данными о пользователях без подписки;\n",
    "- с данными о пользователях с подпиской."
   ]
  },
  {
   "cell_type": "code",
   "execution_count": 23,
   "id": "fb4fcce1",
   "metadata": {},
   "outputs": [],
   "source": [
    "sub_ultra = go_fast[go_fast['subscription_type'] == 'ultra']\n",
    "sub_free = go_fast[go_fast['subscription_type'] == 'free']"
   ]
  },
  {
   "cell_type": "markdown",
   "id": "01166c4c",
   "metadata": {},
   "source": [
    "Визуализируем информацию о расстоянии и времени поездок для пользователей обеих категорий."
   ]
  },
  {
   "cell_type": "code",
   "execution_count": 24,
   "id": "695813d8",
   "metadata": {},
   "outputs": [
    {
     "data": {
      "image/png": "[encoded data removed]",
      "text/plain": [
       "<Figure size 1080x360 with 1 Axes>"
      ]
     },
     "metadata": {
      "needs_background": "light"
     },
     "output_type": "display_data"
    }
   ],
   "source": [
    "plt.figure(figsize=(15, 5))\n",
    "plt.hist(sub_free['distance'], bins=150, alpha=0.5, label='Без подписки')\n",
    "plt.hist(sub_ultra['distance'], bins=150, alpha=0.7, label='С подпиской')\n",
    "\n",
    "plt.title('Количество поездок в зависимости от расстояния поездки')\n",
    "plt.xlabel('Расстояние в метрах')\n",
    "plt.ylabel('Количество поездок')\n",
    "plt.legend()\n",
    "plt.grid(axis='y', linestyle='--')\n",
    "plt.show()"
   ]
  },
  {
   "cell_type": "code",
   "execution_count": 25,
   "id": "8236a8f8",
   "metadata": {},
   "outputs": [
    {
     "data": {
      "image/png": "[encoded data removed]",
      "text/plain": [
       "<Figure size 1080x360 with 1 Axes>"
      ]
     },
     "metadata": {
      "needs_background": "light"
     },
     "output_type": "display_data"
    }
   ],
   "source": [
    "plt.figure(figsize=(15, 5))\n",
    "plt.hist(sub_free['duration'], bins=150, alpha=0.5, label='Без подписки')\n",
    "plt.hist(sub_ultra['duration'], bins=150, alpha=0.7, label='С подпиской')\n",
    "\n",
    "plt.title('Количество поездок в зависимости от продолжительности')\n",
    "plt.xlabel('Продолжительность поездки, мин')\n",
    "plt.ylabel('Количество поездок')\n",
    "plt.legend()\n",
    "plt.grid(axis='y', linestyle='--')\n",
    "plt.show()"
   ]
  },
  {
   "cell_type": "markdown",
   "id": "a10918b4",
   "metadata": {},
   "source": [
    "**Выводы:**\n",
    "- Объединили данные о пользователях, поездках и тарифах в один датафрейм `go_fast`.\n",
    "- Выделили два датафрейма на основе `go_fast`:\n",
    " - `sub_free` - Информация о пользователях с бесплатным тарифом\n",
    " - `sub_ultra` - Информация о пользователях с платным тарифом\n",
    "- Визуализировали информацию о расстоянии и времени для каждого из тарифов:\n",
    " - Для бесплатного тарифа время поездки составляет от 10 до 30 минут, и проезжают от 2 до 5 км, есть пользователи, которые проехали даже 6, 6.5 км. Все аномалии с продолжительностью поездки, равной 0.5 минут, отмечены у пользователей с бесплатным тарифом. Причина возникновения данной аномалии не ясна.  \n",
    " - В платном тарифе время укладывается в промежуток от 15 до 25 минут. Пик расстояния приходится на 3км.\n",
    "\n",
    "Таким образом, можно сделать вывод, что пользователи с бесплатным тарифом в целом совершают более долгие поездки, а также проезжают большее расстояние, чем пользователи на платном тарифе."
   ]
  },
  {
   "cell_type": "markdown",
   "id": "04356406",
   "metadata": {},
   "source": [
    "#### Шаг 5. Подсчёт выручки"
   ]
  },
  {
   "cell_type": "markdown",
   "id": "cf49e827",
   "metadata": {},
   "source": [
    "Создадим датафрейм с агрегированными данными о поездках на основе датафрейма с объединёнными данными из шага 4: найдем суммарное расстояние, количество поездок и суммарное время для каждого пользователя за каждый месяц."
   ]
  },
  {
   "cell_type": "code",
   "execution_count": 26,
   "id": "d48e9611",
   "metadata": {},
   "outputs": [
    {
     "data": {
      "text/html": [
       "<div>\n",
       "<style scoped>\n",
       "    .dataframe tbody tr th:only-of-type {\n",
       "        vertical-align: middle;\n",
       "    }\n",
       "\n",
       "    .dataframe tbody tr th {\n",
       "        vertical-align: top;\n",
       "    }\n",
       "\n",
       "    .dataframe thead th {\n",
       "        text-align: right;\n",
       "    }\n",
       "</style>\n",
       "<table border=\"1\" class=\"dataframe\">\n",
       "  <thead>\n",
       "    <tr style=\"text-align: right;\">\n",
       "      <th></th>\n",
       "      <th></th>\n",
       "      <th>distance</th>\n",
       "      <th>duration</th>\n",
       "      <th>rides_count</th>\n",
       "      <th>subscription_type</th>\n",
       "    </tr>\n",
       "    <tr>\n",
       "      <th>month</th>\n",
       "      <th>user_id</th>\n",
       "      <th></th>\n",
       "      <th></th>\n",
       "      <th></th>\n",
       "      <th></th>\n",
       "    </tr>\n",
       "  </thead>\n",
       "  <tbody>\n",
       "    <tr>\n",
       "      <th rowspan=\"20\" valign=\"top\">1</th>\n",
       "      <th>1</th>\n",
       "      <td>7027.511294</td>\n",
       "      <td>42.0</td>\n",
       "      <td>2</td>\n",
       "      <td>ultra</td>\n",
       "    </tr>\n",
       "    <tr>\n",
       "      <th>1061</th>\n",
       "      <td>12637.249630</td>\n",
       "      <td>42.0</td>\n",
       "      <td>3</td>\n",
       "      <td>free</td>\n",
       "    </tr>\n",
       "    <tr>\n",
       "      <th>1063</th>\n",
       "      <td>3276.362299</td>\n",
       "      <td>10.0</td>\n",
       "      <td>1</td>\n",
       "      <td>free</td>\n",
       "    </tr>\n",
       "    <tr>\n",
       "      <th>1064</th>\n",
       "      <td>5297.324649</td>\n",
       "      <td>15.0</td>\n",
       "      <td>1</td>\n",
       "      <td>free</td>\n",
       "    </tr>\n",
       "    <tr>\n",
       "      <th>1065</th>\n",
       "      <td>14547.099333</td>\n",
       "      <td>97.0</td>\n",
       "      <td>4</td>\n",
       "      <td>free</td>\n",
       "    </tr>\n",
       "    <tr>\n",
       "      <th>1066</th>\n",
       "      <td>2809.064949</td>\n",
       "      <td>19.0</td>\n",
       "      <td>1</td>\n",
       "      <td>free</td>\n",
       "    </tr>\n",
       "    <tr>\n",
       "      <th>1067</th>\n",
       "      <td>3864.900780</td>\n",
       "      <td>22.0</td>\n",
       "      <td>1</td>\n",
       "      <td>free</td>\n",
       "    </tr>\n",
       "    <tr>\n",
       "      <th>1069</th>\n",
       "      <td>7007.076943</td>\n",
       "      <td>51.0</td>\n",
       "      <td>3</td>\n",
       "      <td>free</td>\n",
       "    </tr>\n",
       "    <tr>\n",
       "      <th>1071</th>\n",
       "      <td>3635.094136</td>\n",
       "      <td>15.0</td>\n",
       "      <td>1</td>\n",
       "      <td>free</td>\n",
       "    </tr>\n",
       "    <tr>\n",
       "      <th>1072</th>\n",
       "      <td>2498.615999</td>\n",
       "      <td>11.0</td>\n",
       "      <td>1</td>\n",
       "      <td>free</td>\n",
       "    </tr>\n",
       "    <tr>\n",
       "      <th>1073</th>\n",
       "      <td>2945.802455</td>\n",
       "      <td>16.0</td>\n",
       "      <td>1</td>\n",
       "      <td>free</td>\n",
       "    </tr>\n",
       "    <tr>\n",
       "      <th>1074</th>\n",
       "      <td>2814.793386</td>\n",
       "      <td>22.0</td>\n",
       "      <td>1</td>\n",
       "      <td>free</td>\n",
       "    </tr>\n",
       "    <tr>\n",
       "      <th>1075</th>\n",
       "      <td>5746.745124</td>\n",
       "      <td>28.0</td>\n",
       "      <td>3</td>\n",
       "      <td>free</td>\n",
       "    </tr>\n",
       "    <tr>\n",
       "      <th>1077</th>\n",
       "      <td>114.036199</td>\n",
       "      <td>13.0</td>\n",
       "      <td>1</td>\n",
       "      <td>free</td>\n",
       "    </tr>\n",
       "    <tr>\n",
       "      <th>1078</th>\n",
       "      <td>3748.219563</td>\n",
       "      <td>19.0</td>\n",
       "      <td>1</td>\n",
       "      <td>free</td>\n",
       "    </tr>\n",
       "    <tr>\n",
       "      <th>1082</th>\n",
       "      <td>7250.124895</td>\n",
       "      <td>30.0</td>\n",
       "      <td>2</td>\n",
       "      <td>free</td>\n",
       "    </tr>\n",
       "    <tr>\n",
       "      <th>1083</th>\n",
       "      <td>5848.881463</td>\n",
       "      <td>30.0</td>\n",
       "      <td>2</td>\n",
       "      <td>free</td>\n",
       "    </tr>\n",
       "    <tr>\n",
       "      <th>1084</th>\n",
       "      <td>4615.097141</td>\n",
       "      <td>25.0</td>\n",
       "      <td>1</td>\n",
       "      <td>free</td>\n",
       "    </tr>\n",
       "    <tr>\n",
       "      <th>1085</th>\n",
       "      <td>11410.546346</td>\n",
       "      <td>62.0</td>\n",
       "      <td>3</td>\n",
       "      <td>free</td>\n",
       "    </tr>\n",
       "    <tr>\n",
       "      <th>1086</th>\n",
       "      <td>4044.280322</td>\n",
       "      <td>18.0</td>\n",
       "      <td>1</td>\n",
       "      <td>free</td>\n",
       "    </tr>\n",
       "  </tbody>\n",
       "</table>\n",
       "</div>"
      ],
      "text/plain": [
       "                   distance  duration  rides_count subscription_type\n",
       "month user_id                                                       \n",
       "1     1         7027.511294      42.0            2             ultra\n",
       "      1061     12637.249630      42.0            3              free\n",
       "      1063      3276.362299      10.0            1              free\n",
       "      1064      5297.324649      15.0            1              free\n",
       "      1065     14547.099333      97.0            4              free\n",
       "      1066      2809.064949      19.0            1              free\n",
       "      1067      3864.900780      22.0            1              free\n",
       "      1069      7007.076943      51.0            3              free\n",
       "      1071      3635.094136      15.0            1              free\n",
       "      1072      2498.615999      11.0            1              free\n",
       "      1073      2945.802455      16.0            1              free\n",
       "      1074      2814.793386      22.0            1              free\n",
       "      1075      5746.745124      28.0            3              free\n",
       "      1077       114.036199      13.0            1              free\n",
       "      1078      3748.219563      19.0            1              free\n",
       "      1082      7250.124895      30.0            2              free\n",
       "      1083      5848.881463      30.0            2              free\n",
       "      1084      4615.097141      25.0            1              free\n",
       "      1085     11410.546346      62.0            3              free\n",
       "      1086      4044.280322      18.0            1              free"
      ]
     },
     "execution_count": 26,
     "metadata": {},
     "output_type": "execute_result"
    }
   ],
   "source": [
    "go_fast_pivot = go_fast.pivot_table(index=['month', 'user_id'],\n",
    "                                    values = ['distance', 'duration', 'name', 'subscription_type'],\n",
    "                                    aggfunc = {'distance': sum, \n",
    "                                               'duration' : sum,\n",
    "                                               'name' : len, \n",
    "                                               'subscription_type' : min})\n",
    "go_fast_pivot.rename(columns = {'name' : 'rides_count'}, inplace = True)\n",
    "go_fast_pivot['duration'] = np.ceil(go_fast_pivot['duration'])\n",
    "go_fast_pivot.sort_values(by='month').head(20)"
   ]
  },
  {
   "cell_type": "markdown",
   "id": "322fd32d",
   "metadata": {},
   "source": [
    "Добавим столбец с помесячной выручкой, которую принёс каждый пользователь. Для этого обратимся к информации об условиях оплаты для подписчиков и тех, у кого нет подписки. Продолжительность каждой поездки в каждой строке исходного датафрейма для подсчёта стоимости округлим до следующего целого числа."
   ]
  },
  {
   "cell_type": "code",
   "execution_count": 27,
   "id": "274bb5f3",
   "metadata": {},
   "outputs": [],
   "source": [
    "def revenue(row):\n",
    "    if row['subscription_type'] == 'ultra':\n",
    "        return 6 * row['duration'] + 199\n",
    "    elif row['subscription_type'] == 'free':\n",
    "        return 8 * row['duration'] + 50 * row['rides_count']\n",
    "    else:\n",
    "        return 'Not such sub'"
   ]
  },
  {
   "cell_type": "code",
   "execution_count": 28,
   "id": "730b401e",
   "metadata": {},
   "outputs": [
    {
     "data": {
      "text/html": [
       "<div>\n",
       "<style scoped>\n",
       "    .dataframe tbody tr th:only-of-type {\n",
       "        vertical-align: middle;\n",
       "    }\n",
       "\n",
       "    .dataframe tbody tr th {\n",
       "        vertical-align: top;\n",
       "    }\n",
       "\n",
       "    .dataframe thead th {\n",
       "        text-align: right;\n",
       "    }\n",
       "</style>\n",
       "<table border=\"1\" class=\"dataframe\">\n",
       "  <thead>\n",
       "    <tr style=\"text-align: right;\">\n",
       "      <th></th>\n",
       "      <th></th>\n",
       "      <th>distance</th>\n",
       "      <th>duration</th>\n",
       "      <th>rides_count</th>\n",
       "      <th>subscription_type</th>\n",
       "      <th>revenue_per_month</th>\n",
       "    </tr>\n",
       "    <tr>\n",
       "      <th>month</th>\n",
       "      <th>user_id</th>\n",
       "      <th></th>\n",
       "      <th></th>\n",
       "      <th></th>\n",
       "      <th></th>\n",
       "      <th></th>\n",
       "    </tr>\n",
       "  </thead>\n",
       "  <tbody>\n",
       "    <tr>\n",
       "      <th rowspan=\"20\" valign=\"top\">1</th>\n",
       "      <th>1</th>\n",
       "      <td>7027.511294</td>\n",
       "      <td>42.0</td>\n",
       "      <td>2</td>\n",
       "      <td>ultra</td>\n",
       "      <td>451.0</td>\n",
       "    </tr>\n",
       "    <tr>\n",
       "      <th>3</th>\n",
       "      <td>3061.777147</td>\n",
       "      <td>13.0</td>\n",
       "      <td>1</td>\n",
       "      <td>ultra</td>\n",
       "      <td>277.0</td>\n",
       "    </tr>\n",
       "    <tr>\n",
       "      <th>5</th>\n",
       "      <td>3914.646990</td>\n",
       "      <td>13.0</td>\n",
       "      <td>1</td>\n",
       "      <td>ultra</td>\n",
       "      <td>277.0</td>\n",
       "    </tr>\n",
       "    <tr>\n",
       "      <th>7</th>\n",
       "      <td>6478.080979</td>\n",
       "      <td>28.0</td>\n",
       "      <td>2</td>\n",
       "      <td>ultra</td>\n",
       "      <td>367.0</td>\n",
       "    </tr>\n",
       "    <tr>\n",
       "      <th>12</th>\n",
       "      <td>3577.151148</td>\n",
       "      <td>33.0</td>\n",
       "      <td>1</td>\n",
       "      <td>ultra</td>\n",
       "      <td>397.0</td>\n",
       "    </tr>\n",
       "    <tr>\n",
       "      <th>13</th>\n",
       "      <td>6687.987446</td>\n",
       "      <td>42.0</td>\n",
       "      <td>2</td>\n",
       "      <td>ultra</td>\n",
       "      <td>451.0</td>\n",
       "    </tr>\n",
       "    <tr>\n",
       "      <th>14</th>\n",
       "      <td>7699.643820</td>\n",
       "      <td>34.0</td>\n",
       "      <td>2</td>\n",
       "      <td>ultra</td>\n",
       "      <td>403.0</td>\n",
       "    </tr>\n",
       "    <tr>\n",
       "      <th>15</th>\n",
       "      <td>4187.621459</td>\n",
       "      <td>39.0</td>\n",
       "      <td>1</td>\n",
       "      <td>ultra</td>\n",
       "      <td>433.0</td>\n",
       "    </tr>\n",
       "    <tr>\n",
       "      <th>20</th>\n",
       "      <td>3516.719208</td>\n",
       "      <td>29.0</td>\n",
       "      <td>1</td>\n",
       "      <td>ultra</td>\n",
       "      <td>373.0</td>\n",
       "    </tr>\n",
       "    <tr>\n",
       "      <th>22</th>\n",
       "      <td>3058.692225</td>\n",
       "      <td>13.0</td>\n",
       "      <td>1</td>\n",
       "      <td>ultra</td>\n",
       "      <td>277.0</td>\n",
       "    </tr>\n",
       "    <tr>\n",
       "      <th>25</th>\n",
       "      <td>3440.353053</td>\n",
       "      <td>17.0</td>\n",
       "      <td>1</td>\n",
       "      <td>ultra</td>\n",
       "      <td>301.0</td>\n",
       "    </tr>\n",
       "    <tr>\n",
       "      <th>26</th>\n",
       "      <td>6545.964099</td>\n",
       "      <td>27.0</td>\n",
       "      <td>2</td>\n",
       "      <td>ultra</td>\n",
       "      <td>361.0</td>\n",
       "    </tr>\n",
       "    <tr>\n",
       "      <th>30</th>\n",
       "      <td>7774.720501</td>\n",
       "      <td>25.0</td>\n",
       "      <td>2</td>\n",
       "      <td>ultra</td>\n",
       "      <td>349.0</td>\n",
       "    </tr>\n",
       "    <tr>\n",
       "      <th>32</th>\n",
       "      <td>3734.993902</td>\n",
       "      <td>25.0</td>\n",
       "      <td>1</td>\n",
       "      <td>ultra</td>\n",
       "      <td>349.0</td>\n",
       "    </tr>\n",
       "    <tr>\n",
       "      <th>35</th>\n",
       "      <td>9707.810053</td>\n",
       "      <td>57.0</td>\n",
       "      <td>3</td>\n",
       "      <td>ultra</td>\n",
       "      <td>541.0</td>\n",
       "    </tr>\n",
       "    <tr>\n",
       "      <th>42</th>\n",
       "      <td>4329.769187</td>\n",
       "      <td>23.0</td>\n",
       "      <td>1</td>\n",
       "      <td>ultra</td>\n",
       "      <td>337.0</td>\n",
       "    </tr>\n",
       "    <tr>\n",
       "      <th>43</th>\n",
       "      <td>6322.206034</td>\n",
       "      <td>47.0</td>\n",
       "      <td>2</td>\n",
       "      <td>ultra</td>\n",
       "      <td>481.0</td>\n",
       "    </tr>\n",
       "    <tr>\n",
       "      <th>44</th>\n",
       "      <td>2944.410629</td>\n",
       "      <td>19.0</td>\n",
       "      <td>2</td>\n",
       "      <td>ultra</td>\n",
       "      <td>313.0</td>\n",
       "    </tr>\n",
       "    <tr>\n",
       "      <th>45</th>\n",
       "      <td>3702.424319</td>\n",
       "      <td>27.0</td>\n",
       "      <td>2</td>\n",
       "      <td>ultra</td>\n",
       "      <td>361.0</td>\n",
       "    </tr>\n",
       "    <tr>\n",
       "      <th>46</th>\n",
       "      <td>3242.092435</td>\n",
       "      <td>20.0</td>\n",
       "      <td>1</td>\n",
       "      <td>ultra</td>\n",
       "      <td>319.0</td>\n",
       "    </tr>\n",
       "  </tbody>\n",
       "</table>\n",
       "</div>"
      ],
      "text/plain": [
       "                  distance  duration  rides_count subscription_type  \\\n",
       "month user_id                                                         \n",
       "1     1        7027.511294      42.0            2             ultra   \n",
       "      3        3061.777147      13.0            1             ultra   \n",
       "      5        3914.646990      13.0            1             ultra   \n",
       "      7        6478.080979      28.0            2             ultra   \n",
       "      12       3577.151148      33.0            1             ultra   \n",
       "      13       6687.987446      42.0            2             ultra   \n",
       "      14       7699.643820      34.0            2             ultra   \n",
       "      15       4187.621459      39.0            1             ultra   \n",
       "      20       3516.719208      29.0            1             ultra   \n",
       "      22       3058.692225      13.0            1             ultra   \n",
       "      25       3440.353053      17.0            1             ultra   \n",
       "      26       6545.964099      27.0            2             ultra   \n",
       "      30       7774.720501      25.0            2             ultra   \n",
       "      32       3734.993902      25.0            1             ultra   \n",
       "      35       9707.810053      57.0            3             ultra   \n",
       "      42       4329.769187      23.0            1             ultra   \n",
       "      43       6322.206034      47.0            2             ultra   \n",
       "      44       2944.410629      19.0            2             ultra   \n",
       "      45       3702.424319      27.0            2             ultra   \n",
       "      46       3242.092435      20.0            1             ultra   \n",
       "\n",
       "               revenue_per_month  \n",
       "month user_id                     \n",
       "1     1                    451.0  \n",
       "      3                    277.0  \n",
       "      5                    277.0  \n",
       "      7                    367.0  \n",
       "      12                   397.0  \n",
       "      13                   451.0  \n",
       "      14                   403.0  \n",
       "      15                   433.0  \n",
       "      20                   373.0  \n",
       "      22                   277.0  \n",
       "      25                   301.0  \n",
       "      26                   361.0  \n",
       "      30                   349.0  \n",
       "      32                   349.0  \n",
       "      35                   541.0  \n",
       "      42                   337.0  \n",
       "      43                   481.0  \n",
       "      44                   313.0  \n",
       "      45                   361.0  \n",
       "      46                   319.0  "
      ]
     },
     "execution_count": 28,
     "metadata": {},
     "output_type": "execute_result"
    }
   ],
   "source": [
    "go_fast_pivot['revenue_per_month'] = go_fast_pivot.apply(revenue, axis=1)\n",
    "go_fast_pivot.head(20)"
   ]
  },
  {
   "cell_type": "markdown",
   "id": "160b9764",
   "metadata": {},
   "source": [
    "**Выводы:**\n",
    "- Создали новый датафрейм с агрегированными данными `go_fast_pivot` на основе датафрейма с объединенными данными.\n",
    "- Нашли суммарное расстояние, количество поездок и суммарное время для каждого пользователя за каждый месяц. Также добавили столбец с помесячной выручкой, которую принес каждый пользователь."
   ]
  },
  {
   "cell_type": "markdown",
   "id": "760046d8",
   "metadata": {},
   "source": [
    "#### Шаг 6. Проверка гипотез"
   ]
  },
  {
   "cell_type": "markdown",
   "id": "f21d7a18",
   "metadata": {},
   "source": [
    "Важно понять, тратят ли пользователи с подпиской больше времени на поездки? Если да, то пользователи с подпиской могут быть «выгоднее» для компании. Проверим гипотезу. Используем исходные данные о продолжительности каждой сессии — отдельно для подписчиков и тех, у кого нет подписки."
   ]
  },
  {
   "cell_type": "markdown",
   "id": "1bb0dae9",
   "metadata": {},
   "source": [
    "Выдвинем гипотезы:\n",
    "\n",
    "- Нулевая гипотеза: средняя продолжительность поездок пользователей с подпиской равна средней продолжительности поездок пользователей без подписки.\n",
    "- Альтернативная гипотеза: поездки пользователей с подпиской более продолжительные."
   ]
  },
  {
   "cell_type": "code",
   "execution_count": 29,
   "id": "a23401d7",
   "metadata": {},
   "outputs": [
    {
     "name": "stdout",
     "output_type": "stream",
     "text": [
      "p-значение: 1.2804098316645618e-34\n",
      "Отвергаем нулевую гипотезу\n"
     ]
    }
   ],
   "source": [
    "alpha = 0.05 # уровень статистической значимости\n",
    "\n",
    "results = st.ttest_ind(sub_ultra['duration'], sub_free['duration'], alternative='greater')\n",
    "\n",
    "print('p-значение:', results.pvalue)\n",
    "\n",
    "if results.pvalue < alpha:\n",
    "    print('Отвергаем нулевую гипотезу')\n",
    "else:\n",
    "    print('Не отвергаем нулевую гипотезу')"
   ]
  },
  {
   "cell_type": "markdown",
   "id": "1cac7471",
   "metadata": {},
   "source": [
    "Расстояние одной поездки в 3130 метров — оптимальное с точки зрения износа самоката. Можно ли сказать, что среднее расстояние, которое проезжают пользователи с подпиской за одну поездку, не превышает 3130 метров? Проверим гипотезу и сделаем выводы."
   ]
  },
  {
   "cell_type": "markdown",
   "id": "694538b7",
   "metadata": {},
   "source": [
    "Выдвинем гипотезы:\n",
    "- Нулевая гипотеза: Среднее расстояние поездок с использованием подписки  `ultra` равно оптимальному расстоянию в 3130 метров.\n",
    "- Альтернативная гипотеза: Среднее расстояние поездок с использованием подписки `ultra` более 3130 метров."
   ]
  },
  {
   "cell_type": "code",
   "execution_count": 30,
   "id": "0becf273",
   "metadata": {},
   "outputs": [
    {
     "name": "stdout",
     "output_type": "stream",
     "text": [
      "0.9195368847849785\n",
      "Не отвергаем нулевую гипотезу\n"
     ]
    }
   ],
   "source": [
    "optimal_value = 3130\n",
    "results = st.ttest_1samp(sub_ultra['distance'], optimal_value, alternative='greater')\n",
    "print(results.pvalue)\n",
    "if results.pvalue < .05:\n",
    "    print('Отвергаем нулевую гипотезу')\n",
    "else:\n",
    "    print('Не отвергаем нулевую гипотезу')"
   ]
  },
  {
   "cell_type": "markdown",
   "id": "0daa923b",
   "metadata": {},
   "source": [
    "Проверим гипотезу о том, будет ли помесячная выручка от пользователей с подпиской по месяцам выше, чем выручка от пользователей без подписки."
   ]
  },
  {
   "cell_type": "markdown",
   "id": "36a5416c",
   "metadata": {},
   "source": [
    "Выдвинем гипотезы:\n",
    "\n",
    "- Нулевая гипотеза: Помесячная средняя выручка от пользователей с подпиской равна помесячной средней выручке от пользователей без подписки.\n",
    "- Альтернативная гипотеза: Помесячная средняя выручка от пользователей с подпиской больше помесячной средней выручки от пользователей без подписки."
   ]
  },
  {
   "cell_type": "code",
   "execution_count": 31,
   "id": "bfc88b85",
   "metadata": {},
   "outputs": [
    {
     "name": "stdout",
     "output_type": "stream",
     "text": [
      "2.8130926188487286e-35\n",
      "Отвергаем нулевую гипотезу\n"
     ]
    }
   ],
   "source": [
    "ultra_per_mnth = go_fast_pivot.loc[go_fast_pivot.subscription_type == 'ultra', 'revenue_per_month'] \n",
    "free_per_mnth = go_fast_pivot.loc[go_fast_pivot.subscription_type == 'free', 'revenue_per_month'] \n",
    "\n",
    "\n",
    "results = st.ttest_ind(ultra_per_mnth, free_per_mnth, alternative = 'greater')\n",
    "\n",
    "alpha = .05\n",
    "\n",
    "print(results.pvalue)\n",
    "\n",
    "if results.pvalue < alpha:\n",
    "    print('Отвергаем нулевую гипотезу')\n",
    "else:\n",
    "    print('Не отвергаем нулевую гипотезу')"
   ]
  },
  {
   "cell_type": "markdown",
   "id": "59e43959",
   "metadata": {},
   "source": [
    "Представим такую ситуацию: техническая команда сервиса обновила сервера, с которыми взаимодействует мобильное приложение. Она надеется, что из-за этого количество обращений в техподдержку значимо снизилось. Некоторый файл содержит для каждого пользователя данные о количестве обращений до обновления и после него. Какой тест понадобится бы для проверки этой гипотезы?"
   ]
  },
  {
   "cell_type": "markdown",
   "id": "3d6ed414",
   "metadata": {},
   "source": [
    "Т.к. в файле содежатся данные о количестве обращений до и после обновления для каждого пользователя, будем считать обе выборки одинакового размера. В данном случае проверяется гипотеза о равенстве среднего генеральной совокупности до и после изменения и используется двухвыборочный t-тест для зависимых выборок c правосторонней проверкой гипотезы.\n",
    "Тест будет иметь следующий вид:\n",
    "- Нулевая гипотеза: Количество обращений в техподдержку до `before` и после `after` обновления сервера равны.\n",
    "- Альтернативная гипотеза: Количество обращений в техподдержку до обновления сервера больше количества обращений в техподдержку после обновления сервера.\n",
    "\n",
    "`results = scipy.stats.ttest_rel(before, after, alternative = 'greater')`"
   ]
  },
  {
   "cell_type": "markdown",
   "id": "98600b84",
   "metadata": {},
   "source": [
    "**Выводы**\n",
    "\n",
    "Прoверили ряд гипотез и получили следующие результаты: \n",
    "- Продолжительность поездки пользователей с подпиской в среднем больше продолжительности поездок пользователей без подписки.\n",
    "- Среднее расстояние поездок пользователей с подпиской равно оптимальному с точки зрения износа самоката расстоянию в 3130 метров.\n",
    "- Помесячная средняя выручка от пользователей с подпиской больше помесячной средней выручки от пользователей без подписки."
   ]
  },
  {
   "cell_type": "markdown",
   "id": "cb2e75fa",
   "metadata": {},
   "source": [
    "#### Общий вывод"
   ]
  },
  {
   "cell_type": "markdown",
   "id": "28ae8a20",
   "metadata": {},
   "source": [
    "Основная цель проекта достигнута. Проанализированы данные сервиса аренды самокатов и проверены некоторые гипотезы, которые могут помочь бизнесу вырасти.\n",
    "\n",
    "В ходе проекта были проделаны следующие шаги:\n",
    "1. Загрузка данных.\n",
    "2. Предобработка данных:\n",
    "- Корректировка типов данных столбцов.\n",
    "- Добавление столбцов.\n",
    "- Обработка неявных дубликатов.\n",
    "- Проверка результатов предобработки данных.\n",
    "3. Исследовательский анализ данных:\n",
    "- Частота встречаемости городов.\n",
    "- Соотношение пользователей с подпиской и без нее.\n",
    "- Возраст пользователей.\n",
    "- Расстояние одной поездки.\n",
    "- Продолжительность поездок.\n",
    "- Сделаны промежуточные выводы исследовательского анализа.\n",
    "4. Объединение данных:\n",
    "- Объединение данных о пользователях, поездках и подписках в один датафрейм методом merge().\n",
    "- Создание двух датафреймов с пользователями, имеющими подписку и без нее, на основе общего датафрейма.\n",
    "- Визуализация данных из датафреймов, разделенных на пользователей с подпиской и без.\n",
    "5. Подсчёт выручки:\n",
    "- Создание датафрейма, агрегированного по пользователям, на основе ‘total_go’\n",
    "- Добавление столбца в агрегированный датафрейм с помесячной выручкой по каждому пользователю\n",
    "6. Проверка гипотез:\n",
    "- Тратят ли пользователи с подпиской больше времени на поездки?\n",
    "- Расстояние, которое проезжают пользователи с подпиской за одну поездку, не превышает 3130 метров?\n",
    "- Помесячная выручка от пользователей с подпиской по месяцам выше, чем выручка от пользователей без подписки?\n",
    "\n",
    "В ходе исследовательского анализа данных было выявлено:\n",
    "- Датафреймы содержат данные о пользователях из 8-ми городов. Больше всего пользователей из Пятигорска — 219 (14.28 %), меньше всего из Москвы — 168 (10.95%).\n",
    "- Пользователей, использующих бесплатную подписку больше - 835 человек (54.4%) от общего числа пользователей. На платной подписке сидит 699 пользователей (45.6%). В зависимости от городов данное соотнощшение также соблюдается.\n",
    "- Услугами сервиса аренды самокатов пользуются люди от 12 до 43 лет. Распределение возрастной кривой имеет нормальное распределение. Максимальное количество пользователей в возрасте 25 лет, этот же возраст является медианным.\n",
    "- За одну поездку пользователи преодолевают от 1 до 7211 метров. Медиана всех значений равна 3134 метров. Наблюдаются два пика. Малый пик около 700 метров, большой пик около 3200 метров. Между пиками значения нормально распределены.\n",
    "- Продолжительность поездок нормально распределена от 0 до 35 минут, с выбросами до 48 минут. Продолжительность в 18 минут является как наиболее распространенной так и медианным значением. Наблюдается аномалия размером 95 поездок с продолжительностью в 0.5 минуты. О данной аномалии необходимо указать владельцам проката для устранения. Данную аномалию заменили продолжительностями поездок, посчитанными на основе медианы скорости поездок каждого пользователя.\n",
    "\n",
    "В результате группировки данных выявлено:\n",
    "- Для бесплатного тарифа время поездки составляет от 10 до 30 минут, и проезжают от 2 до 5 км, есть пользователи, которые проехали даже 6, 6.5 км. Все аномалии с продолжительностью поездки, равной 0.5 минут, отмечены у пользователей с бесплатным тарифом. Причина возникновения данной аномалии не ясна.\n",
    "- В платном тарифе время укладывается в промежуток от 15 до 25 минут. Пик расстояния приходится на 3км.\n",
    "- Таким образом, можно сделать вывод, что пользователи с бесплатным тарифом в целом совершают более долгие поездки, а также проезжают большее расстояние, чем пользователи на платном тарифе.\n",
    "\n",
    "Прoверили ряд гипотез и получили следующие результаты:\n",
    "\n",
    "Продолжительность поездки пользователей с подпиской в среднем больше продолжительности поездок пользователей без подписки.\n",
    "Среднее расстояние поездок пользователей с подпиской равно оптимальному с точки зрения износа самоката расстоянию в 3130 метров.\n",
    "Помесячная средняя выручка от пользователей с подпиской больше помесячной средней выручки от пользователей без подписки.\n",
    "\n"
   ]
  }
 ],
 "metadata": {
  "ExecuteTimeLog": [
   {
    "duration": 1293,
    "start_time": "2024-08-09T06:23:06.718Z"
   },
   {
    "duration": 3,
    "start_time": "2024-08-09T06:23:08.013Z"
   },
   {
    "duration": 414,
    "start_time": "2024-08-09T06:24:22.367Z"
   },
   {
    "duration": 3,
    "start_time": "2024-08-09T07:01:20.744Z"
   },
   {
    "duration": 2,
    "start_time": "2024-08-09T07:01:21.195Z"
   },
   {
    "duration": 79,
    "start_time": "2024-08-09T07:01:21.676Z"
   },
   {
    "duration": 278,
    "start_time": "2024-08-09T07:01:48.032Z"
   },
   {
    "duration": 70,
    "start_time": "2024-08-09T07:02:06.092Z"
   },
   {
    "duration": 253,
    "start_time": "2024-08-09T07:02:15.547Z"
   },
   {
    "duration": 301,
    "start_time": "2024-08-09T07:04:32.446Z"
   },
   {
    "duration": 290,
    "start_time": "2024-08-09T07:06:02.354Z"
   },
   {
    "duration": 112,
    "start_time": "2024-08-09T07:50:19.028Z"
   },
   {
    "duration": 26,
    "start_time": "2024-08-09T07:50:35.781Z"
   },
   {
    "duration": 17,
    "start_time": "2024-08-09T07:51:00.758Z"
   },
   {
    "duration": 296,
    "start_time": "2024-08-09T07:51:10.947Z"
   },
   {
    "duration": 14,
    "start_time": "2024-08-09T07:52:45.496Z"
   },
   {
    "duration": 1103,
    "start_time": "2024-08-09T08:19:32.451Z"
   },
   {
    "duration": 2,
    "start_time": "2024-08-09T08:19:33.556Z"
   },
   {
    "duration": 82,
    "start_time": "2024-08-09T08:19:33.560Z"
   },
   {
    "duration": 271,
    "start_time": "2024-08-09T08:19:33.644Z"
   },
   {
    "duration": 302,
    "start_time": "2024-08-09T08:19:33.917Z"
   },
   {
    "duration": 16,
    "start_time": "2024-08-09T08:19:34.395Z"
   },
   {
    "duration": 7,
    "start_time": "2024-08-09T08:19:37.895Z"
   },
   {
    "duration": 11,
    "start_time": "2024-08-09T08:20:03.245Z"
   },
   {
    "duration": 9,
    "start_time": "2024-08-09T08:20:18.617Z"
   },
   {
    "duration": 3,
    "start_time": "2024-08-09T08:35:21.782Z"
   },
   {
    "duration": 79,
    "start_time": "2024-08-09T08:35:22.780Z"
   },
   {
    "duration": 245,
    "start_time": "2024-08-09T08:35:23.192Z"
   },
   {
    "duration": 299,
    "start_time": "2024-08-09T08:35:24.338Z"
   },
   {
    "duration": 15,
    "start_time": "2024-08-09T08:35:26.884Z"
   },
   {
    "duration": 7,
    "start_time": "2024-08-09T08:35:32.866Z"
   },
   {
    "duration": 7,
    "start_time": "2024-08-09T08:35:33.275Z"
   },
   {
    "duration": 11,
    "start_time": "2024-08-09T08:39:12.283Z"
   },
   {
    "duration": 6,
    "start_time": "2024-08-09T08:43:08.936Z"
   },
   {
    "duration": 6,
    "start_time": "2024-08-09T08:44:44.471Z"
   },
   {
    "duration": 5,
    "start_time": "2024-08-09T08:44:57.398Z"
   },
   {
    "duration": 6,
    "start_time": "2024-08-09T08:45:04.372Z"
   },
   {
    "duration": 5,
    "start_time": "2024-08-09T08:45:11.072Z"
   },
   {
    "duration": 12,
    "start_time": "2024-08-09T08:45:42.548Z"
   },
   {
    "duration": 6,
    "start_time": "2024-08-09T08:46:10.842Z"
   },
   {
    "duration": 8,
    "start_time": "2024-08-09T08:48:03.047Z"
   },
   {
    "duration": 108,
    "start_time": "2024-08-09T09:48:26.028Z"
   },
   {
    "duration": 87,
    "start_time": "2024-08-09T09:49:00.399Z"
   },
   {
    "duration": 19,
    "start_time": "2024-08-09T09:49:07.449Z"
   },
   {
    "duration": 513,
    "start_time": "2024-08-09T09:49:41.147Z"
   },
   {
    "duration": 48,
    "start_time": "2024-08-09T10:05:56.775Z"
   },
   {
    "duration": 54,
    "start_time": "2024-08-09T10:07:39.480Z"
   },
   {
    "duration": 53,
    "start_time": "2024-08-09T10:09:13.324Z"
   },
   {
    "duration": 69,
    "start_time": "2024-08-09T10:09:38.652Z"
   },
   {
    "duration": 18,
    "start_time": "2024-08-09T10:09:47.950Z"
   },
   {
    "duration": 55,
    "start_time": "2024-08-09T10:10:20.022Z"
   },
   {
    "duration": 54,
    "start_time": "2024-08-09T10:13:06.799Z"
   },
   {
    "duration": 57,
    "start_time": "2024-08-09T10:13:12.178Z"
   },
   {
    "duration": 52,
    "start_time": "2024-08-09T10:14:39.894Z"
   },
   {
    "duration": 68,
    "start_time": "2024-08-09T10:17:07.724Z"
   },
   {
    "duration": 58,
    "start_time": "2024-08-09T10:18:40.809Z"
   },
   {
    "duration": 55,
    "start_time": "2024-08-09T10:20:38.502Z"
   },
   {
    "duration": 55,
    "start_time": "2024-08-09T10:22:11.817Z"
   },
   {
    "duration": 1247,
    "start_time": "2024-08-09T10:47:19.717Z"
   },
   {
    "duration": 3,
    "start_time": "2024-08-09T10:47:20.966Z"
   },
   {
    "duration": 84,
    "start_time": "2024-08-09T10:47:20.971Z"
   },
   {
    "duration": 271,
    "start_time": "2024-08-09T10:47:21.057Z"
   },
   {
    "duration": 313,
    "start_time": "2024-08-09T10:47:21.330Z"
   },
   {
    "duration": 14,
    "start_time": "2024-08-09T10:47:21.645Z"
   },
   {
    "duration": 6,
    "start_time": "2024-08-09T10:47:22.183Z"
   },
   {
    "duration": 11,
    "start_time": "2024-08-09T10:47:22.608Z"
   },
   {
    "duration": 11,
    "start_time": "2024-08-09T10:47:23.041Z"
   },
   {
    "duration": 7,
    "start_time": "2024-08-09T10:47:23.281Z"
   },
   {
    "duration": 124,
    "start_time": "2024-08-09T10:47:24.267Z"
   },
   {
    "duration": 45,
    "start_time": "2024-08-09T10:47:50.072Z"
   },
   {
    "duration": 343,
    "start_time": "2024-08-09T10:49:14.525Z"
   },
   {
    "duration": 315,
    "start_time": "2024-08-09T10:50:07.116Z"
   },
   {
    "duration": 316,
    "start_time": "2024-08-09T10:52:23.579Z"
   },
   {
    "duration": 308,
    "start_time": "2024-08-09T10:52:41.194Z"
   },
   {
    "duration": 416,
    "start_time": "2024-08-09T10:52:54.301Z"
   },
   {
    "duration": 316,
    "start_time": "2024-08-09T10:54:02.189Z"
   },
   {
    "duration": 167,
    "start_time": "2024-08-09T10:56:38.532Z"
   },
   {
    "duration": 335,
    "start_time": "2024-08-09T10:56:49.590Z"
   },
   {
    "duration": 310,
    "start_time": "2024-08-09T10:56:56.802Z"
   },
   {
    "duration": 182,
    "start_time": "2024-08-09T10:57:15.531Z"
   },
   {
    "duration": 297,
    "start_time": "2024-08-09T10:57:27.531Z"
   },
   {
    "duration": 175,
    "start_time": "2024-08-09T10:57:36.440Z"
   },
   {
    "duration": 179,
    "start_time": "2024-08-09T10:58:17.821Z"
   },
   {
    "duration": 13,
    "start_time": "2024-08-09T10:59:45.477Z"
   },
   {
    "duration": 398,
    "start_time": "2024-08-09T11:00:02.448Z"
   },
   {
    "duration": 92,
    "start_time": "2024-08-09T11:15:08.414Z"
   },
   {
    "duration": 8,
    "start_time": "2024-08-09T11:16:14.542Z"
   },
   {
    "duration": 94,
    "start_time": "2024-08-09T11:18:07.209Z"
   },
   {
    "duration": 89,
    "start_time": "2024-08-09T11:19:30.228Z"
   },
   {
    "duration": 90,
    "start_time": "2024-08-09T11:19:40.793Z"
   },
   {
    "duration": 87,
    "start_time": "2024-08-09T11:19:51.776Z"
   },
   {
    "duration": 97,
    "start_time": "2024-08-09T11:20:19.542Z"
   },
   {
    "duration": 87,
    "start_time": "2024-08-09T11:20:26.869Z"
   },
   {
    "duration": 88,
    "start_time": "2024-08-09T11:20:50.741Z"
   },
   {
    "duration": 88,
    "start_time": "2024-08-09T11:22:48.191Z"
   },
   {
    "duration": 179,
    "start_time": "2024-08-09T11:23:05.063Z"
   },
   {
    "duration": 5,
    "start_time": "2024-08-09T11:25:21.878Z"
   },
   {
    "duration": 694,
    "start_time": "2024-08-09T11:26:13.785Z"
   },
   {
    "duration": 342,
    "start_time": "2024-08-09T11:27:41.737Z"
   },
   {
    "duration": 329,
    "start_time": "2024-08-09T11:30:06.720Z"
   },
   {
    "duration": 215,
    "start_time": "2024-08-09T11:31:27.861Z"
   },
   {
    "duration": 356,
    "start_time": "2024-08-09T11:31:35.649Z"
   },
   {
    "duration": 363,
    "start_time": "2024-08-09T11:32:09.642Z"
   },
   {
    "duration": 432,
    "start_time": "2024-08-09T11:32:38.828Z"
   },
   {
    "duration": 347,
    "start_time": "2024-08-09T11:32:48.968Z"
   },
   {
    "duration": 199,
    "start_time": "2024-08-09T11:38:56.712Z"
   },
   {
    "duration": 196,
    "start_time": "2024-08-09T11:39:11.821Z"
   },
   {
    "duration": 212,
    "start_time": "2024-08-09T11:39:20.973Z"
   },
   {
    "duration": 196,
    "start_time": "2024-08-09T11:39:41.913Z"
   },
   {
    "duration": 178,
    "start_time": "2024-08-09T11:39:50.708Z"
   },
   {
    "duration": 9,
    "start_time": "2024-08-09T11:40:53.592Z"
   },
   {
    "duration": 2132,
    "start_time": "2024-08-09T11:41:52.941Z"
   },
   {
    "duration": 289,
    "start_time": "2024-08-09T11:44:02.792Z"
   },
   {
    "duration": 13,
    "start_time": "2024-08-09T11:44:51.521Z"
   },
   {
    "duration": 21665,
    "start_time": "2024-08-09T11:44:59.171Z"
   },
   {
    "duration": 125,
    "start_time": "2024-08-09T11:45:53.705Z"
   },
   {
    "duration": 184,
    "start_time": "2024-08-09T11:46:44.817Z"
   },
   {
    "duration": 179,
    "start_time": "2024-08-09T11:46:53.666Z"
   },
   {
    "duration": 183,
    "start_time": "2024-08-09T11:47:00.930Z"
   },
   {
    "duration": 159,
    "start_time": "2024-08-09T11:47:45.079Z"
   },
   {
    "duration": 155,
    "start_time": "2024-08-09T11:47:50.753Z"
   },
   {
    "duration": 156,
    "start_time": "2024-08-09T11:47:55.596Z"
   },
   {
    "duration": 417,
    "start_time": "2024-08-09T11:52:49.455Z"
   },
   {
    "duration": 406,
    "start_time": "2024-08-09T11:53:29.926Z"
   },
   {
    "duration": 410,
    "start_time": "2024-08-09T11:53:37.449Z"
   },
   {
    "duration": 407,
    "start_time": "2024-08-09T11:53:52.873Z"
   },
   {
    "duration": 415,
    "start_time": "2024-08-09T11:54:09.882Z"
   },
   {
    "duration": 383,
    "start_time": "2024-08-09T11:54:23.992Z"
   },
   {
    "duration": 427,
    "start_time": "2024-08-09T11:54:30.041Z"
   },
   {
    "duration": 404,
    "start_time": "2024-08-09T11:54:34.533Z"
   },
   {
    "duration": 393,
    "start_time": "2024-08-09T11:54:39.695Z"
   },
   {
    "duration": 385,
    "start_time": "2024-08-09T11:54:46.989Z"
   },
   {
    "duration": 390,
    "start_time": "2024-08-09T11:54:52.705Z"
   },
   {
    "duration": 462,
    "start_time": "2024-08-09T11:55:05.867Z"
   },
   {
    "duration": 421,
    "start_time": "2024-08-09T11:55:16.509Z"
   },
   {
    "duration": 920,
    "start_time": "2024-08-09T11:56:03.589Z"
   },
   {
    "duration": 431,
    "start_time": "2024-08-09T11:56:19.046Z"
   },
   {
    "duration": 434,
    "start_time": "2024-08-09T11:56:32.069Z"
   },
   {
    "duration": 407,
    "start_time": "2024-08-09T11:56:40.096Z"
   },
   {
    "duration": 390,
    "start_time": "2024-08-09T11:56:55.501Z"
   },
   {
    "duration": 415,
    "start_time": "2024-08-09T11:57:04.286Z"
   },
   {
    "duration": 1298,
    "start_time": "2024-08-09T11:59:34.716Z"
   },
   {
    "duration": 449,
    "start_time": "2024-08-09T12:00:52.511Z"
   },
   {
    "duration": 432,
    "start_time": "2024-08-09T12:01:24.811Z"
   },
   {
    "duration": 812,
    "start_time": "2024-08-09T12:04:54.425Z"
   },
   {
    "duration": 344,
    "start_time": "2024-08-09T12:05:06.773Z"
   },
   {
    "duration": 364,
    "start_time": "2024-08-09T12:05:35.545Z"
   },
   {
    "duration": 177,
    "start_time": "2024-08-09T12:07:11.297Z"
   },
   {
    "duration": 550,
    "start_time": "2024-08-09T12:07:19.551Z"
   },
   {
    "duration": 404,
    "start_time": "2024-08-09T12:07:32.320Z"
   },
   {
    "duration": 404,
    "start_time": "2024-08-09T12:08:20.244Z"
   },
   {
    "duration": 442,
    "start_time": "2024-08-09T12:08:56.850Z"
   },
   {
    "duration": 563,
    "start_time": "2024-08-09T12:09:08.025Z"
   },
   {
    "duration": 473,
    "start_time": "2024-08-09T12:09:35.641Z"
   },
   {
    "duration": 436,
    "start_time": "2024-08-09T12:09:56.493Z"
   },
   {
    "duration": 421,
    "start_time": "2024-08-09T12:10:02.988Z"
   },
   {
    "duration": 426,
    "start_time": "2024-08-09T12:10:18.073Z"
   },
   {
    "duration": 501,
    "start_time": "2024-08-09T12:11:13.438Z"
   },
   {
    "duration": 404,
    "start_time": "2024-08-09T12:11:24.710Z"
   },
   {
    "duration": 514,
    "start_time": "2024-08-09T12:12:06.153Z"
   },
   {
    "duration": 755,
    "start_time": "2024-08-09T12:12:14.844Z"
   },
   {
    "duration": 747,
    "start_time": "2024-08-09T12:12:25.702Z"
   },
   {
    "duration": 989,
    "start_time": "2024-08-09T12:12:37.557Z"
   },
   {
    "duration": 1141,
    "start_time": "2024-08-09T12:12:44.732Z"
   },
   {
    "duration": 289,
    "start_time": "2024-08-09T12:12:55.442Z"
   },
   {
    "duration": 224,
    "start_time": "2024-08-09T12:13:04.438Z"
   },
   {
    "duration": 217,
    "start_time": "2024-08-09T12:13:11.317Z"
   },
   {
    "duration": 219,
    "start_time": "2024-08-09T12:13:21.682Z"
   },
   {
    "duration": 1300,
    "start_time": "2024-08-11T09:45:25.406Z"
   },
   {
    "duration": 3,
    "start_time": "2024-08-11T09:45:26.708Z"
   },
   {
    "duration": 287,
    "start_time": "2024-08-11T09:45:26.712Z"
   },
   {
    "duration": 302,
    "start_time": "2024-08-11T09:45:27.001Z"
   },
   {
    "duration": 310,
    "start_time": "2024-08-11T09:45:27.304Z"
   },
   {
    "duration": 15,
    "start_time": "2024-08-11T09:45:27.616Z"
   },
   {
    "duration": 7,
    "start_time": "2024-08-11T09:45:27.807Z"
   },
   {
    "duration": 12,
    "start_time": "2024-08-11T09:45:28.112Z"
   },
   {
    "duration": 11,
    "start_time": "2024-08-11T09:45:28.505Z"
   },
   {
    "duration": 7,
    "start_time": "2024-08-11T09:45:28.718Z"
   },
   {
    "duration": 183,
    "start_time": "2024-08-11T09:45:32.134Z"
   },
   {
    "duration": 94,
    "start_time": "2024-08-11T09:45:33.110Z"
   },
   {
    "duration": 407,
    "start_time": "2024-08-11T09:45:33.856Z"
   },
   {
    "duration": 184,
    "start_time": "2024-08-11T09:45:34.632Z"
   },
   {
    "duration": 110,
    "start_time": "2024-08-11T09:54:49.683Z"
   },
   {
    "duration": 15,
    "start_time": "2024-08-11T09:57:45.548Z"
   },
   {
    "duration": 12,
    "start_time": "2024-08-11T09:58:07.033Z"
   },
   {
    "duration": 11,
    "start_time": "2024-08-11T10:02:02.129Z"
   },
   {
    "duration": 11,
    "start_time": "2024-08-11T10:02:23.797Z"
   },
   {
    "duration": 345,
    "start_time": "2024-08-11T10:04:37.668Z"
   },
   {
    "duration": 188,
    "start_time": "2024-08-11T10:04:55.277Z"
   },
   {
    "duration": 258,
    "start_time": "2024-08-11T10:06:17.662Z"
   },
   {
    "duration": 260,
    "start_time": "2024-08-11T10:06:40.712Z"
   },
   {
    "duration": 197,
    "start_time": "2024-08-11T10:06:57.482Z"
   },
   {
    "duration": 238,
    "start_time": "2024-08-11T10:07:11.618Z"
   },
   {
    "duration": 185,
    "start_time": "2024-08-11T10:07:33.771Z"
   },
   {
    "duration": 83,
    "start_time": "2024-08-11T10:07:57.887Z"
   },
   {
    "duration": 183,
    "start_time": "2024-08-11T10:08:57.083Z"
   },
   {
    "duration": 359,
    "start_time": "2024-08-11T10:10:11.605Z"
   },
   {
    "duration": 234,
    "start_time": "2024-08-11T10:10:43.804Z"
   },
   {
    "duration": 246,
    "start_time": "2024-08-11T10:10:59.385Z"
   },
   {
    "duration": 231,
    "start_time": "2024-08-11T10:11:45.948Z"
   },
   {
    "duration": 215,
    "start_time": "2024-08-11T10:12:17.302Z"
   },
   {
    "duration": 277,
    "start_time": "2024-08-11T10:15:09.665Z"
   },
   {
    "duration": 354,
    "start_time": "2024-08-11T10:15:40.171Z"
   },
   {
    "duration": 251,
    "start_time": "2024-08-11T10:15:49.208Z"
   },
   {
    "duration": 174,
    "start_time": "2024-08-11T10:16:22.252Z"
   },
   {
    "duration": 262,
    "start_time": "2024-08-11T10:16:40.312Z"
   },
   {
    "duration": 270,
    "start_time": "2024-08-11T10:16:51.124Z"
   },
   {
    "duration": 333,
    "start_time": "2024-08-11T10:16:58.112Z"
   },
   {
    "duration": 589,
    "start_time": "2024-08-11T10:17:10.464Z"
   },
   {
    "duration": 530,
    "start_time": "2024-08-11T10:17:32.085Z"
   },
   {
    "duration": 378,
    "start_time": "2024-08-11T10:18:02.617Z"
   },
   {
    "duration": 873,
    "start_time": "2024-08-11T10:18:42.360Z"
   },
   {
    "duration": 778,
    "start_time": "2024-08-11T10:19:44.158Z"
   },
   {
    "duration": 906,
    "start_time": "2024-08-11T10:20:03.421Z"
   },
   {
    "duration": 759,
    "start_time": "2024-08-11T10:20:15.135Z"
   },
   {
    "duration": 918,
    "start_time": "2024-08-11T10:20:22.150Z"
   },
   {
    "duration": 874,
    "start_time": "2024-08-11T10:20:38.253Z"
   },
   {
    "duration": 789,
    "start_time": "2024-08-11T10:21:02.264Z"
   },
   {
    "duration": 915,
    "start_time": "2024-08-11T10:21:24.829Z"
   },
   {
    "duration": 812,
    "start_time": "2024-08-11T10:21:36.931Z"
   },
   {
    "duration": 703,
    "start_time": "2024-08-11T10:21:53.442Z"
   },
   {
    "duration": 663,
    "start_time": "2024-08-11T10:23:01.199Z"
   },
   {
    "duration": 61,
    "start_time": "2024-08-11T10:25:26.228Z"
   },
   {
    "duration": 725,
    "start_time": "2024-08-11T10:25:34.999Z"
   },
   {
    "duration": 1348,
    "start_time": "2024-08-19T15:15:42.467Z"
   },
   {
    "duration": 3,
    "start_time": "2024-08-19T15:15:43.818Z"
   },
   {
    "duration": 270,
    "start_time": "2024-08-19T15:15:43.822Z"
   },
   {
    "duration": 254,
    "start_time": "2024-08-19T15:15:44.095Z"
   },
   {
    "duration": 290,
    "start_time": "2024-08-19T15:15:44.351Z"
   },
   {
    "duration": 17,
    "start_time": "2024-08-19T15:15:44.642Z"
   },
   {
    "duration": 7,
    "start_time": "2024-08-19T15:15:44.822Z"
   },
   {
    "duration": 11,
    "start_time": "2024-08-19T15:15:45.213Z"
   },
   {
    "duration": 12,
    "start_time": "2024-08-19T15:15:45.933Z"
   },
   {
    "duration": 7,
    "start_time": "2024-08-19T15:15:46.117Z"
   },
   {
    "duration": 177,
    "start_time": "2024-08-19T15:15:46.679Z"
   },
   {
    "duration": 80,
    "start_time": "2024-08-19T15:15:46.868Z"
   },
   {
    "duration": 219,
    "start_time": "2024-08-19T15:15:47.214Z"
   },
   {
    "duration": 200,
    "start_time": "2024-08-19T15:15:47.459Z"
   },
   {
    "duration": 336,
    "start_time": "2024-08-19T15:15:47.663Z"
   },
   {
    "duration": 399,
    "start_time": "2024-08-19T15:15:48.001Z"
   },
   {
    "duration": 220,
    "start_time": "2024-08-19T15:15:48.401Z"
   },
   {
    "duration": 27,
    "start_time": "2024-08-19T15:15:48.623Z"
   },
   {
    "duration": 12,
    "start_time": "2024-08-19T15:15:48.870Z"
   },
   {
    "duration": 13,
    "start_time": "2024-08-19T15:15:49.307Z"
   },
   {
    "duration": 582,
    "start_time": "2024-08-19T15:15:49.712Z"
   },
   {
    "duration": 770,
    "start_time": "2024-08-19T15:15:50.296Z"
   },
   {
    "duration": 869,
    "start_time": "2024-08-19T15:23:03.365Z"
   },
   {
    "duration": 895,
    "start_time": "2024-08-19T15:23:14.233Z"
   },
   {
    "duration": 12,
    "start_time": "2024-08-19T15:32:02.717Z"
   },
   {
    "duration": 13,
    "start_time": "2024-08-19T15:37:21.497Z"
   },
   {
    "duration": 13,
    "start_time": "2024-08-19T15:37:25.549Z"
   },
   {
    "duration": 882,
    "start_time": "2024-08-19T15:37:27.825Z"
   },
   {
    "duration": 12,
    "start_time": "2024-08-19T15:37:28.709Z"
   },
   {
    "duration": 1402,
    "start_time": "2024-08-25T20:50:37.358Z"
   },
   {
    "duration": 4,
    "start_time": "2024-08-25T20:53:15.798Z"
   },
   {
    "duration": 4,
    "start_time": "2024-08-25T20:53:16.007Z"
   },
   {
    "duration": 357,
    "start_time": "2024-08-25T20:53:16.210Z"
   },
   {
    "duration": 286,
    "start_time": "2024-08-25T20:53:16.569Z"
   },
   {
    "duration": 334,
    "start_time": "2024-08-25T20:53:17.538Z"
   },
   {
    "duration": 23,
    "start_time": "2024-08-25T20:53:19.009Z"
   },
   {
    "duration": 7,
    "start_time": "2024-08-25T20:53:19.940Z"
   },
   {
    "duration": 14,
    "start_time": "2024-08-25T20:53:20.329Z"
   },
   {
    "duration": 12,
    "start_time": "2024-08-25T20:53:20.731Z"
   },
   {
    "duration": 7,
    "start_time": "2024-08-25T20:53:20.939Z"
   },
   {
    "duration": 211,
    "start_time": "2024-08-25T20:53:21.570Z"
   },
   {
    "duration": 99,
    "start_time": "2024-08-25T20:53:21.784Z"
   },
   {
    "duration": 248,
    "start_time": "2024-08-25T20:53:21.995Z"
   },
   {
    "duration": 211,
    "start_time": "2024-08-25T20:53:22.245Z"
   },
   {
    "duration": 401,
    "start_time": "2024-08-25T20:53:22.458Z"
   },
   {
    "duration": 476,
    "start_time": "2024-08-25T20:53:22.861Z"
   },
   {
    "duration": 235,
    "start_time": "2024-08-25T20:53:23.340Z"
   },
   {
    "duration": 14,
    "start_time": "2024-08-25T20:53:23.576Z"
   },
   {
    "duration": 11,
    "start_time": "2024-08-25T20:53:23.694Z"
   },
   {
    "duration": 10,
    "start_time": "2024-08-25T20:53:24.079Z"
   },
   {
    "duration": 639,
    "start_time": "2024-08-25T20:53:24.520Z"
   },
   {
    "duration": 759,
    "start_time": "2024-08-25T20:53:25.162Z"
   },
   {
    "duration": 861,
    "start_time": "2024-08-25T20:53:25.923Z"
   },
   {
    "duration": 25,
    "start_time": "2024-08-25T20:53:26.786Z"
   },
   {
    "duration": 106,
    "start_time": "2024-08-25T21:04:33.088Z"
   },
   {
    "duration": 8,
    "start_time": "2024-08-25T21:04:41.658Z"
   },
   {
    "duration": 4,
    "start_time": "2024-08-25T21:04:50.579Z"
   },
   {
    "duration": 726,
    "start_time": "2024-08-25T21:04:51.028Z"
   },
   {
    "duration": 3,
    "start_time": "2024-08-25T21:05:21.937Z"
   },
   {
    "duration": 145,
    "start_time": "2024-08-25T21:05:22.939Z"
   },
   {
    "duration": 8,
    "start_time": "2024-08-25T21:21:48.842Z"
   },
   {
    "duration": 66,
    "start_time": "2024-08-25T21:34:08.237Z"
   },
   {
    "duration": 6,
    "start_time": "2024-08-25T21:34:39.314Z"
   },
   {
    "duration": 11,
    "start_time": "2024-08-25T21:42:15.387Z"
   },
   {
    "duration": 3,
    "start_time": "2024-08-25T22:23:25.958Z"
   },
   {
    "duration": 1083,
    "start_time": "2024-08-25T22:34:16.844Z"
   },
   {
    "duration": 3,
    "start_time": "2024-08-25T22:34:17.929Z"
   },
   {
    "duration": 71,
    "start_time": "2024-08-25T22:34:17.933Z"
   },
   {
    "duration": 290,
    "start_time": "2024-08-25T22:34:18.007Z"
   },
   {
    "duration": 328,
    "start_time": "2024-08-25T22:34:18.299Z"
   },
   {
    "duration": 13,
    "start_time": "2024-08-25T22:34:18.629Z"
   },
   {
    "duration": 7,
    "start_time": "2024-08-25T22:34:18.935Z"
   },
   {
    "duration": 10,
    "start_time": "2024-08-25T22:34:19.396Z"
   },
   {
    "duration": 11,
    "start_time": "2024-08-25T22:34:19.734Z"
   },
   {
    "duration": 9,
    "start_time": "2024-08-25T22:34:19.925Z"
   },
   {
    "duration": 179,
    "start_time": "2024-08-25T22:34:20.413Z"
   },
   {
    "duration": 87,
    "start_time": "2024-08-25T22:34:20.594Z"
   },
   {
    "duration": 220,
    "start_time": "2024-08-25T22:34:20.744Z"
   },
   {
    "duration": 209,
    "start_time": "2024-08-25T22:34:20.966Z"
   },
   {
    "duration": 349,
    "start_time": "2024-08-25T22:34:21.176Z"
   },
   {
    "duration": 415,
    "start_time": "2024-08-25T22:34:21.528Z"
   },
   {
    "duration": 231,
    "start_time": "2024-08-25T22:34:21.945Z"
   },
   {
    "duration": 13,
    "start_time": "2024-08-25T22:34:22.177Z"
   },
   {
    "duration": 25,
    "start_time": "2024-08-25T22:34:22.191Z"
   },
   {
    "duration": 10,
    "start_time": "2024-08-25T22:34:22.497Z"
   },
   {
    "duration": 594,
    "start_time": "2024-08-25T22:34:22.863Z"
   },
   {
    "duration": 686,
    "start_time": "2024-08-25T22:34:23.459Z"
   },
   {
    "duration": 838,
    "start_time": "2024-08-25T22:34:24.147Z"
   },
   {
    "duration": 21,
    "start_time": "2024-08-25T22:34:24.987Z"
   },
   {
    "duration": 6,
    "start_time": "2024-08-25T22:34:25.010Z"
   },
   {
    "duration": 157,
    "start_time": "2024-08-25T22:34:25.018Z"
   },
   {
    "duration": 5,
    "start_time": "2024-08-25T22:34:25.176Z"
   },
   {
    "duration": 6,
    "start_time": "2024-08-25T22:34:25.827Z"
   },
   {
    "duration": 8,
    "start_time": "2024-08-25T22:34:26.385Z"
   },
   {
    "duration": 542,
    "start_time": "2024-08-25T22:34:52.253Z"
   },
   {
    "duration": 548,
    "start_time": "2024-08-25T22:35:08.161Z"
   },
   {
    "duration": 494,
    "start_time": "2024-08-25T22:35:26.975Z"
   },
   {
    "duration": 14,
    "start_time": "2024-08-25T22:35:44.926Z"
   },
   {
    "duration": 463,
    "start_time": "2024-08-25T22:35:58.076Z"
   },
   {
    "duration": 476,
    "start_time": "2024-08-25T22:36:07.224Z"
   },
   {
    "duration": 579,
    "start_time": "2024-08-25T22:36:17.285Z"
   },
   {
    "duration": 242,
    "start_time": "2024-08-25T22:36:41.765Z"
   },
   {
    "duration": 417,
    "start_time": "2024-08-25T22:44:17.334Z"
   },
   {
    "duration": 256,
    "start_time": "2024-08-25T22:44:28.482Z"
   },
   {
    "duration": 8,
    "start_time": "2024-08-25T22:53:04.603Z"
   },
   {
    "duration": 7,
    "start_time": "2024-08-25T22:53:16.861Z"
   },
   {
    "duration": 8,
    "start_time": "2024-08-25T22:53:30.714Z"
   },
   {
    "duration": 5,
    "start_time": "2024-08-25T23:09:08.988Z"
   },
   {
    "duration": 4,
    "start_time": "2024-08-25T23:10:04.780Z"
   },
   {
    "duration": 131,
    "start_time": "2024-08-25T23:10:15.005Z"
   },
   {
    "duration": 707,
    "start_time": "2024-08-25T23:10:23.596Z"
   },
   {
    "duration": 29,
    "start_time": "2024-08-25T23:10:49.516Z"
   },
   {
    "duration": 19,
    "start_time": "2024-08-25T23:10:59.349Z"
   },
   {
    "duration": 61,
    "start_time": "2024-08-25T23:11:20.629Z"
   },
   {
    "duration": 13,
    "start_time": "2024-08-25T23:11:33.717Z"
   },
   {
    "duration": 10,
    "start_time": "2024-08-25T23:15:01.758Z"
   },
   {
    "duration": 25,
    "start_time": "2024-08-25T23:15:12.909Z"
   },
   {
    "duration": 14,
    "start_time": "2024-08-25T23:16:50.789Z"
   },
   {
    "duration": 12,
    "start_time": "2024-08-25T23:18:00.900Z"
   },
   {
    "duration": 10,
    "start_time": "2024-08-25T23:18:20.196Z"
   },
   {
    "duration": 13,
    "start_time": "2024-08-25T23:21:05.205Z"
   },
   {
    "duration": 298,
    "start_time": "2024-08-25T23:21:41.470Z"
   },
   {
    "duration": 187,
    "start_time": "2024-08-25T23:22:17.517Z"
   },
   {
    "duration": 226,
    "start_time": "2024-08-25T23:22:34.060Z"
   },
   {
    "duration": 142,
    "start_time": "2024-08-25T23:23:12.989Z"
   },
   {
    "duration": 162,
    "start_time": "2024-08-25T23:23:22.396Z"
   },
   {
    "duration": 191,
    "start_time": "2024-08-25T23:23:43.028Z"
   },
   {
    "duration": 226,
    "start_time": "2024-08-25T23:23:57.197Z"
   },
   {
    "duration": 19,
    "start_time": "2024-08-25T23:26:17.636Z"
   },
   {
    "duration": 13,
    "start_time": "2024-08-25T23:26:26.949Z"
   },
   {
    "duration": 14,
    "start_time": "2024-08-25T23:26:53.558Z"
   },
   {
    "duration": 190,
    "start_time": "2024-08-25T23:30:01.078Z"
   },
   {
    "duration": 144,
    "start_time": "2024-08-25T23:30:25.686Z"
   },
   {
    "duration": 144,
    "start_time": "2024-08-25T23:30:49.831Z"
   },
   {
    "duration": 158,
    "start_time": "2024-08-25T23:31:05.270Z"
   },
   {
    "duration": 1127,
    "start_time": "2024-08-25T23:34:06.797Z"
   },
   {
    "duration": 3,
    "start_time": "2024-08-25T23:34:07.926Z"
   },
   {
    "duration": 81,
    "start_time": "2024-08-25T23:34:07.931Z"
   },
   {
    "duration": 242,
    "start_time": "2024-08-25T23:34:08.013Z"
   },
   {
    "duration": 286,
    "start_time": "2024-08-25T23:34:08.256Z"
   },
   {
    "duration": 14,
    "start_time": "2024-08-25T23:34:08.543Z"
   },
   {
    "duration": 7,
    "start_time": "2024-08-25T23:34:11.077Z"
   },
   {
    "duration": 13,
    "start_time": "2024-08-25T23:34:12.918Z"
   },
   {
    "duration": 7,
    "start_time": "2024-08-25T23:34:18.742Z"
   },
   {
    "duration": 13,
    "start_time": "2024-08-25T23:34:37.718Z"
   },
   {
    "duration": 848,
    "start_time": "2024-08-25T23:35:30.141Z"
   },
   {
    "duration": 765,
    "start_time": "2024-08-25T23:35:45.789Z"
   },
   {
    "duration": 7,
    "start_time": "2024-08-25T23:36:22.918Z"
   },
   {
    "duration": 6,
    "start_time": "2024-08-25T23:36:30.423Z"
   },
   {
    "duration": 6,
    "start_time": "2024-08-25T23:36:48.861Z"
   },
   {
    "duration": 9,
    "start_time": "2024-08-25T23:37:51.297Z"
   },
   {
    "duration": 7,
    "start_time": "2024-08-25T23:37:55.769Z"
   },
   {
    "duration": 8,
    "start_time": "2024-08-25T23:39:11.337Z"
   },
   {
    "duration": 10,
    "start_time": "2024-08-25T23:39:24.688Z"
   },
   {
    "duration": 10,
    "start_time": "2024-08-25T23:39:38.776Z"
   },
   {
    "duration": 9,
    "start_time": "2024-08-25T23:39:47.336Z"
   },
   {
    "duration": 10,
    "start_time": "2024-08-25T23:40:01.658Z"
   },
   {
    "duration": 7,
    "start_time": "2024-08-25T23:40:03.776Z"
   },
   {
    "duration": 172,
    "start_time": "2024-08-25T23:40:05.744Z"
   },
   {
    "duration": 75,
    "start_time": "2024-08-25T23:40:05.935Z"
   },
   {
    "duration": 210,
    "start_time": "2024-08-25T23:40:06.097Z"
   },
   {
    "duration": 177,
    "start_time": "2024-08-25T23:40:06.495Z"
   },
   {
    "duration": 303,
    "start_time": "2024-08-25T23:40:07.455Z"
   },
   {
    "duration": 380,
    "start_time": "2024-08-25T23:40:07.936Z"
   },
   {
    "duration": 217,
    "start_time": "2024-08-25T23:40:08.318Z"
   },
   {
    "duration": 295,
    "start_time": "2024-08-25T23:40:08.537Z"
   },
   {
    "duration": 154,
    "start_time": "2024-08-25T23:40:08.833Z"
   },
   {
    "duration": 6,
    "start_time": "2024-08-25T23:40:08.988Z"
   },
   {
    "duration": 16,
    "start_time": "2024-08-25T23:40:09.287Z"
   },
   {
    "duration": 12,
    "start_time": "2024-08-25T23:40:09.456Z"
   },
   {
    "duration": 9,
    "start_time": "2024-08-25T23:40:09.784Z"
   },
   {
    "duration": 674,
    "start_time": "2024-08-25T23:40:10.137Z"
   },
   {
    "duration": 602,
    "start_time": "2024-08-25T23:40:10.812Z"
   },
   {
    "duration": 838,
    "start_time": "2024-08-25T23:40:11.416Z"
   },
   {
    "duration": 12,
    "start_time": "2024-08-25T23:40:12.256Z"
   },
   {
    "duration": 2,
    "start_time": "2024-08-25T23:40:12.270Z"
   },
   {
    "duration": 148,
    "start_time": "2024-08-25T23:40:12.274Z"
   },
   {
    "duration": 4,
    "start_time": "2024-08-25T23:40:12.424Z"
   },
   {
    "duration": 5,
    "start_time": "2024-08-25T23:40:12.543Z"
   },
   {
    "duration": 9,
    "start_time": "2024-08-25T23:40:13.056Z"
   },
   {
    "duration": 2,
    "start_time": "2024-08-25T23:40:48.257Z"
   },
   {
    "duration": 216,
    "start_time": "2024-08-25T23:50:38.456Z"
   },
   {
    "duration": 321,
    "start_time": "2024-08-25T23:50:47.697Z"
   },
   {
    "duration": 9,
    "start_time": "2024-08-25T23:53:19.177Z"
   },
   {
    "duration": 13,
    "start_time": "2024-08-25T23:53:29.585Z"
   },
   {
    "duration": 7,
    "start_time": "2024-08-25T23:57:14.577Z"
   },
   {
    "duration": 8,
    "start_time": "2024-08-25T23:57:19.064Z"
   },
   {
    "duration": 8,
    "start_time": "2024-08-25T23:57:30.968Z"
   },
   {
    "duration": 9,
    "start_time": "2024-08-25T23:59:34.304Z"
   },
   {
    "duration": 10,
    "start_time": "2024-08-26T00:00:31.943Z"
   },
   {
    "duration": 13,
    "start_time": "2024-08-26T00:01:02.417Z"
   },
   {
    "duration": 14,
    "start_time": "2024-08-26T00:01:32.216Z"
   },
   {
    "duration": 20,
    "start_time": "2024-08-26T00:11:24.531Z"
   },
   {
    "duration": 20,
    "start_time": "2024-08-26T00:11:36.743Z"
   },
   {
    "duration": 22,
    "start_time": "2024-08-26T00:12:05.441Z"
   },
   {
    "duration": 26,
    "start_time": "2024-08-26T00:13:35.913Z"
   },
   {
    "duration": 22,
    "start_time": "2024-08-26T00:13:45.023Z"
   },
   {
    "duration": 18,
    "start_time": "2024-08-26T00:13:51.322Z"
   },
   {
    "duration": 24,
    "start_time": "2024-08-26T00:13:56.823Z"
   },
   {
    "duration": 13,
    "start_time": "2024-08-26T00:14:41.632Z"
   },
   {
    "duration": 595,
    "start_time": "2024-08-26T00:22:15.973Z"
   },
   {
    "duration": 14,
    "start_time": "2024-08-26T00:28:13.184Z"
   },
   {
    "duration": 5,
    "start_time": "2024-08-26T00:28:20.134Z"
   },
   {
    "duration": 191,
    "start_time": "2024-08-26T00:28:38.021Z"
   },
   {
    "duration": 1201,
    "start_time": "2024-08-26T00:29:16.991Z"
   },
   {
    "duration": 2,
    "start_time": "2024-08-26T00:29:18.194Z"
   },
   {
    "duration": 74,
    "start_time": "2024-08-26T00:29:18.198Z"
   },
   {
    "duration": 251,
    "start_time": "2024-08-26T00:29:18.274Z"
   },
   {
    "duration": 304,
    "start_time": "2024-08-26T00:29:18.526Z"
   },
   {
    "duration": 13,
    "start_time": "2024-08-26T00:29:18.832Z"
   },
   {
    "duration": 7,
    "start_time": "2024-08-26T00:29:18.882Z"
   },
   {
    "duration": 11,
    "start_time": "2024-08-26T00:29:19.183Z"
   },
   {
    "duration": 12,
    "start_time": "2024-08-26T00:29:19.691Z"
   },
   {
    "duration": 8,
    "start_time": "2024-08-26T00:29:19.821Z"
   },
   {
    "duration": 176,
    "start_time": "2024-08-26T00:29:20.473Z"
   },
   {
    "duration": 91,
    "start_time": "2024-08-26T00:29:20.651Z"
   },
   {
    "duration": 222,
    "start_time": "2024-08-26T00:29:20.802Z"
   },
   {
    "duration": 207,
    "start_time": "2024-08-26T00:29:21.026Z"
   },
   {
    "duration": 340,
    "start_time": "2024-08-26T00:29:21.235Z"
   },
   {
    "duration": 401,
    "start_time": "2024-08-26T00:29:21.577Z"
   },
   {
    "duration": 239,
    "start_time": "2024-08-26T00:29:21.980Z"
   },
   {
    "duration": 237,
    "start_time": "2024-08-26T00:29:22.222Z"
   },
   {
    "duration": 153,
    "start_time": "2024-08-26T00:29:22.461Z"
   },
   {
    "duration": 14,
    "start_time": "2024-08-26T00:29:22.615Z"
   },
   {
    "duration": 15,
    "start_time": "2024-08-26T00:29:22.631Z"
   },
   {
    "duration": 14,
    "start_time": "2024-08-26T00:29:23.204Z"
   },
   {
    "duration": 11,
    "start_time": "2024-08-26T00:29:23.382Z"
   },
   {
    "duration": 9,
    "start_time": "2024-08-26T00:29:23.720Z"
   },
   {
    "duration": 660,
    "start_time": "2024-08-26T00:29:24.042Z"
   },
   {
    "duration": 631,
    "start_time": "2024-08-26T00:29:24.706Z"
   },
   {
    "duration": 842,
    "start_time": "2024-08-26T00:29:25.339Z"
   },
   {
    "duration": 13,
    "start_time": "2024-08-26T00:29:26.183Z"
   },
   {
    "duration": 3,
    "start_time": "2024-08-26T00:29:26.206Z"
   },
   {
    "duration": 148,
    "start_time": "2024-08-26T00:29:26.211Z"
   },
   {
    "duration": 5,
    "start_time": "2024-08-26T00:29:26.428Z"
   },
   {
    "duration": 5,
    "start_time": "2024-08-26T00:29:26.979Z"
   },
   {
    "duration": 9,
    "start_time": "2024-08-26T00:29:27.492Z"
   },
   {
    "duration": 13,
    "start_time": "2024-08-26T00:29:28.200Z"
   },
   {
    "duration": 2,
    "start_time": "2024-08-26T00:29:28.389Z"
   },
   {
    "duration": 199,
    "start_time": "2024-08-26T00:29:28.533Z"
   },
   {
    "duration": 5,
    "start_time": "2024-08-26T00:30:33.550Z"
   },
   {
    "duration": 5,
    "start_time": "2024-08-26T00:30:40.452Z"
   },
   {
    "duration": 143,
    "start_time": "2024-08-26T00:30:43.070Z"
   },
   {
    "duration": 23,
    "start_time": "2024-08-26T00:32:15.697Z"
   },
   {
    "duration": 358,
    "start_time": "2024-08-26T00:33:57.890Z"
   },
   {
    "duration": 358,
    "start_time": "2024-08-26T00:34:08.341Z"
   },
   {
    "duration": 475,
    "start_time": "2024-08-26T00:34:14.449Z"
   },
   {
    "duration": 706,
    "start_time": "2024-08-26T00:34:19.411Z"
   },
   {
    "duration": 1364,
    "start_time": "2024-08-26T00:34:31.449Z"
   },
   {
    "duration": 2532,
    "start_time": "2024-08-26T00:34:42.490Z"
   },
   {
    "duration": 3814,
    "start_time": "2024-08-26T00:35:41.942Z"
   },
   {
    "duration": 13002,
    "start_time": "2024-08-26T00:36:15.349Z"
   },
   {
    "duration": 8,
    "start_time": "2024-08-26T00:48:26.648Z"
   },
   {
    "duration": 5,
    "start_time": "2024-08-26T00:48:37.008Z"
   },
   {
    "duration": 226,
    "start_time": "2024-08-26T00:52:09.416Z"
   },
   {
    "duration": 196,
    "start_time": "2024-08-26T00:54:09.528Z"
   },
   {
    "duration": 177,
    "start_time": "2024-08-26T00:54:12.768Z"
   },
   {
    "duration": 793,
    "start_time": "2024-08-26T01:32:53.053Z"
   },
   {
    "duration": 16,
    "start_time": "2024-08-26T01:37:47.465Z"
   },
   {
    "duration": 4,
    "start_time": "2024-08-26T01:38:08.245Z"
   },
   {
    "duration": 128,
    "start_time": "2024-08-26T01:38:34.531Z"
   },
   {
    "duration": 128,
    "start_time": "2024-08-26T01:38:40.864Z"
   },
   {
    "duration": 14,
    "start_time": "2024-08-26T01:39:22.386Z"
   },
   {
    "duration": 6,
    "start_time": "2024-08-26T01:44:04.820Z"
   },
   {
    "duration": 134,
    "start_time": "2024-08-26T01:44:06.796Z"
   },
   {
    "duration": 12,
    "start_time": "2024-08-26T01:44:14.421Z"
   },
   {
    "duration": 5,
    "start_time": "2024-08-26T01:45:02.997Z"
   },
   {
    "duration": 131,
    "start_time": "2024-08-26T01:45:05.509Z"
   },
   {
    "duration": 13,
    "start_time": "2024-08-26T01:45:06.541Z"
   },
   {
    "duration": 4,
    "start_time": "2024-08-26T01:46:45.701Z"
   },
   {
    "duration": 1379,
    "start_time": "2024-08-26T01:46:46.493Z"
   },
   {
    "duration": 13,
    "start_time": "2024-08-26T01:46:47.873Z"
   },
   {
    "duration": 5,
    "start_time": "2024-08-26T01:47:35.565Z"
   },
   {
    "duration": 126,
    "start_time": "2024-08-26T01:47:36.085Z"
   },
   {
    "duration": 14,
    "start_time": "2024-08-26T01:47:36.691Z"
   },
   {
    "duration": 16,
    "start_time": "2024-08-26T01:48:50.580Z"
   },
   {
    "duration": 16,
    "start_time": "2024-08-26T01:49:55.972Z"
   },
   {
    "duration": 5,
    "start_time": "2024-08-26T01:51:37.884Z"
   },
   {
    "duration": 132,
    "start_time": "2024-08-26T01:51:38.445Z"
   },
   {
    "duration": 13,
    "start_time": "2024-08-26T01:51:38.973Z"
   },
   {
    "duration": 16,
    "start_time": "2024-08-26T01:51:39.395Z"
   },
   {
    "duration": 154,
    "start_time": "2024-08-26T01:52:57.565Z"
   },
   {
    "duration": 136,
    "start_time": "2024-08-26T01:53:31.940Z"
   },
   {
    "duration": 30,
    "start_time": "2024-08-26T01:54:13.330Z"
   },
   {
    "duration": 15,
    "start_time": "2024-08-26T01:54:48.077Z"
   },
   {
    "duration": 134,
    "start_time": "2024-08-26T01:54:48.598Z"
   },
   {
    "duration": 30,
    "start_time": "2024-08-26T01:54:48.847Z"
   },
   {
    "duration": 34,
    "start_time": "2024-08-26T02:03:40.913Z"
   },
   {
    "duration": 177,
    "start_time": "2024-08-26T02:03:56.712Z"
   },
   {
    "duration": 182,
    "start_time": "2024-08-26T02:04:03.424Z"
   },
   {
    "duration": 1178,
    "start_time": "2024-08-26T02:21:58.707Z"
   },
   {
    "duration": 3,
    "start_time": "2024-08-26T02:21:59.886Z"
   },
   {
    "duration": 73,
    "start_time": "2024-08-26T02:21:59.890Z"
   },
   {
    "duration": 264,
    "start_time": "2024-08-26T02:21:59.965Z"
   },
   {
    "duration": 294,
    "start_time": "2024-08-26T02:22:00.230Z"
   },
   {
    "duration": 13,
    "start_time": "2024-08-26T02:22:00.525Z"
   },
   {
    "duration": 6,
    "start_time": "2024-08-26T02:22:01.027Z"
   },
   {
    "duration": 10,
    "start_time": "2024-08-26T02:22:01.338Z"
   },
   {
    "duration": 10,
    "start_time": "2024-08-26T02:22:01.580Z"
   },
   {
    "duration": 7,
    "start_time": "2024-08-26T02:22:01.730Z"
   },
   {
    "duration": 190,
    "start_time": "2024-08-26T02:22:02.379Z"
   },
   {
    "duration": 74,
    "start_time": "2024-08-26T02:22:02.619Z"
   },
   {
    "duration": 229,
    "start_time": "2024-08-26T02:22:02.778Z"
   },
   {
    "duration": 190,
    "start_time": "2024-08-26T02:22:03.009Z"
   },
   {
    "duration": 318,
    "start_time": "2024-08-26T02:22:03.207Z"
   },
   {
    "duration": 382,
    "start_time": "2024-08-26T02:22:03.527Z"
   },
   {
    "duration": 221,
    "start_time": "2024-08-26T02:22:03.911Z"
   },
   {
    "duration": 223,
    "start_time": "2024-08-26T02:22:04.133Z"
   },
   {
    "duration": 148,
    "start_time": "2024-08-26T02:22:04.357Z"
   },
   {
    "duration": 6,
    "start_time": "2024-08-26T02:22:04.507Z"
   },
   {
    "duration": 92,
    "start_time": "2024-08-26T02:22:04.716Z"
   },
   {
    "duration": 14,
    "start_time": "2024-08-26T02:22:05.418Z"
   },
   {
    "duration": 11,
    "start_time": "2024-08-26T02:22:05.578Z"
   },
   {
    "duration": 9,
    "start_time": "2024-08-26T02:22:05.987Z"
   },
   {
    "duration": 662,
    "start_time": "2024-08-26T02:22:06.467Z"
   },
   {
    "duration": 626,
    "start_time": "2024-08-26T02:22:07.131Z"
   },
   {
    "duration": 820,
    "start_time": "2024-08-26T02:22:07.759Z"
   },
   {
    "duration": 3,
    "start_time": "2024-08-26T02:22:08.581Z"
   },
   {
    "duration": 149,
    "start_time": "2024-08-26T02:22:08.585Z"
   },
   {
    "duration": 71,
    "start_time": "2024-08-26T02:22:08.736Z"
   },
   {
    "duration": 6,
    "start_time": "2024-08-26T02:22:09.178Z"
   },
   {
    "duration": 5,
    "start_time": "2024-08-26T02:22:12.698Z"
   },
   {
    "duration": 9,
    "start_time": "2024-08-26T02:22:13.259Z"
   },
   {
    "duration": 24,
    "start_time": "2024-08-26T02:22:40.619Z"
   },
   {
    "duration": 180,
    "start_time": "2024-08-26T02:22:56.788Z"
   },
   {
    "duration": 195,
    "start_time": "2024-08-26T02:23:08.396Z"
   },
   {
    "duration": 304,
    "start_time": "2024-08-26T02:23:23.657Z"
   },
   {
    "duration": 224,
    "start_time": "2024-08-26T02:23:32.450Z"
   },
   {
    "duration": 1106,
    "start_time": "2024-08-26T02:23:55.267Z"
   },
   {
    "duration": 2,
    "start_time": "2024-08-26T02:23:56.374Z"
   },
   {
    "duration": 71,
    "start_time": "2024-08-26T02:23:56.378Z"
   },
   {
    "duration": 250,
    "start_time": "2024-08-26T02:23:56.451Z"
   },
   {
    "duration": 292,
    "start_time": "2024-08-26T02:23:56.706Z"
   },
   {
    "duration": 19,
    "start_time": "2024-08-26T02:23:57.000Z"
   },
   {
    "duration": 7,
    "start_time": "2024-08-26T02:23:57.330Z"
   },
   {
    "duration": 10,
    "start_time": "2024-08-26T02:23:57.668Z"
   },
   {
    "duration": 10,
    "start_time": "2024-08-26T02:23:57.978Z"
   },
   {
    "duration": 8,
    "start_time": "2024-08-26T02:23:58.138Z"
   },
   {
    "duration": 170,
    "start_time": "2024-08-26T02:23:58.947Z"
   },
   {
    "duration": 75,
    "start_time": "2024-08-26T02:23:59.120Z"
   },
   {
    "duration": 217,
    "start_time": "2024-08-26T02:23:59.207Z"
   },
   {
    "duration": 188,
    "start_time": "2024-08-26T02:23:59.425Z"
   },
   {
    "duration": 304,
    "start_time": "2024-08-26T02:23:59.615Z"
   },
   {
    "duration": 380,
    "start_time": "2024-08-26T02:23:59.920Z"
   },
   {
    "duration": 240,
    "start_time": "2024-08-26T02:24:04.618Z"
   },
   {
    "duration": 174,
    "start_time": "2024-08-26T02:24:10.697Z"
   },
   {
    "duration": 262,
    "start_time": "2024-08-26T02:24:15.978Z"
   },
   {
    "duration": 206,
    "start_time": "2024-08-26T02:24:21.409Z"
   },
   {
    "duration": 236,
    "start_time": "2024-08-26T02:24:23.337Z"
   },
   {
    "duration": 7,
    "start_time": "2024-08-26T02:24:31.098Z"
   },
   {
    "duration": 24,
    "start_time": "2024-08-26T02:24:32.938Z"
   },
   {
    "duration": 176,
    "start_time": "2024-08-26T02:24:36.537Z"
   },
   {
    "duration": 253,
    "start_time": "2024-08-26T02:24:41.258Z"
   },
   {
    "duration": 15,
    "start_time": "2024-08-26T02:24:53.489Z"
   },
   {
    "duration": 11,
    "start_time": "2024-08-26T02:24:53.737Z"
   },
   {
    "duration": 9,
    "start_time": "2024-08-26T02:24:54.449Z"
   },
   {
    "duration": 531,
    "start_time": "2024-08-26T02:24:55.666Z"
   },
   {
    "duration": 692,
    "start_time": "2024-08-26T02:24:57.250Z"
   },
   {
    "duration": 803,
    "start_time": "2024-08-26T02:25:06.138Z"
   },
   {
    "duration": 3,
    "start_time": "2024-08-26T02:25:07.978Z"
   },
   {
    "duration": 135,
    "start_time": "2024-08-26T02:25:09.018Z"
   },
   {
    "duration": 75,
    "start_time": "2024-08-26T02:25:09.978Z"
   },
   {
    "duration": 4,
    "start_time": "2024-08-26T02:25:20.218Z"
   },
   {
    "duration": 5,
    "start_time": "2024-08-26T02:25:23.346Z"
   },
   {
    "duration": 9,
    "start_time": "2024-08-26T02:25:30.057Z"
   },
   {
    "duration": 14,
    "start_time": "2024-08-26T02:29:59.817Z"
   },
   {
    "duration": 186,
    "start_time": "2024-08-26T02:30:01.897Z"
   },
   {
    "duration": 258,
    "start_time": "2024-08-26T02:30:02.937Z"
   },
   {
    "duration": 434,
    "start_time": "2024-08-26T02:32:29.657Z"
   },
   {
    "duration": 12,
    "start_time": "2024-08-26T02:36:27.904Z"
   },
   {
    "duration": 15,
    "start_time": "2024-08-26T02:37:21.586Z"
   },
   {
    "duration": 4,
    "start_time": "2024-08-26T02:37:42.146Z"
   },
   {
    "duration": 14,
    "start_time": "2024-08-26T02:37:46.377Z"
   },
   {
    "duration": 4,
    "start_time": "2024-08-26T02:38:17.577Z"
   },
   {
    "duration": 14,
    "start_time": "2024-08-26T02:38:22.705Z"
   },
   {
    "duration": 1401,
    "start_time": "2024-08-26T03:45:47.536Z"
   },
   {
    "duration": 3,
    "start_time": "2024-08-26T03:45:48.939Z"
   },
   {
    "duration": 386,
    "start_time": "2024-08-26T03:45:48.944Z"
   },
   {
    "duration": 274,
    "start_time": "2024-08-26T03:45:49.331Z"
   },
   {
    "duration": 321,
    "start_time": "2024-08-26T03:45:49.607Z"
   },
   {
    "duration": 15,
    "start_time": "2024-08-26T03:45:49.930Z"
   },
   {
    "duration": 7,
    "start_time": "2024-08-26T03:45:53.488Z"
   },
   {
    "duration": 12,
    "start_time": "2024-08-26T03:45:53.915Z"
   },
   {
    "duration": 12,
    "start_time": "2024-08-26T03:45:54.344Z"
   },
   {
    "duration": 6,
    "start_time": "2024-08-26T03:45:54.566Z"
   },
   {
    "duration": 191,
    "start_time": "2024-08-26T03:45:55.457Z"
   },
   {
    "duration": 83,
    "start_time": "2024-08-26T03:45:55.704Z"
   },
   {
    "duration": 232,
    "start_time": "2024-08-26T03:45:55.914Z"
   },
   {
    "duration": 214,
    "start_time": "2024-08-26T03:45:56.147Z"
   },
   {
    "duration": 361,
    "start_time": "2024-08-26T03:45:56.363Z"
   },
   {
    "duration": 423,
    "start_time": "2024-08-26T03:45:56.726Z"
   },
   {
    "duration": 297,
    "start_time": "2024-08-26T03:45:57.151Z"
   },
   {
    "duration": 272,
    "start_time": "2024-08-26T03:45:57.450Z"
   },
   {
    "duration": 162,
    "start_time": "2024-08-26T03:45:57.724Z"
   },
   {
    "duration": 7,
    "start_time": "2024-08-26T03:45:57.947Z"
   },
   {
    "duration": 17,
    "start_time": "2024-08-26T03:45:58.443Z"
   },
   {
    "duration": 571,
    "start_time": "2024-08-26T03:45:58.943Z"
   },
   {
    "duration": 11,
    "start_time": "2024-08-26T03:45:59.516Z"
   },
   {
    "duration": 14,
    "start_time": "2024-08-26T03:46:00.584Z"
   },
   {
    "duration": 12,
    "start_time": "2024-08-26T03:46:00.834Z"
   },
   {
    "duration": 8,
    "start_time": "2024-08-26T03:46:01.356Z"
   },
   {
    "duration": 636,
    "start_time": "2024-08-26T03:46:01.847Z"
   },
   {
    "duration": 644,
    "start_time": "2024-08-26T03:46:02.485Z"
   },
   {
    "duration": 976,
    "start_time": "2024-08-26T03:46:03.131Z"
   },
   {
    "duration": 3,
    "start_time": "2024-08-26T03:46:04.109Z"
   },
   {
    "duration": 162,
    "start_time": "2024-08-26T03:46:04.114Z"
   },
   {
    "duration": 6,
    "start_time": "2024-08-26T03:46:05.157Z"
   },
   {
    "duration": 4,
    "start_time": "2024-08-26T03:46:07.097Z"
   },
   {
    "duration": 9,
    "start_time": "2024-08-26T03:46:07.734Z"
   },
   {
    "duration": 16,
    "start_time": "2024-08-26T03:46:08.616Z"
   },
   {
    "duration": 18,
    "start_time": "2024-08-26T03:46:08.853Z"
   },
   {
    "duration": 5,
    "start_time": "2024-08-26T04:00:41.177Z"
   },
   {
    "duration": 5,
    "start_time": "2024-08-26T04:00:52.534Z"
   },
   {
    "duration": 4,
    "start_time": "2024-08-26T04:00:56.855Z"
   },
   {
    "duration": 5,
    "start_time": "2024-08-26T04:01:23.655Z"
   },
   {
    "duration": 5,
    "start_time": "2024-08-26T04:01:26.102Z"
   },
   {
    "duration": 5,
    "start_time": "2024-08-26T04:01:33.874Z"
   },
   {
    "duration": 5,
    "start_time": "2024-08-26T04:02:38.575Z"
   },
   {
    "duration": 5,
    "start_time": "2024-08-26T04:02:43.725Z"
   },
   {
    "duration": 8,
    "start_time": "2024-08-26T04:02:53.872Z"
   },
   {
    "duration": 9,
    "start_time": "2024-08-26T04:02:59.007Z"
   },
   {
    "duration": 9,
    "start_time": "2024-08-26T04:03:10.414Z"
   },
   {
    "duration": 10,
    "start_time": "2024-08-26T04:03:29.256Z"
   },
   {
    "duration": 9,
    "start_time": "2024-08-26T04:03:44.485Z"
   },
   {
    "duration": 11,
    "start_time": "2024-08-26T04:03:52.567Z"
   },
   {
    "duration": 4,
    "start_time": "2024-08-26T04:05:00.977Z"
   },
   {
    "duration": 6,
    "start_time": "2024-08-26T04:05:05.745Z"
   },
   {
    "duration": 5,
    "start_time": "2024-08-26T04:05:24.725Z"
   },
   {
    "duration": 5,
    "start_time": "2024-08-26T04:05:51.346Z"
   },
   {
    "duration": 5,
    "start_time": "2024-08-26T04:06:05.926Z"
   },
   {
    "duration": 6,
    "start_time": "2024-08-26T04:06:31.097Z"
   },
   {
    "duration": 5,
    "start_time": "2024-08-26T04:06:55.048Z"
   },
   {
    "duration": 5,
    "start_time": "2024-08-26T04:23:29.610Z"
   },
   {
    "duration": 5,
    "start_time": "2024-08-26T05:01:25.146Z"
   },
   {
    "duration": 7,
    "start_time": "2024-08-26T05:36:14.407Z"
   },
   {
    "duration": 6,
    "start_time": "2024-08-26T05:36:26.096Z"
   },
   {
    "duration": 5,
    "start_time": "2024-08-26T05:37:32.111Z"
   },
   {
    "duration": 153,
    "start_time": "2024-08-26T05:48:17.501Z"
   },
   {
    "duration": 1688,
    "start_time": "2024-08-26T08:35:05.116Z"
   },
   {
    "duration": 4,
    "start_time": "2024-08-26T08:35:06.806Z"
   },
   {
    "duration": 340,
    "start_time": "2024-08-26T08:35:06.812Z"
   },
   {
    "duration": 324,
    "start_time": "2024-08-26T08:35:07.154Z"
   },
   {
    "duration": 415,
    "start_time": "2024-08-26T08:35:07.481Z"
   },
   {
    "duration": 20,
    "start_time": "2024-08-26T08:35:07.904Z"
   },
   {
    "duration": 10,
    "start_time": "2024-08-26T08:35:07.926Z"
   },
   {
    "duration": 14,
    "start_time": "2024-08-26T08:35:07.938Z"
   },
   {
    "duration": 17,
    "start_time": "2024-08-26T08:35:07.954Z"
   },
   {
    "duration": 39,
    "start_time": "2024-08-26T08:35:07.973Z"
   },
   {
    "duration": 232,
    "start_time": "2024-08-26T08:35:08.015Z"
   },
   {
    "duration": 129,
    "start_time": "2024-08-26T08:35:08.249Z"
   },
   {
    "duration": 297,
    "start_time": "2024-08-26T08:35:08.379Z"
   },
   {
    "duration": 227,
    "start_time": "2024-08-26T08:35:08.680Z"
   },
   {
    "duration": 387,
    "start_time": "2024-08-26T08:35:08.909Z"
   },
   {
    "duration": 466,
    "start_time": "2024-08-26T08:35:09.298Z"
   },
   {
    "duration": 341,
    "start_time": "2024-08-26T08:35:09.766Z"
   },
   {
    "duration": 284,
    "start_time": "2024-08-26T08:35:10.109Z"
   },
   {
    "duration": 177,
    "start_time": "2024-08-26T08:35:10.395Z"
   },
   {
    "duration": 6,
    "start_time": "2024-08-26T08:35:10.574Z"
   },
   {
    "duration": 23,
    "start_time": "2024-08-26T08:35:10.582Z"
   },
   {
    "duration": 633,
    "start_time": "2024-08-26T08:35:10.607Z"
   },
   {
    "duration": 11,
    "start_time": "2024-08-26T08:35:11.242Z"
   },
   {
    "duration": 50,
    "start_time": "2024-08-26T08:35:11.255Z"
   },
   {
    "duration": 15,
    "start_time": "2024-08-26T08:35:11.307Z"
   },
   {
    "duration": 128,
    "start_time": "2024-08-26T08:35:11.324Z"
   },
   {
    "duration": 794,
    "start_time": "2024-08-26T08:35:11.453Z"
   },
   {
    "duration": 720,
    "start_time": "2024-08-26T08:35:12.249Z"
   },
   {
    "duration": 1142,
    "start_time": "2024-08-26T08:35:12.971Z"
   },
   {
    "duration": 3,
    "start_time": "2024-08-26T08:35:14.115Z"
   },
   {
    "duration": 180,
    "start_time": "2024-08-26T08:35:14.120Z"
   },
   {
    "duration": 10,
    "start_time": "2024-08-26T08:35:14.301Z"
   },
   {
    "duration": 6,
    "start_time": "2024-08-26T08:35:14.312Z"
   },
   {
    "duration": 18,
    "start_time": "2024-08-26T08:35:14.319Z"
   },
   {
    "duration": 7,
    "start_time": "2024-08-26T08:42:13.577Z"
   },
   {
    "duration": 1344,
    "start_time": "2024-08-26T08:44:39.952Z"
   },
   {
    "duration": 3,
    "start_time": "2024-08-26T08:44:41.298Z"
   },
   {
    "duration": 77,
    "start_time": "2024-08-26T08:44:41.305Z"
   },
   {
    "duration": 293,
    "start_time": "2024-08-26T08:44:41.383Z"
   },
   {
    "duration": 425,
    "start_time": "2024-08-26T08:44:41.679Z"
   },
   {
    "duration": 21,
    "start_time": "2024-08-26T08:44:42.105Z"
   },
   {
    "duration": 63,
    "start_time": "2024-08-26T08:44:42.127Z"
   },
   {
    "duration": 27,
    "start_time": "2024-08-26T08:44:42.191Z"
   },
   {
    "duration": 29,
    "start_time": "2024-08-26T08:44:42.219Z"
   },
   {
    "duration": 30,
    "start_time": "2024-08-26T08:44:42.250Z"
   },
   {
    "duration": 210,
    "start_time": "2024-08-26T08:44:42.282Z"
   },
   {
    "duration": 95,
    "start_time": "2024-08-26T08:44:42.494Z"
   },
   {
    "duration": 295,
    "start_time": "2024-08-26T08:44:42.591Z"
   },
   {
    "duration": 261,
    "start_time": "2024-08-26T08:44:42.887Z"
   },
   {
    "duration": 429,
    "start_time": "2024-08-26T08:44:43.150Z"
   },
   {
    "duration": 508,
    "start_time": "2024-08-26T08:44:43.581Z"
   },
   {
    "duration": 336,
    "start_time": "2024-08-26T08:44:44.091Z"
   },
   {
    "duration": 288,
    "start_time": "2024-08-26T08:44:44.429Z"
   },
   {
    "duration": 267,
    "start_time": "2024-08-26T08:44:44.720Z"
   },
   {
    "duration": 10,
    "start_time": "2024-08-26T08:44:44.989Z"
   },
   {
    "duration": 43,
    "start_time": "2024-08-26T08:44:45.006Z"
   },
   {
    "duration": 723,
    "start_time": "2024-08-26T08:44:45.052Z"
   },
   {
    "duration": 12,
    "start_time": "2024-08-26T08:44:45.776Z"
   },
   {
    "duration": 30,
    "start_time": "2024-08-26T08:44:45.789Z"
   },
   {
    "duration": 15,
    "start_time": "2024-08-26T08:44:45.821Z"
   },
   {
    "duration": 18,
    "start_time": "2024-08-26T08:44:45.838Z"
   },
   {
    "duration": 848,
    "start_time": "2024-08-26T08:44:45.858Z"
   },
   {
    "duration": 722,
    "start_time": "2024-08-26T08:44:46.711Z"
   },
   {
    "duration": 1109,
    "start_time": "2024-08-26T08:44:47.435Z"
   },
   {
    "duration": 3,
    "start_time": "2024-08-26T08:44:48.546Z"
   },
   {
    "duration": 181,
    "start_time": "2024-08-26T08:44:48.551Z"
   },
   {
    "duration": 6,
    "start_time": "2024-08-26T08:44:48.734Z"
   },
   {
    "duration": 14,
    "start_time": "2024-08-26T08:44:48.743Z"
   },
   {
    "duration": 12,
    "start_time": "2024-08-26T08:44:48.759Z"
   },
   {
    "duration": 106,
    "start_time": "2024-10-02T07:58:47.435Z"
   },
   {
    "duration": 1657,
    "start_time": "2024-10-02T07:59:03.911Z"
   },
   {
    "duration": 3,
    "start_time": "2024-10-02T07:59:05.570Z"
   },
   {
    "duration": 317,
    "start_time": "2024-10-02T07:59:05.575Z"
   },
   {
    "duration": 351,
    "start_time": "2024-10-02T07:59:05.895Z"
   },
   {
    "duration": 383,
    "start_time": "2024-10-02T07:59:06.248Z"
   },
   {
    "duration": 15,
    "start_time": "2024-10-02T07:59:06.633Z"
   },
   {
    "duration": 8,
    "start_time": "2024-10-02T07:59:43.178Z"
   },
   {
    "duration": 17,
    "start_time": "2024-10-02T07:59:43.546Z"
   },
   {
    "duration": 19,
    "start_time": "2024-10-02T07:59:44.060Z"
   },
   {
    "duration": 7,
    "start_time": "2024-10-02T07:59:44.272Z"
   },
   {
    "duration": 224,
    "start_time": "2024-10-02T07:59:45.643Z"
   },
   {
    "duration": 99,
    "start_time": "2024-10-02T07:59:46.051Z"
   },
   {
    "duration": 242,
    "start_time": "2024-10-02T07:59:46.642Z"
   },
   {
    "duration": 243,
    "start_time": "2024-10-02T07:59:47.301Z"
   },
   {
    "duration": 379,
    "start_time": "2024-10-02T07:59:47.546Z"
   },
   {
    "duration": 429,
    "start_time": "2024-10-02T07:59:48.124Z"
   },
   {
    "duration": 77,
    "start_time": "2024-10-02T07:59:56.942Z"
   },
   {
    "duration": 73,
    "start_time": "2024-10-02T08:00:30.319Z"
   },
   {
    "duration": 72,
    "start_time": "2024-10-02T08:03:59.884Z"
   },
   {
    "duration": 72,
    "start_time": "2024-10-02T08:04:11.851Z"
   },
   {
    "duration": 145,
    "start_time": "2024-10-02T09:42:29.412Z"
   },
   {
    "duration": 1392,
    "start_time": "2024-10-02T09:42:56.378Z"
   },
   {
    "duration": 4,
    "start_time": "2024-10-02T09:42:57.772Z"
   },
   {
    "duration": 85,
    "start_time": "2024-10-02T09:42:57.778Z"
   },
   {
    "duration": 340,
    "start_time": "2024-10-02T09:42:57.865Z"
   },
   {
    "duration": 501,
    "start_time": "2024-10-02T09:42:58.208Z"
   },
   {
    "duration": 19,
    "start_time": "2024-10-02T09:42:58.711Z"
   },
   {
    "duration": 7,
    "start_time": "2024-10-02T09:42:59.161Z"
   },
   {
    "duration": 15,
    "start_time": "2024-10-02T09:42:59.522Z"
   },
   {
    "duration": 12,
    "start_time": "2024-10-02T09:43:00.081Z"
   },
   {
    "duration": 9,
    "start_time": "2024-10-02T09:43:00.270Z"
   },
   {
    "duration": 236,
    "start_time": "2024-10-02T09:43:01.199Z"
   },
   {
    "duration": 90,
    "start_time": "2024-10-02T09:43:01.619Z"
   },
   {
    "duration": 276,
    "start_time": "2024-10-02T09:43:02.049Z"
   },
   {
    "duration": 212,
    "start_time": "2024-10-02T09:43:03.161Z"
   },
   {
    "duration": 370,
    "start_time": "2024-10-02T09:43:03.459Z"
   },
   {
    "duration": 488,
    "start_time": "2024-10-02T09:43:03.909Z"
   },
   {
    "duration": 323,
    "start_time": "2024-10-02T09:43:07.108Z"
   },
   {
    "duration": 244,
    "start_time": "2024-10-02T09:43:08.153Z"
   },
   {
    "duration": 189,
    "start_time": "2024-10-02T09:43:08.835Z"
   },
   {
    "duration": 7,
    "start_time": "2024-10-02T09:43:09.190Z"
   },
   {
    "duration": 24,
    "start_time": "2024-10-02T09:43:16.401Z"
   },
   {
    "duration": 13,
    "start_time": "2024-10-02T09:43:16.790Z"
   },
   {
    "duration": 11,
    "start_time": "2024-10-02T09:43:17.441Z"
   },
   {
    "duration": 870,
    "start_time": "2024-10-02T09:43:18.498Z"
   },
   {
    "duration": 814,
    "start_time": "2024-10-02T09:43:19.371Z"
   },
   {
    "duration": 1147,
    "start_time": "2024-10-02T09:44:22.215Z"
   },
   {
    "duration": 3,
    "start_time": "2024-10-02T09:44:23.364Z"
   },
   {
    "duration": 200,
    "start_time": "2024-10-02T09:44:23.369Z"
   },
   {
    "duration": 7,
    "start_time": "2024-10-02T09:44:26.089Z"
   },
   {
    "duration": 6,
    "start_time": "2024-10-02T09:44:26.718Z"
   },
   {
    "duration": 13,
    "start_time": "2024-10-02T09:44:27.417Z"
   },
   {
    "duration": 1257,
    "start_time": "2024-10-02T14:27:39.381Z"
   },
   {
    "duration": 2,
    "start_time": "2024-10-02T14:27:40.640Z"
   },
   {
    "duration": 79,
    "start_time": "2024-10-02T14:27:40.644Z"
   },
   {
    "duration": 284,
    "start_time": "2024-10-02T14:27:40.724Z"
   },
   {
    "duration": 315,
    "start_time": "2024-10-02T14:27:41.010Z"
   },
   {
    "duration": 16,
    "start_time": "2024-10-02T14:27:41.326Z"
   },
   {
    "duration": 9,
    "start_time": "2024-10-02T14:27:41.344Z"
   },
   {
    "duration": 11,
    "start_time": "2024-10-02T14:27:41.354Z"
   },
   {
    "duration": 11,
    "start_time": "2024-10-02T14:27:41.366Z"
   },
   {
    "duration": 41,
    "start_time": "2024-10-02T14:27:41.380Z"
   },
   {
    "duration": 192,
    "start_time": "2024-10-02T14:27:41.423Z"
   },
   {
    "duration": 86,
    "start_time": "2024-10-02T14:27:41.616Z"
   },
   {
    "duration": 230,
    "start_time": "2024-10-02T14:27:41.721Z"
   },
   {
    "duration": 211,
    "start_time": "2024-10-02T14:27:41.952Z"
   },
   {
    "duration": 377,
    "start_time": "2024-10-02T14:27:42.164Z"
   },
   {
    "duration": 420,
    "start_time": "2024-10-02T14:27:42.542Z"
   },
   {
    "duration": 293,
    "start_time": "2024-10-02T14:27:42.964Z"
   },
   {
    "duration": 235,
    "start_time": "2024-10-02T14:27:43.258Z"
   },
   {
    "duration": 161,
    "start_time": "2024-10-02T14:27:43.495Z"
   },
   {
    "duration": 7,
    "start_time": "2024-10-02T14:27:43.657Z"
   },
   {
    "duration": 35,
    "start_time": "2024-10-02T14:27:43.665Z"
   },
   {
    "duration": 12,
    "start_time": "2024-10-02T14:27:43.702Z"
   },
   {
    "duration": 14,
    "start_time": "2024-10-02T14:27:43.716Z"
   },
   {
    "duration": 718,
    "start_time": "2024-10-02T14:27:43.731Z"
   },
   {
    "duration": 645,
    "start_time": "2024-10-02T14:27:44.451Z"
   },
   {
    "duration": 884,
    "start_time": "2024-10-02T14:27:45.098Z"
   },
   {
    "duration": 3,
    "start_time": "2024-10-02T14:27:45.983Z"
   },
   {
    "duration": 165,
    "start_time": "2024-10-02T14:27:45.989Z"
   },
   {
    "duration": 6,
    "start_time": "2024-10-02T14:27:46.156Z"
   },
   {
    "duration": 8,
    "start_time": "2024-10-02T14:27:46.164Z"
   },
   {
    "duration": 10,
    "start_time": "2024-10-02T14:27:46.173Z"
   }
  ],
  "kernelspec": {
   "display_name": "Python 3 (ipykernel)",
   "language": "python",
   "name": "python3"
  },
  "language_info": {
   "codemirror_mode": {
    "name": "ipython",
    "version": 3
   },
   "file_extension": ".py",
   "mimetype": "text/x-python",
   "name": "python",
   "nbconvert_exporter": "python",
   "pygments_lexer": "ipython3",
   "version": "3.9.5"
  },
  "toc": {
   "base_numbering": 1,
   "nav_menu": {
    "height": "150.996px",
    "width": "301.992px"
   },
   "number_sections": true,
   "sideBar": true,
   "skip_h1_title": true,
   "title_cell": "Содержание",
   "title_sidebar": "Contents",
   "toc_cell": true,
   "toc_position": {
    "height": "calc(100% - 180px)",
    "left": "10px",
    "top": "150px",
    "width": "360px"
   },
   "toc_section_display": true,
   "toc_window_display": true
  }
 },
 "nbformat": 4,
 "nbformat_minor": 5
}
